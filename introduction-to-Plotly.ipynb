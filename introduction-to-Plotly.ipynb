{
  "cells": [
    {
      "cell_type": "markdown",
      "metadata": {
        "colab_type": "text",
        "id": "view-in-github"
      },
      "source": [
        "<a href=\"https://colab.research.google.com/github/Precillieo/Plotly-Tutorial-For-Beginners/blob/main/Plotly_WIDS.ipynb\" target=\"_parent\"><img src=\"https://colab.research.google.com/assets/colab-badge.svg\" alt=\"Open In Colab\"/></a>"
      ]
    },
    {
      "cell_type": "markdown",
      "metadata": {
        "id": "7nJ3SZnXfwm4"
      },
      "source": [
        "# PLOTLY LIBRARY\n",
        " Plotly is a Python graphing library. It makes exotic,  interactive, publication-quality graphs online. \n",
        "\n",
        "* Importation of libraries and data loading\n",
        "* Different Types of Charts\n",
        "  * Line Chart\n",
        "  * Scatter Chart\n",
        "  * Bar Chart\n",
        "  * Pie Chart\n",
        "  * Bubble Chart\n",
        "  * Histogram\n",
        "  * WordCloud\n",
        "  * Box Plot\n",
        "  * Scatter Matrix Plot\n",
        "\n",
        "    \n"
      ]
    },
    {
      "cell_type": "code",
      "execution_count": 4,
      "metadata": {
        "colab": {
          "base_uri": "https://localhost:8080/"
        },
        "id": "R3XFszUh-UUa",
        "outputId": "676dfb3c-89fc-42e1-d9e6-83ecc4c8f07b"
      },
      "outputs": [
        {
          "name": "stdout",
          "output_type": "stream",
          "text": [
            "Requirement already satisfied: plotly in c:\\programdata\\anaconda3\\lib\\site-packages (5.10.0)\n",
            "Collecting wordcloud\n",
            "  Downloading wordcloud-1.9.4-cp311-cp311-win_amd64.whl.metadata (3.5 kB)\n",
            "Requirement already satisfied: tenacity>=6.2.0 in c:\\programdata\\anaconda3\\lib\\site-packages (from plotly) (9.1.2)\n",
            "Requirement already satisfied: numpy>=1.6.1 in c:\\programdata\\anaconda3\\lib\\site-packages (from wordcloud) (1.24.3)\n",
            "Requirement already satisfied: pillow in c:\\programdata\\anaconda3\\lib\\site-packages (from wordcloud) (9.4.0)\n",
            "Requirement already satisfied: matplotlib in c:\\programdata\\anaconda3\\lib\\site-packages (from wordcloud) (3.7.2)\n",
            "Requirement already satisfied: contourpy>=1.0.1 in c:\\programdata\\anaconda3\\lib\\site-packages (from matplotlib->wordcloud) (1.0.5)\n",
            "Requirement already satisfied: cycler>=0.10 in c:\\programdata\\anaconda3\\lib\\site-packages (from matplotlib->wordcloud) (0.11.0)\n",
            "Requirement already satisfied: fonttools>=4.22.0 in c:\\programdata\\anaconda3\\lib\\site-packages (from matplotlib->wordcloud) (4.25.0)\n",
            "Requirement already satisfied: kiwisolver>=1.0.1 in c:\\programdata\\anaconda3\\lib\\site-packages (from matplotlib->wordcloud) (1.4.4)\n",
            "Requirement already satisfied: packaging>=20.0 in c:\\programdata\\anaconda3\\lib\\site-packages (from matplotlib->wordcloud) (23.2)\n",
            "Requirement already satisfied: pyparsing<3.1,>=2.3.1 in c:\\programdata\\anaconda3\\lib\\site-packages (from matplotlib->wordcloud) (3.0.9)\n",
            "Requirement already satisfied: python-dateutil>=2.7 in c:\\programdata\\anaconda3\\lib\\site-packages (from matplotlib->wordcloud) (2.8.2)\n",
            "Requirement already satisfied: six>=1.5 in c:\\programdata\\anaconda3\\lib\\site-packages (from python-dateutil>=2.7->matplotlib->wordcloud) (1.16.0)\n",
            "Downloading wordcloud-1.9.4-cp311-cp311-win_amd64.whl (299 kB)\n",
            "   ---------------------------------------- 0.0/299.9 kB ? eta -:--:--\n",
            "   -- ------------------------------------ 20.5/299.9 kB 682.7 kB/s eta 0:00:01\n",
            "   --------- ----------------------------- 71.7/299.9 kB 991.0 kB/s eta 0:00:01\n",
            "   ------------------------------- -------- 235.5/299.9 kB 2.1 MB/s eta 0:00:01\n",
            "   ---------------------------------------- 299.9/299.9 kB 2.1 MB/s eta 0:00:00\n",
            "Installing collected packages: wordcloud\n",
            "Successfully installed wordcloud-1.9.4\n"
          ]
        },
        {
          "name": "stderr",
          "output_type": "stream",
          "text": [
            "WARNING: Skipping C:\\ProgramData\\anaconda3\\Lib\\site-packages\\jsonschema-4.17.3.dist-info due to invalid metadata entry 'name'\n",
            "WARNING: Skipping C:\\ProgramData\\anaconda3\\Lib\\site-packages\\jsonschema-4.17.3.dist-info due to invalid metadata entry 'name'\n",
            "WARNING: Skipping C:\\ProgramData\\anaconda3\\Lib\\site-packages\\jsonschema-4.17.3.dist-info due to invalid metadata entry 'name'\n",
            "WARNING: Skipping C:\\ProgramData\\anaconda3\\Lib\\site-packages\\jsonschema-4.17.3.dist-info due to invalid metadata entry 'name'\n",
            "WARNING: Skipping C:\\ProgramData\\anaconda3\\Lib\\site-packages\\jsonschema-4.17.3.dist-info due to invalid metadata entry 'name'\n",
            "\n",
            "[notice] A new release of pip is available: 23.3.2 -> 25.1.1\n",
            "[notice] To update, run: python.exe -m pip install --upgrade pip\n"
          ]
        }
      ],
      "source": [
        "!pip install plotly wordcloud"
      ]
    },
    {
      "cell_type": "code",
      "execution_count": 5,
      "metadata": {
        "id": "qK0Qqxfd_trJ"
      },
      "outputs": [],
      "source": [
        "import pandas as pd\n",
        "import numpy as np\n",
        "from plotly.offline import init_notebook_mode, iplot, plot \n",
        "import plotly as py\n",
        "#init_notebook_mode(connected= True)\n",
        "import plotly.graph_objs as go\n",
        "\n",
        "from wordcloud import WordCloud\n",
        "\n",
        "import matplotlib.pyplot as plt"
      ]
    },
    {
      "cell_type": "markdown",
      "metadata": {
        "id": "R10E8WlujGgD"
      },
      "source": [
        "* Plotly was designed to render graphs on a web server or a local port. In order to render the plots inside the jupyter notebook, the notebook mode of plotly must be initialized. Without initializing notebook mode, no plotly plots can be visualized within this notebook (or any jupyter notebook).\n",
        "\n",
        "* To start creating graphs using plotly, we need to import 'graph_objs' modules\n",
        "\n",
        "* iplot() plots the figure(fig) that is created by data and layout\n",
        "\n",
        "# 3 Parts To Every Graph\n",
        "* Data or Trace: This is usually a Python list object and contains all the data that we would want to plot. A trace is a collection of data points and their specifications that we would want to plot.\n",
        "\n",
        "* Layout: This object is used to change the features of the graph like axis titles, spacing, fonts etc. which are unrelated to the data itself.\n",
        "* Figure: This is a dictionary-like object which contains both the data object and the layout object and this defines the graph."
      ]
    },
    {
      "cell_type": "code",
      "execution_count": 6,
      "metadata": {
        "colab": {
          "base_uri": "https://localhost:8080/",
          "height": 479
        },
        "id": "FnbINgksBWx4",
        "outputId": "a21c832b-99de-4b5e-985d-2c2a7be08a40"
      },
      "outputs": [
        {
          "data": {
            "application/vnd.microsoft.datawrangler.viewer.v0+json": {
              "columns": [
                {
                  "name": "index",
                  "rawType": "int64",
                  "type": "integer"
                },
                {
                  "name": "world_rank",
                  "rawType": "object",
                  "type": "string"
                },
                {
                  "name": "university_name",
                  "rawType": "object",
                  "type": "string"
                },
                {
                  "name": "country",
                  "rawType": "object",
                  "type": "string"
                },
                {
                  "name": "teaching",
                  "rawType": "float64",
                  "type": "float"
                },
                {
                  "name": "international",
                  "rawType": "object",
                  "type": "string"
                },
                {
                  "name": "research",
                  "rawType": "float64",
                  "type": "float"
                },
                {
                  "name": "citations",
                  "rawType": "float64",
                  "type": "float"
                },
                {
                  "name": "income",
                  "rawType": "object",
                  "type": "string"
                },
                {
                  "name": "total_score",
                  "rawType": "object",
                  "type": "string"
                },
                {
                  "name": "num_students",
                  "rawType": "object",
                  "type": "string"
                },
                {
                  "name": "student_staff_ratio",
                  "rawType": "float64",
                  "type": "float"
                },
                {
                  "name": "international_students",
                  "rawType": "object",
                  "type": "string"
                },
                {
                  "name": "female_male_ratio",
                  "rawType": "object",
                  "type": "unknown"
                },
                {
                  "name": "year",
                  "rawType": "int64",
                  "type": "integer"
                }
              ],
              "ref": "41ea59f9-2d6b-4cfe-ae6b-33362e44c4d6",
              "rows": [
                [
                  "0",
                  "1",
                  "Harvard University",
                  "United States of America",
                  "99.7",
                  "72.4",
                  "98.7",
                  "98.8",
                  "34.5",
                  "96.1",
                  "20,152",
                  "8.9",
                  "25%",
                  null,
                  "2011"
                ],
                [
                  "1",
                  "2",
                  "California Institute of Technology",
                  "United States of America",
                  "97.7",
                  "54.6",
                  "98.0",
                  "99.9",
                  "83.7",
                  "96.0",
                  "2,243",
                  "6.9",
                  "27%",
                  "33 : 67",
                  "2011"
                ],
                [
                  "2",
                  "3",
                  "Massachusetts Institute of Technology",
                  "United States of America",
                  "97.8",
                  "82.3",
                  "91.4",
                  "99.9",
                  "87.5",
                  "95.6",
                  "11,074",
                  "9.0",
                  "33%",
                  "37 : 63",
                  "2011"
                ],
                [
                  "3",
                  "4",
                  "Stanford University",
                  "United States of America",
                  "98.3",
                  "29.5",
                  "98.1",
                  "99.2",
                  "64.3",
                  "94.3",
                  "15,596",
                  "7.8",
                  "22%",
                  "42 : 58",
                  "2011"
                ],
                [
                  "4",
                  "5",
                  "Princeton University",
                  "United States of America",
                  "90.9",
                  "70.3",
                  "95.4",
                  "99.9",
                  "-",
                  "94.2",
                  "7,929",
                  "8.4",
                  "27%",
                  "45 : 55",
                  "2011"
                ]
              ],
              "shape": {
                "columns": 14,
                "rows": 5
              }
            },
            "text/html": [
              "<div>\n",
              "<style scoped>\n",
              "    .dataframe tbody tr th:only-of-type {\n",
              "        vertical-align: middle;\n",
              "    }\n",
              "\n",
              "    .dataframe tbody tr th {\n",
              "        vertical-align: top;\n",
              "    }\n",
              "\n",
              "    .dataframe thead th {\n",
              "        text-align: right;\n",
              "    }\n",
              "</style>\n",
              "<table border=\"1\" class=\"dataframe\">\n",
              "  <thead>\n",
              "    <tr style=\"text-align: right;\">\n",
              "      <th></th>\n",
              "      <th>world_rank</th>\n",
              "      <th>university_name</th>\n",
              "      <th>country</th>\n",
              "      <th>teaching</th>\n",
              "      <th>international</th>\n",
              "      <th>research</th>\n",
              "      <th>citations</th>\n",
              "      <th>income</th>\n",
              "      <th>total_score</th>\n",
              "      <th>num_students</th>\n",
              "      <th>student_staff_ratio</th>\n",
              "      <th>international_students</th>\n",
              "      <th>female_male_ratio</th>\n",
              "      <th>year</th>\n",
              "    </tr>\n",
              "  </thead>\n",
              "  <tbody>\n",
              "    <tr>\n",
              "      <th>0</th>\n",
              "      <td>1</td>\n",
              "      <td>Harvard University</td>\n",
              "      <td>United States of America</td>\n",
              "      <td>99.7</td>\n",
              "      <td>72.4</td>\n",
              "      <td>98.7</td>\n",
              "      <td>98.8</td>\n",
              "      <td>34.5</td>\n",
              "      <td>96.1</td>\n",
              "      <td>20,152</td>\n",
              "      <td>8.9</td>\n",
              "      <td>25%</td>\n",
              "      <td>NaN</td>\n",
              "      <td>2011</td>\n",
              "    </tr>\n",
              "    <tr>\n",
              "      <th>1</th>\n",
              "      <td>2</td>\n",
              "      <td>California Institute of Technology</td>\n",
              "      <td>United States of America</td>\n",
              "      <td>97.7</td>\n",
              "      <td>54.6</td>\n",
              "      <td>98.0</td>\n",
              "      <td>99.9</td>\n",
              "      <td>83.7</td>\n",
              "      <td>96.0</td>\n",
              "      <td>2,243</td>\n",
              "      <td>6.9</td>\n",
              "      <td>27%</td>\n",
              "      <td>33 : 67</td>\n",
              "      <td>2011</td>\n",
              "    </tr>\n",
              "    <tr>\n",
              "      <th>2</th>\n",
              "      <td>3</td>\n",
              "      <td>Massachusetts Institute of Technology</td>\n",
              "      <td>United States of America</td>\n",
              "      <td>97.8</td>\n",
              "      <td>82.3</td>\n",
              "      <td>91.4</td>\n",
              "      <td>99.9</td>\n",
              "      <td>87.5</td>\n",
              "      <td>95.6</td>\n",
              "      <td>11,074</td>\n",
              "      <td>9.0</td>\n",
              "      <td>33%</td>\n",
              "      <td>37 : 63</td>\n",
              "      <td>2011</td>\n",
              "    </tr>\n",
              "    <tr>\n",
              "      <th>3</th>\n",
              "      <td>4</td>\n",
              "      <td>Stanford University</td>\n",
              "      <td>United States of America</td>\n",
              "      <td>98.3</td>\n",
              "      <td>29.5</td>\n",
              "      <td>98.1</td>\n",
              "      <td>99.2</td>\n",
              "      <td>64.3</td>\n",
              "      <td>94.3</td>\n",
              "      <td>15,596</td>\n",
              "      <td>7.8</td>\n",
              "      <td>22%</td>\n",
              "      <td>42 : 58</td>\n",
              "      <td>2011</td>\n",
              "    </tr>\n",
              "    <tr>\n",
              "      <th>4</th>\n",
              "      <td>5</td>\n",
              "      <td>Princeton University</td>\n",
              "      <td>United States of America</td>\n",
              "      <td>90.9</td>\n",
              "      <td>70.3</td>\n",
              "      <td>95.4</td>\n",
              "      <td>99.9</td>\n",
              "      <td>-</td>\n",
              "      <td>94.2</td>\n",
              "      <td>7,929</td>\n",
              "      <td>8.4</td>\n",
              "      <td>27%</td>\n",
              "      <td>45 : 55</td>\n",
              "      <td>2011</td>\n",
              "    </tr>\n",
              "  </tbody>\n",
              "</table>\n",
              "</div>"
            ],
            "text/plain": [
              "  world_rank                        university_name                   country  \\\n",
              "0          1                     Harvard University  United States of America   \n",
              "1          2     California Institute of Technology  United States of America   \n",
              "2          3  Massachusetts Institute of Technology  United States of America   \n",
              "3          4                    Stanford University  United States of America   \n",
              "4          5                   Princeton University  United States of America   \n",
              "\n",
              "   teaching international  research  citations income total_score  \\\n",
              "0      99.7          72.4      98.7       98.8   34.5        96.1   \n",
              "1      97.7          54.6      98.0       99.9   83.7        96.0   \n",
              "2      97.8          82.3      91.4       99.9   87.5        95.6   \n",
              "3      98.3          29.5      98.1       99.2   64.3        94.3   \n",
              "4      90.9          70.3      95.4       99.9      -        94.2   \n",
              "\n",
              "  num_students  student_staff_ratio international_students female_male_ratio  \\\n",
              "0       20,152                  8.9                    25%               NaN   \n",
              "1        2,243                  6.9                    27%           33 : 67   \n",
              "2       11,074                  9.0                    33%           37 : 63   \n",
              "3       15,596                  7.8                    22%           42 : 58   \n",
              "4        7,929                  8.4                    27%           45 : 55   \n",
              "\n",
              "   year  \n",
              "0  2011  \n",
              "1  2011  \n",
              "2  2011  \n",
              "3  2011  \n",
              "4  2011  "
            ]
          },
          "execution_count": 6,
          "metadata": {},
          "output_type": "execute_result"
        }
      ],
      "source": [
        "data= pd.read_csv('timesData.csv')\n",
        "data.head()"
      ]
    },
    {
      "cell_type": "code",
      "execution_count": 7,
      "metadata": {
        "colab": {
          "base_uri": "https://localhost:8080/"
        },
        "id": "x3Ono38PCZus",
        "outputId": "f0759397-36bb-4ac1-c14b-25dbdf2fd4df"
      },
      "outputs": [
        {
          "name": "stdout",
          "output_type": "stream",
          "text": [
            "<class 'pandas.core.frame.DataFrame'>\n",
            "RangeIndex: 2603 entries, 0 to 2602\n",
            "Data columns (total 14 columns):\n",
            " #   Column                  Non-Null Count  Dtype  \n",
            "---  ------                  --------------  -----  \n",
            " 0   world_rank              2603 non-null   object \n",
            " 1   university_name         2603 non-null   object \n",
            " 2   country                 2603 non-null   object \n",
            " 3   teaching                2603 non-null   float64\n",
            " 4   international           2603 non-null   object \n",
            " 5   research                2603 non-null   float64\n",
            " 6   citations               2603 non-null   float64\n",
            " 7   income                  2603 non-null   object \n",
            " 8   total_score             2603 non-null   object \n",
            " 9   num_students            2544 non-null   object \n",
            " 10  student_staff_ratio     2544 non-null   float64\n",
            " 11  international_students  2536 non-null   object \n",
            " 12  female_male_ratio       2370 non-null   object \n",
            " 13  year                    2603 non-null   int64  \n",
            "dtypes: float64(4), int64(1), object(9)\n",
            "memory usage: 284.8+ KB\n"
          ]
        }
      ],
      "source": [
        "data.info()"
      ]
    },
    {
      "cell_type": "code",
      "execution_count": 8,
      "metadata": {
        "id": "sKan29zgUDNl"
      },
      "outputs": [],
      "source": [
        "#Generating few parts of the data in a cell\n",
        "df14= data[data.year==2014].iloc[:100, :]\n",
        "df15= data[data.year==2015].iloc[:100, :]\n",
        "df16= data[data.year==2016].iloc[:100, :]\n",
        "df2014= data[data.year== 2014].iloc[:3, :]\n",
        "df2016= data[data.year== 2016].iloc[:10, :]\n",
        "df12= data[data.year== 2016].iloc[:20, :]\n",
        "\n",
        "x2011 = data.student_staff_ratio[data.year == 2011]\n",
        "x2012 = data.student_staff_ratio[data.year == 2012]\n",
        "x11 = data.country[data.year == 2012]\n",
        "x2015 = data[data.year == 2015]"
      ]
    },
    {
      "cell_type": "markdown",
      "metadata": {
        "id": "fx0YsMJ2Djd0"
      },
      "source": [
        "# Line Graph\n",
        "# Citation and Teaching vs World Rank of Top 100 Universities"
      ]
    },
    {
      "cell_type": "code",
      "execution_count": 9,
      "metadata": {
        "colab": {
          "base_uri": "https://localhost:8080/",
          "height": 542
        },
        "id": "dzN9GmzRCpnJ",
        "outputId": "54de3c6e-7cfb-4616-ae04-80362e434828"
      },
      "outputs": [
        {
          "data": {
            "application/vnd.plotly.v1+json": {
              "config": {
                "linkText": "Export to plot.ly",
                "plotlyServerURL": "https://plot.ly",
                "showLink": false
              },
              "data": [
                {
                  "marker": {
                    "color": "rgba(16, 112, 2, 0.8)"
                  },
                  "mode": "lines+markers",
                  "name": "citations",
                  "text": [
                    "Harvard University",
                    "California Institute of Technology",
                    "Massachusetts Institute of Technology",
                    "Stanford University",
                    "Princeton University",
                    "University of Cambridge",
                    "University of Oxford",
                    "University of California, Berkeley",
                    "Imperial College London",
                    "Yale University",
                    "University of California, Los Angeles",
                    "University of Chicago",
                    "Johns Hopkins University",
                    "Cornell University",
                    "ETH Zurich – Swiss Federal Institute of Technology Zurich",
                    "University of Michigan",
                    "University of Toronto",
                    "Columbia University",
                    "University of Pennsylvania",
                    "Carnegie Mellon University",
                    "University of Hong Kong",
                    "University College London",
                    "University of Washington",
                    "Duke University",
                    "Northwestern University",
                    "University of Tokyo",
                    "Georgia Institute of Technology",
                    "Pohang University of Science and Technology",
                    "University of California, Santa Barbara",
                    "University of British Columbia",
                    "University of North Carolina at Chapel Hill",
                    "University of California, San Diego",
                    "University of Illinois at Urbana-Champaign",
                    "National University of Singapore",
                    "McGill University",
                    "University of Melbourne",
                    "Peking University",
                    "Washington University in St Louis",
                    "École Polytechnique",
                    "University of Edinburgh",
                    "Hong Kong University of Science and Technology",
                    "École Normale Supérieure",
                    "Australian National University",
                    "Karolinska Institute",
                    "University of Göttingen",
                    "University of Wisconsin",
                    "Rice University",
                    "École Polytechnique Fédérale de Lausanne",
                    "University of California, Irvine",
                    "University of Science and Technology of China",
                    "Vanderbilt University",
                    "University of Minnesota",
                    "Tufts University",
                    "University of California, Davis",
                    "Brown University",
                    "University of Massachusetts",
                    "Kyoto University",
                    "Tsinghua University",
                    "Boston University",
                    "New York University",
                    "Emory University",
                    "LMU Munich",
                    "University of Notre Dame",
                    "University of Pittsburgh",
                    "Case Western Reserve University",
                    "Ohio State University",
                    "University of Colorado Boulder",
                    "University of Bristol",
                    "University of California, Santa Cruz",
                    "Yeshiva University",
                    "University of Sydney",
                    "University of Virginia",
                    "University of Adelaide",
                    "University of Southern California",
                    "William & Mary",
                    "Trinity College Dublin",
                    "King’s College London",
                    "Stony Brook University",
                    "Korea Advanced Institute of Science and Technology (KAIST)",
                    "University of Sussex",
                    "The University of Queensland",
                    "University of York",
                    "Heidelberg University",
                    "University of Utah",
                    "Durham University",
                    "London School of Economics and Political Science",
                    "University of Manchester",
                    "Royal Holloway, University of London",
                    "Lund University",
                    "University of Southampton",
                    "University of Zurich",
                    "Wake Forest University",
                    "McMaster University",
                    "University College Dublin",
                    "George Washington University",
                    "University of Arizona",
                    "University of Basel",
                    "University of Maryland, College Park",
                    "Dartmouth College",
                    "École Normale Supérieure de Lyon"
                  ],
                  "type": "scatter",
                  "x": [
                    "1",
                    "2",
                    "3",
                    "4",
                    "5",
                    "6",
                    "6",
                    "8",
                    "9",
                    "10",
                    "11",
                    "12",
                    "13",
                    "14",
                    "15",
                    "15",
                    "17",
                    "18",
                    "19",
                    "20",
                    "21",
                    "22",
                    "23",
                    "24",
                    "25",
                    "26",
                    "27",
                    "28",
                    "29",
                    "30",
                    "30",
                    "32",
                    "33",
                    "34",
                    "35",
                    "36",
                    "37",
                    "38",
                    "39",
                    "40",
                    "41",
                    "42",
                    "43",
                    "43",
                    "43",
                    "43",
                    "47",
                    "48",
                    "49",
                    "49",
                    "51",
                    "52",
                    "53",
                    "54",
                    "55",
                    "56",
                    "57",
                    "58",
                    "59",
                    "60",
                    "61",
                    "61",
                    "63",
                    "64",
                    "65",
                    "66",
                    "67",
                    "68",
                    "68",
                    "68",
                    "71",
                    "72",
                    "73",
                    "73",
                    "75",
                    "76",
                    "77",
                    "78",
                    "79",
                    "79",
                    "81",
                    "81",
                    "83",
                    "83",
                    "85",
                    "86",
                    "87",
                    "88",
                    "89",
                    "90",
                    "90",
                    "90",
                    "93",
                    "94",
                    "95",
                    "95",
                    "95",
                    "98",
                    "99",
                    "100"
                  ],
                  "y": [
                    98.8,
                    99.9,
                    99.9,
                    99.2,
                    99.9,
                    94,
                    95.1,
                    97.8,
                    88.3,
                    91.5,
                    93.2,
                    96.9,
                    92.3,
                    88.1,
                    83.1,
                    84.1,
                    82.2,
                    92.6,
                    93.6,
                    95.7,
                    96.1,
                    80.6,
                    95.9,
                    92.3,
                    95.3,
                    58.1,
                    83.2,
                    96.5,
                    98.8,
                    80.3,
                    85,
                    90.8,
                    72.9,
                    78.7,
                    69,
                    83.3,
                    72.2,
                    88.6,
                    91.4,
                    86.8,
                    98.2,
                    95.7,
                    81,
                    62.3,
                    92.5,
                    83.4,
                    99.1,
                    83.8,
                    91.6,
                    92.7,
                    78.1,
                    76.4,
                    83.9,
                    68.8,
                    77.7,
                    67.9,
                    46.3,
                    52.7,
                    91.4,
                    82.9,
                    77.8,
                    76.4,
                    89.1,
                    78.3,
                    66,
                    67.2,
                    83.4,
                    80.9,
                    99.6,
                    74.4,
                    64.3,
                    68.6,
                    90.5,
                    71.9,
                    95.6,
                    84.4,
                    72.1,
                    85.8,
                    45.5,
                    91.6,
                    69,
                    81.9,
                    70.3,
                    72,
                    91,
                    51.6,
                    59.2,
                    93.2,
                    67.6,
                    72.9,
                    65,
                    79.2,
                    68.5,
                    86.3,
                    70.2,
                    70.1,
                    78.3,
                    79.2,
                    79.7,
                    88.8
                  ]
                },
                {
                  "marker": {
                    "color": "rgba(0, 200, 255, 0.8)"
                  },
                  "mode": "lines+markers",
                  "name": "teaching",
                  "text": [
                    "Harvard University",
                    "California Institute of Technology",
                    "Massachusetts Institute of Technology",
                    "Stanford University",
                    "Princeton University",
                    "University of Cambridge",
                    "University of Oxford",
                    "University of California, Berkeley",
                    "Imperial College London",
                    "Yale University",
                    "University of California, Los Angeles",
                    "University of Chicago",
                    "Johns Hopkins University",
                    "Cornell University",
                    "ETH Zurich – Swiss Federal Institute of Technology Zurich",
                    "University of Michigan",
                    "University of Toronto",
                    "Columbia University",
                    "University of Pennsylvania",
                    "Carnegie Mellon University",
                    "University of Hong Kong",
                    "University College London",
                    "University of Washington",
                    "Duke University",
                    "Northwestern University",
                    "University of Tokyo",
                    "Georgia Institute of Technology",
                    "Pohang University of Science and Technology",
                    "University of California, Santa Barbara",
                    "University of British Columbia",
                    "University of North Carolina at Chapel Hill",
                    "University of California, San Diego",
                    "University of Illinois at Urbana-Champaign",
                    "National University of Singapore",
                    "McGill University",
                    "University of Melbourne",
                    "Peking University",
                    "Washington University in St Louis",
                    "École Polytechnique",
                    "University of Edinburgh",
                    "Hong Kong University of Science and Technology",
                    "École Normale Supérieure",
                    "Australian National University",
                    "Karolinska Institute",
                    "University of Göttingen",
                    "University of Wisconsin",
                    "Rice University",
                    "École Polytechnique Fédérale de Lausanne",
                    "University of California, Irvine",
                    "University of Science and Technology of China",
                    "Vanderbilt University",
                    "University of Minnesota",
                    "Tufts University",
                    "University of California, Davis",
                    "Brown University",
                    "University of Massachusetts",
                    "Kyoto University",
                    "Tsinghua University",
                    "Boston University",
                    "New York University",
                    "Emory University",
                    "LMU Munich",
                    "University of Notre Dame",
                    "University of Pittsburgh",
                    "Case Western Reserve University",
                    "Ohio State University",
                    "University of Colorado Boulder",
                    "University of Bristol",
                    "University of California, Santa Cruz",
                    "Yeshiva University",
                    "University of Sydney",
                    "University of Virginia",
                    "University of Adelaide",
                    "University of Southern California",
                    "William & Mary",
                    "Trinity College Dublin",
                    "King’s College London",
                    "Stony Brook University",
                    "Korea Advanced Institute of Science and Technology (KAIST)",
                    "University of Sussex",
                    "The University of Queensland",
                    "University of York",
                    "Heidelberg University",
                    "University of Utah",
                    "Durham University",
                    "London School of Economics and Political Science",
                    "University of Manchester",
                    "Royal Holloway, University of London",
                    "Lund University",
                    "University of Southampton",
                    "University of Zurich",
                    "Wake Forest University",
                    "McMaster University",
                    "University College Dublin",
                    "George Washington University",
                    "University of Arizona",
                    "University of Basel",
                    "University of Maryland, College Park",
                    "Dartmouth College",
                    "École Normale Supérieure de Lyon"
                  ],
                  "type": "scatter",
                  "x": [
                    "1",
                    "2",
                    "3",
                    "4",
                    "5",
                    "6",
                    "6",
                    "8",
                    "9",
                    "10",
                    "11",
                    "12",
                    "13",
                    "14",
                    "15",
                    "15",
                    "17",
                    "18",
                    "19",
                    "20",
                    "21",
                    "22",
                    "23",
                    "24",
                    "25",
                    "26",
                    "27",
                    "28",
                    "29",
                    "30",
                    "30",
                    "32",
                    "33",
                    "34",
                    "35",
                    "36",
                    "37",
                    "38",
                    "39",
                    "40",
                    "41",
                    "42",
                    "43",
                    "43",
                    "43",
                    "43",
                    "47",
                    "48",
                    "49",
                    "49",
                    "51",
                    "52",
                    "53",
                    "54",
                    "55",
                    "56",
                    "57",
                    "58",
                    "59",
                    "60",
                    "61",
                    "61",
                    "63",
                    "64",
                    "65",
                    "66",
                    "67",
                    "68",
                    "68",
                    "68",
                    "71",
                    "72",
                    "73",
                    "73",
                    "75",
                    "76",
                    "77",
                    "78",
                    "79",
                    "79",
                    "81",
                    "81",
                    "83",
                    "83",
                    "85",
                    "86",
                    "87",
                    "88",
                    "89",
                    "90",
                    "90",
                    "90",
                    "93",
                    "94",
                    "95",
                    "95",
                    "95",
                    "98",
                    "99",
                    "100"
                  ],
                  "y": [
                    99.7,
                    97.7,
                    97.8,
                    98.3,
                    90.9,
                    90.5,
                    88.2,
                    84.2,
                    89.2,
                    92.1,
                    83,
                    79.1,
                    80.9,
                    82.2,
                    77.5,
                    83.9,
                    75.8,
                    73.8,
                    71.8,
                    70.3,
                    68.4,
                    74,
                    68.2,
                    66.8,
                    64.5,
                    87.7,
                    67.9,
                    69.5,
                    56.6,
                    65.1,
                    70.9,
                    59.8,
                    68.1,
                    65.5,
                    69,
                    58.7,
                    76.4,
                    58.9,
                    57.9,
                    59.9,
                    50.4,
                    66.8,
                    51.9,
                    65.8,
                    57.3,
                    55.5,
                    57.4,
                    55,
                    49.4,
                    57.5,
                    64.9,
                    57.6,
                    64.1,
                    57.3,
                    59.7,
                    61.3,
                    78.9,
                    74.9,
                    53.6,
                    62,
                    63.4,
                    59.1,
                    56.4,
                    58.5,
                    67.2,
                    63.5,
                    46.4,
                    49.6,
                    38.3,
                    63.5,
                    49.8,
                    62,
                    46.5,
                    65.4,
                    53.1,
                    47.7,
                    48.5,
                    48.5,
                    71.3,
                    42.4,
                    51.8,
                    47.9,
                    59.2,
                    55.8,
                    39.8,
                    62.4,
                    56.5,
                    37.7,
                    46.3,
                    50.8,
                    56.6,
                    54.6,
                    44.7,
                    42.4,
                    60.6,
                    52.4,
                    50.2,
                    45.4,
                    44.7,
                    51.1
                  ]
                }
              ],
              "layout": {
                "template": {
                  "data": {
                    "bar": [
                      {
                        "error_x": {
                          "color": "#2a3f5f"
                        },
                        "error_y": {
                          "color": "#2a3f5f"
                        },
                        "marker": {
                          "line": {
                            "color": "#E5ECF6",
                            "width": 0.5
                          },
                          "pattern": {
                            "fillmode": "overlay",
                            "size": 10,
                            "solidity": 0.2
                          }
                        },
                        "type": "bar"
                      }
                    ],
                    "barpolar": [
                      {
                        "marker": {
                          "line": {
                            "color": "#E5ECF6",
                            "width": 0.5
                          },
                          "pattern": {
                            "fillmode": "overlay",
                            "size": 10,
                            "solidity": 0.2
                          }
                        },
                        "type": "barpolar"
                      }
                    ],
                    "carpet": [
                      {
                        "aaxis": {
                          "endlinecolor": "#2a3f5f",
                          "gridcolor": "white",
                          "linecolor": "white",
                          "minorgridcolor": "white",
                          "startlinecolor": "#2a3f5f"
                        },
                        "baxis": {
                          "endlinecolor": "#2a3f5f",
                          "gridcolor": "white",
                          "linecolor": "white",
                          "minorgridcolor": "white",
                          "startlinecolor": "#2a3f5f"
                        },
                        "type": "carpet"
                      }
                    ],
                    "choropleth": [
                      {
                        "colorbar": {
                          "outlinewidth": 0,
                          "ticks": ""
                        },
                        "type": "choropleth"
                      }
                    ],
                    "contour": [
                      {
                        "colorbar": {
                          "outlinewidth": 0,
                          "ticks": ""
                        },
                        "colorscale": [
                          [
                            0,
                            "#0d0887"
                          ],
                          [
                            0.1111111111111111,
                            "#46039f"
                          ],
                          [
                            0.2222222222222222,
                            "#7201a8"
                          ],
                          [
                            0.3333333333333333,
                            "#9c179e"
                          ],
                          [
                            0.4444444444444444,
                            "#bd3786"
                          ],
                          [
                            0.5555555555555556,
                            "#d8576b"
                          ],
                          [
                            0.6666666666666666,
                            "#ed7953"
                          ],
                          [
                            0.7777777777777778,
                            "#fb9f3a"
                          ],
                          [
                            0.8888888888888888,
                            "#fdca26"
                          ],
                          [
                            1,
                            "#f0f921"
                          ]
                        ],
                        "type": "contour"
                      }
                    ],
                    "contourcarpet": [
                      {
                        "colorbar": {
                          "outlinewidth": 0,
                          "ticks": ""
                        },
                        "type": "contourcarpet"
                      }
                    ],
                    "heatmap": [
                      {
                        "colorbar": {
                          "outlinewidth": 0,
                          "ticks": ""
                        },
                        "colorscale": [
                          [
                            0,
                            "#0d0887"
                          ],
                          [
                            0.1111111111111111,
                            "#46039f"
                          ],
                          [
                            0.2222222222222222,
                            "#7201a8"
                          ],
                          [
                            0.3333333333333333,
                            "#9c179e"
                          ],
                          [
                            0.4444444444444444,
                            "#bd3786"
                          ],
                          [
                            0.5555555555555556,
                            "#d8576b"
                          ],
                          [
                            0.6666666666666666,
                            "#ed7953"
                          ],
                          [
                            0.7777777777777778,
                            "#fb9f3a"
                          ],
                          [
                            0.8888888888888888,
                            "#fdca26"
                          ],
                          [
                            1,
                            "#f0f921"
                          ]
                        ],
                        "type": "heatmap"
                      }
                    ],
                    "heatmapgl": [
                      {
                        "colorbar": {
                          "outlinewidth": 0,
                          "ticks": ""
                        },
                        "colorscale": [
                          [
                            0,
                            "#0d0887"
                          ],
                          [
                            0.1111111111111111,
                            "#46039f"
                          ],
                          [
                            0.2222222222222222,
                            "#7201a8"
                          ],
                          [
                            0.3333333333333333,
                            "#9c179e"
                          ],
                          [
                            0.4444444444444444,
                            "#bd3786"
                          ],
                          [
                            0.5555555555555556,
                            "#d8576b"
                          ],
                          [
                            0.6666666666666666,
                            "#ed7953"
                          ],
                          [
                            0.7777777777777778,
                            "#fb9f3a"
                          ],
                          [
                            0.8888888888888888,
                            "#fdca26"
                          ],
                          [
                            1,
                            "#f0f921"
                          ]
                        ],
                        "type": "heatmapgl"
                      }
                    ],
                    "histogram": [
                      {
                        "marker": {
                          "pattern": {
                            "fillmode": "overlay",
                            "size": 10,
                            "solidity": 0.2
                          }
                        },
                        "type": "histogram"
                      }
                    ],
                    "histogram2d": [
                      {
                        "colorbar": {
                          "outlinewidth": 0,
                          "ticks": ""
                        },
                        "colorscale": [
                          [
                            0,
                            "#0d0887"
                          ],
                          [
                            0.1111111111111111,
                            "#46039f"
                          ],
                          [
                            0.2222222222222222,
                            "#7201a8"
                          ],
                          [
                            0.3333333333333333,
                            "#9c179e"
                          ],
                          [
                            0.4444444444444444,
                            "#bd3786"
                          ],
                          [
                            0.5555555555555556,
                            "#d8576b"
                          ],
                          [
                            0.6666666666666666,
                            "#ed7953"
                          ],
                          [
                            0.7777777777777778,
                            "#fb9f3a"
                          ],
                          [
                            0.8888888888888888,
                            "#fdca26"
                          ],
                          [
                            1,
                            "#f0f921"
                          ]
                        ],
                        "type": "histogram2d"
                      }
                    ],
                    "histogram2dcontour": [
                      {
                        "colorbar": {
                          "outlinewidth": 0,
                          "ticks": ""
                        },
                        "colorscale": [
                          [
                            0,
                            "#0d0887"
                          ],
                          [
                            0.1111111111111111,
                            "#46039f"
                          ],
                          [
                            0.2222222222222222,
                            "#7201a8"
                          ],
                          [
                            0.3333333333333333,
                            "#9c179e"
                          ],
                          [
                            0.4444444444444444,
                            "#bd3786"
                          ],
                          [
                            0.5555555555555556,
                            "#d8576b"
                          ],
                          [
                            0.6666666666666666,
                            "#ed7953"
                          ],
                          [
                            0.7777777777777778,
                            "#fb9f3a"
                          ],
                          [
                            0.8888888888888888,
                            "#fdca26"
                          ],
                          [
                            1,
                            "#f0f921"
                          ]
                        ],
                        "type": "histogram2dcontour"
                      }
                    ],
                    "mesh3d": [
                      {
                        "colorbar": {
                          "outlinewidth": 0,
                          "ticks": ""
                        },
                        "type": "mesh3d"
                      }
                    ],
                    "parcoords": [
                      {
                        "line": {
                          "colorbar": {
                            "outlinewidth": 0,
                            "ticks": ""
                          }
                        },
                        "type": "parcoords"
                      }
                    ],
                    "pie": [
                      {
                        "automargin": true,
                        "type": "pie"
                      }
                    ],
                    "scatter": [
                      {
                        "fillpattern": {
                          "fillmode": "overlay",
                          "size": 10,
                          "solidity": 0.2
                        },
                        "type": "scatter"
                      }
                    ],
                    "scatter3d": [
                      {
                        "line": {
                          "colorbar": {
                            "outlinewidth": 0,
                            "ticks": ""
                          }
                        },
                        "marker": {
                          "colorbar": {
                            "outlinewidth": 0,
                            "ticks": ""
                          }
                        },
                        "type": "scatter3d"
                      }
                    ],
                    "scattercarpet": [
                      {
                        "marker": {
                          "colorbar": {
                            "outlinewidth": 0,
                            "ticks": ""
                          }
                        },
                        "type": "scattercarpet"
                      }
                    ],
                    "scattergeo": [
                      {
                        "marker": {
                          "colorbar": {
                            "outlinewidth": 0,
                            "ticks": ""
                          }
                        },
                        "type": "scattergeo"
                      }
                    ],
                    "scattergl": [
                      {
                        "marker": {
                          "colorbar": {
                            "outlinewidth": 0,
                            "ticks": ""
                          }
                        },
                        "type": "scattergl"
                      }
                    ],
                    "scattermapbox": [
                      {
                        "marker": {
                          "colorbar": {
                            "outlinewidth": 0,
                            "ticks": ""
                          }
                        },
                        "type": "scattermapbox"
                      }
                    ],
                    "scatterpolar": [
                      {
                        "marker": {
                          "colorbar": {
                            "outlinewidth": 0,
                            "ticks": ""
                          }
                        },
                        "type": "scatterpolar"
                      }
                    ],
                    "scatterpolargl": [
                      {
                        "marker": {
                          "colorbar": {
                            "outlinewidth": 0,
                            "ticks": ""
                          }
                        },
                        "type": "scatterpolargl"
                      }
                    ],
                    "scatterternary": [
                      {
                        "marker": {
                          "colorbar": {
                            "outlinewidth": 0,
                            "ticks": ""
                          }
                        },
                        "type": "scatterternary"
                      }
                    ],
                    "surface": [
                      {
                        "colorbar": {
                          "outlinewidth": 0,
                          "ticks": ""
                        },
                        "colorscale": [
                          [
                            0,
                            "#0d0887"
                          ],
                          [
                            0.1111111111111111,
                            "#46039f"
                          ],
                          [
                            0.2222222222222222,
                            "#7201a8"
                          ],
                          [
                            0.3333333333333333,
                            "#9c179e"
                          ],
                          [
                            0.4444444444444444,
                            "#bd3786"
                          ],
                          [
                            0.5555555555555556,
                            "#d8576b"
                          ],
                          [
                            0.6666666666666666,
                            "#ed7953"
                          ],
                          [
                            0.7777777777777778,
                            "#fb9f3a"
                          ],
                          [
                            0.8888888888888888,
                            "#fdca26"
                          ],
                          [
                            1,
                            "#f0f921"
                          ]
                        ],
                        "type": "surface"
                      }
                    ],
                    "table": [
                      {
                        "cells": {
                          "fill": {
                            "color": "#EBF0F8"
                          },
                          "line": {
                            "color": "white"
                          }
                        },
                        "header": {
                          "fill": {
                            "color": "#C8D4E3"
                          },
                          "line": {
                            "color": "white"
                          }
                        },
                        "type": "table"
                      }
                    ]
                  },
                  "layout": {
                    "annotationdefaults": {
                      "arrowcolor": "#2a3f5f",
                      "arrowhead": 0,
                      "arrowwidth": 1
                    },
                    "autotypenumbers": "strict",
                    "coloraxis": {
                      "colorbar": {
                        "outlinewidth": 0,
                        "ticks": ""
                      }
                    },
                    "colorscale": {
                      "diverging": [
                        [
                          0,
                          "#8e0152"
                        ],
                        [
                          0.1,
                          "#c51b7d"
                        ],
                        [
                          0.2,
                          "#de77ae"
                        ],
                        [
                          0.3,
                          "#f1b6da"
                        ],
                        [
                          0.4,
                          "#fde0ef"
                        ],
                        [
                          0.5,
                          "#f7f7f7"
                        ],
                        [
                          0.6,
                          "#e6f5d0"
                        ],
                        [
                          0.7,
                          "#b8e186"
                        ],
                        [
                          0.8,
                          "#7fbc41"
                        ],
                        [
                          0.9,
                          "#4d9221"
                        ],
                        [
                          1,
                          "#276419"
                        ]
                      ],
                      "sequential": [
                        [
                          0,
                          "#0d0887"
                        ],
                        [
                          0.1111111111111111,
                          "#46039f"
                        ],
                        [
                          0.2222222222222222,
                          "#7201a8"
                        ],
                        [
                          0.3333333333333333,
                          "#9c179e"
                        ],
                        [
                          0.4444444444444444,
                          "#bd3786"
                        ],
                        [
                          0.5555555555555556,
                          "#d8576b"
                        ],
                        [
                          0.6666666666666666,
                          "#ed7953"
                        ],
                        [
                          0.7777777777777778,
                          "#fb9f3a"
                        ],
                        [
                          0.8888888888888888,
                          "#fdca26"
                        ],
                        [
                          1,
                          "#f0f921"
                        ]
                      ],
                      "sequentialminus": [
                        [
                          0,
                          "#0d0887"
                        ],
                        [
                          0.1111111111111111,
                          "#46039f"
                        ],
                        [
                          0.2222222222222222,
                          "#7201a8"
                        ],
                        [
                          0.3333333333333333,
                          "#9c179e"
                        ],
                        [
                          0.4444444444444444,
                          "#bd3786"
                        ],
                        [
                          0.5555555555555556,
                          "#d8576b"
                        ],
                        [
                          0.6666666666666666,
                          "#ed7953"
                        ],
                        [
                          0.7777777777777778,
                          "#fb9f3a"
                        ],
                        [
                          0.8888888888888888,
                          "#fdca26"
                        ],
                        [
                          1,
                          "#f0f921"
                        ]
                      ]
                    },
                    "colorway": [
                      "#636efa",
                      "#EF553B",
                      "#00cc96",
                      "#ab63fa",
                      "#FFA15A",
                      "#19d3f3",
                      "#FF6692",
                      "#B6E880",
                      "#FF97FF",
                      "#FECB52"
                    ],
                    "font": {
                      "color": "#2a3f5f"
                    },
                    "geo": {
                      "bgcolor": "white",
                      "lakecolor": "white",
                      "landcolor": "#E5ECF6",
                      "showlakes": true,
                      "showland": true,
                      "subunitcolor": "white"
                    },
                    "hoverlabel": {
                      "align": "left"
                    },
                    "hovermode": "closest",
                    "mapbox": {
                      "style": "light"
                    },
                    "paper_bgcolor": "white",
                    "plot_bgcolor": "#E5ECF6",
                    "polar": {
                      "angularaxis": {
                        "gridcolor": "white",
                        "linecolor": "white",
                        "ticks": ""
                      },
                      "bgcolor": "#E5ECF6",
                      "radialaxis": {
                        "gridcolor": "white",
                        "linecolor": "white",
                        "ticks": ""
                      }
                    },
                    "scene": {
                      "xaxis": {
                        "backgroundcolor": "#E5ECF6",
                        "gridcolor": "white",
                        "gridwidth": 2,
                        "linecolor": "white",
                        "showbackground": true,
                        "ticks": "",
                        "zerolinecolor": "white"
                      },
                      "yaxis": {
                        "backgroundcolor": "#E5ECF6",
                        "gridcolor": "white",
                        "gridwidth": 2,
                        "linecolor": "white",
                        "showbackground": true,
                        "ticks": "",
                        "zerolinecolor": "white"
                      },
                      "zaxis": {
                        "backgroundcolor": "#E5ECF6",
                        "gridcolor": "white",
                        "gridwidth": 2,
                        "linecolor": "white",
                        "showbackground": true,
                        "ticks": "",
                        "zerolinecolor": "white"
                      }
                    },
                    "shapedefaults": {
                      "line": {
                        "color": "#2a3f5f"
                      }
                    },
                    "ternary": {
                      "aaxis": {
                        "gridcolor": "white",
                        "linecolor": "white",
                        "ticks": ""
                      },
                      "baxis": {
                        "gridcolor": "white",
                        "linecolor": "white",
                        "ticks": ""
                      },
                      "bgcolor": "#E5ECF6",
                      "caxis": {
                        "gridcolor": "white",
                        "linecolor": "white",
                        "ticks": ""
                      }
                    },
                    "title": {
                      "x": 0.05
                    },
                    "xaxis": {
                      "automargin": true,
                      "gridcolor": "white",
                      "linecolor": "white",
                      "ticks": "",
                      "title": {
                        "standoff": 15
                      },
                      "zerolinecolor": "white",
                      "zerolinewidth": 2
                    },
                    "yaxis": {
                      "automargin": true,
                      "gridcolor": "white",
                      "linecolor": "white",
                      "ticks": "",
                      "title": {
                        "standoff": 15
                      },
                      "zerolinecolor": "white",
                      "zerolinewidth": 2
                    }
                  }
                },
                "title": {
                  "text": "Citation and Teaching vs World Rank of Top 100 Universities"
                },
                "xaxis": {
                  "ticklen": 5,
                  "title": {
                    "text": "World_Rank"
                  },
                  "zeroline": false
                }
              }
            }
          },
          "metadata": {},
          "output_type": "display_data"
        }
      ],
      "source": [
        "df= data.iloc[:100, :]\n",
        "\n",
        "first_trace= go.Scatter(x= df.world_rank,\n",
        "                        y= df.citations,\n",
        "                        mode= 'lines+markers',\n",
        "                        name= 'citations',\n",
        "                        marker= dict(color= 'rgba(16, 112, 2, 0.8)'),\n",
        "                        text= df.university_name)\n",
        "\n",
        "second_trace= go.Scatter(x= df.world_rank,\n",
        "                        y= df.teaching,\n",
        "                        mode= 'lines+markers',\n",
        "                        name= 'teaching',\n",
        "                        marker= dict(color= 'rgba(0, 200, 255, 0.8)'),\n",
        "                        text= df.university_name) \n",
        "\n",
        "data= [first_trace, second_trace]\n",
        "layout= dict(title = 'Citation and Teaching vs World Rank of Top 100 Universities', \n",
        "             xaxis= dict(title='World_Rank', ticklen= 5, zeroline= False))\n",
        "\n",
        "fig= dict(data= data, layout= layout)\n",
        "#fig.show()\n",
        "iplot(fig)"
      ]
    },
    {
      "cell_type": "markdown",
      "metadata": {
        "id": "zlwyhUR9NUti"
      },
      "source": [
        "# ScatterPlot\n",
        "#  Citation vs world rank of top 100 universities with 2014, 2015 and 2016 years"
      ]
    },
    {
      "cell_type": "code",
      "execution_count": 10,
      "metadata": {
        "colab": {
          "base_uri": "https://localhost:8080/",
          "height": 542
        },
        "id": "iKLhB_1XG3bE",
        "outputId": "4bde949a-b180-4828-b8ca-169cf169b61d"
      },
      "outputs": [
        {
          "data": {
            "application/vnd.plotly.v1+json": {
              "config": {
                "linkText": "Export to plot.ly",
                "plotlyServerURL": "https://plot.ly",
                "showLink": false
              },
              "data": [
                {
                  "marker": {
                    "color": "rgba(255, 128, 255, 0.8)"
                  },
                  "mode": "markers",
                  "name": "2014",
                  "text": [
                    "Harvard University",
                    "California Institute of Technology",
                    "Massachusetts Institute of Technology",
                    "Stanford University",
                    "Princeton University",
                    "University of Cambridge",
                    "University of Oxford",
                    "University of California, Berkeley",
                    "Imperial College London",
                    "Yale University",
                    "University of California, Los Angeles",
                    "University of Chicago",
                    "Johns Hopkins University",
                    "Cornell University",
                    "ETH Zurich – Swiss Federal Institute of Technology Zurich",
                    "University of Michigan",
                    "University of Toronto",
                    "Columbia University",
                    "University of Pennsylvania",
                    "Carnegie Mellon University",
                    "University of Hong Kong",
                    "University College London",
                    "University of Washington",
                    "Duke University",
                    "Northwestern University",
                    "University of Tokyo",
                    "Georgia Institute of Technology",
                    "Pohang University of Science and Technology",
                    "University of California, Santa Barbara",
                    "University of British Columbia",
                    "University of North Carolina at Chapel Hill",
                    "University of California, San Diego",
                    "University of Illinois at Urbana-Champaign",
                    "National University of Singapore",
                    "McGill University",
                    "University of Melbourne",
                    "Peking University",
                    "Washington University in St Louis",
                    "École Polytechnique",
                    "University of Edinburgh",
                    "Hong Kong University of Science and Technology",
                    "École Normale Supérieure",
                    "Australian National University",
                    "Karolinska Institute",
                    "University of Göttingen",
                    "University of Wisconsin",
                    "Rice University",
                    "École Polytechnique Fédérale de Lausanne",
                    "University of California, Irvine",
                    "University of Science and Technology of China",
                    "Vanderbilt University",
                    "University of Minnesota",
                    "Tufts University",
                    "University of California, Davis",
                    "Brown University",
                    "University of Massachusetts",
                    "Kyoto University",
                    "Tsinghua University",
                    "Boston University",
                    "New York University",
                    "Emory University",
                    "LMU Munich",
                    "University of Notre Dame",
                    "University of Pittsburgh",
                    "Case Western Reserve University",
                    "Ohio State University",
                    "University of Colorado Boulder",
                    "University of Bristol",
                    "University of California, Santa Cruz",
                    "Yeshiva University",
                    "University of Sydney",
                    "University of Virginia",
                    "University of Adelaide",
                    "University of Southern California",
                    "William & Mary",
                    "Trinity College Dublin",
                    "King’s College London",
                    "Stony Brook University",
                    "Korea Advanced Institute of Science and Technology (KAIST)",
                    "University of Sussex",
                    "The University of Queensland",
                    "University of York",
                    "Heidelberg University",
                    "University of Utah",
                    "Durham University",
                    "London School of Economics and Political Science",
                    "University of Manchester",
                    "Royal Holloway, University of London",
                    "Lund University",
                    "University of Southampton",
                    "University of Zurich",
                    "Wake Forest University",
                    "McMaster University",
                    "University College Dublin",
                    "George Washington University",
                    "University of Arizona",
                    "University of Basel",
                    "University of Maryland, College Park",
                    "Dartmouth College",
                    "École Normale Supérieure de Lyon"
                  ],
                  "type": "scatter",
                  "x": [
                    "1",
                    "2",
                    "2",
                    "4",
                    "5",
                    "6",
                    "7",
                    "8",
                    "9",
                    "10",
                    "11",
                    "12",
                    "13",
                    "14",
                    "15",
                    "16",
                    "17",
                    "18",
                    "19",
                    "20",
                    "21",
                    "22",
                    "23",
                    "24",
                    "25",
                    "26",
                    "27",
                    "28",
                    "29",
                    "30",
                    "31",
                    "32",
                    "33",
                    "34",
                    "35",
                    "36",
                    "37",
                    "38",
                    "39",
                    "40",
                    "40",
                    "42",
                    "43",
                    "44",
                    "45",
                    "46",
                    "47",
                    "48",
                    "49",
                    "50",
                    "50",
                    "52",
                    "52",
                    "52",
                    "55",
                    "56",
                    "57",
                    "58",
                    "59",
                    "60",
                    "61",
                    "62",
                    "63",
                    "63",
                    "65",
                    "65",
                    "67",
                    "68",
                    "69",
                    "70",
                    "70",
                    "72",
                    "73",
                    "74",
                    "74",
                    "76",
                    "77",
                    "78",
                    "79",
                    "80",
                    "80",
                    "80",
                    "83",
                    "83",
                    "85",
                    "86",
                    "87",
                    "88",
                    "88",
                    "90",
                    "91",
                    "92",
                    "93",
                    "94",
                    "95",
                    "96",
                    "97",
                    "98",
                    "98",
                    "100"
                  ],
                  "y": [
                    99.8,
                    99.1,
                    95.4,
                    99.1,
                    100,
                    99.7,
                    95.7,
                    99.3,
                    98,
                    90,
                    93.5,
                    95.6,
                    95.6,
                    85,
                    95,
                    95,
                    96.7,
                    90.8,
                    90.8,
                    84.5,
                    84.1,
                    97.1,
                    69.8,
                    93.9,
                    95.6,
                    66.4,
                    91.3,
                    87.9,
                    79.4,
                    87.2,
                    83.7,
                    69.2,
                    99.4,
                    80.2,
                    74.5,
                    76,
                    95.9,
                    87.6,
                    87.6,
                    87.9,
                    96.7,
                    96.4,
                    61.5,
                    47.3,
                    62.8,
                    81.2,
                    90.2,
                    71.2,
                    79.4,
                    95.3,
                    59.9,
                    91.3,
                    58.2,
                    81.2,
                    83.3,
                    67,
                    72.3,
                    77.3,
                    79.4,
                    85.7,
                    72.9,
                    67,
                    73.3,
                    89.6,
                    99.9,
                    87,
                    84.2,
                    76,
                    47.2,
                    81.2,
                    82.3,
                    66.6,
                    81.2,
                    81.4,
                    82,
                    67.5,
                    74.1,
                    84.4,
                    84.9,
                    88.2,
                    90.8,
                    93.9,
                    71.5,
                    75,
                    74.9,
                    64.8,
                    80.7,
                    82.8,
                    86.5,
                    91.8,
                    65.4,
                    79.4,
                    89.7,
                    68.4,
                    89.7,
                    82.3,
                    97.3,
                    65.8,
                    71.1,
                    77.8
                  ]
                },
                {
                  "marker": {
                    "color": "rgba(255, 8, 255, 0.8)"
                  },
                  "mode": "markers",
                  "name": "2015",
                  "text": [
                    "Harvard University",
                    "California Institute of Technology",
                    "Massachusetts Institute of Technology",
                    "Stanford University",
                    "Princeton University",
                    "University of Cambridge",
                    "University of Oxford",
                    "University of California, Berkeley",
                    "Imperial College London",
                    "Yale University",
                    "University of California, Los Angeles",
                    "University of Chicago",
                    "Johns Hopkins University",
                    "Cornell University",
                    "ETH Zurich – Swiss Federal Institute of Technology Zurich",
                    "University of Michigan",
                    "University of Toronto",
                    "Columbia University",
                    "University of Pennsylvania",
                    "Carnegie Mellon University",
                    "University of Hong Kong",
                    "University College London",
                    "University of Washington",
                    "Duke University",
                    "Northwestern University",
                    "University of Tokyo",
                    "Georgia Institute of Technology",
                    "Pohang University of Science and Technology",
                    "University of California, Santa Barbara",
                    "University of British Columbia",
                    "University of North Carolina at Chapel Hill",
                    "University of California, San Diego",
                    "University of Illinois at Urbana-Champaign",
                    "National University of Singapore",
                    "McGill University",
                    "University of Melbourne",
                    "Peking University",
                    "Washington University in St Louis",
                    "École Polytechnique",
                    "University of Edinburgh",
                    "Hong Kong University of Science and Technology",
                    "École Normale Supérieure",
                    "Australian National University",
                    "Karolinska Institute",
                    "University of Göttingen",
                    "University of Wisconsin",
                    "Rice University",
                    "École Polytechnique Fédérale de Lausanne",
                    "University of California, Irvine",
                    "University of Science and Technology of China",
                    "Vanderbilt University",
                    "University of Minnesota",
                    "Tufts University",
                    "University of California, Davis",
                    "Brown University",
                    "University of Massachusetts",
                    "Kyoto University",
                    "Tsinghua University",
                    "Boston University",
                    "New York University",
                    "Emory University",
                    "LMU Munich",
                    "University of Notre Dame",
                    "University of Pittsburgh",
                    "Case Western Reserve University",
                    "Ohio State University",
                    "University of Colorado Boulder",
                    "University of Bristol",
                    "University of California, Santa Cruz",
                    "Yeshiva University",
                    "University of Sydney",
                    "University of Virginia",
                    "University of Adelaide",
                    "University of Southern California",
                    "William & Mary",
                    "Trinity College Dublin",
                    "King’s College London",
                    "Stony Brook University",
                    "Korea Advanced Institute of Science and Technology (KAIST)",
                    "University of Sussex",
                    "The University of Queensland",
                    "University of York",
                    "Heidelberg University",
                    "University of Utah",
                    "Durham University",
                    "London School of Economics and Political Science",
                    "University of Manchester",
                    "Royal Holloway, University of London",
                    "Lund University",
                    "University of Southampton",
                    "University of Zurich",
                    "Wake Forest University",
                    "McMaster University",
                    "University College Dublin",
                    "George Washington University",
                    "University of Arizona",
                    "University of Basel",
                    "University of Maryland, College Park",
                    "Dartmouth College",
                    "École Normale Supérieure de Lyon"
                  ],
                  "type": "scatter",
                  "x": [
                    "1",
                    "2",
                    "3",
                    "4",
                    "5",
                    "6",
                    "7",
                    "8",
                    "9",
                    "9",
                    "11",
                    "12",
                    "13",
                    "14",
                    "15",
                    "16",
                    "17",
                    "18",
                    "19",
                    "20",
                    "21",
                    "22",
                    "23",
                    "24",
                    "25",
                    "26",
                    "27",
                    "28",
                    "29",
                    "29",
                    "29",
                    "32",
                    "33",
                    "34",
                    "34",
                    "36",
                    "37",
                    "38",
                    "39",
                    "40",
                    "41",
                    "42",
                    "43",
                    "44",
                    "45",
                    "46",
                    "46",
                    "48",
                    "49",
                    "50",
                    "51",
                    "52",
                    "52",
                    "54",
                    "55",
                    "55",
                    "57",
                    "58",
                    "59",
                    "60",
                    "61",
                    "61",
                    "63",
                    "64",
                    "65",
                    "66",
                    "67",
                    "68",
                    "69",
                    "70",
                    "71",
                    "72",
                    "73",
                    "74",
                    "75",
                    "75",
                    "77",
                    "78",
                    "79",
                    "80",
                    "81",
                    "82",
                    "83",
                    "83",
                    "85",
                    "86",
                    "86",
                    "88",
                    "88",
                    "90",
                    "91",
                    "91",
                    "93",
                    "94",
                    "94",
                    "96",
                    "97",
                    "98",
                    "98",
                    "98"
                  ],
                  "y": [
                    99.7,
                    98.9,
                    95.5,
                    99.1,
                    95.2,
                    100,
                    99.6,
                    99.1,
                    89.4,
                    94,
                    97.3,
                    95.3,
                    83.5,
                    95.3,
                    93.6,
                    94.4,
                    88.9,
                    96.6,
                    91.5,
                    83,
                    96.9,
                    85.1,
                    74.7,
                    92,
                    66,
                    95,
                    85.8,
                    91.5,
                    83,
                    77.8,
                    87.7,
                    85.3,
                    80.6,
                    71.3,
                    95,
                    88.3,
                    99.2,
                    89.5,
                    76,
                    88.3,
                    96.4,
                    97.1,
                    65.1,
                    76.8,
                    71.1,
                    82.9,
                    91,
                    63.7,
                    65,
                    48.7,
                    72.9,
                    71.4,
                    74.3,
                    92,
                    71.8,
                    80.4,
                    94.4,
                    76,
                    57,
                    69,
                    75.9,
                    79.9,
                    96.4,
                    82.3,
                    74.2,
                    84.4,
                    92.3,
                    80.4,
                    99.9,
                    81.4,
                    42.6,
                    82.3,
                    77.5,
                    85.1,
                    81.4,
                    81.3,
                    76.6,
                    84.8,
                    80,
                    71.9,
                    67.6,
                    74,
                    88.9,
                    65.7,
                    92,
                    74,
                    90,
                    92.9,
                    89.5,
                    73.8,
                    78.7,
                    84.4,
                    89.5,
                    78.8,
                    83.7,
                    87.7,
                    97.4,
                    90.9,
                    78.8,
                    70.9
                  ]
                },
                {
                  "marker": {
                    "color": "rgba(0, 200, 255, 0.8)"
                  },
                  "mode": "markers",
                  "name": "2016",
                  "text": [
                    "Harvard University",
                    "California Institute of Technology",
                    "Massachusetts Institute of Technology",
                    "Stanford University",
                    "Princeton University",
                    "University of Cambridge",
                    "University of Oxford",
                    "University of California, Berkeley",
                    "Imperial College London",
                    "Yale University",
                    "University of California, Los Angeles",
                    "University of Chicago",
                    "Johns Hopkins University",
                    "Cornell University",
                    "ETH Zurich – Swiss Federal Institute of Technology Zurich",
                    "University of Michigan",
                    "University of Toronto",
                    "Columbia University",
                    "University of Pennsylvania",
                    "Carnegie Mellon University",
                    "University of Hong Kong",
                    "University College London",
                    "University of Washington",
                    "Duke University",
                    "Northwestern University",
                    "University of Tokyo",
                    "Georgia Institute of Technology",
                    "Pohang University of Science and Technology",
                    "University of California, Santa Barbara",
                    "University of British Columbia",
                    "University of North Carolina at Chapel Hill",
                    "University of California, San Diego",
                    "University of Illinois at Urbana-Champaign",
                    "National University of Singapore",
                    "McGill University",
                    "University of Melbourne",
                    "Peking University",
                    "Washington University in St Louis",
                    "École Polytechnique",
                    "University of Edinburgh",
                    "Hong Kong University of Science and Technology",
                    "École Normale Supérieure",
                    "Australian National University",
                    "Karolinska Institute",
                    "University of Göttingen",
                    "University of Wisconsin",
                    "Rice University",
                    "École Polytechnique Fédérale de Lausanne",
                    "University of California, Irvine",
                    "University of Science and Technology of China",
                    "Vanderbilt University",
                    "University of Minnesota",
                    "Tufts University",
                    "University of California, Davis",
                    "Brown University",
                    "University of Massachusetts",
                    "Kyoto University",
                    "Tsinghua University",
                    "Boston University",
                    "New York University",
                    "Emory University",
                    "LMU Munich",
                    "University of Notre Dame",
                    "University of Pittsburgh",
                    "Case Western Reserve University",
                    "Ohio State University",
                    "University of Colorado Boulder",
                    "University of Bristol",
                    "University of California, Santa Cruz",
                    "Yeshiva University",
                    "University of Sydney",
                    "University of Virginia",
                    "University of Adelaide",
                    "University of Southern California",
                    "William & Mary",
                    "Trinity College Dublin",
                    "King’s College London",
                    "Stony Brook University",
                    "Korea Advanced Institute of Science and Technology (KAIST)",
                    "University of Sussex",
                    "The University of Queensland",
                    "University of York",
                    "Heidelberg University",
                    "University of Utah",
                    "Durham University",
                    "London School of Economics and Political Science",
                    "University of Manchester",
                    "Royal Holloway, University of London",
                    "Lund University",
                    "University of Southampton",
                    "University of Zurich",
                    "Wake Forest University",
                    "McMaster University",
                    "University College Dublin",
                    "George Washington University",
                    "University of Arizona",
                    "University of Basel",
                    "University of Maryland, College Park",
                    "Dartmouth College",
                    "École Normale Supérieure de Lyon"
                  ],
                  "type": "scatter",
                  "x": [
                    "1",
                    "2",
                    "3",
                    "4",
                    "5",
                    "6",
                    "7",
                    "8",
                    "9",
                    "10",
                    "11",
                    "12",
                    "13",
                    "14",
                    "15",
                    "16",
                    "17",
                    "18",
                    "19",
                    "20",
                    "21",
                    "22",
                    "23",
                    "24",
                    "25",
                    "26",
                    "27",
                    "28",
                    "29",
                    "30",
                    "31",
                    "32",
                    "33",
                    "34",
                    "35",
                    "36",
                    "37",
                    "38",
                    "=39",
                    "=39",
                    "41",
                    "42",
                    "43",
                    "=44",
                    "=44",
                    "46",
                    "=47",
                    "=47",
                    "49",
                    "50",
                    "51",
                    "52",
                    "53",
                    "54",
                    "55",
                    "=56",
                    "=56",
                    "58",
                    "59",
                    "=60",
                    "=60",
                    "62",
                    "63",
                    "64",
                    "=65",
                    "=65",
                    "67",
                    "68",
                    "69",
                    "70",
                    "71",
                    "72",
                    "73",
                    "74",
                    "75",
                    "=76",
                    "=76",
                    "78",
                    "79",
                    "80",
                    "81",
                    "=82",
                    "=82",
                    "84",
                    "85",
                    "86",
                    "87",
                    "=88",
                    "=88",
                    "=90",
                    "=90",
                    "=90",
                    "93",
                    "=94",
                    "=94",
                    "=94",
                    "97",
                    "98",
                    "=99",
                    "=99"
                  ],
                  "y": [
                    99.8,
                    98.8,
                    99.9,
                    97,
                    99.7,
                    99.8,
                    99.3,
                    96.7,
                    91.1,
                    99.2,
                    98.2,
                    97.2,
                    99.7,
                    94.2,
                    98.1,
                    98.5,
                    98.6,
                    97.2,
                    90.9,
                    99,
                    94.4,
                    99.1,
                    94.3,
                    96.3,
                    96.5,
                    79.4,
                    93.8,
                    92.2,
                    85.7,
                    95.3,
                    94.6,
                    98.6,
                    86.6,
                    91.5,
                    87.3,
                    86.8,
                    88.2,
                    78.9,
                    98.7,
                    99.2,
                    86,
                    69.1,
                    60.9,
                    84.3,
                    70.1,
                    92.2,
                    58.8,
                    87.8,
                    73.6,
                    86.6,
                    96.4,
                    72.3,
                    80.1,
                    87.1,
                    85.6,
                    77.3,
                    77.5,
                    87.4,
                    82.6,
                    82.4,
                    99.2,
                    88.1,
                    95.9,
                    97.7,
                    61.5,
                    88,
                    85.2,
                    93,
                    91.2,
                    87.7,
                    95.6,
                    60.2,
                    73.3,
                    84,
                    80.5,
                    92.3,
                    82.1,
                    79.3,
                    92.3,
                    78.2,
                    80.9,
                    86.2,
                    82.1,
                    80.5,
                    50,
                    78.8,
                    95.7,
                    46.6,
                    82.7,
                    96.7,
                    81.3,
                    83.2,
                    94.3,
                    85.3,
                    82.5,
                    84.9,
                    80.1,
                    93.3,
                    72.7,
                    76.8
                  ]
                }
              ],
              "layout": {
                "template": {
                  "data": {
                    "bar": [
                      {
                        "error_x": {
                          "color": "#2a3f5f"
                        },
                        "error_y": {
                          "color": "#2a3f5f"
                        },
                        "marker": {
                          "line": {
                            "color": "#E5ECF6",
                            "width": 0.5
                          },
                          "pattern": {
                            "fillmode": "overlay",
                            "size": 10,
                            "solidity": 0.2
                          }
                        },
                        "type": "bar"
                      }
                    ],
                    "barpolar": [
                      {
                        "marker": {
                          "line": {
                            "color": "#E5ECF6",
                            "width": 0.5
                          },
                          "pattern": {
                            "fillmode": "overlay",
                            "size": 10,
                            "solidity": 0.2
                          }
                        },
                        "type": "barpolar"
                      }
                    ],
                    "carpet": [
                      {
                        "aaxis": {
                          "endlinecolor": "#2a3f5f",
                          "gridcolor": "white",
                          "linecolor": "white",
                          "minorgridcolor": "white",
                          "startlinecolor": "#2a3f5f"
                        },
                        "baxis": {
                          "endlinecolor": "#2a3f5f",
                          "gridcolor": "white",
                          "linecolor": "white",
                          "minorgridcolor": "white",
                          "startlinecolor": "#2a3f5f"
                        },
                        "type": "carpet"
                      }
                    ],
                    "choropleth": [
                      {
                        "colorbar": {
                          "outlinewidth": 0,
                          "ticks": ""
                        },
                        "type": "choropleth"
                      }
                    ],
                    "contour": [
                      {
                        "colorbar": {
                          "outlinewidth": 0,
                          "ticks": ""
                        },
                        "colorscale": [
                          [
                            0,
                            "#0d0887"
                          ],
                          [
                            0.1111111111111111,
                            "#46039f"
                          ],
                          [
                            0.2222222222222222,
                            "#7201a8"
                          ],
                          [
                            0.3333333333333333,
                            "#9c179e"
                          ],
                          [
                            0.4444444444444444,
                            "#bd3786"
                          ],
                          [
                            0.5555555555555556,
                            "#d8576b"
                          ],
                          [
                            0.6666666666666666,
                            "#ed7953"
                          ],
                          [
                            0.7777777777777778,
                            "#fb9f3a"
                          ],
                          [
                            0.8888888888888888,
                            "#fdca26"
                          ],
                          [
                            1,
                            "#f0f921"
                          ]
                        ],
                        "type": "contour"
                      }
                    ],
                    "contourcarpet": [
                      {
                        "colorbar": {
                          "outlinewidth": 0,
                          "ticks": ""
                        },
                        "type": "contourcarpet"
                      }
                    ],
                    "heatmap": [
                      {
                        "colorbar": {
                          "outlinewidth": 0,
                          "ticks": ""
                        },
                        "colorscale": [
                          [
                            0,
                            "#0d0887"
                          ],
                          [
                            0.1111111111111111,
                            "#46039f"
                          ],
                          [
                            0.2222222222222222,
                            "#7201a8"
                          ],
                          [
                            0.3333333333333333,
                            "#9c179e"
                          ],
                          [
                            0.4444444444444444,
                            "#bd3786"
                          ],
                          [
                            0.5555555555555556,
                            "#d8576b"
                          ],
                          [
                            0.6666666666666666,
                            "#ed7953"
                          ],
                          [
                            0.7777777777777778,
                            "#fb9f3a"
                          ],
                          [
                            0.8888888888888888,
                            "#fdca26"
                          ],
                          [
                            1,
                            "#f0f921"
                          ]
                        ],
                        "type": "heatmap"
                      }
                    ],
                    "heatmapgl": [
                      {
                        "colorbar": {
                          "outlinewidth": 0,
                          "ticks": ""
                        },
                        "colorscale": [
                          [
                            0,
                            "#0d0887"
                          ],
                          [
                            0.1111111111111111,
                            "#46039f"
                          ],
                          [
                            0.2222222222222222,
                            "#7201a8"
                          ],
                          [
                            0.3333333333333333,
                            "#9c179e"
                          ],
                          [
                            0.4444444444444444,
                            "#bd3786"
                          ],
                          [
                            0.5555555555555556,
                            "#d8576b"
                          ],
                          [
                            0.6666666666666666,
                            "#ed7953"
                          ],
                          [
                            0.7777777777777778,
                            "#fb9f3a"
                          ],
                          [
                            0.8888888888888888,
                            "#fdca26"
                          ],
                          [
                            1,
                            "#f0f921"
                          ]
                        ],
                        "type": "heatmapgl"
                      }
                    ],
                    "histogram": [
                      {
                        "marker": {
                          "pattern": {
                            "fillmode": "overlay",
                            "size": 10,
                            "solidity": 0.2
                          }
                        },
                        "type": "histogram"
                      }
                    ],
                    "histogram2d": [
                      {
                        "colorbar": {
                          "outlinewidth": 0,
                          "ticks": ""
                        },
                        "colorscale": [
                          [
                            0,
                            "#0d0887"
                          ],
                          [
                            0.1111111111111111,
                            "#46039f"
                          ],
                          [
                            0.2222222222222222,
                            "#7201a8"
                          ],
                          [
                            0.3333333333333333,
                            "#9c179e"
                          ],
                          [
                            0.4444444444444444,
                            "#bd3786"
                          ],
                          [
                            0.5555555555555556,
                            "#d8576b"
                          ],
                          [
                            0.6666666666666666,
                            "#ed7953"
                          ],
                          [
                            0.7777777777777778,
                            "#fb9f3a"
                          ],
                          [
                            0.8888888888888888,
                            "#fdca26"
                          ],
                          [
                            1,
                            "#f0f921"
                          ]
                        ],
                        "type": "histogram2d"
                      }
                    ],
                    "histogram2dcontour": [
                      {
                        "colorbar": {
                          "outlinewidth": 0,
                          "ticks": ""
                        },
                        "colorscale": [
                          [
                            0,
                            "#0d0887"
                          ],
                          [
                            0.1111111111111111,
                            "#46039f"
                          ],
                          [
                            0.2222222222222222,
                            "#7201a8"
                          ],
                          [
                            0.3333333333333333,
                            "#9c179e"
                          ],
                          [
                            0.4444444444444444,
                            "#bd3786"
                          ],
                          [
                            0.5555555555555556,
                            "#d8576b"
                          ],
                          [
                            0.6666666666666666,
                            "#ed7953"
                          ],
                          [
                            0.7777777777777778,
                            "#fb9f3a"
                          ],
                          [
                            0.8888888888888888,
                            "#fdca26"
                          ],
                          [
                            1,
                            "#f0f921"
                          ]
                        ],
                        "type": "histogram2dcontour"
                      }
                    ],
                    "mesh3d": [
                      {
                        "colorbar": {
                          "outlinewidth": 0,
                          "ticks": ""
                        },
                        "type": "mesh3d"
                      }
                    ],
                    "parcoords": [
                      {
                        "line": {
                          "colorbar": {
                            "outlinewidth": 0,
                            "ticks": ""
                          }
                        },
                        "type": "parcoords"
                      }
                    ],
                    "pie": [
                      {
                        "automargin": true,
                        "type": "pie"
                      }
                    ],
                    "scatter": [
                      {
                        "fillpattern": {
                          "fillmode": "overlay",
                          "size": 10,
                          "solidity": 0.2
                        },
                        "type": "scatter"
                      }
                    ],
                    "scatter3d": [
                      {
                        "line": {
                          "colorbar": {
                            "outlinewidth": 0,
                            "ticks": ""
                          }
                        },
                        "marker": {
                          "colorbar": {
                            "outlinewidth": 0,
                            "ticks": ""
                          }
                        },
                        "type": "scatter3d"
                      }
                    ],
                    "scattercarpet": [
                      {
                        "marker": {
                          "colorbar": {
                            "outlinewidth": 0,
                            "ticks": ""
                          }
                        },
                        "type": "scattercarpet"
                      }
                    ],
                    "scattergeo": [
                      {
                        "marker": {
                          "colorbar": {
                            "outlinewidth": 0,
                            "ticks": ""
                          }
                        },
                        "type": "scattergeo"
                      }
                    ],
                    "scattergl": [
                      {
                        "marker": {
                          "colorbar": {
                            "outlinewidth": 0,
                            "ticks": ""
                          }
                        },
                        "type": "scattergl"
                      }
                    ],
                    "scattermapbox": [
                      {
                        "marker": {
                          "colorbar": {
                            "outlinewidth": 0,
                            "ticks": ""
                          }
                        },
                        "type": "scattermapbox"
                      }
                    ],
                    "scatterpolar": [
                      {
                        "marker": {
                          "colorbar": {
                            "outlinewidth": 0,
                            "ticks": ""
                          }
                        },
                        "type": "scatterpolar"
                      }
                    ],
                    "scatterpolargl": [
                      {
                        "marker": {
                          "colorbar": {
                            "outlinewidth": 0,
                            "ticks": ""
                          }
                        },
                        "type": "scatterpolargl"
                      }
                    ],
                    "scatterternary": [
                      {
                        "marker": {
                          "colorbar": {
                            "outlinewidth": 0,
                            "ticks": ""
                          }
                        },
                        "type": "scatterternary"
                      }
                    ],
                    "surface": [
                      {
                        "colorbar": {
                          "outlinewidth": 0,
                          "ticks": ""
                        },
                        "colorscale": [
                          [
                            0,
                            "#0d0887"
                          ],
                          [
                            0.1111111111111111,
                            "#46039f"
                          ],
                          [
                            0.2222222222222222,
                            "#7201a8"
                          ],
                          [
                            0.3333333333333333,
                            "#9c179e"
                          ],
                          [
                            0.4444444444444444,
                            "#bd3786"
                          ],
                          [
                            0.5555555555555556,
                            "#d8576b"
                          ],
                          [
                            0.6666666666666666,
                            "#ed7953"
                          ],
                          [
                            0.7777777777777778,
                            "#fb9f3a"
                          ],
                          [
                            0.8888888888888888,
                            "#fdca26"
                          ],
                          [
                            1,
                            "#f0f921"
                          ]
                        ],
                        "type": "surface"
                      }
                    ],
                    "table": [
                      {
                        "cells": {
                          "fill": {
                            "color": "#EBF0F8"
                          },
                          "line": {
                            "color": "white"
                          }
                        },
                        "header": {
                          "fill": {
                            "color": "#C8D4E3"
                          },
                          "line": {
                            "color": "white"
                          }
                        },
                        "type": "table"
                      }
                    ]
                  },
                  "layout": {
                    "annotationdefaults": {
                      "arrowcolor": "#2a3f5f",
                      "arrowhead": 0,
                      "arrowwidth": 1
                    },
                    "autotypenumbers": "strict",
                    "coloraxis": {
                      "colorbar": {
                        "outlinewidth": 0,
                        "ticks": ""
                      }
                    },
                    "colorscale": {
                      "diverging": [
                        [
                          0,
                          "#8e0152"
                        ],
                        [
                          0.1,
                          "#c51b7d"
                        ],
                        [
                          0.2,
                          "#de77ae"
                        ],
                        [
                          0.3,
                          "#f1b6da"
                        ],
                        [
                          0.4,
                          "#fde0ef"
                        ],
                        [
                          0.5,
                          "#f7f7f7"
                        ],
                        [
                          0.6,
                          "#e6f5d0"
                        ],
                        [
                          0.7,
                          "#b8e186"
                        ],
                        [
                          0.8,
                          "#7fbc41"
                        ],
                        [
                          0.9,
                          "#4d9221"
                        ],
                        [
                          1,
                          "#276419"
                        ]
                      ],
                      "sequential": [
                        [
                          0,
                          "#0d0887"
                        ],
                        [
                          0.1111111111111111,
                          "#46039f"
                        ],
                        [
                          0.2222222222222222,
                          "#7201a8"
                        ],
                        [
                          0.3333333333333333,
                          "#9c179e"
                        ],
                        [
                          0.4444444444444444,
                          "#bd3786"
                        ],
                        [
                          0.5555555555555556,
                          "#d8576b"
                        ],
                        [
                          0.6666666666666666,
                          "#ed7953"
                        ],
                        [
                          0.7777777777777778,
                          "#fb9f3a"
                        ],
                        [
                          0.8888888888888888,
                          "#fdca26"
                        ],
                        [
                          1,
                          "#f0f921"
                        ]
                      ],
                      "sequentialminus": [
                        [
                          0,
                          "#0d0887"
                        ],
                        [
                          0.1111111111111111,
                          "#46039f"
                        ],
                        [
                          0.2222222222222222,
                          "#7201a8"
                        ],
                        [
                          0.3333333333333333,
                          "#9c179e"
                        ],
                        [
                          0.4444444444444444,
                          "#bd3786"
                        ],
                        [
                          0.5555555555555556,
                          "#d8576b"
                        ],
                        [
                          0.6666666666666666,
                          "#ed7953"
                        ],
                        [
                          0.7777777777777778,
                          "#fb9f3a"
                        ],
                        [
                          0.8888888888888888,
                          "#fdca26"
                        ],
                        [
                          1,
                          "#f0f921"
                        ]
                      ]
                    },
                    "colorway": [
                      "#636efa",
                      "#EF553B",
                      "#00cc96",
                      "#ab63fa",
                      "#FFA15A",
                      "#19d3f3",
                      "#FF6692",
                      "#B6E880",
                      "#FF97FF",
                      "#FECB52"
                    ],
                    "font": {
                      "color": "#2a3f5f"
                    },
                    "geo": {
                      "bgcolor": "white",
                      "lakecolor": "white",
                      "landcolor": "#E5ECF6",
                      "showlakes": true,
                      "showland": true,
                      "subunitcolor": "white"
                    },
                    "hoverlabel": {
                      "align": "left"
                    },
                    "hovermode": "closest",
                    "mapbox": {
                      "style": "light"
                    },
                    "paper_bgcolor": "white",
                    "plot_bgcolor": "#E5ECF6",
                    "polar": {
                      "angularaxis": {
                        "gridcolor": "white",
                        "linecolor": "white",
                        "ticks": ""
                      },
                      "bgcolor": "#E5ECF6",
                      "radialaxis": {
                        "gridcolor": "white",
                        "linecolor": "white",
                        "ticks": ""
                      }
                    },
                    "scene": {
                      "xaxis": {
                        "backgroundcolor": "#E5ECF6",
                        "gridcolor": "white",
                        "gridwidth": 2,
                        "linecolor": "white",
                        "showbackground": true,
                        "ticks": "",
                        "zerolinecolor": "white"
                      },
                      "yaxis": {
                        "backgroundcolor": "#E5ECF6",
                        "gridcolor": "white",
                        "gridwidth": 2,
                        "linecolor": "white",
                        "showbackground": true,
                        "ticks": "",
                        "zerolinecolor": "white"
                      },
                      "zaxis": {
                        "backgroundcolor": "#E5ECF6",
                        "gridcolor": "white",
                        "gridwidth": 2,
                        "linecolor": "white",
                        "showbackground": true,
                        "ticks": "",
                        "zerolinecolor": "white"
                      }
                    },
                    "shapedefaults": {
                      "line": {
                        "color": "#2a3f5f"
                      }
                    },
                    "ternary": {
                      "aaxis": {
                        "gridcolor": "white",
                        "linecolor": "white",
                        "ticks": ""
                      },
                      "baxis": {
                        "gridcolor": "white",
                        "linecolor": "white",
                        "ticks": ""
                      },
                      "bgcolor": "#E5ECF6",
                      "caxis": {
                        "gridcolor": "white",
                        "linecolor": "white",
                        "ticks": ""
                      }
                    },
                    "title": {
                      "x": 0.05
                    },
                    "xaxis": {
                      "automargin": true,
                      "gridcolor": "white",
                      "linecolor": "white",
                      "ticks": "",
                      "title": {
                        "standoff": 15
                      },
                      "zerolinecolor": "white",
                      "zerolinewidth": 2
                    },
                    "yaxis": {
                      "automargin": true,
                      "gridcolor": "white",
                      "linecolor": "white",
                      "ticks": "",
                      "title": {
                        "standoff": 15
                      },
                      "zerolinecolor": "white",
                      "zerolinewidth": 2
                    }
                  }
                },
                "title": {
                  "text": "Citation vs world rank of top 100 universities with 2014, 2015 and 2016 years"
                },
                "xaxis": {
                  "ticklen": 5,
                  "title": {
                    "text": "World_Rank"
                  },
                  "zeroline": false
                },
                "yaxis": {
                  "ticklen": 5,
                  "title": {
                    "text": "Citations"
                  },
                  "zeroline": false
                }
              }
            }
          },
          "metadata": {},
          "output_type": "display_data"
        }
      ],
      "source": [
        "fst_trace= go.Scatter(x= df14.world_rank,\n",
        "                      y= df14.citations,\n",
        "                      mode= 'markers',\n",
        "                      name= '2014',\n",
        "                      marker= dict(color= 'rgba(255, 128, 255, 0.8)'),\n",
        "                      text= df.university_name)\n",
        "\n",
        "sec_trace= go.Scatter(x= df15.world_rank,\n",
        "                      y= df15.citations,\n",
        "                      mode= 'markers',\n",
        "                      name= '2015',\n",
        "                      marker= dict(color= 'rgba(255, 8, 255, 0.8)'),\n",
        "                      text= df.university_name)\n",
        "\n",
        "trd_trace= go.Scatter(x= df16.world_rank,\n",
        "                      y= df16.citations,\n",
        "                      mode= 'markers',\n",
        "                      name= '2016',\n",
        "                      marker= dict(color= 'rgba(0, 200, 255, 0.8)'),\n",
        "                      text= df.university_name)\n",
        "\n",
        "data= [fst_trace, sec_trace, trd_trace]\n",
        "layout= dict(title= 'Citation vs world rank of top 100 universities with 2014, 2015 and 2016 years',\n",
        "             xaxis= dict(title= 'World_Rank', ticklen= 5, zeroline= False), \n",
        "             yaxis= dict(title= 'Citations', ticklen= 5, zeroline= False))\n",
        "\n",
        "fig= dict(data= data, layout= layout) \n",
        "iplot(fig)             \n",
        "\n",
        "\n"
      ]
    },
    {
      "cell_type": "markdown",
      "metadata": {
        "id": "rHp_c0krYHh8"
      },
      "source": [
        "# Bar Graph\n",
        "# citations and teaching of top 3 universities in 2014 (style1)\n",
        "\n"
      ]
    },
    {
      "cell_type": "code",
      "execution_count": 11,
      "metadata": {
        "colab": {
          "base_uri": "https://localhost:8080/",
          "height": 542
        },
        "id": "_kqRGZSWR93Z",
        "outputId": "9f32836e-4c23-4149-d7de-27c7f6229170"
      },
      "outputs": [
        {
          "data": {
            "application/vnd.plotly.v1+json": {
              "config": {
                "linkText": "Export to plot.ly",
                "plotlyServerURL": "https://plot.ly",
                "showLink": false
              },
              "data": [
                {
                  "marker": {
                    "color": "rgba(255, 128, 255, 0.8)",
                    "line": {
                      "color": "rgb(0,0,0)",
                      "width": 1.5
                    }
                  },
                  "name": "citations",
                  "text": [
                    "United States of America",
                    "United States of America",
                    "United Kingdom"
                  ],
                  "type": "bar",
                  "x": [
                    "California Institute of Technology",
                    "Harvard University",
                    "University of Oxford"
                  ],
                  "y": [
                    99.8,
                    99.1,
                    95.4
                  ]
                },
                {
                  "marker": {
                    "color": "rgba(0, 200, 255, 0.8)",
                    "line": {
                      "color": "rgb(0,0,0)",
                      "width": 1.5
                    }
                  },
                  "name": "teaching",
                  "text": [
                    "United States of America",
                    "United States of America",
                    "United Kingdom"
                  ],
                  "type": "bar",
                  "x": [
                    "California Institute of Technology",
                    "Harvard University",
                    "University of Oxford"
                  ],
                  "y": [
                    94.4,
                    95.3,
                    89
                  ]
                }
              ],
              "layout": {
                "barmode": "group",
                "template": {
                  "data": {
                    "bar": [
                      {
                        "error_x": {
                          "color": "#2a3f5f"
                        },
                        "error_y": {
                          "color": "#2a3f5f"
                        },
                        "marker": {
                          "line": {
                            "color": "#E5ECF6",
                            "width": 0.5
                          },
                          "pattern": {
                            "fillmode": "overlay",
                            "size": 10,
                            "solidity": 0.2
                          }
                        },
                        "type": "bar"
                      }
                    ],
                    "barpolar": [
                      {
                        "marker": {
                          "line": {
                            "color": "#E5ECF6",
                            "width": 0.5
                          },
                          "pattern": {
                            "fillmode": "overlay",
                            "size": 10,
                            "solidity": 0.2
                          }
                        },
                        "type": "barpolar"
                      }
                    ],
                    "carpet": [
                      {
                        "aaxis": {
                          "endlinecolor": "#2a3f5f",
                          "gridcolor": "white",
                          "linecolor": "white",
                          "minorgridcolor": "white",
                          "startlinecolor": "#2a3f5f"
                        },
                        "baxis": {
                          "endlinecolor": "#2a3f5f",
                          "gridcolor": "white",
                          "linecolor": "white",
                          "minorgridcolor": "white",
                          "startlinecolor": "#2a3f5f"
                        },
                        "type": "carpet"
                      }
                    ],
                    "choropleth": [
                      {
                        "colorbar": {
                          "outlinewidth": 0,
                          "ticks": ""
                        },
                        "type": "choropleth"
                      }
                    ],
                    "contour": [
                      {
                        "colorbar": {
                          "outlinewidth": 0,
                          "ticks": ""
                        },
                        "colorscale": [
                          [
                            0,
                            "#0d0887"
                          ],
                          [
                            0.1111111111111111,
                            "#46039f"
                          ],
                          [
                            0.2222222222222222,
                            "#7201a8"
                          ],
                          [
                            0.3333333333333333,
                            "#9c179e"
                          ],
                          [
                            0.4444444444444444,
                            "#bd3786"
                          ],
                          [
                            0.5555555555555556,
                            "#d8576b"
                          ],
                          [
                            0.6666666666666666,
                            "#ed7953"
                          ],
                          [
                            0.7777777777777778,
                            "#fb9f3a"
                          ],
                          [
                            0.8888888888888888,
                            "#fdca26"
                          ],
                          [
                            1,
                            "#f0f921"
                          ]
                        ],
                        "type": "contour"
                      }
                    ],
                    "contourcarpet": [
                      {
                        "colorbar": {
                          "outlinewidth": 0,
                          "ticks": ""
                        },
                        "type": "contourcarpet"
                      }
                    ],
                    "heatmap": [
                      {
                        "colorbar": {
                          "outlinewidth": 0,
                          "ticks": ""
                        },
                        "colorscale": [
                          [
                            0,
                            "#0d0887"
                          ],
                          [
                            0.1111111111111111,
                            "#46039f"
                          ],
                          [
                            0.2222222222222222,
                            "#7201a8"
                          ],
                          [
                            0.3333333333333333,
                            "#9c179e"
                          ],
                          [
                            0.4444444444444444,
                            "#bd3786"
                          ],
                          [
                            0.5555555555555556,
                            "#d8576b"
                          ],
                          [
                            0.6666666666666666,
                            "#ed7953"
                          ],
                          [
                            0.7777777777777778,
                            "#fb9f3a"
                          ],
                          [
                            0.8888888888888888,
                            "#fdca26"
                          ],
                          [
                            1,
                            "#f0f921"
                          ]
                        ],
                        "type": "heatmap"
                      }
                    ],
                    "heatmapgl": [
                      {
                        "colorbar": {
                          "outlinewidth": 0,
                          "ticks": ""
                        },
                        "colorscale": [
                          [
                            0,
                            "#0d0887"
                          ],
                          [
                            0.1111111111111111,
                            "#46039f"
                          ],
                          [
                            0.2222222222222222,
                            "#7201a8"
                          ],
                          [
                            0.3333333333333333,
                            "#9c179e"
                          ],
                          [
                            0.4444444444444444,
                            "#bd3786"
                          ],
                          [
                            0.5555555555555556,
                            "#d8576b"
                          ],
                          [
                            0.6666666666666666,
                            "#ed7953"
                          ],
                          [
                            0.7777777777777778,
                            "#fb9f3a"
                          ],
                          [
                            0.8888888888888888,
                            "#fdca26"
                          ],
                          [
                            1,
                            "#f0f921"
                          ]
                        ],
                        "type": "heatmapgl"
                      }
                    ],
                    "histogram": [
                      {
                        "marker": {
                          "pattern": {
                            "fillmode": "overlay",
                            "size": 10,
                            "solidity": 0.2
                          }
                        },
                        "type": "histogram"
                      }
                    ],
                    "histogram2d": [
                      {
                        "colorbar": {
                          "outlinewidth": 0,
                          "ticks": ""
                        },
                        "colorscale": [
                          [
                            0,
                            "#0d0887"
                          ],
                          [
                            0.1111111111111111,
                            "#46039f"
                          ],
                          [
                            0.2222222222222222,
                            "#7201a8"
                          ],
                          [
                            0.3333333333333333,
                            "#9c179e"
                          ],
                          [
                            0.4444444444444444,
                            "#bd3786"
                          ],
                          [
                            0.5555555555555556,
                            "#d8576b"
                          ],
                          [
                            0.6666666666666666,
                            "#ed7953"
                          ],
                          [
                            0.7777777777777778,
                            "#fb9f3a"
                          ],
                          [
                            0.8888888888888888,
                            "#fdca26"
                          ],
                          [
                            1,
                            "#f0f921"
                          ]
                        ],
                        "type": "histogram2d"
                      }
                    ],
                    "histogram2dcontour": [
                      {
                        "colorbar": {
                          "outlinewidth": 0,
                          "ticks": ""
                        },
                        "colorscale": [
                          [
                            0,
                            "#0d0887"
                          ],
                          [
                            0.1111111111111111,
                            "#46039f"
                          ],
                          [
                            0.2222222222222222,
                            "#7201a8"
                          ],
                          [
                            0.3333333333333333,
                            "#9c179e"
                          ],
                          [
                            0.4444444444444444,
                            "#bd3786"
                          ],
                          [
                            0.5555555555555556,
                            "#d8576b"
                          ],
                          [
                            0.6666666666666666,
                            "#ed7953"
                          ],
                          [
                            0.7777777777777778,
                            "#fb9f3a"
                          ],
                          [
                            0.8888888888888888,
                            "#fdca26"
                          ],
                          [
                            1,
                            "#f0f921"
                          ]
                        ],
                        "type": "histogram2dcontour"
                      }
                    ],
                    "mesh3d": [
                      {
                        "colorbar": {
                          "outlinewidth": 0,
                          "ticks": ""
                        },
                        "type": "mesh3d"
                      }
                    ],
                    "parcoords": [
                      {
                        "line": {
                          "colorbar": {
                            "outlinewidth": 0,
                            "ticks": ""
                          }
                        },
                        "type": "parcoords"
                      }
                    ],
                    "pie": [
                      {
                        "automargin": true,
                        "type": "pie"
                      }
                    ],
                    "scatter": [
                      {
                        "fillpattern": {
                          "fillmode": "overlay",
                          "size": 10,
                          "solidity": 0.2
                        },
                        "type": "scatter"
                      }
                    ],
                    "scatter3d": [
                      {
                        "line": {
                          "colorbar": {
                            "outlinewidth": 0,
                            "ticks": ""
                          }
                        },
                        "marker": {
                          "colorbar": {
                            "outlinewidth": 0,
                            "ticks": ""
                          }
                        },
                        "type": "scatter3d"
                      }
                    ],
                    "scattercarpet": [
                      {
                        "marker": {
                          "colorbar": {
                            "outlinewidth": 0,
                            "ticks": ""
                          }
                        },
                        "type": "scattercarpet"
                      }
                    ],
                    "scattergeo": [
                      {
                        "marker": {
                          "colorbar": {
                            "outlinewidth": 0,
                            "ticks": ""
                          }
                        },
                        "type": "scattergeo"
                      }
                    ],
                    "scattergl": [
                      {
                        "marker": {
                          "colorbar": {
                            "outlinewidth": 0,
                            "ticks": ""
                          }
                        },
                        "type": "scattergl"
                      }
                    ],
                    "scattermapbox": [
                      {
                        "marker": {
                          "colorbar": {
                            "outlinewidth": 0,
                            "ticks": ""
                          }
                        },
                        "type": "scattermapbox"
                      }
                    ],
                    "scatterpolar": [
                      {
                        "marker": {
                          "colorbar": {
                            "outlinewidth": 0,
                            "ticks": ""
                          }
                        },
                        "type": "scatterpolar"
                      }
                    ],
                    "scatterpolargl": [
                      {
                        "marker": {
                          "colorbar": {
                            "outlinewidth": 0,
                            "ticks": ""
                          }
                        },
                        "type": "scatterpolargl"
                      }
                    ],
                    "scatterternary": [
                      {
                        "marker": {
                          "colorbar": {
                            "outlinewidth": 0,
                            "ticks": ""
                          }
                        },
                        "type": "scatterternary"
                      }
                    ],
                    "surface": [
                      {
                        "colorbar": {
                          "outlinewidth": 0,
                          "ticks": ""
                        },
                        "colorscale": [
                          [
                            0,
                            "#0d0887"
                          ],
                          [
                            0.1111111111111111,
                            "#46039f"
                          ],
                          [
                            0.2222222222222222,
                            "#7201a8"
                          ],
                          [
                            0.3333333333333333,
                            "#9c179e"
                          ],
                          [
                            0.4444444444444444,
                            "#bd3786"
                          ],
                          [
                            0.5555555555555556,
                            "#d8576b"
                          ],
                          [
                            0.6666666666666666,
                            "#ed7953"
                          ],
                          [
                            0.7777777777777778,
                            "#fb9f3a"
                          ],
                          [
                            0.8888888888888888,
                            "#fdca26"
                          ],
                          [
                            1,
                            "#f0f921"
                          ]
                        ],
                        "type": "surface"
                      }
                    ],
                    "table": [
                      {
                        "cells": {
                          "fill": {
                            "color": "#EBF0F8"
                          },
                          "line": {
                            "color": "white"
                          }
                        },
                        "header": {
                          "fill": {
                            "color": "#C8D4E3"
                          },
                          "line": {
                            "color": "white"
                          }
                        },
                        "type": "table"
                      }
                    ]
                  },
                  "layout": {
                    "annotationdefaults": {
                      "arrowcolor": "#2a3f5f",
                      "arrowhead": 0,
                      "arrowwidth": 1
                    },
                    "autotypenumbers": "strict",
                    "coloraxis": {
                      "colorbar": {
                        "outlinewidth": 0,
                        "ticks": ""
                      }
                    },
                    "colorscale": {
                      "diverging": [
                        [
                          0,
                          "#8e0152"
                        ],
                        [
                          0.1,
                          "#c51b7d"
                        ],
                        [
                          0.2,
                          "#de77ae"
                        ],
                        [
                          0.3,
                          "#f1b6da"
                        ],
                        [
                          0.4,
                          "#fde0ef"
                        ],
                        [
                          0.5,
                          "#f7f7f7"
                        ],
                        [
                          0.6,
                          "#e6f5d0"
                        ],
                        [
                          0.7,
                          "#b8e186"
                        ],
                        [
                          0.8,
                          "#7fbc41"
                        ],
                        [
                          0.9,
                          "#4d9221"
                        ],
                        [
                          1,
                          "#276419"
                        ]
                      ],
                      "sequential": [
                        [
                          0,
                          "#0d0887"
                        ],
                        [
                          0.1111111111111111,
                          "#46039f"
                        ],
                        [
                          0.2222222222222222,
                          "#7201a8"
                        ],
                        [
                          0.3333333333333333,
                          "#9c179e"
                        ],
                        [
                          0.4444444444444444,
                          "#bd3786"
                        ],
                        [
                          0.5555555555555556,
                          "#d8576b"
                        ],
                        [
                          0.6666666666666666,
                          "#ed7953"
                        ],
                        [
                          0.7777777777777778,
                          "#fb9f3a"
                        ],
                        [
                          0.8888888888888888,
                          "#fdca26"
                        ],
                        [
                          1,
                          "#f0f921"
                        ]
                      ],
                      "sequentialminus": [
                        [
                          0,
                          "#0d0887"
                        ],
                        [
                          0.1111111111111111,
                          "#46039f"
                        ],
                        [
                          0.2222222222222222,
                          "#7201a8"
                        ],
                        [
                          0.3333333333333333,
                          "#9c179e"
                        ],
                        [
                          0.4444444444444444,
                          "#bd3786"
                        ],
                        [
                          0.5555555555555556,
                          "#d8576b"
                        ],
                        [
                          0.6666666666666666,
                          "#ed7953"
                        ],
                        [
                          0.7777777777777778,
                          "#fb9f3a"
                        ],
                        [
                          0.8888888888888888,
                          "#fdca26"
                        ],
                        [
                          1,
                          "#f0f921"
                        ]
                      ]
                    },
                    "colorway": [
                      "#636efa",
                      "#EF553B",
                      "#00cc96",
                      "#ab63fa",
                      "#FFA15A",
                      "#19d3f3",
                      "#FF6692",
                      "#B6E880",
                      "#FF97FF",
                      "#FECB52"
                    ],
                    "font": {
                      "color": "#2a3f5f"
                    },
                    "geo": {
                      "bgcolor": "white",
                      "lakecolor": "white",
                      "landcolor": "#E5ECF6",
                      "showlakes": true,
                      "showland": true,
                      "subunitcolor": "white"
                    },
                    "hoverlabel": {
                      "align": "left"
                    },
                    "hovermode": "closest",
                    "mapbox": {
                      "style": "light"
                    },
                    "paper_bgcolor": "white",
                    "plot_bgcolor": "#E5ECF6",
                    "polar": {
                      "angularaxis": {
                        "gridcolor": "white",
                        "linecolor": "white",
                        "ticks": ""
                      },
                      "bgcolor": "#E5ECF6",
                      "radialaxis": {
                        "gridcolor": "white",
                        "linecolor": "white",
                        "ticks": ""
                      }
                    },
                    "scene": {
                      "xaxis": {
                        "backgroundcolor": "#E5ECF6",
                        "gridcolor": "white",
                        "gridwidth": 2,
                        "linecolor": "white",
                        "showbackground": true,
                        "ticks": "",
                        "zerolinecolor": "white"
                      },
                      "yaxis": {
                        "backgroundcolor": "#E5ECF6",
                        "gridcolor": "white",
                        "gridwidth": 2,
                        "linecolor": "white",
                        "showbackground": true,
                        "ticks": "",
                        "zerolinecolor": "white"
                      },
                      "zaxis": {
                        "backgroundcolor": "#E5ECF6",
                        "gridcolor": "white",
                        "gridwidth": 2,
                        "linecolor": "white",
                        "showbackground": true,
                        "ticks": "",
                        "zerolinecolor": "white"
                      }
                    },
                    "shapedefaults": {
                      "line": {
                        "color": "#2a3f5f"
                      }
                    },
                    "ternary": {
                      "aaxis": {
                        "gridcolor": "white",
                        "linecolor": "white",
                        "ticks": ""
                      },
                      "baxis": {
                        "gridcolor": "white",
                        "linecolor": "white",
                        "ticks": ""
                      },
                      "bgcolor": "#E5ECF6",
                      "caxis": {
                        "gridcolor": "white",
                        "linecolor": "white",
                        "ticks": ""
                      }
                    },
                    "title": {
                      "x": 0.05
                    },
                    "xaxis": {
                      "automargin": true,
                      "gridcolor": "white",
                      "linecolor": "white",
                      "ticks": "",
                      "title": {
                        "standoff": 15
                      },
                      "zerolinecolor": "white",
                      "zerolinewidth": 2
                    },
                    "yaxis": {
                      "automargin": true,
                      "gridcolor": "white",
                      "linecolor": "white",
                      "ticks": "",
                      "title": {
                        "standoff": 15
                      },
                      "zerolinecolor": "white",
                      "zerolinewidth": 2
                    }
                  }
                }
              }
            }
          },
          "metadata": {},
          "output_type": "display_data"
        }
      ],
      "source": [
        "trace1= go.Bar(x= df2014.university_name,\n",
        "               y= df2014.citations,\n",
        "               name= 'citations',\n",
        "               marker= dict(color= 'rgba(255, 128, 255, 0.8)',\n",
        "                            line= dict(color= 'rgb(0,0,0)', width= 1.5)),\n",
        "               text= df2014.country)\n",
        "\n",
        "trace2= go.Bar(x= df2014.university_name,\n",
        "               y= df2014.teaching,\n",
        "               name= 'teaching',\n",
        "               marker= dict(color= 'rgba(0, 200, 255, 0.8)',\n",
        "                            line= dict(color= 'rgb(0,0,0)', width= 1.5)),\n",
        "               text= df2014.country)\n",
        "\n",
        "data= [trace1, trace2]\n",
        "layout= go.Layout(barmode= 'group')\n",
        "fig= go.Figure(data= data, layout= layout)\n",
        "iplot(fig)"
      ]
    },
    {
      "cell_type": "markdown",
      "metadata": {
        "id": "shipTet-flxm"
      },
      "source": [
        "# Bar Graph 2"
      ]
    },
    {
      "cell_type": "code",
      "execution_count": 12,
      "metadata": {
        "colab": {
          "base_uri": "https://localhost:8080/",
          "height": 542
        },
        "id": "l08ZAyMWeHC2",
        "outputId": "0f547083-a255-43da-e982-f1004271dbad"
      },
      "outputs": [
        {
          "data": {
            "application/vnd.plotly.v1+json": {
              "config": {
                "linkText": "Export to plot.ly",
                "plotlyServerURL": "https://plot.ly",
                "showLink": false
              },
              "data": [
                {
                  "name": "citations",
                  "type": "bar",
                  "x": [
                    "California Institute of Technology",
                    "Harvard University",
                    "University of Oxford"
                  ],
                  "y": [
                    99.8,
                    99.1,
                    95.4
                  ]
                },
                {
                  "name": "teaching",
                  "type": "bar",
                  "x": [
                    "California Institute of Technology",
                    "Harvard University",
                    "University of Oxford"
                  ],
                  "y": [
                    94.4,
                    95.3,
                    89
                  ]
                }
              ],
              "layout": {
                "barmode": "stack",
                "template": {
                  "data": {
                    "bar": [
                      {
                        "error_x": {
                          "color": "#2a3f5f"
                        },
                        "error_y": {
                          "color": "#2a3f5f"
                        },
                        "marker": {
                          "line": {
                            "color": "#E5ECF6",
                            "width": 0.5
                          },
                          "pattern": {
                            "fillmode": "overlay",
                            "size": 10,
                            "solidity": 0.2
                          }
                        },
                        "type": "bar"
                      }
                    ],
                    "barpolar": [
                      {
                        "marker": {
                          "line": {
                            "color": "#E5ECF6",
                            "width": 0.5
                          },
                          "pattern": {
                            "fillmode": "overlay",
                            "size": 10,
                            "solidity": 0.2
                          }
                        },
                        "type": "barpolar"
                      }
                    ],
                    "carpet": [
                      {
                        "aaxis": {
                          "endlinecolor": "#2a3f5f",
                          "gridcolor": "white",
                          "linecolor": "white",
                          "minorgridcolor": "white",
                          "startlinecolor": "#2a3f5f"
                        },
                        "baxis": {
                          "endlinecolor": "#2a3f5f",
                          "gridcolor": "white",
                          "linecolor": "white",
                          "minorgridcolor": "white",
                          "startlinecolor": "#2a3f5f"
                        },
                        "type": "carpet"
                      }
                    ],
                    "choropleth": [
                      {
                        "colorbar": {
                          "outlinewidth": 0,
                          "ticks": ""
                        },
                        "type": "choropleth"
                      }
                    ],
                    "contour": [
                      {
                        "colorbar": {
                          "outlinewidth": 0,
                          "ticks": ""
                        },
                        "colorscale": [
                          [
                            0,
                            "#0d0887"
                          ],
                          [
                            0.1111111111111111,
                            "#46039f"
                          ],
                          [
                            0.2222222222222222,
                            "#7201a8"
                          ],
                          [
                            0.3333333333333333,
                            "#9c179e"
                          ],
                          [
                            0.4444444444444444,
                            "#bd3786"
                          ],
                          [
                            0.5555555555555556,
                            "#d8576b"
                          ],
                          [
                            0.6666666666666666,
                            "#ed7953"
                          ],
                          [
                            0.7777777777777778,
                            "#fb9f3a"
                          ],
                          [
                            0.8888888888888888,
                            "#fdca26"
                          ],
                          [
                            1,
                            "#f0f921"
                          ]
                        ],
                        "type": "contour"
                      }
                    ],
                    "contourcarpet": [
                      {
                        "colorbar": {
                          "outlinewidth": 0,
                          "ticks": ""
                        },
                        "type": "contourcarpet"
                      }
                    ],
                    "heatmap": [
                      {
                        "colorbar": {
                          "outlinewidth": 0,
                          "ticks": ""
                        },
                        "colorscale": [
                          [
                            0,
                            "#0d0887"
                          ],
                          [
                            0.1111111111111111,
                            "#46039f"
                          ],
                          [
                            0.2222222222222222,
                            "#7201a8"
                          ],
                          [
                            0.3333333333333333,
                            "#9c179e"
                          ],
                          [
                            0.4444444444444444,
                            "#bd3786"
                          ],
                          [
                            0.5555555555555556,
                            "#d8576b"
                          ],
                          [
                            0.6666666666666666,
                            "#ed7953"
                          ],
                          [
                            0.7777777777777778,
                            "#fb9f3a"
                          ],
                          [
                            0.8888888888888888,
                            "#fdca26"
                          ],
                          [
                            1,
                            "#f0f921"
                          ]
                        ],
                        "type": "heatmap"
                      }
                    ],
                    "heatmapgl": [
                      {
                        "colorbar": {
                          "outlinewidth": 0,
                          "ticks": ""
                        },
                        "colorscale": [
                          [
                            0,
                            "#0d0887"
                          ],
                          [
                            0.1111111111111111,
                            "#46039f"
                          ],
                          [
                            0.2222222222222222,
                            "#7201a8"
                          ],
                          [
                            0.3333333333333333,
                            "#9c179e"
                          ],
                          [
                            0.4444444444444444,
                            "#bd3786"
                          ],
                          [
                            0.5555555555555556,
                            "#d8576b"
                          ],
                          [
                            0.6666666666666666,
                            "#ed7953"
                          ],
                          [
                            0.7777777777777778,
                            "#fb9f3a"
                          ],
                          [
                            0.8888888888888888,
                            "#fdca26"
                          ],
                          [
                            1,
                            "#f0f921"
                          ]
                        ],
                        "type": "heatmapgl"
                      }
                    ],
                    "histogram": [
                      {
                        "marker": {
                          "pattern": {
                            "fillmode": "overlay",
                            "size": 10,
                            "solidity": 0.2
                          }
                        },
                        "type": "histogram"
                      }
                    ],
                    "histogram2d": [
                      {
                        "colorbar": {
                          "outlinewidth": 0,
                          "ticks": ""
                        },
                        "colorscale": [
                          [
                            0,
                            "#0d0887"
                          ],
                          [
                            0.1111111111111111,
                            "#46039f"
                          ],
                          [
                            0.2222222222222222,
                            "#7201a8"
                          ],
                          [
                            0.3333333333333333,
                            "#9c179e"
                          ],
                          [
                            0.4444444444444444,
                            "#bd3786"
                          ],
                          [
                            0.5555555555555556,
                            "#d8576b"
                          ],
                          [
                            0.6666666666666666,
                            "#ed7953"
                          ],
                          [
                            0.7777777777777778,
                            "#fb9f3a"
                          ],
                          [
                            0.8888888888888888,
                            "#fdca26"
                          ],
                          [
                            1,
                            "#f0f921"
                          ]
                        ],
                        "type": "histogram2d"
                      }
                    ],
                    "histogram2dcontour": [
                      {
                        "colorbar": {
                          "outlinewidth": 0,
                          "ticks": ""
                        },
                        "colorscale": [
                          [
                            0,
                            "#0d0887"
                          ],
                          [
                            0.1111111111111111,
                            "#46039f"
                          ],
                          [
                            0.2222222222222222,
                            "#7201a8"
                          ],
                          [
                            0.3333333333333333,
                            "#9c179e"
                          ],
                          [
                            0.4444444444444444,
                            "#bd3786"
                          ],
                          [
                            0.5555555555555556,
                            "#d8576b"
                          ],
                          [
                            0.6666666666666666,
                            "#ed7953"
                          ],
                          [
                            0.7777777777777778,
                            "#fb9f3a"
                          ],
                          [
                            0.8888888888888888,
                            "#fdca26"
                          ],
                          [
                            1,
                            "#f0f921"
                          ]
                        ],
                        "type": "histogram2dcontour"
                      }
                    ],
                    "mesh3d": [
                      {
                        "colorbar": {
                          "outlinewidth": 0,
                          "ticks": ""
                        },
                        "type": "mesh3d"
                      }
                    ],
                    "parcoords": [
                      {
                        "line": {
                          "colorbar": {
                            "outlinewidth": 0,
                            "ticks": ""
                          }
                        },
                        "type": "parcoords"
                      }
                    ],
                    "pie": [
                      {
                        "automargin": true,
                        "type": "pie"
                      }
                    ],
                    "scatter": [
                      {
                        "fillpattern": {
                          "fillmode": "overlay",
                          "size": 10,
                          "solidity": 0.2
                        },
                        "type": "scatter"
                      }
                    ],
                    "scatter3d": [
                      {
                        "line": {
                          "colorbar": {
                            "outlinewidth": 0,
                            "ticks": ""
                          }
                        },
                        "marker": {
                          "colorbar": {
                            "outlinewidth": 0,
                            "ticks": ""
                          }
                        },
                        "type": "scatter3d"
                      }
                    ],
                    "scattercarpet": [
                      {
                        "marker": {
                          "colorbar": {
                            "outlinewidth": 0,
                            "ticks": ""
                          }
                        },
                        "type": "scattercarpet"
                      }
                    ],
                    "scattergeo": [
                      {
                        "marker": {
                          "colorbar": {
                            "outlinewidth": 0,
                            "ticks": ""
                          }
                        },
                        "type": "scattergeo"
                      }
                    ],
                    "scattergl": [
                      {
                        "marker": {
                          "colorbar": {
                            "outlinewidth": 0,
                            "ticks": ""
                          }
                        },
                        "type": "scattergl"
                      }
                    ],
                    "scattermapbox": [
                      {
                        "marker": {
                          "colorbar": {
                            "outlinewidth": 0,
                            "ticks": ""
                          }
                        },
                        "type": "scattermapbox"
                      }
                    ],
                    "scatterpolar": [
                      {
                        "marker": {
                          "colorbar": {
                            "outlinewidth": 0,
                            "ticks": ""
                          }
                        },
                        "type": "scatterpolar"
                      }
                    ],
                    "scatterpolargl": [
                      {
                        "marker": {
                          "colorbar": {
                            "outlinewidth": 0,
                            "ticks": ""
                          }
                        },
                        "type": "scatterpolargl"
                      }
                    ],
                    "scatterternary": [
                      {
                        "marker": {
                          "colorbar": {
                            "outlinewidth": 0,
                            "ticks": ""
                          }
                        },
                        "type": "scatterternary"
                      }
                    ],
                    "surface": [
                      {
                        "colorbar": {
                          "outlinewidth": 0,
                          "ticks": ""
                        },
                        "colorscale": [
                          [
                            0,
                            "#0d0887"
                          ],
                          [
                            0.1111111111111111,
                            "#46039f"
                          ],
                          [
                            0.2222222222222222,
                            "#7201a8"
                          ],
                          [
                            0.3333333333333333,
                            "#9c179e"
                          ],
                          [
                            0.4444444444444444,
                            "#bd3786"
                          ],
                          [
                            0.5555555555555556,
                            "#d8576b"
                          ],
                          [
                            0.6666666666666666,
                            "#ed7953"
                          ],
                          [
                            0.7777777777777778,
                            "#fb9f3a"
                          ],
                          [
                            0.8888888888888888,
                            "#fdca26"
                          ],
                          [
                            1,
                            "#f0f921"
                          ]
                        ],
                        "type": "surface"
                      }
                    ],
                    "table": [
                      {
                        "cells": {
                          "fill": {
                            "color": "#EBF0F8"
                          },
                          "line": {
                            "color": "white"
                          }
                        },
                        "header": {
                          "fill": {
                            "color": "#C8D4E3"
                          },
                          "line": {
                            "color": "white"
                          }
                        },
                        "type": "table"
                      }
                    ]
                  },
                  "layout": {
                    "annotationdefaults": {
                      "arrowcolor": "#2a3f5f",
                      "arrowhead": 0,
                      "arrowwidth": 1
                    },
                    "autotypenumbers": "strict",
                    "coloraxis": {
                      "colorbar": {
                        "outlinewidth": 0,
                        "ticks": ""
                      }
                    },
                    "colorscale": {
                      "diverging": [
                        [
                          0,
                          "#8e0152"
                        ],
                        [
                          0.1,
                          "#c51b7d"
                        ],
                        [
                          0.2,
                          "#de77ae"
                        ],
                        [
                          0.3,
                          "#f1b6da"
                        ],
                        [
                          0.4,
                          "#fde0ef"
                        ],
                        [
                          0.5,
                          "#f7f7f7"
                        ],
                        [
                          0.6,
                          "#e6f5d0"
                        ],
                        [
                          0.7,
                          "#b8e186"
                        ],
                        [
                          0.8,
                          "#7fbc41"
                        ],
                        [
                          0.9,
                          "#4d9221"
                        ],
                        [
                          1,
                          "#276419"
                        ]
                      ],
                      "sequential": [
                        [
                          0,
                          "#0d0887"
                        ],
                        [
                          0.1111111111111111,
                          "#46039f"
                        ],
                        [
                          0.2222222222222222,
                          "#7201a8"
                        ],
                        [
                          0.3333333333333333,
                          "#9c179e"
                        ],
                        [
                          0.4444444444444444,
                          "#bd3786"
                        ],
                        [
                          0.5555555555555556,
                          "#d8576b"
                        ],
                        [
                          0.6666666666666666,
                          "#ed7953"
                        ],
                        [
                          0.7777777777777778,
                          "#fb9f3a"
                        ],
                        [
                          0.8888888888888888,
                          "#fdca26"
                        ],
                        [
                          1,
                          "#f0f921"
                        ]
                      ],
                      "sequentialminus": [
                        [
                          0,
                          "#0d0887"
                        ],
                        [
                          0.1111111111111111,
                          "#46039f"
                        ],
                        [
                          0.2222222222222222,
                          "#7201a8"
                        ],
                        [
                          0.3333333333333333,
                          "#9c179e"
                        ],
                        [
                          0.4444444444444444,
                          "#bd3786"
                        ],
                        [
                          0.5555555555555556,
                          "#d8576b"
                        ],
                        [
                          0.6666666666666666,
                          "#ed7953"
                        ],
                        [
                          0.7777777777777778,
                          "#fb9f3a"
                        ],
                        [
                          0.8888888888888888,
                          "#fdca26"
                        ],
                        [
                          1,
                          "#f0f921"
                        ]
                      ]
                    },
                    "colorway": [
                      "#636efa",
                      "#EF553B",
                      "#00cc96",
                      "#ab63fa",
                      "#FFA15A",
                      "#19d3f3",
                      "#FF6692",
                      "#B6E880",
                      "#FF97FF",
                      "#FECB52"
                    ],
                    "font": {
                      "color": "#2a3f5f"
                    },
                    "geo": {
                      "bgcolor": "white",
                      "lakecolor": "white",
                      "landcolor": "#E5ECF6",
                      "showlakes": true,
                      "showland": true,
                      "subunitcolor": "white"
                    },
                    "hoverlabel": {
                      "align": "left"
                    },
                    "hovermode": "closest",
                    "mapbox": {
                      "style": "light"
                    },
                    "paper_bgcolor": "white",
                    "plot_bgcolor": "#E5ECF6",
                    "polar": {
                      "angularaxis": {
                        "gridcolor": "white",
                        "linecolor": "white",
                        "ticks": ""
                      },
                      "bgcolor": "#E5ECF6",
                      "radialaxis": {
                        "gridcolor": "white",
                        "linecolor": "white",
                        "ticks": ""
                      }
                    },
                    "scene": {
                      "xaxis": {
                        "backgroundcolor": "#E5ECF6",
                        "gridcolor": "white",
                        "gridwidth": 2,
                        "linecolor": "white",
                        "showbackground": true,
                        "ticks": "",
                        "zerolinecolor": "white"
                      },
                      "yaxis": {
                        "backgroundcolor": "#E5ECF6",
                        "gridcolor": "white",
                        "gridwidth": 2,
                        "linecolor": "white",
                        "showbackground": true,
                        "ticks": "",
                        "zerolinecolor": "white"
                      },
                      "zaxis": {
                        "backgroundcolor": "#E5ECF6",
                        "gridcolor": "white",
                        "gridwidth": 2,
                        "linecolor": "white",
                        "showbackground": true,
                        "ticks": "",
                        "zerolinecolor": "white"
                      }
                    },
                    "shapedefaults": {
                      "line": {
                        "color": "#2a3f5f"
                      }
                    },
                    "ternary": {
                      "aaxis": {
                        "gridcolor": "white",
                        "linecolor": "white",
                        "ticks": ""
                      },
                      "baxis": {
                        "gridcolor": "white",
                        "linecolor": "white",
                        "ticks": ""
                      },
                      "bgcolor": "#E5ECF6",
                      "caxis": {
                        "gridcolor": "white",
                        "linecolor": "white",
                        "ticks": ""
                      }
                    },
                    "title": {
                      "x": 0.05
                    },
                    "xaxis": {
                      "automargin": true,
                      "gridcolor": "white",
                      "linecolor": "white",
                      "ticks": "",
                      "title": {
                        "standoff": 15
                      },
                      "zerolinecolor": "white",
                      "zerolinewidth": 2
                    },
                    "yaxis": {
                      "automargin": true,
                      "gridcolor": "white",
                      "linecolor": "white",
                      "ticks": "",
                      "title": {
                        "standoff": 15
                      },
                      "zerolinecolor": "white",
                      "zerolinewidth": 2
                    }
                  }
                },
                "title": {
                  "text": "citations and teaching of top 3 universities in 2014"
                },
                "xaxis": {
                  "title": {
                    "text": "Top 3 Universities"
                  }
                }
              }
            }
          },
          "metadata": {},
          "output_type": "display_data"
        }
      ],
      "source": [
        "trace1= go.Bar(x= df2014.university_name,\n",
        "               y= df2014.citations,\n",
        "               name= 'citations',\n",
        "               type= 'bar')\n",
        "\n",
        "trace2= go.Bar(x= df2014.university_name,\n",
        "               y= df2014.teaching,\n",
        "               name= 'teaching',\n",
        "               type= 'bar')\n",
        "\n",
        "data= [trace1, trace2]\n",
        "layout= dict(title= 'citations and teaching of top 3 universities in 2014', \n",
        "             xaxis= dict(title= 'Top 3 Universities'),\n",
        "             barmode= 'stack')\n",
        "\n",
        "fig= go.Figure(data= data, layout= layout)\n",
        "iplot(fig)\n",
        "                         "
      ]
    },
    {
      "cell_type": "markdown",
      "metadata": {
        "id": "B7Vd7NzZP1MS"
      },
      "source": [
        "# Bar Graph \n",
        "# Horizontal bar charts. (style3) Citation vs income for universities In 2016\n",
        "\n"
      ]
    },
    {
      "cell_type": "code",
      "execution_count": 13,
      "metadata": {
        "id": "7w0ByOCfhjXC"
      },
      "outputs": [],
      "source": [
        "x_res= [x for x in df2016.research]\n",
        "y_inc= [float(x) for x in df2016.income]\n",
        "x_name= [x for x in df2016.university_name]\n",
        "y_name= [x for x in df2016.university_name]\n",
        "from plotly import tools"
      ]
    },
    {
      "cell_type": "code",
      "execution_count": 14,
      "metadata": {
        "colab": {
          "base_uri": "https://localhost:8080/",
          "height": 610
        },
        "id": "kTm_WI1wVpOE",
        "outputId": "0cfb8dd8-6416-45d5-92a7-86e6a6462461"
      },
      "outputs": [
        {
          "name": "stderr",
          "output_type": "stream",
          "text": [
            "c:\\ProgramData\\anaconda3\\Lib\\site-packages\\plotly\\tools.py:460: DeprecationWarning:\n",
            "\n",
            "plotly.tools.make_subplots is deprecated, please use plotly.subplots.make_subplots instead\n",
            "\n"
          ]
        },
        {
          "data": {
            "application/vnd.plotly.v1+json": {
              "config": {
                "linkText": "Export to plot.ly",
                "plotlyServerURL": "https://plot.ly",
                "showLink": false
              },
              "data": [
                {
                  "marker": {
                    "color": "rgba(0, 200, 255, 0.8)",
                    "line": {
                      "color": "rgba(0, 0, 0)",
                      "width": 1.5
                    }
                  },
                  "name": "research",
                  "orientation": "h",
                  "type": "bar",
                  "x": [
                    97.6,
                    98.9,
                    96.2,
                    96.7,
                    88.6,
                    99,
                    91.9,
                    88.5,
                    95,
                    88.9
                  ],
                  "xaxis": "x",
                  "y": [
                    "California Institute of Technology",
                    "University of Oxford",
                    "Stanford University",
                    "University of Cambridge",
                    "Massachusetts Institute of Technology",
                    "Harvard University",
                    "Princeton University",
                    "Imperial College London",
                    "ETH Zurich – Swiss Federal Institute of Technology Zurich",
                    "University of Chicago"
                  ],
                  "yaxis": "y"
                },
                {
                  "line": {
                    "color": "rgb(63, 72, 204)"
                  },
                  "mode": "lines+markers",
                  "name": "income",
                  "type": "scatter",
                  "x": [
                    97.8,
                    73.1,
                    63.3,
                    55,
                    95.4,
                    45.2,
                    52.1,
                    53.7,
                    80,
                    36.6
                  ],
                  "xaxis": "x2",
                  "y": [
                    "California Institute of Technology",
                    "University of Oxford",
                    "Stanford University",
                    "University of Cambridge",
                    "Massachusetts Institute of Technology",
                    "Harvard University",
                    "Princeton University",
                    "Imperial College London",
                    "ETH Zurich – Swiss Federal Institute of Technology Zurich",
                    "University of Chicago"
                  ],
                  "yaxis": "y2"
                }
              ],
              "layout": {
                "annotations": [
                  {
                    "font": {
                      "color": "rgb(63, 72, 204)",
                      "family": "Arial",
                      "size": 12
                    },
                    "showarrow": false,
                    "text": "98.0",
                    "x": 94,
                    "xref": "x2",
                    "y": "California Institute of Technology",
                    "yref": "y2"
                  },
                  {
                    "font": {
                      "color": "rgb(171, 50, 96)",
                      "family": "Arial",
                      "size": 12
                    },
                    "showarrow": false,
                    "text": "97.6",
                    "x": 100.6,
                    "xref": "x",
                    "y": "California Institute of Technology",
                    "yref": "y"
                  },
                  {
                    "font": {
                      "color": "rgb(63, 72, 204)",
                      "family": "Arial",
                      "size": 12
                    },
                    "showarrow": false,
                    "text": "73.0",
                    "x": 69,
                    "xref": "x2",
                    "y": "University of Oxford",
                    "yref": "y2"
                  },
                  {
                    "font": {
                      "color": "rgb(171, 50, 96)",
                      "family": "Arial",
                      "size": 12
                    },
                    "showarrow": false,
                    "text": "98.9",
                    "x": 101.9,
                    "xref": "x",
                    "y": "University of Oxford",
                    "yref": "y"
                  },
                  {
                    "font": {
                      "color": "rgb(63, 72, 204)",
                      "family": "Arial",
                      "size": 12
                    },
                    "showarrow": false,
                    "text": "63.0",
                    "x": 59,
                    "xref": "x2",
                    "y": "Stanford University",
                    "yref": "y2"
                  },
                  {
                    "font": {
                      "color": "rgb(171, 50, 96)",
                      "family": "Arial",
                      "size": 12
                    },
                    "showarrow": false,
                    "text": "96.2",
                    "x": 99.2,
                    "xref": "x",
                    "y": "Stanford University",
                    "yref": "y"
                  },
                  {
                    "font": {
                      "color": "rgb(63, 72, 204)",
                      "family": "Arial",
                      "size": 12
                    },
                    "showarrow": false,
                    "text": "55.0",
                    "x": 51,
                    "xref": "x2",
                    "y": "University of Cambridge",
                    "yref": "y2"
                  },
                  {
                    "font": {
                      "color": "rgb(171, 50, 96)",
                      "family": "Arial",
                      "size": 12
                    },
                    "showarrow": false,
                    "text": "96.7",
                    "x": 99.7,
                    "xref": "x",
                    "y": "University of Cambridge",
                    "yref": "y"
                  },
                  {
                    "font": {
                      "color": "rgb(63, 72, 204)",
                      "family": "Arial",
                      "size": 12
                    },
                    "showarrow": false,
                    "text": "95.0",
                    "x": 91,
                    "xref": "x2",
                    "y": "Massachusetts Institute of Technology",
                    "yref": "y2"
                  },
                  {
                    "font": {
                      "color": "rgb(171, 50, 96)",
                      "family": "Arial",
                      "size": 12
                    },
                    "showarrow": false,
                    "text": "88.6",
                    "x": 91.6,
                    "xref": "x",
                    "y": "Massachusetts Institute of Technology",
                    "yref": "y"
                  },
                  {
                    "font": {
                      "color": "rgb(63, 72, 204)",
                      "family": "Arial",
                      "size": 12
                    },
                    "showarrow": false,
                    "text": "45.0",
                    "x": 41,
                    "xref": "x2",
                    "y": "Harvard University",
                    "yref": "y2"
                  },
                  {
                    "font": {
                      "color": "rgb(171, 50, 96)",
                      "family": "Arial",
                      "size": 12
                    },
                    "showarrow": false,
                    "text": "99.0",
                    "x": 102,
                    "xref": "x",
                    "y": "Harvard University",
                    "yref": "y"
                  },
                  {
                    "font": {
                      "color": "rgb(63, 72, 204)",
                      "family": "Arial",
                      "size": 12
                    },
                    "showarrow": false,
                    "text": "52.0",
                    "x": 48,
                    "xref": "x2",
                    "y": "Princeton University",
                    "yref": "y2"
                  },
                  {
                    "font": {
                      "color": "rgb(171, 50, 96)",
                      "family": "Arial",
                      "size": 12
                    },
                    "showarrow": false,
                    "text": "91.9",
                    "x": 94.9,
                    "xref": "x",
                    "y": "Princeton University",
                    "yref": "y"
                  },
                  {
                    "font": {
                      "color": "rgb(63, 72, 204)",
                      "family": "Arial",
                      "size": 12
                    },
                    "showarrow": false,
                    "text": "54.0",
                    "x": 50,
                    "xref": "x2",
                    "y": "Imperial College London",
                    "yref": "y2"
                  },
                  {
                    "font": {
                      "color": "rgb(171, 50, 96)",
                      "family": "Arial",
                      "size": 12
                    },
                    "showarrow": false,
                    "text": "88.5",
                    "x": 91.5,
                    "xref": "x",
                    "y": "Imperial College London",
                    "yref": "y"
                  },
                  {
                    "font": {
                      "color": "rgb(63, 72, 204)",
                      "family": "Arial",
                      "size": 12
                    },
                    "showarrow": false,
                    "text": "80.0",
                    "x": 76,
                    "xref": "x2",
                    "y": "ETH Zurich – Swiss Federal Institute of Technology Zurich",
                    "yref": "y2"
                  },
                  {
                    "font": {
                      "color": "rgb(171, 50, 96)",
                      "family": "Arial",
                      "size": 12
                    },
                    "showarrow": false,
                    "text": "95.0",
                    "x": 98,
                    "xref": "x",
                    "y": "ETH Zurich – Swiss Federal Institute of Technology Zurich",
                    "yref": "y"
                  },
                  {
                    "font": {
                      "color": "rgb(63, 72, 204)",
                      "family": "Arial",
                      "size": 12
                    },
                    "showarrow": false,
                    "text": "37.0",
                    "x": 33,
                    "xref": "x2",
                    "y": "University of Chicago",
                    "yref": "y2"
                  },
                  {
                    "font": {
                      "color": "rgb(171, 50, 96)",
                      "family": "Arial",
                      "size": 12
                    },
                    "showarrow": false,
                    "text": "88.9",
                    "x": 91.9,
                    "xref": "x",
                    "y": "University of Chicago",
                    "yref": "y"
                  }
                ],
                "template": {
                  "data": {
                    "bar": [
                      {
                        "error_x": {
                          "color": "#2a3f5f"
                        },
                        "error_y": {
                          "color": "#2a3f5f"
                        },
                        "marker": {
                          "line": {
                            "color": "#E5ECF6",
                            "width": 0.5
                          },
                          "pattern": {
                            "fillmode": "overlay",
                            "size": 10,
                            "solidity": 0.2
                          }
                        },
                        "type": "bar"
                      }
                    ],
                    "barpolar": [
                      {
                        "marker": {
                          "line": {
                            "color": "#E5ECF6",
                            "width": 0.5
                          },
                          "pattern": {
                            "fillmode": "overlay",
                            "size": 10,
                            "solidity": 0.2
                          }
                        },
                        "type": "barpolar"
                      }
                    ],
                    "carpet": [
                      {
                        "aaxis": {
                          "endlinecolor": "#2a3f5f",
                          "gridcolor": "white",
                          "linecolor": "white",
                          "minorgridcolor": "white",
                          "startlinecolor": "#2a3f5f"
                        },
                        "baxis": {
                          "endlinecolor": "#2a3f5f",
                          "gridcolor": "white",
                          "linecolor": "white",
                          "minorgridcolor": "white",
                          "startlinecolor": "#2a3f5f"
                        },
                        "type": "carpet"
                      }
                    ],
                    "choropleth": [
                      {
                        "colorbar": {
                          "outlinewidth": 0,
                          "ticks": ""
                        },
                        "type": "choropleth"
                      }
                    ],
                    "contour": [
                      {
                        "colorbar": {
                          "outlinewidth": 0,
                          "ticks": ""
                        },
                        "colorscale": [
                          [
                            0,
                            "#0d0887"
                          ],
                          [
                            0.1111111111111111,
                            "#46039f"
                          ],
                          [
                            0.2222222222222222,
                            "#7201a8"
                          ],
                          [
                            0.3333333333333333,
                            "#9c179e"
                          ],
                          [
                            0.4444444444444444,
                            "#bd3786"
                          ],
                          [
                            0.5555555555555556,
                            "#d8576b"
                          ],
                          [
                            0.6666666666666666,
                            "#ed7953"
                          ],
                          [
                            0.7777777777777778,
                            "#fb9f3a"
                          ],
                          [
                            0.8888888888888888,
                            "#fdca26"
                          ],
                          [
                            1,
                            "#f0f921"
                          ]
                        ],
                        "type": "contour"
                      }
                    ],
                    "contourcarpet": [
                      {
                        "colorbar": {
                          "outlinewidth": 0,
                          "ticks": ""
                        },
                        "type": "contourcarpet"
                      }
                    ],
                    "heatmap": [
                      {
                        "colorbar": {
                          "outlinewidth": 0,
                          "ticks": ""
                        },
                        "colorscale": [
                          [
                            0,
                            "#0d0887"
                          ],
                          [
                            0.1111111111111111,
                            "#46039f"
                          ],
                          [
                            0.2222222222222222,
                            "#7201a8"
                          ],
                          [
                            0.3333333333333333,
                            "#9c179e"
                          ],
                          [
                            0.4444444444444444,
                            "#bd3786"
                          ],
                          [
                            0.5555555555555556,
                            "#d8576b"
                          ],
                          [
                            0.6666666666666666,
                            "#ed7953"
                          ],
                          [
                            0.7777777777777778,
                            "#fb9f3a"
                          ],
                          [
                            0.8888888888888888,
                            "#fdca26"
                          ],
                          [
                            1,
                            "#f0f921"
                          ]
                        ],
                        "type": "heatmap"
                      }
                    ],
                    "heatmapgl": [
                      {
                        "colorbar": {
                          "outlinewidth": 0,
                          "ticks": ""
                        },
                        "colorscale": [
                          [
                            0,
                            "#0d0887"
                          ],
                          [
                            0.1111111111111111,
                            "#46039f"
                          ],
                          [
                            0.2222222222222222,
                            "#7201a8"
                          ],
                          [
                            0.3333333333333333,
                            "#9c179e"
                          ],
                          [
                            0.4444444444444444,
                            "#bd3786"
                          ],
                          [
                            0.5555555555555556,
                            "#d8576b"
                          ],
                          [
                            0.6666666666666666,
                            "#ed7953"
                          ],
                          [
                            0.7777777777777778,
                            "#fb9f3a"
                          ],
                          [
                            0.8888888888888888,
                            "#fdca26"
                          ],
                          [
                            1,
                            "#f0f921"
                          ]
                        ],
                        "type": "heatmapgl"
                      }
                    ],
                    "histogram": [
                      {
                        "marker": {
                          "pattern": {
                            "fillmode": "overlay",
                            "size": 10,
                            "solidity": 0.2
                          }
                        },
                        "type": "histogram"
                      }
                    ],
                    "histogram2d": [
                      {
                        "colorbar": {
                          "outlinewidth": 0,
                          "ticks": ""
                        },
                        "colorscale": [
                          [
                            0,
                            "#0d0887"
                          ],
                          [
                            0.1111111111111111,
                            "#46039f"
                          ],
                          [
                            0.2222222222222222,
                            "#7201a8"
                          ],
                          [
                            0.3333333333333333,
                            "#9c179e"
                          ],
                          [
                            0.4444444444444444,
                            "#bd3786"
                          ],
                          [
                            0.5555555555555556,
                            "#d8576b"
                          ],
                          [
                            0.6666666666666666,
                            "#ed7953"
                          ],
                          [
                            0.7777777777777778,
                            "#fb9f3a"
                          ],
                          [
                            0.8888888888888888,
                            "#fdca26"
                          ],
                          [
                            1,
                            "#f0f921"
                          ]
                        ],
                        "type": "histogram2d"
                      }
                    ],
                    "histogram2dcontour": [
                      {
                        "colorbar": {
                          "outlinewidth": 0,
                          "ticks": ""
                        },
                        "colorscale": [
                          [
                            0,
                            "#0d0887"
                          ],
                          [
                            0.1111111111111111,
                            "#46039f"
                          ],
                          [
                            0.2222222222222222,
                            "#7201a8"
                          ],
                          [
                            0.3333333333333333,
                            "#9c179e"
                          ],
                          [
                            0.4444444444444444,
                            "#bd3786"
                          ],
                          [
                            0.5555555555555556,
                            "#d8576b"
                          ],
                          [
                            0.6666666666666666,
                            "#ed7953"
                          ],
                          [
                            0.7777777777777778,
                            "#fb9f3a"
                          ],
                          [
                            0.8888888888888888,
                            "#fdca26"
                          ],
                          [
                            1,
                            "#f0f921"
                          ]
                        ],
                        "type": "histogram2dcontour"
                      }
                    ],
                    "mesh3d": [
                      {
                        "colorbar": {
                          "outlinewidth": 0,
                          "ticks": ""
                        },
                        "type": "mesh3d"
                      }
                    ],
                    "parcoords": [
                      {
                        "line": {
                          "colorbar": {
                            "outlinewidth": 0,
                            "ticks": ""
                          }
                        },
                        "type": "parcoords"
                      }
                    ],
                    "pie": [
                      {
                        "automargin": true,
                        "type": "pie"
                      }
                    ],
                    "scatter": [
                      {
                        "fillpattern": {
                          "fillmode": "overlay",
                          "size": 10,
                          "solidity": 0.2
                        },
                        "type": "scatter"
                      }
                    ],
                    "scatter3d": [
                      {
                        "line": {
                          "colorbar": {
                            "outlinewidth": 0,
                            "ticks": ""
                          }
                        },
                        "marker": {
                          "colorbar": {
                            "outlinewidth": 0,
                            "ticks": ""
                          }
                        },
                        "type": "scatter3d"
                      }
                    ],
                    "scattercarpet": [
                      {
                        "marker": {
                          "colorbar": {
                            "outlinewidth": 0,
                            "ticks": ""
                          }
                        },
                        "type": "scattercarpet"
                      }
                    ],
                    "scattergeo": [
                      {
                        "marker": {
                          "colorbar": {
                            "outlinewidth": 0,
                            "ticks": ""
                          }
                        },
                        "type": "scattergeo"
                      }
                    ],
                    "scattergl": [
                      {
                        "marker": {
                          "colorbar": {
                            "outlinewidth": 0,
                            "ticks": ""
                          }
                        },
                        "type": "scattergl"
                      }
                    ],
                    "scattermapbox": [
                      {
                        "marker": {
                          "colorbar": {
                            "outlinewidth": 0,
                            "ticks": ""
                          }
                        },
                        "type": "scattermapbox"
                      }
                    ],
                    "scatterpolar": [
                      {
                        "marker": {
                          "colorbar": {
                            "outlinewidth": 0,
                            "ticks": ""
                          }
                        },
                        "type": "scatterpolar"
                      }
                    ],
                    "scatterpolargl": [
                      {
                        "marker": {
                          "colorbar": {
                            "outlinewidth": 0,
                            "ticks": ""
                          }
                        },
                        "type": "scatterpolargl"
                      }
                    ],
                    "scatterternary": [
                      {
                        "marker": {
                          "colorbar": {
                            "outlinewidth": 0,
                            "ticks": ""
                          }
                        },
                        "type": "scatterternary"
                      }
                    ],
                    "surface": [
                      {
                        "colorbar": {
                          "outlinewidth": 0,
                          "ticks": ""
                        },
                        "colorscale": [
                          [
                            0,
                            "#0d0887"
                          ],
                          [
                            0.1111111111111111,
                            "#46039f"
                          ],
                          [
                            0.2222222222222222,
                            "#7201a8"
                          ],
                          [
                            0.3333333333333333,
                            "#9c179e"
                          ],
                          [
                            0.4444444444444444,
                            "#bd3786"
                          ],
                          [
                            0.5555555555555556,
                            "#d8576b"
                          ],
                          [
                            0.6666666666666666,
                            "#ed7953"
                          ],
                          [
                            0.7777777777777778,
                            "#fb9f3a"
                          ],
                          [
                            0.8888888888888888,
                            "#fdca26"
                          ],
                          [
                            1,
                            "#f0f921"
                          ]
                        ],
                        "type": "surface"
                      }
                    ],
                    "table": [
                      {
                        "cells": {
                          "fill": {
                            "color": "#EBF0F8"
                          },
                          "line": {
                            "color": "white"
                          }
                        },
                        "header": {
                          "fill": {
                            "color": "#C8D4E3"
                          },
                          "line": {
                            "color": "white"
                          }
                        },
                        "type": "table"
                      }
                    ]
                  },
                  "layout": {
                    "annotationdefaults": {
                      "arrowcolor": "#2a3f5f",
                      "arrowhead": 0,
                      "arrowwidth": 1
                    },
                    "autotypenumbers": "strict",
                    "coloraxis": {
                      "colorbar": {
                        "outlinewidth": 0,
                        "ticks": ""
                      }
                    },
                    "colorscale": {
                      "diverging": [
                        [
                          0,
                          "#8e0152"
                        ],
                        [
                          0.1,
                          "#c51b7d"
                        ],
                        [
                          0.2,
                          "#de77ae"
                        ],
                        [
                          0.3,
                          "#f1b6da"
                        ],
                        [
                          0.4,
                          "#fde0ef"
                        ],
                        [
                          0.5,
                          "#f7f7f7"
                        ],
                        [
                          0.6,
                          "#e6f5d0"
                        ],
                        [
                          0.7,
                          "#b8e186"
                        ],
                        [
                          0.8,
                          "#7fbc41"
                        ],
                        [
                          0.9,
                          "#4d9221"
                        ],
                        [
                          1,
                          "#276419"
                        ]
                      ],
                      "sequential": [
                        [
                          0,
                          "#0d0887"
                        ],
                        [
                          0.1111111111111111,
                          "#46039f"
                        ],
                        [
                          0.2222222222222222,
                          "#7201a8"
                        ],
                        [
                          0.3333333333333333,
                          "#9c179e"
                        ],
                        [
                          0.4444444444444444,
                          "#bd3786"
                        ],
                        [
                          0.5555555555555556,
                          "#d8576b"
                        ],
                        [
                          0.6666666666666666,
                          "#ed7953"
                        ],
                        [
                          0.7777777777777778,
                          "#fb9f3a"
                        ],
                        [
                          0.8888888888888888,
                          "#fdca26"
                        ],
                        [
                          1,
                          "#f0f921"
                        ]
                      ],
                      "sequentialminus": [
                        [
                          0,
                          "#0d0887"
                        ],
                        [
                          0.1111111111111111,
                          "#46039f"
                        ],
                        [
                          0.2222222222222222,
                          "#7201a8"
                        ],
                        [
                          0.3333333333333333,
                          "#9c179e"
                        ],
                        [
                          0.4444444444444444,
                          "#bd3786"
                        ],
                        [
                          0.5555555555555556,
                          "#d8576b"
                        ],
                        [
                          0.6666666666666666,
                          "#ed7953"
                        ],
                        [
                          0.7777777777777778,
                          "#fb9f3a"
                        ],
                        [
                          0.8888888888888888,
                          "#fdca26"
                        ],
                        [
                          1,
                          "#f0f921"
                        ]
                      ]
                    },
                    "colorway": [
                      "#636efa",
                      "#EF553B",
                      "#00cc96",
                      "#ab63fa",
                      "#FFA15A",
                      "#19d3f3",
                      "#FF6692",
                      "#B6E880",
                      "#FF97FF",
                      "#FECB52"
                    ],
                    "font": {
                      "color": "#2a3f5f"
                    },
                    "geo": {
                      "bgcolor": "white",
                      "lakecolor": "white",
                      "landcolor": "#E5ECF6",
                      "showlakes": true,
                      "showland": true,
                      "subunitcolor": "white"
                    },
                    "hoverlabel": {
                      "align": "left"
                    },
                    "hovermode": "closest",
                    "mapbox": {
                      "style": "light"
                    },
                    "paper_bgcolor": "white",
                    "plot_bgcolor": "#E5ECF6",
                    "polar": {
                      "angularaxis": {
                        "gridcolor": "white",
                        "linecolor": "white",
                        "ticks": ""
                      },
                      "bgcolor": "#E5ECF6",
                      "radialaxis": {
                        "gridcolor": "white",
                        "linecolor": "white",
                        "ticks": ""
                      }
                    },
                    "scene": {
                      "xaxis": {
                        "backgroundcolor": "#E5ECF6",
                        "gridcolor": "white",
                        "gridwidth": 2,
                        "linecolor": "white",
                        "showbackground": true,
                        "ticks": "",
                        "zerolinecolor": "white"
                      },
                      "yaxis": {
                        "backgroundcolor": "#E5ECF6",
                        "gridcolor": "white",
                        "gridwidth": 2,
                        "linecolor": "white",
                        "showbackground": true,
                        "ticks": "",
                        "zerolinecolor": "white"
                      },
                      "zaxis": {
                        "backgroundcolor": "#E5ECF6",
                        "gridcolor": "white",
                        "gridwidth": 2,
                        "linecolor": "white",
                        "showbackground": true,
                        "ticks": "",
                        "zerolinecolor": "white"
                      }
                    },
                    "shapedefaults": {
                      "line": {
                        "color": "#2a3f5f"
                      }
                    },
                    "ternary": {
                      "aaxis": {
                        "gridcolor": "white",
                        "linecolor": "white",
                        "ticks": ""
                      },
                      "baxis": {
                        "gridcolor": "white",
                        "linecolor": "white",
                        "ticks": ""
                      },
                      "bgcolor": "#E5ECF6",
                      "caxis": {
                        "gridcolor": "white",
                        "linecolor": "white",
                        "ticks": ""
                      }
                    },
                    "title": {
                      "x": 0.05
                    },
                    "xaxis": {
                      "automargin": true,
                      "gridcolor": "white",
                      "linecolor": "white",
                      "ticks": "",
                      "title": {
                        "standoff": 15
                      },
                      "zerolinecolor": "white",
                      "zerolinewidth": 2
                    },
                    "yaxis": {
                      "automargin": true,
                      "gridcolor": "white",
                      "linecolor": "white",
                      "ticks": "",
                      "title": {
                        "standoff": 15
                      },
                      "zerolinecolor": "white",
                      "zerolinewidth": 2
                    }
                  }
                },
                "title": {
                  "text": "Citation and Income"
                },
                "xaxis": {
                  "anchor": "y",
                  "domain": [
                    0,
                    0.45
                  ]
                },
                "xaxis2": {
                  "anchor": "y2",
                  "domain": [
                    0.55,
                    1
                  ]
                },
                "yaxis": {
                  "anchor": "x",
                  "domain": [
                    0,
                    1
                  ]
                },
                "yaxis2": {
                  "anchor": "x2",
                  "domain": [
                    0,
                    1
                  ]
                }
              }
            }
          },
          "metadata": {},
          "output_type": "display_data"
        }
      ],
      "source": [
        "trace= go.Bar(x=x_res,\n",
        "              y= y_name,\n",
        "              marker= dict(color= 'rgba(0, 200, 255, 0.8)', line= dict(color='rgba(0, 0, 0)', width= 1.5)),\n",
        "              name= 'research',\n",
        "              orientation= 'h')\n",
        "\n",
        "traces= go.Scatter(x=y_inc,\n",
        "                   y=x_name,\n",
        "                   mode= 'lines+markers',\n",
        "                   line=dict(color='rgb(63, 72, 204)'),\n",
        "                   name= 'income')\n",
        "\n",
        "layout= dict(title= 'Citation and Income')\n",
        "            #yaxis= dict(showticklabels= True, domain= [0, 0.85]),\n",
        "            #yaxis2= dict(showticklabels= False, showline= True, linecolor= 'rgba(102, 102, 102, 0.8)', linewidth= 2, domain= [0,0.85]),\n",
        "            #xaxis= dict(showline= False, zeroline= False, showticklabels= True, showgrid= True, domain= [0, 0.42]),\n",
        "            #xaxis2= dict(showline= False, zeroline= False, showticklabels= True, showgrid= True, domain= [0.47, 0], side= 'top', dtick= 25),\n",
        "            #legend= dict(x= 0.029, y= 1.038, font= dict(size= 10)),\n",
        "            #margin=dict(l=200, r=20,t=70,b=70),\n",
        "            #paper_bgcolor='rgb(248, 248, 255)',\n",
        "            #plot_bgcolor='rgb(248, 248, 255)')\n",
        "\n",
        "annotations= []\n",
        "x_s= np.round(x_res, decimals= 2)\n",
        "x_c= np.rint(y_inc)\n",
        "for a , b, c in zip(x_c, x_s, x_name):\n",
        "  annotations.append(dict(xref= 'x2', yref= 'y2', y= c, x= a-4, text='{:,}'.format(a),\n",
        "                          font= dict(family= 'Arial', size= 12, color='rgb(63, 72, 204)'), showarrow= False))\n",
        "  annotations.append(dict(xref= 'x1', yref= 'y1', y= c, x= b + 3, text=str(b),\n",
        "                          font= dict(family= 'Arial', size= 12, color='rgb(171, 50, 96)'), showarrow= False))\n",
        "  \n",
        "layout['annotations']= annotations\n",
        "fig= tools.make_subplots(rows= 1, cols= 2, specs=[[{}, {}]], shared_xaxes= True, shared_yaxes= False, vertical_spacing= 0.001)\n",
        "\n",
        "fig.append_trace(trace, 1, 1)\n",
        "fig.append_trace(traces, 1, 2)\n",
        "\n",
        "fig['layout'].update(layout)\n",
        "iplot(fig)               "
      ]
    },
    {
      "cell_type": "markdown",
      "metadata": {
        "id": "a1ZxDX39D5cp"
      },
      "source": [
        "# Pie Chart\n",
        "# Student Rate at Top 10 Universities in 2016"
      ]
    },
    {
      "cell_type": "code",
      "execution_count": 15,
      "metadata": {
        "colab": {
          "base_uri": "https://localhost:8080/",
          "height": 542
        },
        "id": "Vgx0hc3XYFvb",
        "outputId": "95a6d693-d9b9-4106-c2b9-56eeb7b06a5c"
      },
      "outputs": [
        {
          "data": {
            "application/vnd.plotly.v1+json": {
              "config": {
                "linkText": "Export to plot.ly",
                "plotlyServerURL": "https://plot.ly",
                "showLink": false
              },
              "data": [
                {
                  "domain": {
                    "x": [
                      0,
                      0.6
                    ]
                  },
                  "hole": 0.3,
                  "hoverinfo": "label+percent+name",
                  "labels": [
                    "California Institute of Technology",
                    "University of Oxford",
                    "Stanford University",
                    "University of Cambridge",
                    "Massachusetts Institute of Technology",
                    "Harvard University",
                    "Princeton University",
                    "Imperial College London",
                    "ETH Zurich – Swiss Federal Institute of Technology Zurich",
                    "University of Chicago"
                  ],
                  "name": "Number of Student Rate",
                  "type": "pie",
                  "values": [
                    2.243,
                    19.919,
                    15.596,
                    18.812,
                    11.074,
                    20.152,
                    7.929,
                    15.06,
                    18.178,
                    14.221
                  ]
                }
              ],
              "layout": {
                "annotations": [
                  {
                    "font": {
                      "size": 18
                    },
                    "showarrow": false,
                    "text": "Number of Students",
                    "x": 0.2,
                    "y": 1
                  }
                ],
                "template": {
                  "data": {
                    "bar": [
                      {
                        "error_x": {
                          "color": "#2a3f5f"
                        },
                        "error_y": {
                          "color": "#2a3f5f"
                        },
                        "marker": {
                          "line": {
                            "color": "#E5ECF6",
                            "width": 0.5
                          },
                          "pattern": {
                            "fillmode": "overlay",
                            "size": 10,
                            "solidity": 0.2
                          }
                        },
                        "type": "bar"
                      }
                    ],
                    "barpolar": [
                      {
                        "marker": {
                          "line": {
                            "color": "#E5ECF6",
                            "width": 0.5
                          },
                          "pattern": {
                            "fillmode": "overlay",
                            "size": 10,
                            "solidity": 0.2
                          }
                        },
                        "type": "barpolar"
                      }
                    ],
                    "carpet": [
                      {
                        "aaxis": {
                          "endlinecolor": "#2a3f5f",
                          "gridcolor": "white",
                          "linecolor": "white",
                          "minorgridcolor": "white",
                          "startlinecolor": "#2a3f5f"
                        },
                        "baxis": {
                          "endlinecolor": "#2a3f5f",
                          "gridcolor": "white",
                          "linecolor": "white",
                          "minorgridcolor": "white",
                          "startlinecolor": "#2a3f5f"
                        },
                        "type": "carpet"
                      }
                    ],
                    "choropleth": [
                      {
                        "colorbar": {
                          "outlinewidth": 0,
                          "ticks": ""
                        },
                        "type": "choropleth"
                      }
                    ],
                    "contour": [
                      {
                        "colorbar": {
                          "outlinewidth": 0,
                          "ticks": ""
                        },
                        "colorscale": [
                          [
                            0,
                            "#0d0887"
                          ],
                          [
                            0.1111111111111111,
                            "#46039f"
                          ],
                          [
                            0.2222222222222222,
                            "#7201a8"
                          ],
                          [
                            0.3333333333333333,
                            "#9c179e"
                          ],
                          [
                            0.4444444444444444,
                            "#bd3786"
                          ],
                          [
                            0.5555555555555556,
                            "#d8576b"
                          ],
                          [
                            0.6666666666666666,
                            "#ed7953"
                          ],
                          [
                            0.7777777777777778,
                            "#fb9f3a"
                          ],
                          [
                            0.8888888888888888,
                            "#fdca26"
                          ],
                          [
                            1,
                            "#f0f921"
                          ]
                        ],
                        "type": "contour"
                      }
                    ],
                    "contourcarpet": [
                      {
                        "colorbar": {
                          "outlinewidth": 0,
                          "ticks": ""
                        },
                        "type": "contourcarpet"
                      }
                    ],
                    "heatmap": [
                      {
                        "colorbar": {
                          "outlinewidth": 0,
                          "ticks": ""
                        },
                        "colorscale": [
                          [
                            0,
                            "#0d0887"
                          ],
                          [
                            0.1111111111111111,
                            "#46039f"
                          ],
                          [
                            0.2222222222222222,
                            "#7201a8"
                          ],
                          [
                            0.3333333333333333,
                            "#9c179e"
                          ],
                          [
                            0.4444444444444444,
                            "#bd3786"
                          ],
                          [
                            0.5555555555555556,
                            "#d8576b"
                          ],
                          [
                            0.6666666666666666,
                            "#ed7953"
                          ],
                          [
                            0.7777777777777778,
                            "#fb9f3a"
                          ],
                          [
                            0.8888888888888888,
                            "#fdca26"
                          ],
                          [
                            1,
                            "#f0f921"
                          ]
                        ],
                        "type": "heatmap"
                      }
                    ],
                    "heatmapgl": [
                      {
                        "colorbar": {
                          "outlinewidth": 0,
                          "ticks": ""
                        },
                        "colorscale": [
                          [
                            0,
                            "#0d0887"
                          ],
                          [
                            0.1111111111111111,
                            "#46039f"
                          ],
                          [
                            0.2222222222222222,
                            "#7201a8"
                          ],
                          [
                            0.3333333333333333,
                            "#9c179e"
                          ],
                          [
                            0.4444444444444444,
                            "#bd3786"
                          ],
                          [
                            0.5555555555555556,
                            "#d8576b"
                          ],
                          [
                            0.6666666666666666,
                            "#ed7953"
                          ],
                          [
                            0.7777777777777778,
                            "#fb9f3a"
                          ],
                          [
                            0.8888888888888888,
                            "#fdca26"
                          ],
                          [
                            1,
                            "#f0f921"
                          ]
                        ],
                        "type": "heatmapgl"
                      }
                    ],
                    "histogram": [
                      {
                        "marker": {
                          "pattern": {
                            "fillmode": "overlay",
                            "size": 10,
                            "solidity": 0.2
                          }
                        },
                        "type": "histogram"
                      }
                    ],
                    "histogram2d": [
                      {
                        "colorbar": {
                          "outlinewidth": 0,
                          "ticks": ""
                        },
                        "colorscale": [
                          [
                            0,
                            "#0d0887"
                          ],
                          [
                            0.1111111111111111,
                            "#46039f"
                          ],
                          [
                            0.2222222222222222,
                            "#7201a8"
                          ],
                          [
                            0.3333333333333333,
                            "#9c179e"
                          ],
                          [
                            0.4444444444444444,
                            "#bd3786"
                          ],
                          [
                            0.5555555555555556,
                            "#d8576b"
                          ],
                          [
                            0.6666666666666666,
                            "#ed7953"
                          ],
                          [
                            0.7777777777777778,
                            "#fb9f3a"
                          ],
                          [
                            0.8888888888888888,
                            "#fdca26"
                          ],
                          [
                            1,
                            "#f0f921"
                          ]
                        ],
                        "type": "histogram2d"
                      }
                    ],
                    "histogram2dcontour": [
                      {
                        "colorbar": {
                          "outlinewidth": 0,
                          "ticks": ""
                        },
                        "colorscale": [
                          [
                            0,
                            "#0d0887"
                          ],
                          [
                            0.1111111111111111,
                            "#46039f"
                          ],
                          [
                            0.2222222222222222,
                            "#7201a8"
                          ],
                          [
                            0.3333333333333333,
                            "#9c179e"
                          ],
                          [
                            0.4444444444444444,
                            "#bd3786"
                          ],
                          [
                            0.5555555555555556,
                            "#d8576b"
                          ],
                          [
                            0.6666666666666666,
                            "#ed7953"
                          ],
                          [
                            0.7777777777777778,
                            "#fb9f3a"
                          ],
                          [
                            0.8888888888888888,
                            "#fdca26"
                          ],
                          [
                            1,
                            "#f0f921"
                          ]
                        ],
                        "type": "histogram2dcontour"
                      }
                    ],
                    "mesh3d": [
                      {
                        "colorbar": {
                          "outlinewidth": 0,
                          "ticks": ""
                        },
                        "type": "mesh3d"
                      }
                    ],
                    "parcoords": [
                      {
                        "line": {
                          "colorbar": {
                            "outlinewidth": 0,
                            "ticks": ""
                          }
                        },
                        "type": "parcoords"
                      }
                    ],
                    "pie": [
                      {
                        "automargin": true,
                        "type": "pie"
                      }
                    ],
                    "scatter": [
                      {
                        "fillpattern": {
                          "fillmode": "overlay",
                          "size": 10,
                          "solidity": 0.2
                        },
                        "type": "scatter"
                      }
                    ],
                    "scatter3d": [
                      {
                        "line": {
                          "colorbar": {
                            "outlinewidth": 0,
                            "ticks": ""
                          }
                        },
                        "marker": {
                          "colorbar": {
                            "outlinewidth": 0,
                            "ticks": ""
                          }
                        },
                        "type": "scatter3d"
                      }
                    ],
                    "scattercarpet": [
                      {
                        "marker": {
                          "colorbar": {
                            "outlinewidth": 0,
                            "ticks": ""
                          }
                        },
                        "type": "scattercarpet"
                      }
                    ],
                    "scattergeo": [
                      {
                        "marker": {
                          "colorbar": {
                            "outlinewidth": 0,
                            "ticks": ""
                          }
                        },
                        "type": "scattergeo"
                      }
                    ],
                    "scattergl": [
                      {
                        "marker": {
                          "colorbar": {
                            "outlinewidth": 0,
                            "ticks": ""
                          }
                        },
                        "type": "scattergl"
                      }
                    ],
                    "scattermapbox": [
                      {
                        "marker": {
                          "colorbar": {
                            "outlinewidth": 0,
                            "ticks": ""
                          }
                        },
                        "type": "scattermapbox"
                      }
                    ],
                    "scatterpolar": [
                      {
                        "marker": {
                          "colorbar": {
                            "outlinewidth": 0,
                            "ticks": ""
                          }
                        },
                        "type": "scatterpolar"
                      }
                    ],
                    "scatterpolargl": [
                      {
                        "marker": {
                          "colorbar": {
                            "outlinewidth": 0,
                            "ticks": ""
                          }
                        },
                        "type": "scatterpolargl"
                      }
                    ],
                    "scatterternary": [
                      {
                        "marker": {
                          "colorbar": {
                            "outlinewidth": 0,
                            "ticks": ""
                          }
                        },
                        "type": "scatterternary"
                      }
                    ],
                    "surface": [
                      {
                        "colorbar": {
                          "outlinewidth": 0,
                          "ticks": ""
                        },
                        "colorscale": [
                          [
                            0,
                            "#0d0887"
                          ],
                          [
                            0.1111111111111111,
                            "#46039f"
                          ],
                          [
                            0.2222222222222222,
                            "#7201a8"
                          ],
                          [
                            0.3333333333333333,
                            "#9c179e"
                          ],
                          [
                            0.4444444444444444,
                            "#bd3786"
                          ],
                          [
                            0.5555555555555556,
                            "#d8576b"
                          ],
                          [
                            0.6666666666666666,
                            "#ed7953"
                          ],
                          [
                            0.7777777777777778,
                            "#fb9f3a"
                          ],
                          [
                            0.8888888888888888,
                            "#fdca26"
                          ],
                          [
                            1,
                            "#f0f921"
                          ]
                        ],
                        "type": "surface"
                      }
                    ],
                    "table": [
                      {
                        "cells": {
                          "fill": {
                            "color": "#EBF0F8"
                          },
                          "line": {
                            "color": "white"
                          }
                        },
                        "header": {
                          "fill": {
                            "color": "#C8D4E3"
                          },
                          "line": {
                            "color": "white"
                          }
                        },
                        "type": "table"
                      }
                    ]
                  },
                  "layout": {
                    "annotationdefaults": {
                      "arrowcolor": "#2a3f5f",
                      "arrowhead": 0,
                      "arrowwidth": 1
                    },
                    "autotypenumbers": "strict",
                    "coloraxis": {
                      "colorbar": {
                        "outlinewidth": 0,
                        "ticks": ""
                      }
                    },
                    "colorscale": {
                      "diverging": [
                        [
                          0,
                          "#8e0152"
                        ],
                        [
                          0.1,
                          "#c51b7d"
                        ],
                        [
                          0.2,
                          "#de77ae"
                        ],
                        [
                          0.3,
                          "#f1b6da"
                        ],
                        [
                          0.4,
                          "#fde0ef"
                        ],
                        [
                          0.5,
                          "#f7f7f7"
                        ],
                        [
                          0.6,
                          "#e6f5d0"
                        ],
                        [
                          0.7,
                          "#b8e186"
                        ],
                        [
                          0.8,
                          "#7fbc41"
                        ],
                        [
                          0.9,
                          "#4d9221"
                        ],
                        [
                          1,
                          "#276419"
                        ]
                      ],
                      "sequential": [
                        [
                          0,
                          "#0d0887"
                        ],
                        [
                          0.1111111111111111,
                          "#46039f"
                        ],
                        [
                          0.2222222222222222,
                          "#7201a8"
                        ],
                        [
                          0.3333333333333333,
                          "#9c179e"
                        ],
                        [
                          0.4444444444444444,
                          "#bd3786"
                        ],
                        [
                          0.5555555555555556,
                          "#d8576b"
                        ],
                        [
                          0.6666666666666666,
                          "#ed7953"
                        ],
                        [
                          0.7777777777777778,
                          "#fb9f3a"
                        ],
                        [
                          0.8888888888888888,
                          "#fdca26"
                        ],
                        [
                          1,
                          "#f0f921"
                        ]
                      ],
                      "sequentialminus": [
                        [
                          0,
                          "#0d0887"
                        ],
                        [
                          0.1111111111111111,
                          "#46039f"
                        ],
                        [
                          0.2222222222222222,
                          "#7201a8"
                        ],
                        [
                          0.3333333333333333,
                          "#9c179e"
                        ],
                        [
                          0.4444444444444444,
                          "#bd3786"
                        ],
                        [
                          0.5555555555555556,
                          "#d8576b"
                        ],
                        [
                          0.6666666666666666,
                          "#ed7953"
                        ],
                        [
                          0.7777777777777778,
                          "#fb9f3a"
                        ],
                        [
                          0.8888888888888888,
                          "#fdca26"
                        ],
                        [
                          1,
                          "#f0f921"
                        ]
                      ]
                    },
                    "colorway": [
                      "#636efa",
                      "#EF553B",
                      "#00cc96",
                      "#ab63fa",
                      "#FFA15A",
                      "#19d3f3",
                      "#FF6692",
                      "#B6E880",
                      "#FF97FF",
                      "#FECB52"
                    ],
                    "font": {
                      "color": "#2a3f5f"
                    },
                    "geo": {
                      "bgcolor": "white",
                      "lakecolor": "white",
                      "landcolor": "#E5ECF6",
                      "showlakes": true,
                      "showland": true,
                      "subunitcolor": "white"
                    },
                    "hoverlabel": {
                      "align": "left"
                    },
                    "hovermode": "closest",
                    "mapbox": {
                      "style": "light"
                    },
                    "paper_bgcolor": "white",
                    "plot_bgcolor": "#E5ECF6",
                    "polar": {
                      "angularaxis": {
                        "gridcolor": "white",
                        "linecolor": "white",
                        "ticks": ""
                      },
                      "bgcolor": "#E5ECF6",
                      "radialaxis": {
                        "gridcolor": "white",
                        "linecolor": "white",
                        "ticks": ""
                      }
                    },
                    "scene": {
                      "xaxis": {
                        "backgroundcolor": "#E5ECF6",
                        "gridcolor": "white",
                        "gridwidth": 2,
                        "linecolor": "white",
                        "showbackground": true,
                        "ticks": "",
                        "zerolinecolor": "white"
                      },
                      "yaxis": {
                        "backgroundcolor": "#E5ECF6",
                        "gridcolor": "white",
                        "gridwidth": 2,
                        "linecolor": "white",
                        "showbackground": true,
                        "ticks": "",
                        "zerolinecolor": "white"
                      },
                      "zaxis": {
                        "backgroundcolor": "#E5ECF6",
                        "gridcolor": "white",
                        "gridwidth": 2,
                        "linecolor": "white",
                        "showbackground": true,
                        "ticks": "",
                        "zerolinecolor": "white"
                      }
                    },
                    "shapedefaults": {
                      "line": {
                        "color": "#2a3f5f"
                      }
                    },
                    "ternary": {
                      "aaxis": {
                        "gridcolor": "white",
                        "linecolor": "white",
                        "ticks": ""
                      },
                      "baxis": {
                        "gridcolor": "white",
                        "linecolor": "white",
                        "ticks": ""
                      },
                      "bgcolor": "#E5ECF6",
                      "caxis": {
                        "gridcolor": "white",
                        "linecolor": "white",
                        "ticks": ""
                      }
                    },
                    "title": {
                      "x": 0.05
                    },
                    "xaxis": {
                      "automargin": true,
                      "gridcolor": "white",
                      "linecolor": "white",
                      "ticks": "",
                      "title": {
                        "standoff": 15
                      },
                      "zerolinecolor": "white",
                      "zerolinewidth": 2
                    },
                    "yaxis": {
                      "automargin": true,
                      "gridcolor": "white",
                      "linecolor": "white",
                      "ticks": "",
                      "title": {
                        "standoff": 15
                      },
                      "zerolinecolor": "white",
                      "zerolinewidth": 2
                    }
                  }
                },
                "title": {
                  "text": "Student Rate at Top 10  Universities in 2016"
                }
              }
            }
          },
          "metadata": {},
          "output_type": "display_data"
        }
      ],
      "source": [
        "pie= df2016.num_students\n",
        "list_pie= [float(x.replace(',','.'))for x in df2016.num_students]\n",
        "label= df2016.university_name\n",
        "\n",
        "data= dict(values= list_pie, labels= label, domain=dict(x = [0, .6]),\n",
        "           name= 'Number of Student Rate', hoverinfo= 'label+percent+name', hole= .3, type= 'pie' )\n",
        "\n",
        "layout= dict(title= 'Student Rate at Top 10  Universities in 2016', annotations= [{ \"font\": { \"size\": 18},\n",
        "                                                                          \"showarrow\": False,\n",
        "                                                                          \"text\": \"Number of Students\",\n",
        "                                                                          \"x\": 0.20,\n",
        "                                                                          \"y\": 1}]) \n",
        "fig= dict(data= data, layout= layout)\n",
        " \n",
        "iplot(fig)"
      ]
    },
    {
      "cell_type": "markdown",
      "metadata": {
        "id": "m9U91dqs270I"
      },
      "source": [
        "# Bubble Chart\n",
        "# University world rank (first 20) vs teaching score with number of students(size) and international score (color) in 2016"
      ]
    },
    {
      "cell_type": "code",
      "execution_count": 16,
      "metadata": {
        "id": "uqvgz8nmFcY_"
      },
      "outputs": [],
      "source": [
        "df12['num_students']= df12.num_students.str.replace(',','.', regex=True)\n",
        "df12.international= df12.international.str.replace(',','.', regex=True)"
      ]
    },
    {
      "cell_type": "code",
      "execution_count": 17,
      "metadata": {
        "colab": {
          "base_uri": "https://localhost:8080/",
          "height": 542
        },
        "id": "cFYWmG0Hzre4",
        "outputId": "972a4331-8741-41dc-8cb7-fe9ad8b3dd66"
      },
      "outputs": [
        {
          "data": {
            "application/vnd.plotly.v1+json": {
              "config": {
                "linkText": "Export to plot.ly",
                "plotlyServerURL": "https://plot.ly",
                "showLink": false
              },
              "data": [
                {
                  "marker": {
                    "color": [
                      64,
                      94.4,
                      76.3,
                      91.5,
                      84,
                      77.2,
                      78.5,
                      96,
                      97.9,
                      65,
                      70,
                      64.3,
                      61.9,
                      94.4,
                      73.5,
                      56.4,
                      49.5,
                      63.9,
                      77.8,
                      56.5
                    ],
                    "showscale": true,
                    "size": [
                      2.243,
                      19.919,
                      15.596,
                      18.812,
                      11.074,
                      20.152,
                      7.929,
                      15.06,
                      18.178,
                      14.221,
                      15.128,
                      11.751,
                      36.186,
                      26.607,
                      25.055,
                      38.206,
                      20.376,
                      21.424,
                      66.198,
                      15.172
                    ]
                  },
                  "mode": "markers",
                  "text": [
                    "California Institute of Technology",
                    "University of Oxford",
                    "Stanford University",
                    "University of Cambridge",
                    "Massachusetts Institute of Technology",
                    "Harvard University",
                    "Princeton University",
                    "Imperial College London",
                    "ETH Zurich – Swiss Federal Institute of Technology Zurich",
                    "University of Chicago",
                    "Johns Hopkins University",
                    "Yale University",
                    "University of California, Berkeley",
                    "University College London",
                    "Columbia University",
                    "University of California, Los Angeles",
                    "University of Pennsylvania",
                    "Cornell University",
                    "University of Toronto",
                    "Duke University"
                  ],
                  "type": "scatter",
                  "x": [
                    "1",
                    "2",
                    "3",
                    "4",
                    "5",
                    "6",
                    "7",
                    "8",
                    "9",
                    "10",
                    "11",
                    "12",
                    "13",
                    "14",
                    "15",
                    "16",
                    "17",
                    "18",
                    "19",
                    "20"
                  ],
                  "y": [
                    95.6,
                    86.5,
                    92.5,
                    88.2,
                    89.4,
                    83.6,
                    85.1,
                    83.3,
                    77,
                    85.7,
                    77.6,
                    86.5,
                    80.4,
                    78.1,
                    85.9,
                    80.8,
                    82,
                    77.9,
                    75.9,
                    76
                  ]
                }
              ],
              "layout": {
                "template": {
                  "data": {
                    "bar": [
                      {
                        "error_x": {
                          "color": "#2a3f5f"
                        },
                        "error_y": {
                          "color": "#2a3f5f"
                        },
                        "marker": {
                          "line": {
                            "color": "#E5ECF6",
                            "width": 0.5
                          },
                          "pattern": {
                            "fillmode": "overlay",
                            "size": 10,
                            "solidity": 0.2
                          }
                        },
                        "type": "bar"
                      }
                    ],
                    "barpolar": [
                      {
                        "marker": {
                          "line": {
                            "color": "#E5ECF6",
                            "width": 0.5
                          },
                          "pattern": {
                            "fillmode": "overlay",
                            "size": 10,
                            "solidity": 0.2
                          }
                        },
                        "type": "barpolar"
                      }
                    ],
                    "carpet": [
                      {
                        "aaxis": {
                          "endlinecolor": "#2a3f5f",
                          "gridcolor": "white",
                          "linecolor": "white",
                          "minorgridcolor": "white",
                          "startlinecolor": "#2a3f5f"
                        },
                        "baxis": {
                          "endlinecolor": "#2a3f5f",
                          "gridcolor": "white",
                          "linecolor": "white",
                          "minorgridcolor": "white",
                          "startlinecolor": "#2a3f5f"
                        },
                        "type": "carpet"
                      }
                    ],
                    "choropleth": [
                      {
                        "colorbar": {
                          "outlinewidth": 0,
                          "ticks": ""
                        },
                        "type": "choropleth"
                      }
                    ],
                    "contour": [
                      {
                        "colorbar": {
                          "outlinewidth": 0,
                          "ticks": ""
                        },
                        "colorscale": [
                          [
                            0,
                            "#0d0887"
                          ],
                          [
                            0.1111111111111111,
                            "#46039f"
                          ],
                          [
                            0.2222222222222222,
                            "#7201a8"
                          ],
                          [
                            0.3333333333333333,
                            "#9c179e"
                          ],
                          [
                            0.4444444444444444,
                            "#bd3786"
                          ],
                          [
                            0.5555555555555556,
                            "#d8576b"
                          ],
                          [
                            0.6666666666666666,
                            "#ed7953"
                          ],
                          [
                            0.7777777777777778,
                            "#fb9f3a"
                          ],
                          [
                            0.8888888888888888,
                            "#fdca26"
                          ],
                          [
                            1,
                            "#f0f921"
                          ]
                        ],
                        "type": "contour"
                      }
                    ],
                    "contourcarpet": [
                      {
                        "colorbar": {
                          "outlinewidth": 0,
                          "ticks": ""
                        },
                        "type": "contourcarpet"
                      }
                    ],
                    "heatmap": [
                      {
                        "colorbar": {
                          "outlinewidth": 0,
                          "ticks": ""
                        },
                        "colorscale": [
                          [
                            0,
                            "#0d0887"
                          ],
                          [
                            0.1111111111111111,
                            "#46039f"
                          ],
                          [
                            0.2222222222222222,
                            "#7201a8"
                          ],
                          [
                            0.3333333333333333,
                            "#9c179e"
                          ],
                          [
                            0.4444444444444444,
                            "#bd3786"
                          ],
                          [
                            0.5555555555555556,
                            "#d8576b"
                          ],
                          [
                            0.6666666666666666,
                            "#ed7953"
                          ],
                          [
                            0.7777777777777778,
                            "#fb9f3a"
                          ],
                          [
                            0.8888888888888888,
                            "#fdca26"
                          ],
                          [
                            1,
                            "#f0f921"
                          ]
                        ],
                        "type": "heatmap"
                      }
                    ],
                    "heatmapgl": [
                      {
                        "colorbar": {
                          "outlinewidth": 0,
                          "ticks": ""
                        },
                        "colorscale": [
                          [
                            0,
                            "#0d0887"
                          ],
                          [
                            0.1111111111111111,
                            "#46039f"
                          ],
                          [
                            0.2222222222222222,
                            "#7201a8"
                          ],
                          [
                            0.3333333333333333,
                            "#9c179e"
                          ],
                          [
                            0.4444444444444444,
                            "#bd3786"
                          ],
                          [
                            0.5555555555555556,
                            "#d8576b"
                          ],
                          [
                            0.6666666666666666,
                            "#ed7953"
                          ],
                          [
                            0.7777777777777778,
                            "#fb9f3a"
                          ],
                          [
                            0.8888888888888888,
                            "#fdca26"
                          ],
                          [
                            1,
                            "#f0f921"
                          ]
                        ],
                        "type": "heatmapgl"
                      }
                    ],
                    "histogram": [
                      {
                        "marker": {
                          "pattern": {
                            "fillmode": "overlay",
                            "size": 10,
                            "solidity": 0.2
                          }
                        },
                        "type": "histogram"
                      }
                    ],
                    "histogram2d": [
                      {
                        "colorbar": {
                          "outlinewidth": 0,
                          "ticks": ""
                        },
                        "colorscale": [
                          [
                            0,
                            "#0d0887"
                          ],
                          [
                            0.1111111111111111,
                            "#46039f"
                          ],
                          [
                            0.2222222222222222,
                            "#7201a8"
                          ],
                          [
                            0.3333333333333333,
                            "#9c179e"
                          ],
                          [
                            0.4444444444444444,
                            "#bd3786"
                          ],
                          [
                            0.5555555555555556,
                            "#d8576b"
                          ],
                          [
                            0.6666666666666666,
                            "#ed7953"
                          ],
                          [
                            0.7777777777777778,
                            "#fb9f3a"
                          ],
                          [
                            0.8888888888888888,
                            "#fdca26"
                          ],
                          [
                            1,
                            "#f0f921"
                          ]
                        ],
                        "type": "histogram2d"
                      }
                    ],
                    "histogram2dcontour": [
                      {
                        "colorbar": {
                          "outlinewidth": 0,
                          "ticks": ""
                        },
                        "colorscale": [
                          [
                            0,
                            "#0d0887"
                          ],
                          [
                            0.1111111111111111,
                            "#46039f"
                          ],
                          [
                            0.2222222222222222,
                            "#7201a8"
                          ],
                          [
                            0.3333333333333333,
                            "#9c179e"
                          ],
                          [
                            0.4444444444444444,
                            "#bd3786"
                          ],
                          [
                            0.5555555555555556,
                            "#d8576b"
                          ],
                          [
                            0.6666666666666666,
                            "#ed7953"
                          ],
                          [
                            0.7777777777777778,
                            "#fb9f3a"
                          ],
                          [
                            0.8888888888888888,
                            "#fdca26"
                          ],
                          [
                            1,
                            "#f0f921"
                          ]
                        ],
                        "type": "histogram2dcontour"
                      }
                    ],
                    "mesh3d": [
                      {
                        "colorbar": {
                          "outlinewidth": 0,
                          "ticks": ""
                        },
                        "type": "mesh3d"
                      }
                    ],
                    "parcoords": [
                      {
                        "line": {
                          "colorbar": {
                            "outlinewidth": 0,
                            "ticks": ""
                          }
                        },
                        "type": "parcoords"
                      }
                    ],
                    "pie": [
                      {
                        "automargin": true,
                        "type": "pie"
                      }
                    ],
                    "scatter": [
                      {
                        "fillpattern": {
                          "fillmode": "overlay",
                          "size": 10,
                          "solidity": 0.2
                        },
                        "type": "scatter"
                      }
                    ],
                    "scatter3d": [
                      {
                        "line": {
                          "colorbar": {
                            "outlinewidth": 0,
                            "ticks": ""
                          }
                        },
                        "marker": {
                          "colorbar": {
                            "outlinewidth": 0,
                            "ticks": ""
                          }
                        },
                        "type": "scatter3d"
                      }
                    ],
                    "scattercarpet": [
                      {
                        "marker": {
                          "colorbar": {
                            "outlinewidth": 0,
                            "ticks": ""
                          }
                        },
                        "type": "scattercarpet"
                      }
                    ],
                    "scattergeo": [
                      {
                        "marker": {
                          "colorbar": {
                            "outlinewidth": 0,
                            "ticks": ""
                          }
                        },
                        "type": "scattergeo"
                      }
                    ],
                    "scattergl": [
                      {
                        "marker": {
                          "colorbar": {
                            "outlinewidth": 0,
                            "ticks": ""
                          }
                        },
                        "type": "scattergl"
                      }
                    ],
                    "scattermapbox": [
                      {
                        "marker": {
                          "colorbar": {
                            "outlinewidth": 0,
                            "ticks": ""
                          }
                        },
                        "type": "scattermapbox"
                      }
                    ],
                    "scatterpolar": [
                      {
                        "marker": {
                          "colorbar": {
                            "outlinewidth": 0,
                            "ticks": ""
                          }
                        },
                        "type": "scatterpolar"
                      }
                    ],
                    "scatterpolargl": [
                      {
                        "marker": {
                          "colorbar": {
                            "outlinewidth": 0,
                            "ticks": ""
                          }
                        },
                        "type": "scatterpolargl"
                      }
                    ],
                    "scatterternary": [
                      {
                        "marker": {
                          "colorbar": {
                            "outlinewidth": 0,
                            "ticks": ""
                          }
                        },
                        "type": "scatterternary"
                      }
                    ],
                    "surface": [
                      {
                        "colorbar": {
                          "outlinewidth": 0,
                          "ticks": ""
                        },
                        "colorscale": [
                          [
                            0,
                            "#0d0887"
                          ],
                          [
                            0.1111111111111111,
                            "#46039f"
                          ],
                          [
                            0.2222222222222222,
                            "#7201a8"
                          ],
                          [
                            0.3333333333333333,
                            "#9c179e"
                          ],
                          [
                            0.4444444444444444,
                            "#bd3786"
                          ],
                          [
                            0.5555555555555556,
                            "#d8576b"
                          ],
                          [
                            0.6666666666666666,
                            "#ed7953"
                          ],
                          [
                            0.7777777777777778,
                            "#fb9f3a"
                          ],
                          [
                            0.8888888888888888,
                            "#fdca26"
                          ],
                          [
                            1,
                            "#f0f921"
                          ]
                        ],
                        "type": "surface"
                      }
                    ],
                    "table": [
                      {
                        "cells": {
                          "fill": {
                            "color": "#EBF0F8"
                          },
                          "line": {
                            "color": "white"
                          }
                        },
                        "header": {
                          "fill": {
                            "color": "#C8D4E3"
                          },
                          "line": {
                            "color": "white"
                          }
                        },
                        "type": "table"
                      }
                    ]
                  },
                  "layout": {
                    "annotationdefaults": {
                      "arrowcolor": "#2a3f5f",
                      "arrowhead": 0,
                      "arrowwidth": 1
                    },
                    "autotypenumbers": "strict",
                    "coloraxis": {
                      "colorbar": {
                        "outlinewidth": 0,
                        "ticks": ""
                      }
                    },
                    "colorscale": {
                      "diverging": [
                        [
                          0,
                          "#8e0152"
                        ],
                        [
                          0.1,
                          "#c51b7d"
                        ],
                        [
                          0.2,
                          "#de77ae"
                        ],
                        [
                          0.3,
                          "#f1b6da"
                        ],
                        [
                          0.4,
                          "#fde0ef"
                        ],
                        [
                          0.5,
                          "#f7f7f7"
                        ],
                        [
                          0.6,
                          "#e6f5d0"
                        ],
                        [
                          0.7,
                          "#b8e186"
                        ],
                        [
                          0.8,
                          "#7fbc41"
                        ],
                        [
                          0.9,
                          "#4d9221"
                        ],
                        [
                          1,
                          "#276419"
                        ]
                      ],
                      "sequential": [
                        [
                          0,
                          "#0d0887"
                        ],
                        [
                          0.1111111111111111,
                          "#46039f"
                        ],
                        [
                          0.2222222222222222,
                          "#7201a8"
                        ],
                        [
                          0.3333333333333333,
                          "#9c179e"
                        ],
                        [
                          0.4444444444444444,
                          "#bd3786"
                        ],
                        [
                          0.5555555555555556,
                          "#d8576b"
                        ],
                        [
                          0.6666666666666666,
                          "#ed7953"
                        ],
                        [
                          0.7777777777777778,
                          "#fb9f3a"
                        ],
                        [
                          0.8888888888888888,
                          "#fdca26"
                        ],
                        [
                          1,
                          "#f0f921"
                        ]
                      ],
                      "sequentialminus": [
                        [
                          0,
                          "#0d0887"
                        ],
                        [
                          0.1111111111111111,
                          "#46039f"
                        ],
                        [
                          0.2222222222222222,
                          "#7201a8"
                        ],
                        [
                          0.3333333333333333,
                          "#9c179e"
                        ],
                        [
                          0.4444444444444444,
                          "#bd3786"
                        ],
                        [
                          0.5555555555555556,
                          "#d8576b"
                        ],
                        [
                          0.6666666666666666,
                          "#ed7953"
                        ],
                        [
                          0.7777777777777778,
                          "#fb9f3a"
                        ],
                        [
                          0.8888888888888888,
                          "#fdca26"
                        ],
                        [
                          1,
                          "#f0f921"
                        ]
                      ]
                    },
                    "colorway": [
                      "#636efa",
                      "#EF553B",
                      "#00cc96",
                      "#ab63fa",
                      "#FFA15A",
                      "#19d3f3",
                      "#FF6692",
                      "#B6E880",
                      "#FF97FF",
                      "#FECB52"
                    ],
                    "font": {
                      "color": "#2a3f5f"
                    },
                    "geo": {
                      "bgcolor": "white",
                      "lakecolor": "white",
                      "landcolor": "#E5ECF6",
                      "showlakes": true,
                      "showland": true,
                      "subunitcolor": "white"
                    },
                    "hoverlabel": {
                      "align": "left"
                    },
                    "hovermode": "closest",
                    "mapbox": {
                      "style": "light"
                    },
                    "paper_bgcolor": "white",
                    "plot_bgcolor": "#E5ECF6",
                    "polar": {
                      "angularaxis": {
                        "gridcolor": "white",
                        "linecolor": "white",
                        "ticks": ""
                      },
                      "bgcolor": "#E5ECF6",
                      "radialaxis": {
                        "gridcolor": "white",
                        "linecolor": "white",
                        "ticks": ""
                      }
                    },
                    "scene": {
                      "xaxis": {
                        "backgroundcolor": "#E5ECF6",
                        "gridcolor": "white",
                        "gridwidth": 2,
                        "linecolor": "white",
                        "showbackground": true,
                        "ticks": "",
                        "zerolinecolor": "white"
                      },
                      "yaxis": {
                        "backgroundcolor": "#E5ECF6",
                        "gridcolor": "white",
                        "gridwidth": 2,
                        "linecolor": "white",
                        "showbackground": true,
                        "ticks": "",
                        "zerolinecolor": "white"
                      },
                      "zaxis": {
                        "backgroundcolor": "#E5ECF6",
                        "gridcolor": "white",
                        "gridwidth": 2,
                        "linecolor": "white",
                        "showbackground": true,
                        "ticks": "",
                        "zerolinecolor": "white"
                      }
                    },
                    "shapedefaults": {
                      "line": {
                        "color": "#2a3f5f"
                      }
                    },
                    "ternary": {
                      "aaxis": {
                        "gridcolor": "white",
                        "linecolor": "white",
                        "ticks": ""
                      },
                      "baxis": {
                        "gridcolor": "white",
                        "linecolor": "white",
                        "ticks": ""
                      },
                      "bgcolor": "#E5ECF6",
                      "caxis": {
                        "gridcolor": "white",
                        "linecolor": "white",
                        "ticks": ""
                      }
                    },
                    "title": {
                      "x": 0.05
                    },
                    "xaxis": {
                      "automargin": true,
                      "gridcolor": "white",
                      "linecolor": "white",
                      "ticks": "",
                      "title": {
                        "standoff": 15
                      },
                      "zerolinecolor": "white",
                      "zerolinewidth": 2
                    },
                    "yaxis": {
                      "automargin": true,
                      "gridcolor": "white",
                      "linecolor": "white",
                      "ticks": "",
                      "title": {
                        "standoff": 15
                      },
                      "zerolinecolor": "white",
                      "zerolinewidth": 2
                    }
                  }
                },
                "title": {
                  "text": "Uni World Rank, Teaching with Number of Student as Size, International Score as Color"
                }
              }
            }
          },
          "metadata": {},
          "output_type": "display_data"
        }
      ],
      "source": [
        "stud_size  = [float(x) for x in df12.num_students]\n",
        "int_color = [float(x) for x in df12.international]\n",
        "data= dict(x= df12.world_rank,\n",
        "           y= df12.teaching,\n",
        "           mode= 'markers',\n",
        "           marker= dict(color= int_color, size=stud_size, showscale= True),\n",
        "           text= df12.university_name)\n",
        "\n",
        "layout= dict(title= 'Uni World Rank, Teaching with Number of Student as Size, International Score as Color')\n",
        "fig= dict(data= data, layout = layout)\n",
        "iplot(fig)             "
      ]
    },
    {
      "cell_type": "markdown",
      "metadata": {
        "id": "i4B-fKNQKOY2"
      },
      "source": [
        "# Histogram\n",
        "# students-staff ratio in 2011 and 2012 years"
      ]
    },
    {
      "cell_type": "code",
      "execution_count": 18,
      "metadata": {
        "colab": {
          "base_uri": "https://localhost:8080/",
          "height": 542
        },
        "id": "OGmy5hd__sby",
        "outputId": "f9cbf2d4-58ae-4554-8176-2d5e68a86411"
      },
      "outputs": [
        {
          "data": {
            "application/vnd.plotly.v1+json": {
              "config": {
                "linkText": "Export to plot.ly",
                "plotlyServerURL": "https://plot.ly",
                "showLink": false
              },
              "data": [
                {
                  "marker": {
                    "color": "rgba(0, 200, 255, 0.8)"
                  },
                  "name": "2011",
                  "opacity": 0.75,
                  "type": "histogram",
                  "x": [
                    8.9,
                    6.9,
                    9,
                    7.8,
                    8.4,
                    11.8,
                    11.6,
                    16.4,
                    11.7,
                    4.4,
                    10.3,
                    6.9,
                    3.6,
                    10.2,
                    14.7,
                    9,
                    19.5,
                    5.9,
                    6.5,
                    13.1,
                    17.6,
                    10.7,
                    11.8,
                    4.8,
                    13.8,
                    5.7,
                    20.1,
                    10.1,
                    27.3,
                    17.6,
                    7.3,
                    6.5,
                    18.7,
                    15.5,
                    13.7,
                    23.7,
                    8.3,
                    5.7,
                    4.8,
                    14.1,
                    23.8,
                    7.9,
                    19.2,
                    11.5,
                    25.6,
                    null,
                    9,
                    10.5,
                    16.1,
                    7.9,
                    3.6,
                    18,
                    10,
                    13.9,
                    10.1,
                    13,
                    5.6,
                    13.7,
                    8.6,
                    6.8,
                    4.5,
                    15.5,
                    13.8,
                    5.8,
                    6.4,
                    13.4,
                    16.1,
                    14,
                    22.7,
                    5.5,
                    20.2,
                    10.2,
                    30.1,
                    12.9,
                    11.8,
                    18,
                    11.4,
                    10.9,
                    10,
                    17.4,
                    32.7,
                    null,
                    24.5,
                    16.9,
                    15.7,
                    null,
                    15.3,
                    15.9,
                    11.5,
                    13.5,
                    6.5,
                    4.6,
                    19.3,
                    24.5,
                    12,
                    12.7,
                    17.3,
                    8.4,
                    6.6,
                    8,
                    31.5,
                    15.1,
                    12.7,
                    15,
                    17.3,
                    18.1,
                    13.5,
                    12.1,
                    12.4,
                    13.9,
                    11,
                    null,
                    7.3,
                    16,
                    11.9,
                    null,
                    22,
                    15,
                    41.9,
                    13.3,
                    14,
                    15.7,
                    5,
                    34.1,
                    14.9,
                    17.1,
                    21.6,
                    16,
                    23.7,
                    7.8,
                    21.5,
                    5,
                    31.2,
                    11.6,
                    11.1,
                    13.1,
                    15.5,
                    20.3,
                    16.3,
                    8.7,
                    15.3,
                    12.2,
                    15.4,
                    17,
                    18.9,
                    16.4,
                    23.3,
                    18.2,
                    25.9,
                    15.8,
                    19.4,
                    17.2,
                    15.2,
                    25.9,
                    18.3,
                    13.6,
                    17.4,
                    null,
                    18.9,
                    15.9,
                    29.9,
                    17.4,
                    19.6,
                    8.5,
                    14.4,
                    13.6,
                    13.6,
                    14.7,
                    38.4,
                    25.6,
                    16.6,
                    9.3,
                    67.8,
                    16.2,
                    14.7,
                    15,
                    4.1,
                    52.5,
                    40.5,
                    70.4,
                    16.6,
                    27.6,
                    22.2,
                    18.8,
                    12,
                    59.1,
                    24.6,
                    16.9,
                    38.9,
                    10.8,
                    15.7,
                    11.6,
                    14.4,
                    14.6,
                    20.5,
                    19,
                    9.2,
                    15.9,
                    28.3,
                    4.6
                  ]
                },
                {
                  "marker": {
                    "color": "rgba(255, 128, 255, 0.8)"
                  },
                  "name": "2012",
                  "opacity": 0.75,
                  "type": "histogram",
                  "x": [
                    6.9,
                    8.9,
                    7.8,
                    11.6,
                    8.4,
                    11.8,
                    9,
                    11.7,
                    6.9,
                    16.4,
                    4.4,
                    5.9,
                    10.3,
                    3.6,
                    14.7,
                    6.5,
                    10.7,
                    9,
                    19.5,
                    10.2,
                    13.1,
                    4.8,
                    17.6,
                    20.1,
                    11.8,
                    13.8,
                    10.8,
                    13.7,
                    17.4,
                    5.7,
                    18.7,
                    11.5,
                    6.5,
                    17.6,
                    27.3,
                    14.1,
                    23.7,
                    19.2,
                    13.9,
                    15.5,
                    5.7,
                    18,
                    7.3,
                    6.8,
                    15.5,
                    10.5,
                    null,
                    15.3,
                    10.1,
                    8.3,
                    12.4,
                    5.6,
                    10.1,
                    8.6,
                    12.9,
                    11.4,
                    13.4,
                    20.2,
                    5.8,
                    7.9,
                    6.5,
                    23.8,
                    4.8,
                    13,
                    19.3,
                    14,
                    41.9,
                    15.4,
                    25.6,
                    3.6,
                    13.7,
                    9,
                    24.5,
                    32.7,
                    4.5,
                    17,
                    10,
                    16.1,
                    17.1,
                    11.5,
                    17.3,
                    4.5,
                    15.7,
                    8.7,
                    12.7,
                    16.1,
                    18.2,
                    31.5,
                    13.8,
                    6.6,
                    15.1,
                    14.4,
                    6.4,
                    10,
                    8.4,
                    15.7,
                    12.7,
                    18.1,
                    17.4,
                    21.6,
                    15.5,
                    16,
                    12.1,
                    19.4,
                    20.3,
                    34.1,
                    15.9,
                    7.3,
                    52.5,
                    22.7,
                    17.3,
                    22.5,
                    16.9,
                    10.9,
                    16,
                    13.1,
                    40.5,
                    18,
                    7.8,
                    5,
                    10.7,
                    null,
                    13.6,
                    13.9,
                    13.6,
                    18.7,
                    29.9,
                    14,
                    13.5,
                    15,
                    14.9,
                    23.7,
                    14.7,
                    25.6,
                    12,
                    4.1,
                    10.2,
                    8.5,
                    20.5,
                    15,
                    11.6,
                    8,
                    22,
                    15,
                    14.7,
                    15.2,
                    11.8,
                    16.4,
                    17.2,
                    12.6,
                    10.2,
                    39.3,
                    15.8,
                    11.9,
                    5.5,
                    18.8,
                    18.9,
                    16.6,
                    13,
                    24.5,
                    16.3,
                    null,
                    4.6,
                    21.4,
                    14.8,
                    24.4,
                    9.2,
                    27.6,
                    16.2,
                    14.8,
                    42,
                    5.7,
                    22.1,
                    18.9,
                    25.9,
                    15.3,
                    21.5,
                    5,
                    14.6,
                    15.9,
                    9.3,
                    13.6,
                    18.8,
                    17.4,
                    26.3,
                    18.3,
                    14.6,
                    38.9,
                    31.2,
                    20.7,
                    11.1,
                    7.9,
                    7.1,
                    59.1,
                    17.4,
                    24.6,
                    null,
                    18.9,
                    13.4,
                    12,
                    12.3,
                    null,
                    13.1,
                    18.2,
                    7.9,
                    13.5,
                    15.1,
                    19.4,
                    8.4,
                    11.2,
                    11.9,
                    19,
                    30.1,
                    12.2,
                    15.7,
                    19.8,
                    19.9,
                    16.4,
                    16.9,
                    null,
                    20.3,
                    16.3,
                    17.8,
                    24.2,
                    20.7,
                    38.4,
                    26.1,
                    29.8,
                    11.6,
                    19,
                    8.3,
                    14.4,
                    10.8,
                    12.2,
                    15.8,
                    20,
                    16.6,
                    28.3,
                    18.5,
                    4.6,
                    9.9,
                    22.9,
                    16.5,
                    null,
                    24.3,
                    72.5,
                    14.1,
                    18.3,
                    25.8,
                    11.6,
                    19.5,
                    67.8,
                    17.6,
                    25.9,
                    29.1,
                    6.7,
                    13.3,
                    19.6,
                    13.9,
                    17.9,
                    46.3,
                    23,
                    22.4,
                    37.4,
                    18.8,
                    26.8,
                    null,
                    23.8,
                    12.7,
                    22.8,
                    18.6,
                    12.6,
                    25.4,
                    21.1,
                    18.6,
                    10.7,
                    19.2,
                    13,
                    8.2,
                    11,
                    16,
                    7.7,
                    22.2,
                    18.4,
                    35.8,
                    15.3,
                    16.6,
                    53.6,
                    3.3,
                    12.2,
                    30.3,
                    26.9,
                    28.3,
                    25.9,
                    null,
                    null,
                    46.1,
                    21.9,
                    26.9,
                    43.2,
                    39.4,
                    15.9,
                    24.2,
                    23.3,
                    16,
                    23.3,
                    25,
                    25.4,
                    13,
                    17,
                    14.9,
                    11.5,
                    15.7,
                    11.9,
                    19,
                    11.3,
                    7.7,
                    17.4,
                    25.9,
                    22.2,
                    32.3,
                    12.8,
                    18.7,
                    20.3,
                    22.3,
                    17.8,
                    16.5,
                    17.3,
                    30.2,
                    19.4,
                    43.7,
                    18.7,
                    25.9,
                    27.8,
                    18.1,
                    25.3,
                    null,
                    18,
                    18.8,
                    21.5,
                    15.9,
                    16.6,
                    9.5,
                    23.8,
                    15.4,
                    17,
                    14.1,
                    52,
                    17.1,
                    18.3,
                    15.9,
                    null,
                    17.6,
                    17.1,
                    17.1,
                    30.4,
                    22.6,
                    20.4,
                    22,
                    10.8,
                    17.8,
                    8.2,
                    15.1,
                    8.4,
                    17.4,
                    29,
                    62.7,
                    19.8,
                    15.9,
                    7.5,
                    16.8,
                    null,
                    9.8,
                    20.9,
                    26.8,
                    28,
                    26.2,
                    17.9,
                    null,
                    11.7,
                    19.6,
                    13.6,
                    15.3,
                    5.2,
                    17.1,
                    36.5,
                    14.4,
                    65.1,
                    19,
                    21.5,
                    14.4,
                    23.4,
                    58.4,
                    26.2,
                    20.2,
                    13,
                    14.6,
                    null,
                    11.8,
                    16.9,
                    14.4,
                    20.6
                  ]
                }
              ],
              "layout": {
                "barmode": "overlay",
                "template": {
                  "data": {
                    "bar": [
                      {
                        "error_x": {
                          "color": "#2a3f5f"
                        },
                        "error_y": {
                          "color": "#2a3f5f"
                        },
                        "marker": {
                          "line": {
                            "color": "#E5ECF6",
                            "width": 0.5
                          },
                          "pattern": {
                            "fillmode": "overlay",
                            "size": 10,
                            "solidity": 0.2
                          }
                        },
                        "type": "bar"
                      }
                    ],
                    "barpolar": [
                      {
                        "marker": {
                          "line": {
                            "color": "#E5ECF6",
                            "width": 0.5
                          },
                          "pattern": {
                            "fillmode": "overlay",
                            "size": 10,
                            "solidity": 0.2
                          }
                        },
                        "type": "barpolar"
                      }
                    ],
                    "carpet": [
                      {
                        "aaxis": {
                          "endlinecolor": "#2a3f5f",
                          "gridcolor": "white",
                          "linecolor": "white",
                          "minorgridcolor": "white",
                          "startlinecolor": "#2a3f5f"
                        },
                        "baxis": {
                          "endlinecolor": "#2a3f5f",
                          "gridcolor": "white",
                          "linecolor": "white",
                          "minorgridcolor": "white",
                          "startlinecolor": "#2a3f5f"
                        },
                        "type": "carpet"
                      }
                    ],
                    "choropleth": [
                      {
                        "colorbar": {
                          "outlinewidth": 0,
                          "ticks": ""
                        },
                        "type": "choropleth"
                      }
                    ],
                    "contour": [
                      {
                        "colorbar": {
                          "outlinewidth": 0,
                          "ticks": ""
                        },
                        "colorscale": [
                          [
                            0,
                            "#0d0887"
                          ],
                          [
                            0.1111111111111111,
                            "#46039f"
                          ],
                          [
                            0.2222222222222222,
                            "#7201a8"
                          ],
                          [
                            0.3333333333333333,
                            "#9c179e"
                          ],
                          [
                            0.4444444444444444,
                            "#bd3786"
                          ],
                          [
                            0.5555555555555556,
                            "#d8576b"
                          ],
                          [
                            0.6666666666666666,
                            "#ed7953"
                          ],
                          [
                            0.7777777777777778,
                            "#fb9f3a"
                          ],
                          [
                            0.8888888888888888,
                            "#fdca26"
                          ],
                          [
                            1,
                            "#f0f921"
                          ]
                        ],
                        "type": "contour"
                      }
                    ],
                    "contourcarpet": [
                      {
                        "colorbar": {
                          "outlinewidth": 0,
                          "ticks": ""
                        },
                        "type": "contourcarpet"
                      }
                    ],
                    "heatmap": [
                      {
                        "colorbar": {
                          "outlinewidth": 0,
                          "ticks": ""
                        },
                        "colorscale": [
                          [
                            0,
                            "#0d0887"
                          ],
                          [
                            0.1111111111111111,
                            "#46039f"
                          ],
                          [
                            0.2222222222222222,
                            "#7201a8"
                          ],
                          [
                            0.3333333333333333,
                            "#9c179e"
                          ],
                          [
                            0.4444444444444444,
                            "#bd3786"
                          ],
                          [
                            0.5555555555555556,
                            "#d8576b"
                          ],
                          [
                            0.6666666666666666,
                            "#ed7953"
                          ],
                          [
                            0.7777777777777778,
                            "#fb9f3a"
                          ],
                          [
                            0.8888888888888888,
                            "#fdca26"
                          ],
                          [
                            1,
                            "#f0f921"
                          ]
                        ],
                        "type": "heatmap"
                      }
                    ],
                    "heatmapgl": [
                      {
                        "colorbar": {
                          "outlinewidth": 0,
                          "ticks": ""
                        },
                        "colorscale": [
                          [
                            0,
                            "#0d0887"
                          ],
                          [
                            0.1111111111111111,
                            "#46039f"
                          ],
                          [
                            0.2222222222222222,
                            "#7201a8"
                          ],
                          [
                            0.3333333333333333,
                            "#9c179e"
                          ],
                          [
                            0.4444444444444444,
                            "#bd3786"
                          ],
                          [
                            0.5555555555555556,
                            "#d8576b"
                          ],
                          [
                            0.6666666666666666,
                            "#ed7953"
                          ],
                          [
                            0.7777777777777778,
                            "#fb9f3a"
                          ],
                          [
                            0.8888888888888888,
                            "#fdca26"
                          ],
                          [
                            1,
                            "#f0f921"
                          ]
                        ],
                        "type": "heatmapgl"
                      }
                    ],
                    "histogram": [
                      {
                        "marker": {
                          "pattern": {
                            "fillmode": "overlay",
                            "size": 10,
                            "solidity": 0.2
                          }
                        },
                        "type": "histogram"
                      }
                    ],
                    "histogram2d": [
                      {
                        "colorbar": {
                          "outlinewidth": 0,
                          "ticks": ""
                        },
                        "colorscale": [
                          [
                            0,
                            "#0d0887"
                          ],
                          [
                            0.1111111111111111,
                            "#46039f"
                          ],
                          [
                            0.2222222222222222,
                            "#7201a8"
                          ],
                          [
                            0.3333333333333333,
                            "#9c179e"
                          ],
                          [
                            0.4444444444444444,
                            "#bd3786"
                          ],
                          [
                            0.5555555555555556,
                            "#d8576b"
                          ],
                          [
                            0.6666666666666666,
                            "#ed7953"
                          ],
                          [
                            0.7777777777777778,
                            "#fb9f3a"
                          ],
                          [
                            0.8888888888888888,
                            "#fdca26"
                          ],
                          [
                            1,
                            "#f0f921"
                          ]
                        ],
                        "type": "histogram2d"
                      }
                    ],
                    "histogram2dcontour": [
                      {
                        "colorbar": {
                          "outlinewidth": 0,
                          "ticks": ""
                        },
                        "colorscale": [
                          [
                            0,
                            "#0d0887"
                          ],
                          [
                            0.1111111111111111,
                            "#46039f"
                          ],
                          [
                            0.2222222222222222,
                            "#7201a8"
                          ],
                          [
                            0.3333333333333333,
                            "#9c179e"
                          ],
                          [
                            0.4444444444444444,
                            "#bd3786"
                          ],
                          [
                            0.5555555555555556,
                            "#d8576b"
                          ],
                          [
                            0.6666666666666666,
                            "#ed7953"
                          ],
                          [
                            0.7777777777777778,
                            "#fb9f3a"
                          ],
                          [
                            0.8888888888888888,
                            "#fdca26"
                          ],
                          [
                            1,
                            "#f0f921"
                          ]
                        ],
                        "type": "histogram2dcontour"
                      }
                    ],
                    "mesh3d": [
                      {
                        "colorbar": {
                          "outlinewidth": 0,
                          "ticks": ""
                        },
                        "type": "mesh3d"
                      }
                    ],
                    "parcoords": [
                      {
                        "line": {
                          "colorbar": {
                            "outlinewidth": 0,
                            "ticks": ""
                          }
                        },
                        "type": "parcoords"
                      }
                    ],
                    "pie": [
                      {
                        "automargin": true,
                        "type": "pie"
                      }
                    ],
                    "scatter": [
                      {
                        "fillpattern": {
                          "fillmode": "overlay",
                          "size": 10,
                          "solidity": 0.2
                        },
                        "type": "scatter"
                      }
                    ],
                    "scatter3d": [
                      {
                        "line": {
                          "colorbar": {
                            "outlinewidth": 0,
                            "ticks": ""
                          }
                        },
                        "marker": {
                          "colorbar": {
                            "outlinewidth": 0,
                            "ticks": ""
                          }
                        },
                        "type": "scatter3d"
                      }
                    ],
                    "scattercarpet": [
                      {
                        "marker": {
                          "colorbar": {
                            "outlinewidth": 0,
                            "ticks": ""
                          }
                        },
                        "type": "scattercarpet"
                      }
                    ],
                    "scattergeo": [
                      {
                        "marker": {
                          "colorbar": {
                            "outlinewidth": 0,
                            "ticks": ""
                          }
                        },
                        "type": "scattergeo"
                      }
                    ],
                    "scattergl": [
                      {
                        "marker": {
                          "colorbar": {
                            "outlinewidth": 0,
                            "ticks": ""
                          }
                        },
                        "type": "scattergl"
                      }
                    ],
                    "scattermapbox": [
                      {
                        "marker": {
                          "colorbar": {
                            "outlinewidth": 0,
                            "ticks": ""
                          }
                        },
                        "type": "scattermapbox"
                      }
                    ],
                    "scatterpolar": [
                      {
                        "marker": {
                          "colorbar": {
                            "outlinewidth": 0,
                            "ticks": ""
                          }
                        },
                        "type": "scatterpolar"
                      }
                    ],
                    "scatterpolargl": [
                      {
                        "marker": {
                          "colorbar": {
                            "outlinewidth": 0,
                            "ticks": ""
                          }
                        },
                        "type": "scatterpolargl"
                      }
                    ],
                    "scatterternary": [
                      {
                        "marker": {
                          "colorbar": {
                            "outlinewidth": 0,
                            "ticks": ""
                          }
                        },
                        "type": "scatterternary"
                      }
                    ],
                    "surface": [
                      {
                        "colorbar": {
                          "outlinewidth": 0,
                          "ticks": ""
                        },
                        "colorscale": [
                          [
                            0,
                            "#0d0887"
                          ],
                          [
                            0.1111111111111111,
                            "#46039f"
                          ],
                          [
                            0.2222222222222222,
                            "#7201a8"
                          ],
                          [
                            0.3333333333333333,
                            "#9c179e"
                          ],
                          [
                            0.4444444444444444,
                            "#bd3786"
                          ],
                          [
                            0.5555555555555556,
                            "#d8576b"
                          ],
                          [
                            0.6666666666666666,
                            "#ed7953"
                          ],
                          [
                            0.7777777777777778,
                            "#fb9f3a"
                          ],
                          [
                            0.8888888888888888,
                            "#fdca26"
                          ],
                          [
                            1,
                            "#f0f921"
                          ]
                        ],
                        "type": "surface"
                      }
                    ],
                    "table": [
                      {
                        "cells": {
                          "fill": {
                            "color": "#EBF0F8"
                          },
                          "line": {
                            "color": "white"
                          }
                        },
                        "header": {
                          "fill": {
                            "color": "#C8D4E3"
                          },
                          "line": {
                            "color": "white"
                          }
                        },
                        "type": "table"
                      }
                    ]
                  },
                  "layout": {
                    "annotationdefaults": {
                      "arrowcolor": "#2a3f5f",
                      "arrowhead": 0,
                      "arrowwidth": 1
                    },
                    "autotypenumbers": "strict",
                    "coloraxis": {
                      "colorbar": {
                        "outlinewidth": 0,
                        "ticks": ""
                      }
                    },
                    "colorscale": {
                      "diverging": [
                        [
                          0,
                          "#8e0152"
                        ],
                        [
                          0.1,
                          "#c51b7d"
                        ],
                        [
                          0.2,
                          "#de77ae"
                        ],
                        [
                          0.3,
                          "#f1b6da"
                        ],
                        [
                          0.4,
                          "#fde0ef"
                        ],
                        [
                          0.5,
                          "#f7f7f7"
                        ],
                        [
                          0.6,
                          "#e6f5d0"
                        ],
                        [
                          0.7,
                          "#b8e186"
                        ],
                        [
                          0.8,
                          "#7fbc41"
                        ],
                        [
                          0.9,
                          "#4d9221"
                        ],
                        [
                          1,
                          "#276419"
                        ]
                      ],
                      "sequential": [
                        [
                          0,
                          "#0d0887"
                        ],
                        [
                          0.1111111111111111,
                          "#46039f"
                        ],
                        [
                          0.2222222222222222,
                          "#7201a8"
                        ],
                        [
                          0.3333333333333333,
                          "#9c179e"
                        ],
                        [
                          0.4444444444444444,
                          "#bd3786"
                        ],
                        [
                          0.5555555555555556,
                          "#d8576b"
                        ],
                        [
                          0.6666666666666666,
                          "#ed7953"
                        ],
                        [
                          0.7777777777777778,
                          "#fb9f3a"
                        ],
                        [
                          0.8888888888888888,
                          "#fdca26"
                        ],
                        [
                          1,
                          "#f0f921"
                        ]
                      ],
                      "sequentialminus": [
                        [
                          0,
                          "#0d0887"
                        ],
                        [
                          0.1111111111111111,
                          "#46039f"
                        ],
                        [
                          0.2222222222222222,
                          "#7201a8"
                        ],
                        [
                          0.3333333333333333,
                          "#9c179e"
                        ],
                        [
                          0.4444444444444444,
                          "#bd3786"
                        ],
                        [
                          0.5555555555555556,
                          "#d8576b"
                        ],
                        [
                          0.6666666666666666,
                          "#ed7953"
                        ],
                        [
                          0.7777777777777778,
                          "#fb9f3a"
                        ],
                        [
                          0.8888888888888888,
                          "#fdca26"
                        ],
                        [
                          1,
                          "#f0f921"
                        ]
                      ]
                    },
                    "colorway": [
                      "#636efa",
                      "#EF553B",
                      "#00cc96",
                      "#ab63fa",
                      "#FFA15A",
                      "#19d3f3",
                      "#FF6692",
                      "#B6E880",
                      "#FF97FF",
                      "#FECB52"
                    ],
                    "font": {
                      "color": "#2a3f5f"
                    },
                    "geo": {
                      "bgcolor": "white",
                      "lakecolor": "white",
                      "landcolor": "#E5ECF6",
                      "showlakes": true,
                      "showland": true,
                      "subunitcolor": "white"
                    },
                    "hoverlabel": {
                      "align": "left"
                    },
                    "hovermode": "closest",
                    "mapbox": {
                      "style": "light"
                    },
                    "paper_bgcolor": "white",
                    "plot_bgcolor": "#E5ECF6",
                    "polar": {
                      "angularaxis": {
                        "gridcolor": "white",
                        "linecolor": "white",
                        "ticks": ""
                      },
                      "bgcolor": "#E5ECF6",
                      "radialaxis": {
                        "gridcolor": "white",
                        "linecolor": "white",
                        "ticks": ""
                      }
                    },
                    "scene": {
                      "xaxis": {
                        "backgroundcolor": "#E5ECF6",
                        "gridcolor": "white",
                        "gridwidth": 2,
                        "linecolor": "white",
                        "showbackground": true,
                        "ticks": "",
                        "zerolinecolor": "white"
                      },
                      "yaxis": {
                        "backgroundcolor": "#E5ECF6",
                        "gridcolor": "white",
                        "gridwidth": 2,
                        "linecolor": "white",
                        "showbackground": true,
                        "ticks": "",
                        "zerolinecolor": "white"
                      },
                      "zaxis": {
                        "backgroundcolor": "#E5ECF6",
                        "gridcolor": "white",
                        "gridwidth": 2,
                        "linecolor": "white",
                        "showbackground": true,
                        "ticks": "",
                        "zerolinecolor": "white"
                      }
                    },
                    "shapedefaults": {
                      "line": {
                        "color": "#2a3f5f"
                      }
                    },
                    "ternary": {
                      "aaxis": {
                        "gridcolor": "white",
                        "linecolor": "white",
                        "ticks": ""
                      },
                      "baxis": {
                        "gridcolor": "white",
                        "linecolor": "white",
                        "ticks": ""
                      },
                      "bgcolor": "#E5ECF6",
                      "caxis": {
                        "gridcolor": "white",
                        "linecolor": "white",
                        "ticks": ""
                      }
                    },
                    "title": {
                      "x": 0.05
                    },
                    "xaxis": {
                      "automargin": true,
                      "gridcolor": "white",
                      "linecolor": "white",
                      "ticks": "",
                      "title": {
                        "standoff": 15
                      },
                      "zerolinecolor": "white",
                      "zerolinewidth": 2
                    },
                    "yaxis": {
                      "automargin": true,
                      "gridcolor": "white",
                      "linecolor": "white",
                      "ticks": "",
                      "title": {
                        "standoff": 15
                      },
                      "zerolinecolor": "white",
                      "zerolinewidth": 2
                    }
                  }
                },
                "title": {
                  "text": " students-staff ratio in 2011 and 2012"
                },
                "xaxis": {
                  "title": {
                    "text": "student_staff_ratio"
                  }
                },
                "yaxis": {
                  "title": {
                    "text": "Counts"
                  }
                }
              }
            }
          },
          "metadata": {},
          "output_type": "display_data"
        }
      ],
      "source": [
        "fst_trace= go.Histogram(x= x2011,\n",
        "                        opacity= 0.75,\n",
        "                        name= '2011',\n",
        "                        marker= dict(color= 'rgba(0, 200, 255, 0.8)'))\n",
        "\n",
        "scs_trace=go.Histogram(x= x2012,\n",
        "                        opacity= 0.75,\n",
        "                        name= '2012',\n",
        "                        marker= dict(color= 'rgba(255, 128, 255, 0.8)'))\n",
        "\n",
        "data= [fst_trace, scs_trace] \n",
        "layout= go.Layout(barmode= 'overlay',\n",
        "                  title= ' students-staff ratio in 2011 and 2012',\n",
        "                  xaxis= dict(title= 'student_staff_ratio'),\n",
        "                  yaxis= dict(title= 'Counts'))\n",
        "fig= dict(data= data, layout= layout)\n",
        "iplot(fig)\n"
      ]
    },
    {
      "cell_type": "markdown",
      "metadata": {
        "id": "fLr_tD6eNnoL"
      },
      "source": [
        "# Word Cloud\n",
        "# Most Mentioned Country In 2011\n",
        "* A Wordcloud (or Tag cloud) is a visual representation of text data. It displays a list of words, the importance of each beeing shown with font size or color"
      ]
    },
    {
      "cell_type": "code",
      "execution_count": 19,
      "metadata": {
        "colab": {
          "base_uri": "https://localhost:8080/",
          "height": 449
        },
        "id": "7c0nyeYtM3j7",
        "outputId": "f00af54f-8a85-42ca-97a8-9a42e9069894"
      },
      "outputs": [
        {
          "data": {
            "image/png": "[encoded data removed]",
            "text/plain": [
              "<Figure size 1000x1000 with 1 Axes>"
            ]
          },
          "metadata": {},
          "output_type": "display_data"
        }
      ],
      "source": [
        "plt.subplots(figsize=(10,10))\n",
        "cloud= WordCloud(background_color='black', width= 512, height= 384).generate(\" \".join(x11))\n",
        "\n",
        "plt.imshow(cloud)\n",
        "plt.axis('off')\n",
        "plt.savefig('graph.png')\n",
        "plt.show()\n"
      ]
    },
    {
      "cell_type": "markdown",
      "metadata": {
        "id": "o4qAg0YdUdbY"
      },
      "source": [
        "# Box Plot\n",
        "# Total Score and Research in 2015"
      ]
    },
    {
      "cell_type": "code",
      "execution_count": 20,
      "metadata": {
        "colab": {
          "base_uri": "https://localhost:8080/",
          "height": 542
        },
        "id": "7_Pqx2ZMPuy0",
        "outputId": "2af3a0a7-a864-4d7f-d698-2b741b52c56d"
      },
      "outputs": [
        {
          "data": {
            "application/vnd.plotly.v1+json": {
              "config": {
                "linkText": "Export to plot.ly",
                "plotlyServerURL": "https://plot.ly",
                "showLink": false
              },
              "data": [
                {
                  "marker": {
                    "color": "rgba(16, 112, 2, 0.8)"
                  },
                  "name": "total score of universities in 2015",
                  "type": "box",
                  "y": [
                    "94.3",
                    "93.3",
                    "93.2",
                    "92.9",
                    "92.0",
                    "91.9",
                    "90.9",
                    "89.5",
                    "87.5",
                    "87.5",
                    "87.1",
                    "85.5",
                    "84.6",
                    "84.4",
                    "83.0",
                    "81.0",
                    "80.9",
                    "79.9",
                    "79.4",
                    "79.3",
                    "79.2",
                    "78.7",
                    "76.1",
                    "74.3",
                    "73.3",
                    "73.2",
                    "72.8",
                    "72.3",
                    "71.9",
                    "71.9",
                    "71.9",
                    "71.8",
                    "71.2",
                    "70.9",
                    "70.9",
                    "70.4",
                    "70.0",
                    "69.9",
                    "69.6",
                    "69.4",
                    "68.6",
                    "67.8",
                    "67.5",
                    "66.8",
                    "66.5",
                    "65.9",
                    "65.9",
                    "65.2",
                    "65.1",
                    "64.8",
                    "64.7",
                    "64.5",
                    "64.5",
                    "64.1",
                    "63.7",
                    "63.7",
                    "63.6",
                    "62.9",
                    "62.8",
                    "62.7",
                    "62.2",
                    "62.2",
                    "61.9",
                    "61.3",
                    "61.2",
                    "61.1",
                    "61.0",
                    "60.7",
                    "59.8",
                    "59.6",
                    "59.2",
                    "59.1",
                    "59.0",
                    "58.9",
                    "58.4",
                    "58.4",
                    "58.2",
                    "58.1",
                    "58.0",
                    "57.9",
                    "57.6",
                    "57.3",
                    "56.9",
                    "56.9",
                    "56.6",
                    "56.5",
                    "56.5",
                    "56.4",
                    "56.4",
                    "56.2",
                    "56.1",
                    "56.1",
                    "55.5",
                    "55.3",
                    "55.3",
                    "55.2",
                    "55.1",
                    "54.6",
                    "54.6",
                    "54.6",
                    "54.3",
                    "54.0",
                    "53.9",
                    "53.9",
                    "53.9",
                    "53.9",
                    "53.8",
                    "53.8",
                    "53.7",
                    "53.7",
                    "53.6",
                    "53.6",
                    "53.4",
                    "53.4",
                    "53.4",
                    "53.2",
                    "53.1",
                    "53.0",
                    "52.9",
                    "52.8",
                    "52.7",
                    "52.7",
                    "52.7",
                    "52.6",
                    "52.6",
                    "52.5",
                    "52.5",
                    "52.5",
                    "52.4",
                    "52.1",
                    "52.0",
                    "51.9",
                    "51.9",
                    "51.9",
                    "51.6",
                    "51.4",
                    "51.4",
                    "51.2",
                    "51.1",
                    "51.0",
                    "50.9",
                    "50.9",
                    "50.9",
                    "50.5",
                    "50.5",
                    "50.4",
                    "50.3",
                    "50.2",
                    "50.2",
                    "50.1",
                    "50.1",
                    "50.0",
                    "49.9",
                    "49.7",
                    "49.3",
                    "49.2",
                    "49.1",
                    "49.1",
                    "49.1",
                    "49.0",
                    "49.0",
                    "48.6",
                    "48.3",
                    "48.2",
                    "48.1",
                    "48.1",
                    "48.1",
                    "48.1",
                    "48.0",
                    "47.9",
                    "47.8",
                    "47.8",
                    "47.7",
                    "47.7",
                    "47.5",
                    "47.5",
                    "47.3",
                    "47.1",
                    "47.1",
                    "47.0",
                    "47.0",
                    "46.9",
                    "46.9",
                    "46.9",
                    "46.8",
                    "46.7",
                    "46.7",
                    "46.6",
                    "46.6",
                    "46.6",
                    "46.5",
                    "46.3",
                    "46.2",
                    "46.2",
                    "46.1",
                    "46.0",
                    "46.0",
                    "45.9",
                    "45.7",
                    "45.6",
                    "45.6",
                    "-",
                    "-",
                    "-",
                    "-",
                    "-",
                    "-",
                    "-",
                    "-",
                    "-",
                    "-",
                    "-",
                    "-",
                    "-",
                    "-",
                    "-",
                    "-",
                    "-",
                    "-",
                    "-",
                    "-",
                    "-",
                    "-",
                    "-",
                    "-",
                    "-",
                    "-",
                    "-",
                    "-",
                    "-",
                    "-",
                    "-",
                    "-",
                    "-",
                    "-",
                    "-",
                    "-",
                    "-",
                    "-",
                    "-",
                    "-",
                    "-",
                    "-",
                    "-",
                    "-",
                    "-",
                    "-",
                    "-",
                    "-",
                    "-",
                    "-",
                    "-",
                    "-",
                    "-",
                    "-",
                    "-",
                    "-",
                    "-",
                    "-",
                    "-",
                    "-",
                    "-",
                    "-",
                    "-",
                    "-",
                    "-",
                    "-",
                    "-",
                    "-",
                    "-",
                    "-",
                    "-",
                    "-",
                    "-",
                    "-",
                    "-",
                    "-",
                    "-",
                    "-",
                    "-",
                    "-",
                    "-",
                    "-",
                    "-",
                    "-",
                    "-",
                    "-",
                    "-",
                    "-",
                    "-",
                    "-",
                    "-",
                    "-",
                    "-",
                    "-",
                    "-",
                    "-",
                    "-",
                    "-",
                    "-",
                    "-",
                    "-",
                    "-",
                    "-",
                    "-",
                    "-",
                    "-",
                    "-",
                    "-",
                    "-",
                    "-",
                    "-",
                    "-",
                    "-",
                    "-",
                    "-",
                    "-",
                    "-",
                    "-",
                    "-",
                    "-",
                    "-",
                    "-",
                    "-",
                    "-",
                    "-",
                    "-",
                    "-",
                    "-",
                    "-",
                    "-",
                    "-",
                    "-",
                    "-",
                    "-",
                    "-",
                    "-",
                    "-",
                    "-",
                    "-",
                    "-",
                    "-",
                    "-",
                    "-",
                    "-",
                    "-",
                    "-",
                    "-",
                    "-",
                    "-",
                    "-",
                    "-",
                    "-",
                    "-",
                    "-",
                    "-",
                    "-",
                    "-",
                    "-",
                    "-",
                    "-",
                    "-",
                    "-",
                    "-",
                    "-",
                    "-",
                    "-",
                    "-",
                    "-",
                    "-",
                    "-",
                    "-",
                    "-",
                    "-",
                    "-",
                    "-",
                    "-",
                    "-",
                    "-",
                    "-",
                    "-",
                    "-",
                    "-",
                    "-",
                    "-",
                    "-",
                    "-",
                    "-",
                    "-",
                    "-",
                    "-",
                    "-",
                    "-",
                    "-",
                    "-",
                    "-",
                    "-",
                    "-",
                    "-",
                    "-",
                    "-"
                  ]
                },
                {
                  "marker": {
                    "color": "rgb(12, 12, 140)"
                  },
                  "name": "research",
                  "type": "box",
                  "y": [
                    98.1,
                    98.6,
                    97.7,
                    96.7,
                    95.6,
                    88.2,
                    94.7,
                    96.7,
                    88.3,
                    90.8,
                    89.9,
                    90.5,
                    90.2,
                    79.4,
                    84.2,
                    82,
                    86.5,
                    75.2,
                    83.8,
                    85.1,
                    78.9,
                    80.4,
                    85.1,
                    74.9,
                    78.1,
                    68.9,
                    71.2,
                    72,
                    69.1,
                    79,
                    71.3,
                    69,
                    70.9,
                    74.2,
                    56.9,
                    62.9,
                    61.4,
                    62.4,
                    69.9,
                    62.3,
                    66.6,
                    55.2,
                    72.6,
                    68,
                    70.9,
                    64.7,
                    58.6,
                    61.9,
                    68.3,
                    77.1,
                    66.8,
                    63.2,
                    58.7,
                    54.2,
                    63.6,
                    59.7,
                    46.7,
                    64.8,
                    68.4,
                    60.8,
                    55.9,
                    47.1,
                    46,
                    58.2,
                    58.4,
                    49.3,
                    48,
                    51.1,
                    37.1,
                    45.4,
                    71.4,
                    53.7,
                    46.8,
                    44.7,
                    41.1,
                    44.6,
                    55.4,
                    36.2,
                    54.8,
                    52.6,
                    58,
                    49.4,
                    40.7,
                    54.4,
                    36.9,
                    51.4,
                    38.5,
                    33.9,
                    41.7,
                    51.6,
                    49.1,
                    46.3,
                    32.4,
                    43.2,
                    40.5,
                    38.2,
                    38.3,
                    45,
                    37.4,
                    53,
                    48.1,
                    50.5,
                    30,
                    48.1,
                    45.8,
                    33.1,
                    32.9,
                    37.2,
                    31.9,
                    51.9,
                    35.9,
                    30.4,
                    44.4,
                    44.7,
                    33.8,
                    37.4,
                    50.8,
                    22.4,
                    48.5,
                    33.1,
                    28.2,
                    29.2,
                    39.1,
                    47.1,
                    35.3,
                    29.1,
                    44.8,
                    52.1,
                    53.5,
                    35.9,
                    36.1,
                    36.9,
                    39.1,
                    34.1,
                    42,
                    39.9,
                    43.2,
                    30.3,
                    27.6,
                    46.7,
                    26.7,
                    51.9,
                    52.9,
                    47.1,
                    45.3,
                    39.1,
                    29.1,
                    50.2,
                    39.8,
                    35.1,
                    27.5,
                    35.4,
                    47.5,
                    32.7,
                    57.3,
                    29.9,
                    48,
                    33.2,
                    38.1,
                    34.4,
                    33.8,
                    36.5,
                    28.1,
                    40.4,
                    36.9,
                    34.9,
                    28.3,
                    47.3,
                    27.2,
                    33.6,
                    35.8,
                    34.9,
                    28.2,
                    30.6,
                    33.4,
                    33.5,
                    24.4,
                    29.3,
                    30.2,
                    19.7,
                    36.3,
                    37.5,
                    27.1,
                    39.7,
                    21.9,
                    35.2,
                    23.9,
                    24.4,
                    51.1,
                    34.7,
                    39.8,
                    32.9,
                    34,
                    30.9,
                    22.2,
                    42.1,
                    27.3,
                    22.6,
                    31.6,
                    13.1,
                    25.1,
                    27.7,
                    30.4,
                    22.4,
                    36.3,
                    36.5,
                    44.3,
                    29.6,
                    37.5,
                    22,
                    28.8,
                    27.9,
                    22.5,
                    34.1,
                    17.1,
                    34,
                    27.3,
                    23.4,
                    51.6,
                    28.2,
                    16,
                    45.3,
                    36.2,
                    23.5,
                    19.9,
                    45.8,
                    29.2,
                    29.3,
                    21.4,
                    24.5,
                    30,
                    29.9,
                    23.2,
                    31.8,
                    26.2,
                    29.3,
                    35,
                    32.3,
                    9.8,
                    28.1,
                    30.5,
                    38.2,
                    24.3,
                    33.4,
                    23,
                    32.5,
                    35.7,
                    17.3,
                    32.4,
                    35.3,
                    31.3,
                    10.1,
                    17,
                    23.3,
                    40.3,
                    24.8,
                    33.4,
                    25.1,
                    25.2,
                    33.7,
                    27.6,
                    30.7,
                    24.7,
                    18.1,
                    23.4,
                    29.9,
                    27.7,
                    19.2,
                    25.6,
                    37.9,
                    12.1,
                    21.7,
                    20.3,
                    20.3,
                    40.4,
                    32.8,
                    31.3,
                    39.5,
                    25.5,
                    22.5,
                    40.7,
                    29.6,
                    10.5,
                    18.1,
                    36,
                    37.9,
                    31.2,
                    45.1,
                    22.9,
                    22.2,
                    23.2,
                    22.4,
                    15.3,
                    19.7,
                    28.9,
                    20.3,
                    22.9,
                    24.4,
                    24,
                    27.5,
                    27.8,
                    28.5,
                    40,
                    19.3,
                    23,
                    17.8,
                    24.3,
                    10.4,
                    20.6,
                    14.3,
                    13.2,
                    17.3,
                    16.5,
                    24.4,
                    24.8,
                    17.2,
                    21.1,
                    26.6,
                    14.7,
                    24.8,
                    28.1,
                    34.7,
                    38.8,
                    25.2,
                    20.7,
                    25.1,
                    23.4,
                    18.4,
                    27.1,
                    16.8,
                    13.7,
                    29,
                    25.8,
                    24,
                    20.1,
                    29.4,
                    6.5,
                    13.7,
                    16.5,
                    15.7,
                    18.2,
                    18.8,
                    20.5,
                    25.1,
                    17.3,
                    22.2,
                    21.6,
                    12,
                    13.6,
                    15.2,
                    33.1,
                    28.5,
                    20.6,
                    21.6,
                    12.9,
                    19.1,
                    17.2,
                    17.1,
                    18,
                    20.3,
                    32.3,
                    27.5,
                    24.6,
                    14.3,
                    27.3,
                    10,
                    28.5,
                    16.6,
                    27.6,
                    17.8,
                    40.1,
                    32.9,
                    42.6,
                    18.9,
                    22.5,
                    16.3,
                    16.9,
                    25.7,
                    18.1,
                    21.6,
                    15.2,
                    17.3,
                    17.3,
                    10.9,
                    22.8,
                    18.4,
                    16.2,
                    22,
                    22.3,
                    10.6,
                    11.8,
                    20.2,
                    21.8,
                    19.4,
                    17,
                    17.9,
                    16.3,
                    27.5,
                    22.4,
                    17.4,
                    8
                  ]
                }
              ],
              "layout": {
                "template": {
                  "data": {
                    "bar": [
                      {
                        "error_x": {
                          "color": "#2a3f5f"
                        },
                        "error_y": {
                          "color": "#2a3f5f"
                        },
                        "marker": {
                          "line": {
                            "color": "#E5ECF6",
                            "width": 0.5
                          },
                          "pattern": {
                            "fillmode": "overlay",
                            "size": 10,
                            "solidity": 0.2
                          }
                        },
                        "type": "bar"
                      }
                    ],
                    "barpolar": [
                      {
                        "marker": {
                          "line": {
                            "color": "#E5ECF6",
                            "width": 0.5
                          },
                          "pattern": {
                            "fillmode": "overlay",
                            "size": 10,
                            "solidity": 0.2
                          }
                        },
                        "type": "barpolar"
                      }
                    ],
                    "carpet": [
                      {
                        "aaxis": {
                          "endlinecolor": "#2a3f5f",
                          "gridcolor": "white",
                          "linecolor": "white",
                          "minorgridcolor": "white",
                          "startlinecolor": "#2a3f5f"
                        },
                        "baxis": {
                          "endlinecolor": "#2a3f5f",
                          "gridcolor": "white",
                          "linecolor": "white",
                          "minorgridcolor": "white",
                          "startlinecolor": "#2a3f5f"
                        },
                        "type": "carpet"
                      }
                    ],
                    "choropleth": [
                      {
                        "colorbar": {
                          "outlinewidth": 0,
                          "ticks": ""
                        },
                        "type": "choropleth"
                      }
                    ],
                    "contour": [
                      {
                        "colorbar": {
                          "outlinewidth": 0,
                          "ticks": ""
                        },
                        "colorscale": [
                          [
                            0,
                            "#0d0887"
                          ],
                          [
                            0.1111111111111111,
                            "#46039f"
                          ],
                          [
                            0.2222222222222222,
                            "#7201a8"
                          ],
                          [
                            0.3333333333333333,
                            "#9c179e"
                          ],
                          [
                            0.4444444444444444,
                            "#bd3786"
                          ],
                          [
                            0.5555555555555556,
                            "#d8576b"
                          ],
                          [
                            0.6666666666666666,
                            "#ed7953"
                          ],
                          [
                            0.7777777777777778,
                            "#fb9f3a"
                          ],
                          [
                            0.8888888888888888,
                            "#fdca26"
                          ],
                          [
                            1,
                            "#f0f921"
                          ]
                        ],
                        "type": "contour"
                      }
                    ],
                    "contourcarpet": [
                      {
                        "colorbar": {
                          "outlinewidth": 0,
                          "ticks": ""
                        },
                        "type": "contourcarpet"
                      }
                    ],
                    "heatmap": [
                      {
                        "colorbar": {
                          "outlinewidth": 0,
                          "ticks": ""
                        },
                        "colorscale": [
                          [
                            0,
                            "#0d0887"
                          ],
                          [
                            0.1111111111111111,
                            "#46039f"
                          ],
                          [
                            0.2222222222222222,
                            "#7201a8"
                          ],
                          [
                            0.3333333333333333,
                            "#9c179e"
                          ],
                          [
                            0.4444444444444444,
                            "#bd3786"
                          ],
                          [
                            0.5555555555555556,
                            "#d8576b"
                          ],
                          [
                            0.6666666666666666,
                            "#ed7953"
                          ],
                          [
                            0.7777777777777778,
                            "#fb9f3a"
                          ],
                          [
                            0.8888888888888888,
                            "#fdca26"
                          ],
                          [
                            1,
                            "#f0f921"
                          ]
                        ],
                        "type": "heatmap"
                      }
                    ],
                    "heatmapgl": [
                      {
                        "colorbar": {
                          "outlinewidth": 0,
                          "ticks": ""
                        },
                        "colorscale": [
                          [
                            0,
                            "#0d0887"
                          ],
                          [
                            0.1111111111111111,
                            "#46039f"
                          ],
                          [
                            0.2222222222222222,
                            "#7201a8"
                          ],
                          [
                            0.3333333333333333,
                            "#9c179e"
                          ],
                          [
                            0.4444444444444444,
                            "#bd3786"
                          ],
                          [
                            0.5555555555555556,
                            "#d8576b"
                          ],
                          [
                            0.6666666666666666,
                            "#ed7953"
                          ],
                          [
                            0.7777777777777778,
                            "#fb9f3a"
                          ],
                          [
                            0.8888888888888888,
                            "#fdca26"
                          ],
                          [
                            1,
                            "#f0f921"
                          ]
                        ],
                        "type": "heatmapgl"
                      }
                    ],
                    "histogram": [
                      {
                        "marker": {
                          "pattern": {
                            "fillmode": "overlay",
                            "size": 10,
                            "solidity": 0.2
                          }
                        },
                        "type": "histogram"
                      }
                    ],
                    "histogram2d": [
                      {
                        "colorbar": {
                          "outlinewidth": 0,
                          "ticks": ""
                        },
                        "colorscale": [
                          [
                            0,
                            "#0d0887"
                          ],
                          [
                            0.1111111111111111,
                            "#46039f"
                          ],
                          [
                            0.2222222222222222,
                            "#7201a8"
                          ],
                          [
                            0.3333333333333333,
                            "#9c179e"
                          ],
                          [
                            0.4444444444444444,
                            "#bd3786"
                          ],
                          [
                            0.5555555555555556,
                            "#d8576b"
                          ],
                          [
                            0.6666666666666666,
                            "#ed7953"
                          ],
                          [
                            0.7777777777777778,
                            "#fb9f3a"
                          ],
                          [
                            0.8888888888888888,
                            "#fdca26"
                          ],
                          [
                            1,
                            "#f0f921"
                          ]
                        ],
                        "type": "histogram2d"
                      }
                    ],
                    "histogram2dcontour": [
                      {
                        "colorbar": {
                          "outlinewidth": 0,
                          "ticks": ""
                        },
                        "colorscale": [
                          [
                            0,
                            "#0d0887"
                          ],
                          [
                            0.1111111111111111,
                            "#46039f"
                          ],
                          [
                            0.2222222222222222,
                            "#7201a8"
                          ],
                          [
                            0.3333333333333333,
                            "#9c179e"
                          ],
                          [
                            0.4444444444444444,
                            "#bd3786"
                          ],
                          [
                            0.5555555555555556,
                            "#d8576b"
                          ],
                          [
                            0.6666666666666666,
                            "#ed7953"
                          ],
                          [
                            0.7777777777777778,
                            "#fb9f3a"
                          ],
                          [
                            0.8888888888888888,
                            "#fdca26"
                          ],
                          [
                            1,
                            "#f0f921"
                          ]
                        ],
                        "type": "histogram2dcontour"
                      }
                    ],
                    "mesh3d": [
                      {
                        "colorbar": {
                          "outlinewidth": 0,
                          "ticks": ""
                        },
                        "type": "mesh3d"
                      }
                    ],
                    "parcoords": [
                      {
                        "line": {
                          "colorbar": {
                            "outlinewidth": 0,
                            "ticks": ""
                          }
                        },
                        "type": "parcoords"
                      }
                    ],
                    "pie": [
                      {
                        "automargin": true,
                        "type": "pie"
                      }
                    ],
                    "scatter": [
                      {
                        "fillpattern": {
                          "fillmode": "overlay",
                          "size": 10,
                          "solidity": 0.2
                        },
                        "type": "scatter"
                      }
                    ],
                    "scatter3d": [
                      {
                        "line": {
                          "colorbar": {
                            "outlinewidth": 0,
                            "ticks": ""
                          }
                        },
                        "marker": {
                          "colorbar": {
                            "outlinewidth": 0,
                            "ticks": ""
                          }
                        },
                        "type": "scatter3d"
                      }
                    ],
                    "scattercarpet": [
                      {
                        "marker": {
                          "colorbar": {
                            "outlinewidth": 0,
                            "ticks": ""
                          }
                        },
                        "type": "scattercarpet"
                      }
                    ],
                    "scattergeo": [
                      {
                        "marker": {
                          "colorbar": {
                            "outlinewidth": 0,
                            "ticks": ""
                          }
                        },
                        "type": "scattergeo"
                      }
                    ],
                    "scattergl": [
                      {
                        "marker": {
                          "colorbar": {
                            "outlinewidth": 0,
                            "ticks": ""
                          }
                        },
                        "type": "scattergl"
                      }
                    ],
                    "scattermapbox": [
                      {
                        "marker": {
                          "colorbar": {
                            "outlinewidth": 0,
                            "ticks": ""
                          }
                        },
                        "type": "scattermapbox"
                      }
                    ],
                    "scatterpolar": [
                      {
                        "marker": {
                          "colorbar": {
                            "outlinewidth": 0,
                            "ticks": ""
                          }
                        },
                        "type": "scatterpolar"
                      }
                    ],
                    "scatterpolargl": [
                      {
                        "marker": {
                          "colorbar": {
                            "outlinewidth": 0,
                            "ticks": ""
                          }
                        },
                        "type": "scatterpolargl"
                      }
                    ],
                    "scatterternary": [
                      {
                        "marker": {
                          "colorbar": {
                            "outlinewidth": 0,
                            "ticks": ""
                          }
                        },
                        "type": "scatterternary"
                      }
                    ],
                    "surface": [
                      {
                        "colorbar": {
                          "outlinewidth": 0,
                          "ticks": ""
                        },
                        "colorscale": [
                          [
                            0,
                            "#0d0887"
                          ],
                          [
                            0.1111111111111111,
                            "#46039f"
                          ],
                          [
                            0.2222222222222222,
                            "#7201a8"
                          ],
                          [
                            0.3333333333333333,
                            "#9c179e"
                          ],
                          [
                            0.4444444444444444,
                            "#bd3786"
                          ],
                          [
                            0.5555555555555556,
                            "#d8576b"
                          ],
                          [
                            0.6666666666666666,
                            "#ed7953"
                          ],
                          [
                            0.7777777777777778,
                            "#fb9f3a"
                          ],
                          [
                            0.8888888888888888,
                            "#fdca26"
                          ],
                          [
                            1,
                            "#f0f921"
                          ]
                        ],
                        "type": "surface"
                      }
                    ],
                    "table": [
                      {
                        "cells": {
                          "fill": {
                            "color": "#EBF0F8"
                          },
                          "line": {
                            "color": "white"
                          }
                        },
                        "header": {
                          "fill": {
                            "color": "#C8D4E3"
                          },
                          "line": {
                            "color": "white"
                          }
                        },
                        "type": "table"
                      }
                    ]
                  },
                  "layout": {
                    "annotationdefaults": {
                      "arrowcolor": "#2a3f5f",
                      "arrowhead": 0,
                      "arrowwidth": 1
                    },
                    "autotypenumbers": "strict",
                    "coloraxis": {
                      "colorbar": {
                        "outlinewidth": 0,
                        "ticks": ""
                      }
                    },
                    "colorscale": {
                      "diverging": [
                        [
                          0,
                          "#8e0152"
                        ],
                        [
                          0.1,
                          "#c51b7d"
                        ],
                        [
                          0.2,
                          "#de77ae"
                        ],
                        [
                          0.3,
                          "#f1b6da"
                        ],
                        [
                          0.4,
                          "#fde0ef"
                        ],
                        [
                          0.5,
                          "#f7f7f7"
                        ],
                        [
                          0.6,
                          "#e6f5d0"
                        ],
                        [
                          0.7,
                          "#b8e186"
                        ],
                        [
                          0.8,
                          "#7fbc41"
                        ],
                        [
                          0.9,
                          "#4d9221"
                        ],
                        [
                          1,
                          "#276419"
                        ]
                      ],
                      "sequential": [
                        [
                          0,
                          "#0d0887"
                        ],
                        [
                          0.1111111111111111,
                          "#46039f"
                        ],
                        [
                          0.2222222222222222,
                          "#7201a8"
                        ],
                        [
                          0.3333333333333333,
                          "#9c179e"
                        ],
                        [
                          0.4444444444444444,
                          "#bd3786"
                        ],
                        [
                          0.5555555555555556,
                          "#d8576b"
                        ],
                        [
                          0.6666666666666666,
                          "#ed7953"
                        ],
                        [
                          0.7777777777777778,
                          "#fb9f3a"
                        ],
                        [
                          0.8888888888888888,
                          "#fdca26"
                        ],
                        [
                          1,
                          "#f0f921"
                        ]
                      ],
                      "sequentialminus": [
                        [
                          0,
                          "#0d0887"
                        ],
                        [
                          0.1111111111111111,
                          "#46039f"
                        ],
                        [
                          0.2222222222222222,
                          "#7201a8"
                        ],
                        [
                          0.3333333333333333,
                          "#9c179e"
                        ],
                        [
                          0.4444444444444444,
                          "#bd3786"
                        ],
                        [
                          0.5555555555555556,
                          "#d8576b"
                        ],
                        [
                          0.6666666666666666,
                          "#ed7953"
                        ],
                        [
                          0.7777777777777778,
                          "#fb9f3a"
                        ],
                        [
                          0.8888888888888888,
                          "#fdca26"
                        ],
                        [
                          1,
                          "#f0f921"
                        ]
                      ]
                    },
                    "colorway": [
                      "#636efa",
                      "#EF553B",
                      "#00cc96",
                      "#ab63fa",
                      "#FFA15A",
                      "#19d3f3",
                      "#FF6692",
                      "#B6E880",
                      "#FF97FF",
                      "#FECB52"
                    ],
                    "font": {
                      "color": "#2a3f5f"
                    },
                    "geo": {
                      "bgcolor": "white",
                      "lakecolor": "white",
                      "landcolor": "#E5ECF6",
                      "showlakes": true,
                      "showland": true,
                      "subunitcolor": "white"
                    },
                    "hoverlabel": {
                      "align": "left"
                    },
                    "hovermode": "closest",
                    "mapbox": {
                      "style": "light"
                    },
                    "paper_bgcolor": "white",
                    "plot_bgcolor": "#E5ECF6",
                    "polar": {
                      "angularaxis": {
                        "gridcolor": "white",
                        "linecolor": "white",
                        "ticks": ""
                      },
                      "bgcolor": "#E5ECF6",
                      "radialaxis": {
                        "gridcolor": "white",
                        "linecolor": "white",
                        "ticks": ""
                      }
                    },
                    "scene": {
                      "xaxis": {
                        "backgroundcolor": "#E5ECF6",
                        "gridcolor": "white",
                        "gridwidth": 2,
                        "linecolor": "white",
                        "showbackground": true,
                        "ticks": "",
                        "zerolinecolor": "white"
                      },
                      "yaxis": {
                        "backgroundcolor": "#E5ECF6",
                        "gridcolor": "white",
                        "gridwidth": 2,
                        "linecolor": "white",
                        "showbackground": true,
                        "ticks": "",
                        "zerolinecolor": "white"
                      },
                      "zaxis": {
                        "backgroundcolor": "#E5ECF6",
                        "gridcolor": "white",
                        "gridwidth": 2,
                        "linecolor": "white",
                        "showbackground": true,
                        "ticks": "",
                        "zerolinecolor": "white"
                      }
                    },
                    "shapedefaults": {
                      "line": {
                        "color": "#2a3f5f"
                      }
                    },
                    "ternary": {
                      "aaxis": {
                        "gridcolor": "white",
                        "linecolor": "white",
                        "ticks": ""
                      },
                      "baxis": {
                        "gridcolor": "white",
                        "linecolor": "white",
                        "ticks": ""
                      },
                      "bgcolor": "#E5ECF6",
                      "caxis": {
                        "gridcolor": "white",
                        "linecolor": "white",
                        "ticks": ""
                      }
                    },
                    "title": {
                      "x": 0.05
                    },
                    "xaxis": {
                      "automargin": true,
                      "gridcolor": "white",
                      "linecolor": "white",
                      "ticks": "",
                      "title": {
                        "standoff": 15
                      },
                      "zerolinecolor": "white",
                      "zerolinewidth": 2
                    },
                    "yaxis": {
                      "automargin": true,
                      "gridcolor": "white",
                      "linecolor": "white",
                      "ticks": "",
                      "title": {
                        "standoff": 15
                      },
                      "zerolinecolor": "white",
                      "zerolinewidth": 2
                    }
                  }
                }
              }
            }
          },
          "metadata": {},
          "output_type": "display_data"
        }
      ],
      "source": [
        "trace= go.Box(y= x2015.total_score,\n",
        "              name= 'total score of universities in 2015',\n",
        "              marker=dict(color= 'rgba(16, 112, 2, 0.8)'))\n",
        "\n",
        "traces= go.Box(y= x2015.research,\n",
        "               name= 'research',\n",
        "               marker= dict(color= 'rgb(12, 12, 140)'))\n",
        "\n",
        "data= [trace, traces]\n",
        "iplot(data)"
      ]
    },
    {
      "cell_type": "markdown",
      "metadata": {
        "id": "aMOodDOGXBKZ"
      },
      "source": [
        "# Scatter MatrixPlot\n",
        "#Research, Total_Score, International In 2015"
      ]
    },
    {
      "cell_type": "code",
      "execution_count": 21,
      "metadata": {
        "colab": {
          "base_uri": "https://localhost:8080/",
          "height": 717
        },
        "id": "gNCJI76tXAq8",
        "outputId": "48704095-1b36-422d-f959-33569d8fd54c"
      },
      "outputs": [
        {
          "data": {
            "application/vnd.plotly.v1+json": {
              "config": {
                "linkText": "Export to plot.ly",
                "plotlyServerURL": "https://plot.ly",
                "showLink": false
              },
              "data": [
                {
                  "marker": {
                    "color": "rgb(12, 51, 131)"
                  },
                  "showlegend": false,
                  "type": "box",
                  "xaxis": "x",
                  "y": [
                    98.1,
                    98.6,
                    97.7,
                    96.7,
                    95.6,
                    88.2,
                    94.7,
                    96.7,
                    88.3,
                    90.8,
                    89.9,
                    90.5,
                    90.2,
                    79.4,
                    84.2,
                    82,
                    86.5,
                    75.2,
                    83.8,
                    85.1,
                    78.9,
                    80.4,
                    85.1,
                    74.9,
                    78.1,
                    68.9,
                    71.2,
                    72,
                    69.1,
                    79,
                    71.3,
                    69,
                    70.9,
                    74.2,
                    56.9,
                    62.9,
                    61.4,
                    62.4,
                    69.9,
                    62.3,
                    66.6,
                    55.2,
                    72.6,
                    68,
                    70.9,
                    64.7,
                    58.6,
                    61.9,
                    68.3,
                    77.1,
                    66.8,
                    63.2,
                    58.7,
                    54.2,
                    63.6,
                    59.7,
                    46.7,
                    64.8,
                    68.4,
                    60.8,
                    55.9,
                    47.1,
                    46,
                    58.2,
                    58.4,
                    49.3,
                    48,
                    51.1,
                    37.1,
                    45.4,
                    71.4,
                    53.7,
                    46.8,
                    44.7,
                    41.1,
                    44.6,
                    55.4,
                    36.2,
                    54.8,
                    52.6,
                    58,
                    49.4,
                    40.7,
                    54.4,
                    36.9,
                    51.4,
                    38.5,
                    33.9,
                    41.7,
                    51.6,
                    49.1,
                    46.3,
                    32.4,
                    43.2,
                    40.5,
                    38.2,
                    38.3,
                    45,
                    37.4,
                    53,
                    48.1,
                    50.5,
                    30,
                    48.1,
                    45.8,
                    33.1,
                    32.9,
                    37.2,
                    31.9,
                    51.9,
                    35.9,
                    30.4,
                    44.4,
                    44.7,
                    33.8,
                    37.4,
                    50.8,
                    22.4,
                    48.5,
                    33.1,
                    28.2,
                    29.2,
                    39.1,
                    47.1,
                    35.3,
                    29.1,
                    44.8,
                    52.1,
                    53.5,
                    35.9,
                    36.1,
                    36.9,
                    39.1,
                    34.1,
                    42,
                    39.9,
                    43.2,
                    30.3,
                    27.6,
                    46.7,
                    26.7,
                    51.9,
                    52.9,
                    47.1,
                    45.3,
                    39.1,
                    29.1,
                    50.2,
                    39.8,
                    35.1,
                    27.5,
                    35.4,
                    47.5,
                    32.7,
                    57.3,
                    29.9,
                    48,
                    33.2,
                    38.1,
                    34.4,
                    33.8,
                    36.5,
                    28.1,
                    40.4,
                    36.9,
                    34.9,
                    28.3,
                    47.3,
                    27.2,
                    33.6,
                    35.8,
                    34.9,
                    28.2,
                    30.6,
                    33.4,
                    33.5,
                    24.4,
                    29.3,
                    30.2,
                    19.7,
                    36.3,
                    37.5,
                    27.1,
                    39.7,
                    21.9,
                    35.2,
                    23.9,
                    24.4,
                    51.1,
                    34.7,
                    39.8,
                    32.9,
                    34,
                    30.9,
                    22.2,
                    42.1,
                    27.3,
                    22.6,
                    31.6,
                    13.1,
                    25.1,
                    27.7,
                    30.4,
                    22.4,
                    36.3,
                    36.5,
                    44.3,
                    29.6,
                    37.5,
                    22,
                    28.8,
                    27.9,
                    22.5,
                    34.1,
                    17.1,
                    34,
                    27.3,
                    23.4,
                    51.6,
                    28.2,
                    16,
                    45.3,
                    36.2,
                    23.5,
                    19.9,
                    45.8,
                    29.2,
                    29.3,
                    21.4,
                    24.5,
                    30,
                    29.9,
                    23.2,
                    31.8,
                    26.2,
                    29.3,
                    35,
                    32.3,
                    9.8,
                    28.1,
                    30.5,
                    38.2,
                    24.3,
                    33.4,
                    23,
                    32.5,
                    35.7,
                    17.3,
                    32.4,
                    35.3,
                    31.3,
                    10.1,
                    17,
                    23.3,
                    40.3,
                    24.8,
                    33.4,
                    25.1,
                    25.2,
                    33.7,
                    27.6,
                    30.7,
                    24.7,
                    18.1,
                    23.4,
                    29.9,
                    27.7,
                    19.2,
                    25.6,
                    37.9,
                    12.1,
                    21.7,
                    20.3,
                    20.3,
                    40.4,
                    32.8,
                    31.3,
                    39.5,
                    25.5,
                    22.5,
                    40.7,
                    29.6,
                    10.5,
                    18.1,
                    36,
                    37.9,
                    31.2,
                    45.1,
                    22.9,
                    22.2,
                    23.2,
                    22.4,
                    15.3,
                    19.7,
                    28.9,
                    20.3,
                    22.9,
                    24.4,
                    24,
                    27.5,
                    27.8,
                    28.5,
                    40,
                    19.3,
                    23,
                    17.8,
                    24.3,
                    10.4,
                    20.6,
                    14.3,
                    13.2,
                    17.3,
                    16.5,
                    24.4,
                    24.8,
                    17.2,
                    21.1,
                    26.6,
                    14.7,
                    24.8,
                    28.1,
                    34.7,
                    38.8,
                    25.2,
                    20.7,
                    25.1,
                    23.4,
                    18.4,
                    27.1,
                    16.8,
                    13.7,
                    29,
                    25.8,
                    24,
                    20.1,
                    29.4,
                    6.5,
                    13.7,
                    16.5,
                    15.7,
                    18.2,
                    18.8,
                    20.5,
                    25.1,
                    17.3,
                    22.2,
                    21.6,
                    12,
                    13.6,
                    15.2,
                    33.1,
                    28.5,
                    20.6,
                    21.6,
                    12.9,
                    19.1,
                    17.2,
                    17.1,
                    18,
                    20.3,
                    32.3,
                    27.5,
                    24.6,
                    14.3,
                    27.3,
                    10,
                    28.5,
                    16.6,
                    27.6,
                    17.8,
                    40.1,
                    32.9,
                    42.6,
                    18.9,
                    22.5,
                    16.3,
                    16.9,
                    25.7,
                    18.1,
                    21.6,
                    15.2,
                    17.3,
                    17.3,
                    10.9,
                    22.8,
                    18.4,
                    16.2,
                    22,
                    22.3,
                    10.6,
                    11.8,
                    20.2,
                    21.8,
                    19.4,
                    17,
                    17.9,
                    16.3,
                    27.5,
                    22.4,
                    17.4,
                    8
                  ],
                  "yaxis": "y"
                },
                {
                  "marker": {
                    "color": [
                      1,
                      2,
                      3,
                      4,
                      5,
                      6,
                      7,
                      8,
                      9,
                      10,
                      11,
                      12,
                      13,
                      14,
                      15,
                      16,
                      17,
                      18,
                      19,
                      20,
                      21,
                      22,
                      23,
                      24,
                      25,
                      26,
                      27,
                      28,
                      29,
                      30,
                      31,
                      32,
                      33,
                      34,
                      35,
                      36,
                      37,
                      38,
                      39,
                      40,
                      41,
                      42,
                      43,
                      44,
                      45,
                      46,
                      47,
                      48,
                      49,
                      50,
                      51,
                      52,
                      53,
                      54,
                      55,
                      56,
                      57,
                      58,
                      59,
                      60,
                      61,
                      62,
                      63,
                      64,
                      65,
                      66,
                      67,
                      68,
                      69,
                      70,
                      71,
                      72,
                      73,
                      74,
                      75,
                      76,
                      77,
                      78,
                      79,
                      80,
                      81,
                      82,
                      83,
                      84,
                      85,
                      86,
                      87,
                      88,
                      89,
                      90,
                      91,
                      92,
                      93,
                      94,
                      95,
                      96,
                      97,
                      98,
                      99,
                      100,
                      101,
                      102,
                      103,
                      104,
                      105,
                      106,
                      107,
                      108,
                      109,
                      110,
                      111,
                      112,
                      113,
                      114,
                      115,
                      116,
                      117,
                      118,
                      119,
                      120,
                      121,
                      122,
                      123,
                      124,
                      125,
                      126,
                      127,
                      128,
                      129,
                      130,
                      131,
                      132,
                      133,
                      134,
                      135,
                      136,
                      137,
                      138,
                      139,
                      140,
                      141,
                      142,
                      143,
                      144,
                      145,
                      146,
                      147,
                      148,
                      149,
                      150,
                      151,
                      152,
                      153,
                      154,
                      155,
                      156,
                      157,
                      158,
                      159,
                      160,
                      161,
                      162,
                      163,
                      164,
                      165,
                      166,
                      167,
                      168,
                      169,
                      170,
                      171,
                      172,
                      173,
                      174,
                      175,
                      176,
                      177,
                      178,
                      179,
                      180,
                      181,
                      182,
                      183,
                      184,
                      185,
                      186,
                      187,
                      188,
                      189,
                      190,
                      191,
                      192,
                      193,
                      194,
                      195,
                      196,
                      197,
                      198,
                      199,
                      200,
                      201,
                      202,
                      203,
                      204,
                      205,
                      206,
                      207,
                      208,
                      209,
                      210,
                      211,
                      212,
                      213,
                      214,
                      215,
                      216,
                      217,
                      218,
                      219,
                      220,
                      221,
                      222,
                      223,
                      224,
                      225,
                      226,
                      227,
                      228,
                      229,
                      230,
                      231,
                      232,
                      233,
                      234,
                      235,
                      236,
                      237,
                      238,
                      239,
                      240,
                      241,
                      242,
                      243,
                      244,
                      245,
                      246,
                      247,
                      248,
                      249,
                      250,
                      251,
                      252,
                      253,
                      254,
                      255,
                      256,
                      257,
                      258,
                      259,
                      260,
                      261,
                      262,
                      263,
                      264,
                      265,
                      266,
                      267,
                      268,
                      269,
                      270,
                      271,
                      272,
                      273,
                      274,
                      275,
                      276,
                      277,
                      278,
                      279,
                      280,
                      281,
                      282,
                      283,
                      284,
                      285,
                      286,
                      287,
                      288,
                      289,
                      290,
                      291,
                      292,
                      293,
                      294,
                      295,
                      296,
                      297,
                      298,
                      299,
                      300,
                      301,
                      302,
                      303,
                      304,
                      305,
                      306,
                      307,
                      308,
                      309,
                      310,
                      311,
                      312,
                      313,
                      314,
                      315,
                      316,
                      317,
                      318,
                      319,
                      320,
                      321,
                      322,
                      323,
                      324,
                      325,
                      326,
                      327,
                      328,
                      329,
                      330,
                      331,
                      332,
                      333,
                      334,
                      335,
                      336,
                      337,
                      338,
                      339,
                      340,
                      341,
                      342,
                      343,
                      344,
                      345,
                      346,
                      347,
                      348,
                      349,
                      350,
                      351,
                      352,
                      353,
                      354,
                      355,
                      356,
                      357,
                      358,
                      359,
                      360,
                      361,
                      362,
                      363,
                      364,
                      365,
                      366,
                      367,
                      368,
                      369,
                      370,
                      371,
                      372,
                      373,
                      374,
                      375,
                      376,
                      377,
                      378,
                      379,
                      380,
                      381,
                      382,
                      383,
                      384,
                      385,
                      386,
                      387,
                      388,
                      389,
                      390,
                      391,
                      392,
                      393,
                      394,
                      395,
                      396,
                      397,
                      398,
                      399,
                      400,
                      401
                    ],
                    "colorscale": [
                      [
                        0,
                        "rgb(12, 51, 131)"
                      ],
                      [
                        1,
                        "rgb(217, 30, 30)"
                      ]
                    ],
                    "showscale": true,
                    "size": 6
                  },
                  "mode": "markers",
                  "showlegend": false,
                  "type": "scatter",
                  "x": [
                    "67.0",
                    "67.6",
                    "90.7",
                    "69.0",
                    "87.8",
                    "84.3",
                    "61.2",
                    "58.5",
                    "92.7",
                    "59.8",
                    "65.2",
                    "49.2",
                    "96.6",
                    "68.3",
                    "59.7",
                    "43.8",
                    "49.8",
                    "50.5",
                    "59.0",
                    "71.2",
                    "36.7",
                    "90.6",
                    "32.4",
                    "59.3",
                    "94.9",
                    "47.9",
                    "68.9",
                    "33.1",
                    "56.4",
                    "43.9",
                    "33.6",
                    "84.8",
                    "81.3",
                    "87.4",
                    "98.8",
                    "84.3",
                    "64.3",
                    "41.2",
                    "79.0",
                    "87.0",
                    "37.0",
                    "46.5",
                    "81.9",
                    "60.6",
                    "91.3",
                    "33.8",
                    "35.3",
                    "53.7",
                    "44.6",
                    "30.3",
                    "77.8",
                    "34.9",
                    "82.0",
                    "37.0",
                    "62.3",
                    "52.9",
                    "47.8",
                    "37.4",
                    "29.0",
                    "83.6",
                    "92.5",
                    "94.5",
                    "50.1",
                    "59.5",
                    "80.4",
                    "36.0",
                    "53.9",
                    "51.5",
                    "70.8",
                    "63.1",
                    "77.9",
                    "66.2",
                    "78.7",
                    "76.6",
                    "91.2",
                    "42.7",
                    "60.5",
                    "81.9",
                    "52.9",
                    "55.7",
                    "56.6",
                    "55.0",
                    "80.4",
                    "79.6",
                    "38.7",
                    "38.8",
                    "51.4",
                    "51.1",
                    "56.1",
                    "49.1",
                    "40.3",
                    "32.2",
                    "42.9",
                    "69.4",
                    "78.8",
                    "28.3",
                    "39.1",
                    "53.2",
                    "64.0",
                    "57.5",
                    "89.7",
                    "64.3",
                    "64.7",
                    "49.7",
                    "85.7",
                    "86.9",
                    "88.6",
                    "96.8",
                    "54.6",
                    "83.5",
                    "90.5",
                    "83.6",
                    "76.7",
                    "53.0",
                    "75.0",
                    "34.4",
                    "56.1",
                    "94.4",
                    "70.1",
                    "62.7",
                    "79.7",
                    "55.5",
                    "74.8",
                    "73.4",
                    "76.7",
                    "54.6",
                    "84.0",
                    "32.2",
                    "64.0",
                    "31.8",
                    "84.7",
                    "80.7",
                    "44.8",
                    "82.4",
                    "44.7",
                    "85.1",
                    "50.6",
                    "83.9",
                    "54.1",
                    "61.6",
                    "52.6",
                    "49.1",
                    "37.0",
                    "69.0",
                    "34.3",
                    "67.6",
                    "54.7",
                    "35.8",
                    "75.8",
                    "37.1",
                    "61.6",
                    "33.1",
                    "66.3",
                    "79.8",
                    "27.5",
                    "56.8",
                    "29.1",
                    "79.5",
                    "87.3",
                    "71.8",
                    "64.4",
                    "27.5",
                    "56.7",
                    "79.3",
                    "37.3",
                    "60.1",
                    "63.2",
                    "29.7",
                    "56.7",
                    "61.0",
                    "70.6",
                    "59.7",
                    "43.3",
                    "70.1",
                    "87.3",
                    "31.7",
                    "41.2",
                    "57.3",
                    "84.1",
                    "67.4",
                    "40.6",
                    "29.5",
                    "44.6",
                    "91.0",
                    "54.7",
                    "60.3",
                    "27.6",
                    "60.5",
                    "46.1",
                    "63.2",
                    "57.0",
                    "71.3",
                    "37.4",
                    "40.6",
                    "54.8",
                    "60.4",
                    "55.8",
                    "76.5",
                    "83.9",
                    "63.0",
                    "39.9",
                    "44.6",
                    "69.3",
                    "55.6",
                    "53.3",
                    "69.9",
                    "35.9",
                    "73.8",
                    "60.6",
                    "54.1",
                    "47.8",
                    "65.3",
                    "64.5",
                    "53.4",
                    "93.4",
                    "75.0",
                    "26.3",
                    "69.5",
                    "25.3",
                    "55.4",
                    "50.7",
                    "67.2",
                    "79.4",
                    "26.0",
                    "26.5",
                    "35.7",
                    "46.4",
                    "84.4",
                    "88.8",
                    "61.1",
                    "71.6",
                    "55.7",
                    "58.7",
                    "31.8",
                    "42.8",
                    "61.4",
                    "39.6",
                    "70.4",
                    "39.5",
                    "79.4",
                    "63.1",
                    "46.8",
                    "44.2",
                    "57.0",
                    "40.6",
                    "86.9",
                    "63.7",
                    "50.2",
                    "75.9",
                    "59.7",
                    "59.4",
                    "48.7",
                    "73.1",
                    "50.2",
                    "24.8",
                    "71.7",
                    "55.4",
                    "88.6",
                    "49.6",
                    "59.6",
                    "53.0",
                    "59.4",
                    "59.1",
                    "48.2",
                    "32.2",
                    "70.6",
                    "81.5",
                    "43.5",
                    "40.3",
                    "41.0",
                    "54.6",
                    "66.3",
                    "57.3",
                    "39.3",
                    "63.1",
                    "62.5",
                    "30.4",
                    "18.2",
                    "59.1",
                    "56.6",
                    "30.7",
                    "54.7",
                    "29.2",
                    "51.3",
                    "69.8",
                    "23.9",
                    "47.8",
                    "62.2",
                    "21.8",
                    "70.8",
                    "43.1",
                    "26.0",
                    "49.0",
                    "84.4",
                    "35.3",
                    "73.3",
                    "37.4",
                    "47.8",
                    "80.8",
                    "37.3",
                    "80.4",
                    "84.2",
                    "28.9",
                    "48.8",
                    "73.1",
                    "45.5",
                    "53.9",
                    "29.1",
                    "71.8",
                    "42.2",
                    "62.3",
                    "59.4",
                    "41.5",
                    "49.8",
                    "89.2",
                    "43.8",
                    "36.7",
                    "42.9",
                    "44.4",
                    "26.9",
                    "37.5",
                    "19.4",
                    "20.7",
                    "37.0",
                    "29.7",
                    "76.1",
                    "88.2",
                    "52.1",
                    "38.8",
                    "47.0",
                    "49.2",
                    "86.7",
                    "33.1",
                    "47.2",
                    "32.2",
                    "43.4",
                    "45.1",
                    "20.7",
                    "34.8",
                    "30.0",
                    "40.4",
                    "36.7",
                    "67.1",
                    "66.9",
                    "59.3",
                    "45.6",
                    "36.1",
                    "43.7",
                    "41.6",
                    "30.7",
                    "21.5",
                    "65.8",
                    "66.5",
                    "79.7",
                    "53.9",
                    "48.6",
                    "52.1",
                    "91.3",
                    "36.0",
                    "35.8",
                    "48.4",
                    "25.2",
                    "19.5",
                    "16.6",
                    "20.0",
                    "22.5",
                    "26.1",
                    "34.5",
                    "50.9",
                    "85.3",
                    "26.7",
                    "24.2",
                    "26.7",
                    "82.6",
                    "53.6",
                    "86.9",
                    "60.0",
                    "50.3",
                    "38.1",
                    "44.1",
                    "42.1",
                    "37.4",
                    "64.8",
                    "74.9",
                    "46.8",
                    "69.1",
                    "49.7",
                    "29.6",
                    "46.2",
                    "73.3",
                    "48.0",
                    "34.3",
                    "46.3",
                    "21.0",
                    "80.3",
                    "54.5",
                    "43.1",
                    "36.0",
                    "50.1",
                    "33.1",
                    "21.4"
                  ],
                  "xaxis": "x2",
                  "y": [
                    98.1,
                    98.6,
                    97.7,
                    96.7,
                    95.6,
                    88.2,
                    94.7,
                    96.7,
                    88.3,
                    90.8,
                    89.9,
                    90.5,
                    90.2,
                    79.4,
                    84.2,
                    82,
                    86.5,
                    75.2,
                    83.8,
                    85.1,
                    78.9,
                    80.4,
                    85.1,
                    74.9,
                    78.1,
                    68.9,
                    71.2,
                    72,
                    69.1,
                    79,
                    71.3,
                    69,
                    70.9,
                    74.2,
                    56.9,
                    62.9,
                    61.4,
                    62.4,
                    69.9,
                    62.3,
                    66.6,
                    55.2,
                    72.6,
                    68,
                    70.9,
                    64.7,
                    58.6,
                    61.9,
                    68.3,
                    77.1,
                    66.8,
                    63.2,
                    58.7,
                    54.2,
                    63.6,
                    59.7,
                    46.7,
                    64.8,
                    68.4,
                    60.8,
                    55.9,
                    47.1,
                    46,
                    58.2,
                    58.4,
                    49.3,
                    48,
                    51.1,
                    37.1,
                    45.4,
                    71.4,
                    53.7,
                    46.8,
                    44.7,
                    41.1,
                    44.6,
                    55.4,
                    36.2,
                    54.8,
                    52.6,
                    58,
                    49.4,
                    40.7,
                    54.4,
                    36.9,
                    51.4,
                    38.5,
                    33.9,
                    41.7,
                    51.6,
                    49.1,
                    46.3,
                    32.4,
                    43.2,
                    40.5,
                    38.2,
                    38.3,
                    45,
                    37.4,
                    53,
                    48.1,
                    50.5,
                    30,
                    48.1,
                    45.8,
                    33.1,
                    32.9,
                    37.2,
                    31.9,
                    51.9,
                    35.9,
                    30.4,
                    44.4,
                    44.7,
                    33.8,
                    37.4,
                    50.8,
                    22.4,
                    48.5,
                    33.1,
                    28.2,
                    29.2,
                    39.1,
                    47.1,
                    35.3,
                    29.1,
                    44.8,
                    52.1,
                    53.5,
                    35.9,
                    36.1,
                    36.9,
                    39.1,
                    34.1,
                    42,
                    39.9,
                    43.2,
                    30.3,
                    27.6,
                    46.7,
                    26.7,
                    51.9,
                    52.9,
                    47.1,
                    45.3,
                    39.1,
                    29.1,
                    50.2,
                    39.8,
                    35.1,
                    27.5,
                    35.4,
                    47.5,
                    32.7,
                    57.3,
                    29.9,
                    48,
                    33.2,
                    38.1,
                    34.4,
                    33.8,
                    36.5,
                    28.1,
                    40.4,
                    36.9,
                    34.9,
                    28.3,
                    47.3,
                    27.2,
                    33.6,
                    35.8,
                    34.9,
                    28.2,
                    30.6,
                    33.4,
                    33.5,
                    24.4,
                    29.3,
                    30.2,
                    19.7,
                    36.3,
                    37.5,
                    27.1,
                    39.7,
                    21.9,
                    35.2,
                    23.9,
                    24.4,
                    51.1,
                    34.7,
                    39.8,
                    32.9,
                    34,
                    30.9,
                    22.2,
                    42.1,
                    27.3,
                    22.6,
                    31.6,
                    13.1,
                    25.1,
                    27.7,
                    30.4,
                    22.4,
                    36.3,
                    36.5,
                    44.3,
                    29.6,
                    37.5,
                    22,
                    28.8,
                    27.9,
                    22.5,
                    34.1,
                    17.1,
                    34,
                    27.3,
                    23.4,
                    51.6,
                    28.2,
                    16,
                    45.3,
                    36.2,
                    23.5,
                    19.9,
                    45.8,
                    29.2,
                    29.3,
                    21.4,
                    24.5,
                    30,
                    29.9,
                    23.2,
                    31.8,
                    26.2,
                    29.3,
                    35,
                    32.3,
                    9.8,
                    28.1,
                    30.5,
                    38.2,
                    24.3,
                    33.4,
                    23,
                    32.5,
                    35.7,
                    17.3,
                    32.4,
                    35.3,
                    31.3,
                    10.1,
                    17,
                    23.3,
                    40.3,
                    24.8,
                    33.4,
                    25.1,
                    25.2,
                    33.7,
                    27.6,
                    30.7,
                    24.7,
                    18.1,
                    23.4,
                    29.9,
                    27.7,
                    19.2,
                    25.6,
                    37.9,
                    12.1,
                    21.7,
                    20.3,
                    20.3,
                    40.4,
                    32.8,
                    31.3,
                    39.5,
                    25.5,
                    22.5,
                    40.7,
                    29.6,
                    10.5,
                    18.1,
                    36,
                    37.9,
                    31.2,
                    45.1,
                    22.9,
                    22.2,
                    23.2,
                    22.4,
                    15.3,
                    19.7,
                    28.9,
                    20.3,
                    22.9,
                    24.4,
                    24,
                    27.5,
                    27.8,
                    28.5,
                    40,
                    19.3,
                    23,
                    17.8,
                    24.3,
                    10.4,
                    20.6,
                    14.3,
                    13.2,
                    17.3,
                    16.5,
                    24.4,
                    24.8,
                    17.2,
                    21.1,
                    26.6,
                    14.7,
                    24.8,
                    28.1,
                    34.7,
                    38.8,
                    25.2,
                    20.7,
                    25.1,
                    23.4,
                    18.4,
                    27.1,
                    16.8,
                    13.7,
                    29,
                    25.8,
                    24,
                    20.1,
                    29.4,
                    6.5,
                    13.7,
                    16.5,
                    15.7,
                    18.2,
                    18.8,
                    20.5,
                    25.1,
                    17.3,
                    22.2,
                    21.6,
                    12,
                    13.6,
                    15.2,
                    33.1,
                    28.5,
                    20.6,
                    21.6,
                    12.9,
                    19.1,
                    17.2,
                    17.1,
                    18,
                    20.3,
                    32.3,
                    27.5,
                    24.6,
                    14.3,
                    27.3,
                    10,
                    28.5,
                    16.6,
                    27.6,
                    17.8,
                    40.1,
                    32.9,
                    42.6,
                    18.9,
                    22.5,
                    16.3,
                    16.9,
                    25.7,
                    18.1,
                    21.6,
                    15.2,
                    17.3,
                    17.3,
                    10.9,
                    22.8,
                    18.4,
                    16.2,
                    22,
                    22.3,
                    10.6,
                    11.8,
                    20.2,
                    21.8,
                    19.4,
                    17,
                    17.9,
                    16.3,
                    27.5,
                    22.4,
                    17.4,
                    8
                  ],
                  "yaxis": "y2"
                },
                {
                  "marker": {
                    "color": [
                      1,
                      2,
                      3,
                      4,
                      5,
                      6,
                      7,
                      8,
                      9,
                      10,
                      11,
                      12,
                      13,
                      14,
                      15,
                      16,
                      17,
                      18,
                      19,
                      20,
                      21,
                      22,
                      23,
                      24,
                      25,
                      26,
                      27,
                      28,
                      29,
                      30,
                      31,
                      32,
                      33,
                      34,
                      35,
                      36,
                      37,
                      38,
                      39,
                      40,
                      41,
                      42,
                      43,
                      44,
                      45,
                      46,
                      47,
                      48,
                      49,
                      50,
                      51,
                      52,
                      53,
                      54,
                      55,
                      56,
                      57,
                      58,
                      59,
                      60,
                      61,
                      62,
                      63,
                      64,
                      65,
                      66,
                      67,
                      68,
                      69,
                      70,
                      71,
                      72,
                      73,
                      74,
                      75,
                      76,
                      77,
                      78,
                      79,
                      80,
                      81,
                      82,
                      83,
                      84,
                      85,
                      86,
                      87,
                      88,
                      89,
                      90,
                      91,
                      92,
                      93,
                      94,
                      95,
                      96,
                      97,
                      98,
                      99,
                      100,
                      101,
                      102,
                      103,
                      104,
                      105,
                      106,
                      107,
                      108,
                      109,
                      110,
                      111,
                      112,
                      113,
                      114,
                      115,
                      116,
                      117,
                      118,
                      119,
                      120,
                      121,
                      122,
                      123,
                      124,
                      125,
                      126,
                      127,
                      128,
                      129,
                      130,
                      131,
                      132,
                      133,
                      134,
                      135,
                      136,
                      137,
                      138,
                      139,
                      140,
                      141,
                      142,
                      143,
                      144,
                      145,
                      146,
                      147,
                      148,
                      149,
                      150,
                      151,
                      152,
                      153,
                      154,
                      155,
                      156,
                      157,
                      158,
                      159,
                      160,
                      161,
                      162,
                      163,
                      164,
                      165,
                      166,
                      167,
                      168,
                      169,
                      170,
                      171,
                      172,
                      173,
                      174,
                      175,
                      176,
                      177,
                      178,
                      179,
                      180,
                      181,
                      182,
                      183,
                      184,
                      185,
                      186,
                      187,
                      188,
                      189,
                      190,
                      191,
                      192,
                      193,
                      194,
                      195,
                      196,
                      197,
                      198,
                      199,
                      200,
                      201,
                      202,
                      203,
                      204,
                      205,
                      206,
                      207,
                      208,
                      209,
                      210,
                      211,
                      212,
                      213,
                      214,
                      215,
                      216,
                      217,
                      218,
                      219,
                      220,
                      221,
                      222,
                      223,
                      224,
                      225,
                      226,
                      227,
                      228,
                      229,
                      230,
                      231,
                      232,
                      233,
                      234,
                      235,
                      236,
                      237,
                      238,
                      239,
                      240,
                      241,
                      242,
                      243,
                      244,
                      245,
                      246,
                      247,
                      248,
                      249,
                      250,
                      251,
                      252,
                      253,
                      254,
                      255,
                      256,
                      257,
                      258,
                      259,
                      260,
                      261,
                      262,
                      263,
                      264,
                      265,
                      266,
                      267,
                      268,
                      269,
                      270,
                      271,
                      272,
                      273,
                      274,
                      275,
                      276,
                      277,
                      278,
                      279,
                      280,
                      281,
                      282,
                      283,
                      284,
                      285,
                      286,
                      287,
                      288,
                      289,
                      290,
                      291,
                      292,
                      293,
                      294,
                      295,
                      296,
                      297,
                      298,
                      299,
                      300,
                      301,
                      302,
                      303,
                      304,
                      305,
                      306,
                      307,
                      308,
                      309,
                      310,
                      311,
                      312,
                      313,
                      314,
                      315,
                      316,
                      317,
                      318,
                      319,
                      320,
                      321,
                      322,
                      323,
                      324,
                      325,
                      326,
                      327,
                      328,
                      329,
                      330,
                      331,
                      332,
                      333,
                      334,
                      335,
                      336,
                      337,
                      338,
                      339,
                      340,
                      341,
                      342,
                      343,
                      344,
                      345,
                      346,
                      347,
                      348,
                      349,
                      350,
                      351,
                      352,
                      353,
                      354,
                      355,
                      356,
                      357,
                      358,
                      359,
                      360,
                      361,
                      362,
                      363,
                      364,
                      365,
                      366,
                      367,
                      368,
                      369,
                      370,
                      371,
                      372,
                      373,
                      374,
                      375,
                      376,
                      377,
                      378,
                      379,
                      380,
                      381,
                      382,
                      383,
                      384,
                      385,
                      386,
                      387,
                      388,
                      389,
                      390,
                      391,
                      392,
                      393,
                      394,
                      395,
                      396,
                      397,
                      398,
                      399,
                      400,
                      401
                    ],
                    "colorscale": [
                      [
                        0,
                        "rgb(12, 51, 131)"
                      ],
                      [
                        1,
                        "rgb(217, 30, 30)"
                      ]
                    ],
                    "showscale": false,
                    "size": 6
                  },
                  "mode": "markers",
                  "showlegend": false,
                  "type": "scatter",
                  "x": [
                    "94.3",
                    "93.3",
                    "93.2",
                    "92.9",
                    "92.0",
                    "91.9",
                    "90.9",
                    "89.5",
                    "87.5",
                    "87.5",
                    "87.1",
                    "85.5",
                    "84.6",
                    "84.4",
                    "83.0",
                    "81.0",
                    "80.9",
                    "79.9",
                    "79.4",
                    "79.3",
                    "79.2",
                    "78.7",
                    "76.1",
                    "74.3",
                    "73.3",
                    "73.2",
                    "72.8",
                    "72.3",
                    "71.9",
                    "71.9",
                    "71.9",
                    "71.8",
                    "71.2",
                    "70.9",
                    "70.9",
                    "70.4",
                    "70.0",
                    "69.9",
                    "69.6",
                    "69.4",
                    "68.6",
                    "67.8",
                    "67.5",
                    "66.8",
                    "66.5",
                    "65.9",
                    "65.9",
                    "65.2",
                    "65.1",
                    "64.8",
                    "64.7",
                    "64.5",
                    "64.5",
                    "64.1",
                    "63.7",
                    "63.7",
                    "63.6",
                    "62.9",
                    "62.8",
                    "62.7",
                    "62.2",
                    "62.2",
                    "61.9",
                    "61.3",
                    "61.2",
                    "61.1",
                    "61.0",
                    "60.7",
                    "59.8",
                    "59.6",
                    "59.2",
                    "59.1",
                    "59.0",
                    "58.9",
                    "58.4",
                    "58.4",
                    "58.2",
                    "58.1",
                    "58.0",
                    "57.9",
                    "57.6",
                    "57.3",
                    "56.9",
                    "56.9",
                    "56.6",
                    "56.5",
                    "56.5",
                    "56.4",
                    "56.4",
                    "56.2",
                    "56.1",
                    "56.1",
                    "55.5",
                    "55.3",
                    "55.3",
                    "55.2",
                    "55.1",
                    "54.6",
                    "54.6",
                    "54.6",
                    "54.3",
                    "54.0",
                    "53.9",
                    "53.9",
                    "53.9",
                    "53.9",
                    "53.8",
                    "53.8",
                    "53.7",
                    "53.7",
                    "53.6",
                    "53.6",
                    "53.4",
                    "53.4",
                    "53.4",
                    "53.2",
                    "53.1",
                    "53.0",
                    "52.9",
                    "52.8",
                    "52.7",
                    "52.7",
                    "52.7",
                    "52.6",
                    "52.6",
                    "52.5",
                    "52.5",
                    "52.5",
                    "52.4",
                    "52.1",
                    "52.0",
                    "51.9",
                    "51.9",
                    "51.9",
                    "51.6",
                    "51.4",
                    "51.4",
                    "51.2",
                    "51.1",
                    "51.0",
                    "50.9",
                    "50.9",
                    "50.9",
                    "50.5",
                    "50.5",
                    "50.4",
                    "50.3",
                    "50.2",
                    "50.2",
                    "50.1",
                    "50.1",
                    "50.0",
                    "49.9",
                    "49.7",
                    "49.3",
                    "49.2",
                    "49.1",
                    "49.1",
                    "49.1",
                    "49.0",
                    "49.0",
                    "48.6",
                    "48.3",
                    "48.2",
                    "48.1",
                    "48.1",
                    "48.1",
                    "48.1",
                    "48.0",
                    "47.9",
                    "47.8",
                    "47.8",
                    "47.7",
                    "47.7",
                    "47.5",
                    "47.5",
                    "47.3",
                    "47.1",
                    "47.1",
                    "47.0",
                    "47.0",
                    "46.9",
                    "46.9",
                    "46.9",
                    "46.8",
                    "46.7",
                    "46.7",
                    "46.6",
                    "46.6",
                    "46.6",
                    "46.5",
                    "46.3",
                    "46.2",
                    "46.2",
                    "46.1",
                    "46.0",
                    "46.0",
                    "45.9",
                    "45.7",
                    "45.6",
                    "45.6",
                    "-",
                    "-",
                    "-",
                    "-",
                    "-",
                    "-",
                    "-",
                    "-",
                    "-",
                    "-",
                    "-",
                    "-",
                    "-",
                    "-",
                    "-",
                    "-",
                    "-",
                    "-",
                    "-",
                    "-",
                    "-",
                    "-",
                    "-",
                    "-",
                    "-",
                    "-",
                    "-",
                    "-",
                    "-",
                    "-",
                    "-",
                    "-",
                    "-",
                    "-",
                    "-",
                    "-",
                    "-",
                    "-",
                    "-",
                    "-",
                    "-",
                    "-",
                    "-",
                    "-",
                    "-",
                    "-",
                    "-",
                    "-",
                    "-",
                    "-",
                    "-",
                    "-",
                    "-",
                    "-",
                    "-",
                    "-",
                    "-",
                    "-",
                    "-",
                    "-",
                    "-",
                    "-",
                    "-",
                    "-",
                    "-",
                    "-",
                    "-",
                    "-",
                    "-",
                    "-",
                    "-",
                    "-",
                    "-",
                    "-",
                    "-",
                    "-",
                    "-",
                    "-",
                    "-",
                    "-",
                    "-",
                    "-",
                    "-",
                    "-",
                    "-",
                    "-",
                    "-",
                    "-",
                    "-",
                    "-",
                    "-",
                    "-",
                    "-",
                    "-",
                    "-",
                    "-",
                    "-",
                    "-",
                    "-",
                    "-",
                    "-",
                    "-",
                    "-",
                    "-",
                    "-",
                    "-",
                    "-",
                    "-",
                    "-",
                    "-",
                    "-",
                    "-",
                    "-",
                    "-",
                    "-",
                    "-",
                    "-",
                    "-",
                    "-",
                    "-",
                    "-",
                    "-",
                    "-",
                    "-",
                    "-",
                    "-",
                    "-",
                    "-",
                    "-",
                    "-",
                    "-",
                    "-",
                    "-",
                    "-",
                    "-",
                    "-",
                    "-",
                    "-",
                    "-",
                    "-",
                    "-",
                    "-",
                    "-",
                    "-",
                    "-",
                    "-",
                    "-",
                    "-",
                    "-",
                    "-",
                    "-",
                    "-",
                    "-",
                    "-",
                    "-",
                    "-",
                    "-",
                    "-",
                    "-",
                    "-",
                    "-",
                    "-",
                    "-",
                    "-",
                    "-",
                    "-",
                    "-",
                    "-",
                    "-",
                    "-",
                    "-",
                    "-",
                    "-",
                    "-",
                    "-",
                    "-",
                    "-",
                    "-",
                    "-",
                    "-",
                    "-",
                    "-",
                    "-",
                    "-",
                    "-",
                    "-",
                    "-",
                    "-",
                    "-",
                    "-",
                    "-",
                    "-",
                    "-",
                    "-",
                    "-",
                    "-",
                    "-",
                    "-",
                    "-",
                    "-"
                  ],
                  "xaxis": "x3",
                  "y": [
                    98.1,
                    98.6,
                    97.7,
                    96.7,
                    95.6,
                    88.2,
                    94.7,
                    96.7,
                    88.3,
                    90.8,
                    89.9,
                    90.5,
                    90.2,
                    79.4,
                    84.2,
                    82,
                    86.5,
                    75.2,
                    83.8,
                    85.1,
                    78.9,
                    80.4,
                    85.1,
                    74.9,
                    78.1,
                    68.9,
                    71.2,
                    72,
                    69.1,
                    79,
                    71.3,
                    69,
                    70.9,
                    74.2,
                    56.9,
                    62.9,
                    61.4,
                    62.4,
                    69.9,
                    62.3,
                    66.6,
                    55.2,
                    72.6,
                    68,
                    70.9,
                    64.7,
                    58.6,
                    61.9,
                    68.3,
                    77.1,
                    66.8,
                    63.2,
                    58.7,
                    54.2,
                    63.6,
                    59.7,
                    46.7,
                    64.8,
                    68.4,
                    60.8,
                    55.9,
                    47.1,
                    46,
                    58.2,
                    58.4,
                    49.3,
                    48,
                    51.1,
                    37.1,
                    45.4,
                    71.4,
                    53.7,
                    46.8,
                    44.7,
                    41.1,
                    44.6,
                    55.4,
                    36.2,
                    54.8,
                    52.6,
                    58,
                    49.4,
                    40.7,
                    54.4,
                    36.9,
                    51.4,
                    38.5,
                    33.9,
                    41.7,
                    51.6,
                    49.1,
                    46.3,
                    32.4,
                    43.2,
                    40.5,
                    38.2,
                    38.3,
                    45,
                    37.4,
                    53,
                    48.1,
                    50.5,
                    30,
                    48.1,
                    45.8,
                    33.1,
                    32.9,
                    37.2,
                    31.9,
                    51.9,
                    35.9,
                    30.4,
                    44.4,
                    44.7,
                    33.8,
                    37.4,
                    50.8,
                    22.4,
                    48.5,
                    33.1,
                    28.2,
                    29.2,
                    39.1,
                    47.1,
                    35.3,
                    29.1,
                    44.8,
                    52.1,
                    53.5,
                    35.9,
                    36.1,
                    36.9,
                    39.1,
                    34.1,
                    42,
                    39.9,
                    43.2,
                    30.3,
                    27.6,
                    46.7,
                    26.7,
                    51.9,
                    52.9,
                    47.1,
                    45.3,
                    39.1,
                    29.1,
                    50.2,
                    39.8,
                    35.1,
                    27.5,
                    35.4,
                    47.5,
                    32.7,
                    57.3,
                    29.9,
                    48,
                    33.2,
                    38.1,
                    34.4,
                    33.8,
                    36.5,
                    28.1,
                    40.4,
                    36.9,
                    34.9,
                    28.3,
                    47.3,
                    27.2,
                    33.6,
                    35.8,
                    34.9,
                    28.2,
                    30.6,
                    33.4,
                    33.5,
                    24.4,
                    29.3,
                    30.2,
                    19.7,
                    36.3,
                    37.5,
                    27.1,
                    39.7,
                    21.9,
                    35.2,
                    23.9,
                    24.4,
                    51.1,
                    34.7,
                    39.8,
                    32.9,
                    34,
                    30.9,
                    22.2,
                    42.1,
                    27.3,
                    22.6,
                    31.6,
                    13.1,
                    25.1,
                    27.7,
                    30.4,
                    22.4,
                    36.3,
                    36.5,
                    44.3,
                    29.6,
                    37.5,
                    22,
                    28.8,
                    27.9,
                    22.5,
                    34.1,
                    17.1,
                    34,
                    27.3,
                    23.4,
                    51.6,
                    28.2,
                    16,
                    45.3,
                    36.2,
                    23.5,
                    19.9,
                    45.8,
                    29.2,
                    29.3,
                    21.4,
                    24.5,
                    30,
                    29.9,
                    23.2,
                    31.8,
                    26.2,
                    29.3,
                    35,
                    32.3,
                    9.8,
                    28.1,
                    30.5,
                    38.2,
                    24.3,
                    33.4,
                    23,
                    32.5,
                    35.7,
                    17.3,
                    32.4,
                    35.3,
                    31.3,
                    10.1,
                    17,
                    23.3,
                    40.3,
                    24.8,
                    33.4,
                    25.1,
                    25.2,
                    33.7,
                    27.6,
                    30.7,
                    24.7,
                    18.1,
                    23.4,
                    29.9,
                    27.7,
                    19.2,
                    25.6,
                    37.9,
                    12.1,
                    21.7,
                    20.3,
                    20.3,
                    40.4,
                    32.8,
                    31.3,
                    39.5,
                    25.5,
                    22.5,
                    40.7,
                    29.6,
                    10.5,
                    18.1,
                    36,
                    37.9,
                    31.2,
                    45.1,
                    22.9,
                    22.2,
                    23.2,
                    22.4,
                    15.3,
                    19.7,
                    28.9,
                    20.3,
                    22.9,
                    24.4,
                    24,
                    27.5,
                    27.8,
                    28.5,
                    40,
                    19.3,
                    23,
                    17.8,
                    24.3,
                    10.4,
                    20.6,
                    14.3,
                    13.2,
                    17.3,
                    16.5,
                    24.4,
                    24.8,
                    17.2,
                    21.1,
                    26.6,
                    14.7,
                    24.8,
                    28.1,
                    34.7,
                    38.8,
                    25.2,
                    20.7,
                    25.1,
                    23.4,
                    18.4,
                    27.1,
                    16.8,
                    13.7,
                    29,
                    25.8,
                    24,
                    20.1,
                    29.4,
                    6.5,
                    13.7,
                    16.5,
                    15.7,
                    18.2,
                    18.8,
                    20.5,
                    25.1,
                    17.3,
                    22.2,
                    21.6,
                    12,
                    13.6,
                    15.2,
                    33.1,
                    28.5,
                    20.6,
                    21.6,
                    12.9,
                    19.1,
                    17.2,
                    17.1,
                    18,
                    20.3,
                    32.3,
                    27.5,
                    24.6,
                    14.3,
                    27.3,
                    10,
                    28.5,
                    16.6,
                    27.6,
                    17.8,
                    40.1,
                    32.9,
                    42.6,
                    18.9,
                    22.5,
                    16.3,
                    16.9,
                    25.7,
                    18.1,
                    21.6,
                    15.2,
                    17.3,
                    17.3,
                    10.9,
                    22.8,
                    18.4,
                    16.2,
                    22,
                    22.3,
                    10.6,
                    11.8,
                    20.2,
                    21.8,
                    19.4,
                    17,
                    17.9,
                    16.3,
                    27.5,
                    22.4,
                    17.4,
                    8
                  ],
                  "yaxis": "y3"
                },
                {
                  "marker": {
                    "color": [
                      1,
                      2,
                      3,
                      4,
                      5,
                      6,
                      7,
                      8,
                      9,
                      10,
                      11,
                      12,
                      13,
                      14,
                      15,
                      16,
                      17,
                      18,
                      19,
                      20,
                      21,
                      22,
                      23,
                      24,
                      25,
                      26,
                      27,
                      28,
                      29,
                      30,
                      31,
                      32,
                      33,
                      34,
                      35,
                      36,
                      37,
                      38,
                      39,
                      40,
                      41,
                      42,
                      43,
                      44,
                      45,
                      46,
                      47,
                      48,
                      49,
                      50,
                      51,
                      52,
                      53,
                      54,
                      55,
                      56,
                      57,
                      58,
                      59,
                      60,
                      61,
                      62,
                      63,
                      64,
                      65,
                      66,
                      67,
                      68,
                      69,
                      70,
                      71,
                      72,
                      73,
                      74,
                      75,
                      76,
                      77,
                      78,
                      79,
                      80,
                      81,
                      82,
                      83,
                      84,
                      85,
                      86,
                      87,
                      88,
                      89,
                      90,
                      91,
                      92,
                      93,
                      94,
                      95,
                      96,
                      97,
                      98,
                      99,
                      100,
                      101,
                      102,
                      103,
                      104,
                      105,
                      106,
                      107,
                      108,
                      109,
                      110,
                      111,
                      112,
                      113,
                      114,
                      115,
                      116,
                      117,
                      118,
                      119,
                      120,
                      121,
                      122,
                      123,
                      124,
                      125,
                      126,
                      127,
                      128,
                      129,
                      130,
                      131,
                      132,
                      133,
                      134,
                      135,
                      136,
                      137,
                      138,
                      139,
                      140,
                      141,
                      142,
                      143,
                      144,
                      145,
                      146,
                      147,
                      148,
                      149,
                      150,
                      151,
                      152,
                      153,
                      154,
                      155,
                      156,
                      157,
                      158,
                      159,
                      160,
                      161,
                      162,
                      163,
                      164,
                      165,
                      166,
                      167,
                      168,
                      169,
                      170,
                      171,
                      172,
                      173,
                      174,
                      175,
                      176,
                      177,
                      178,
                      179,
                      180,
                      181,
                      182,
                      183,
                      184,
                      185,
                      186,
                      187,
                      188,
                      189,
                      190,
                      191,
                      192,
                      193,
                      194,
                      195,
                      196,
                      197,
                      198,
                      199,
                      200,
                      201,
                      202,
                      203,
                      204,
                      205,
                      206,
                      207,
                      208,
                      209,
                      210,
                      211,
                      212,
                      213,
                      214,
                      215,
                      216,
                      217,
                      218,
                      219,
                      220,
                      221,
                      222,
                      223,
                      224,
                      225,
                      226,
                      227,
                      228,
                      229,
                      230,
                      231,
                      232,
                      233,
                      234,
                      235,
                      236,
                      237,
                      238,
                      239,
                      240,
                      241,
                      242,
                      243,
                      244,
                      245,
                      246,
                      247,
                      248,
                      249,
                      250,
                      251,
                      252,
                      253,
                      254,
                      255,
                      256,
                      257,
                      258,
                      259,
                      260,
                      261,
                      262,
                      263,
                      264,
                      265,
                      266,
                      267,
                      268,
                      269,
                      270,
                      271,
                      272,
                      273,
                      274,
                      275,
                      276,
                      277,
                      278,
                      279,
                      280,
                      281,
                      282,
                      283,
                      284,
                      285,
                      286,
                      287,
                      288,
                      289,
                      290,
                      291,
                      292,
                      293,
                      294,
                      295,
                      296,
                      297,
                      298,
                      299,
                      300,
                      301,
                      302,
                      303,
                      304,
                      305,
                      306,
                      307,
                      308,
                      309,
                      310,
                      311,
                      312,
                      313,
                      314,
                      315,
                      316,
                      317,
                      318,
                      319,
                      320,
                      321,
                      322,
                      323,
                      324,
                      325,
                      326,
                      327,
                      328,
                      329,
                      330,
                      331,
                      332,
                      333,
                      334,
                      335,
                      336,
                      337,
                      338,
                      339,
                      340,
                      341,
                      342,
                      343,
                      344,
                      345,
                      346,
                      347,
                      348,
                      349,
                      350,
                      351,
                      352,
                      353,
                      354,
                      355,
                      356,
                      357,
                      358,
                      359,
                      360,
                      361,
                      362,
                      363,
                      364,
                      365,
                      366,
                      367,
                      368,
                      369,
                      370,
                      371,
                      372,
                      373,
                      374,
                      375,
                      376,
                      377,
                      378,
                      379,
                      380,
                      381,
                      382,
                      383,
                      384,
                      385,
                      386,
                      387,
                      388,
                      389,
                      390,
                      391,
                      392,
                      393,
                      394,
                      395,
                      396,
                      397,
                      398,
                      399,
                      400,
                      401
                    ],
                    "colorscale": [
                      [
                        0,
                        "rgb(12, 51, 131)"
                      ],
                      [
                        1,
                        "rgb(217, 30, 30)"
                      ]
                    ],
                    "showscale": false,
                    "size": 6
                  },
                  "mode": "markers",
                  "showlegend": false,
                  "type": "scatter",
                  "x": [
                    98.1,
                    98.6,
                    97.7,
                    96.7,
                    95.6,
                    88.2,
                    94.7,
                    96.7,
                    88.3,
                    90.8,
                    89.9,
                    90.5,
                    90.2,
                    79.4,
                    84.2,
                    82,
                    86.5,
                    75.2,
                    83.8,
                    85.1,
                    78.9,
                    80.4,
                    85.1,
                    74.9,
                    78.1,
                    68.9,
                    71.2,
                    72,
                    69.1,
                    79,
                    71.3,
                    69,
                    70.9,
                    74.2,
                    56.9,
                    62.9,
                    61.4,
                    62.4,
                    69.9,
                    62.3,
                    66.6,
                    55.2,
                    72.6,
                    68,
                    70.9,
                    64.7,
                    58.6,
                    61.9,
                    68.3,
                    77.1,
                    66.8,
                    63.2,
                    58.7,
                    54.2,
                    63.6,
                    59.7,
                    46.7,
                    64.8,
                    68.4,
                    60.8,
                    55.9,
                    47.1,
                    46,
                    58.2,
                    58.4,
                    49.3,
                    48,
                    51.1,
                    37.1,
                    45.4,
                    71.4,
                    53.7,
                    46.8,
                    44.7,
                    41.1,
                    44.6,
                    55.4,
                    36.2,
                    54.8,
                    52.6,
                    58,
                    49.4,
                    40.7,
                    54.4,
                    36.9,
                    51.4,
                    38.5,
                    33.9,
                    41.7,
                    51.6,
                    49.1,
                    46.3,
                    32.4,
                    43.2,
                    40.5,
                    38.2,
                    38.3,
                    45,
                    37.4,
                    53,
                    48.1,
                    50.5,
                    30,
                    48.1,
                    45.8,
                    33.1,
                    32.9,
                    37.2,
                    31.9,
                    51.9,
                    35.9,
                    30.4,
                    44.4,
                    44.7,
                    33.8,
                    37.4,
                    50.8,
                    22.4,
                    48.5,
                    33.1,
                    28.2,
                    29.2,
                    39.1,
                    47.1,
                    35.3,
                    29.1,
                    44.8,
                    52.1,
                    53.5,
                    35.9,
                    36.1,
                    36.9,
                    39.1,
                    34.1,
                    42,
                    39.9,
                    43.2,
                    30.3,
                    27.6,
                    46.7,
                    26.7,
                    51.9,
                    52.9,
                    47.1,
                    45.3,
                    39.1,
                    29.1,
                    50.2,
                    39.8,
                    35.1,
                    27.5,
                    35.4,
                    47.5,
                    32.7,
                    57.3,
                    29.9,
                    48,
                    33.2,
                    38.1,
                    34.4,
                    33.8,
                    36.5,
                    28.1,
                    40.4,
                    36.9,
                    34.9,
                    28.3,
                    47.3,
                    27.2,
                    33.6,
                    35.8,
                    34.9,
                    28.2,
                    30.6,
                    33.4,
                    33.5,
                    24.4,
                    29.3,
                    30.2,
                    19.7,
                    36.3,
                    37.5,
                    27.1,
                    39.7,
                    21.9,
                    35.2,
                    23.9,
                    24.4,
                    51.1,
                    34.7,
                    39.8,
                    32.9,
                    34,
                    30.9,
                    22.2,
                    42.1,
                    27.3,
                    22.6,
                    31.6,
                    13.1,
                    25.1,
                    27.7,
                    30.4,
                    22.4,
                    36.3,
                    36.5,
                    44.3,
                    29.6,
                    37.5,
                    22,
                    28.8,
                    27.9,
                    22.5,
                    34.1,
                    17.1,
                    34,
                    27.3,
                    23.4,
                    51.6,
                    28.2,
                    16,
                    45.3,
                    36.2,
                    23.5,
                    19.9,
                    45.8,
                    29.2,
                    29.3,
                    21.4,
                    24.5,
                    30,
                    29.9,
                    23.2,
                    31.8,
                    26.2,
                    29.3,
                    35,
                    32.3,
                    9.8,
                    28.1,
                    30.5,
                    38.2,
                    24.3,
                    33.4,
                    23,
                    32.5,
                    35.7,
                    17.3,
                    32.4,
                    35.3,
                    31.3,
                    10.1,
                    17,
                    23.3,
                    40.3,
                    24.8,
                    33.4,
                    25.1,
                    25.2,
                    33.7,
                    27.6,
                    30.7,
                    24.7,
                    18.1,
                    23.4,
                    29.9,
                    27.7,
                    19.2,
                    25.6,
                    37.9,
                    12.1,
                    21.7,
                    20.3,
                    20.3,
                    40.4,
                    32.8,
                    31.3,
                    39.5,
                    25.5,
                    22.5,
                    40.7,
                    29.6,
                    10.5,
                    18.1,
                    36,
                    37.9,
                    31.2,
                    45.1,
                    22.9,
                    22.2,
                    23.2,
                    22.4,
                    15.3,
                    19.7,
                    28.9,
                    20.3,
                    22.9,
                    24.4,
                    24,
                    27.5,
                    27.8,
                    28.5,
                    40,
                    19.3,
                    23,
                    17.8,
                    24.3,
                    10.4,
                    20.6,
                    14.3,
                    13.2,
                    17.3,
                    16.5,
                    24.4,
                    24.8,
                    17.2,
                    21.1,
                    26.6,
                    14.7,
                    24.8,
                    28.1,
                    34.7,
                    38.8,
                    25.2,
                    20.7,
                    25.1,
                    23.4,
                    18.4,
                    27.1,
                    16.8,
                    13.7,
                    29,
                    25.8,
                    24,
                    20.1,
                    29.4,
                    6.5,
                    13.7,
                    16.5,
                    15.7,
                    18.2,
                    18.8,
                    20.5,
                    25.1,
                    17.3,
                    22.2,
                    21.6,
                    12,
                    13.6,
                    15.2,
                    33.1,
                    28.5,
                    20.6,
                    21.6,
                    12.9,
                    19.1,
                    17.2,
                    17.1,
                    18,
                    20.3,
                    32.3,
                    27.5,
                    24.6,
                    14.3,
                    27.3,
                    10,
                    28.5,
                    16.6,
                    27.6,
                    17.8,
                    40.1,
                    32.9,
                    42.6,
                    18.9,
                    22.5,
                    16.3,
                    16.9,
                    25.7,
                    18.1,
                    21.6,
                    15.2,
                    17.3,
                    17.3,
                    10.9,
                    22.8,
                    18.4,
                    16.2,
                    22,
                    22.3,
                    10.6,
                    11.8,
                    20.2,
                    21.8,
                    19.4,
                    17,
                    17.9,
                    16.3,
                    27.5,
                    22.4,
                    17.4,
                    8
                  ],
                  "xaxis": "x4",
                  "y": [
                    "67.0",
                    "67.6",
                    "90.7",
                    "69.0",
                    "87.8",
                    "84.3",
                    "61.2",
                    "58.5",
                    "92.7",
                    "59.8",
                    "65.2",
                    "49.2",
                    "96.6",
                    "68.3",
                    "59.7",
                    "43.8",
                    "49.8",
                    "50.5",
                    "59.0",
                    "71.2",
                    "36.7",
                    "90.6",
                    "32.4",
                    "59.3",
                    "94.9",
                    "47.9",
                    "68.9",
                    "33.1",
                    "56.4",
                    "43.9",
                    "33.6",
                    "84.8",
                    "81.3",
                    "87.4",
                    "98.8",
                    "84.3",
                    "64.3",
                    "41.2",
                    "79.0",
                    "87.0",
                    "37.0",
                    "46.5",
                    "81.9",
                    "60.6",
                    "91.3",
                    "33.8",
                    "35.3",
                    "53.7",
                    "44.6",
                    "30.3",
                    "77.8",
                    "34.9",
                    "82.0",
                    "37.0",
                    "62.3",
                    "52.9",
                    "47.8",
                    "37.4",
                    "29.0",
                    "83.6",
                    "92.5",
                    "94.5",
                    "50.1",
                    "59.5",
                    "80.4",
                    "36.0",
                    "53.9",
                    "51.5",
                    "70.8",
                    "63.1",
                    "77.9",
                    "66.2",
                    "78.7",
                    "76.6",
                    "91.2",
                    "42.7",
                    "60.5",
                    "81.9",
                    "52.9",
                    "55.7",
                    "56.6",
                    "55.0",
                    "80.4",
                    "79.6",
                    "38.7",
                    "38.8",
                    "51.4",
                    "51.1",
                    "56.1",
                    "49.1",
                    "40.3",
                    "32.2",
                    "42.9",
                    "69.4",
                    "78.8",
                    "28.3",
                    "39.1",
                    "53.2",
                    "64.0",
                    "57.5",
                    "89.7",
                    "64.3",
                    "64.7",
                    "49.7",
                    "85.7",
                    "86.9",
                    "88.6",
                    "96.8",
                    "54.6",
                    "83.5",
                    "90.5",
                    "83.6",
                    "76.7",
                    "53.0",
                    "75.0",
                    "34.4",
                    "56.1",
                    "94.4",
                    "70.1",
                    "62.7",
                    "79.7",
                    "55.5",
                    "74.8",
                    "73.4",
                    "76.7",
                    "54.6",
                    "84.0",
                    "32.2",
                    "64.0",
                    "31.8",
                    "84.7",
                    "80.7",
                    "44.8",
                    "82.4",
                    "44.7",
                    "85.1",
                    "50.6",
                    "83.9",
                    "54.1",
                    "61.6",
                    "52.6",
                    "49.1",
                    "37.0",
                    "69.0",
                    "34.3",
                    "67.6",
                    "54.7",
                    "35.8",
                    "75.8",
                    "37.1",
                    "61.6",
                    "33.1",
                    "66.3",
                    "79.8",
                    "27.5",
                    "56.8",
                    "29.1",
                    "79.5",
                    "87.3",
                    "71.8",
                    "64.4",
                    "27.5",
                    "56.7",
                    "79.3",
                    "37.3",
                    "60.1",
                    "63.2",
                    "29.7",
                    "56.7",
                    "61.0",
                    "70.6",
                    "59.7",
                    "43.3",
                    "70.1",
                    "87.3",
                    "31.7",
                    "41.2",
                    "57.3",
                    "84.1",
                    "67.4",
                    "40.6",
                    "29.5",
                    "44.6",
                    "91.0",
                    "54.7",
                    "60.3",
                    "27.6",
                    "60.5",
                    "46.1",
                    "63.2",
                    "57.0",
                    "71.3",
                    "37.4",
                    "40.6",
                    "54.8",
                    "60.4",
                    "55.8",
                    "76.5",
                    "83.9",
                    "63.0",
                    "39.9",
                    "44.6",
                    "69.3",
                    "55.6",
                    "53.3",
                    "69.9",
                    "35.9",
                    "73.8",
                    "60.6",
                    "54.1",
                    "47.8",
                    "65.3",
                    "64.5",
                    "53.4",
                    "93.4",
                    "75.0",
                    "26.3",
                    "69.5",
                    "25.3",
                    "55.4",
                    "50.7",
                    "67.2",
                    "79.4",
                    "26.0",
                    "26.5",
                    "35.7",
                    "46.4",
                    "84.4",
                    "88.8",
                    "61.1",
                    "71.6",
                    "55.7",
                    "58.7",
                    "31.8",
                    "42.8",
                    "61.4",
                    "39.6",
                    "70.4",
                    "39.5",
                    "79.4",
                    "63.1",
                    "46.8",
                    "44.2",
                    "57.0",
                    "40.6",
                    "86.9",
                    "63.7",
                    "50.2",
                    "75.9",
                    "59.7",
                    "59.4",
                    "48.7",
                    "73.1",
                    "50.2",
                    "24.8",
                    "71.7",
                    "55.4",
                    "88.6",
                    "49.6",
                    "59.6",
                    "53.0",
                    "59.4",
                    "59.1",
                    "48.2",
                    "32.2",
                    "70.6",
                    "81.5",
                    "43.5",
                    "40.3",
                    "41.0",
                    "54.6",
                    "66.3",
                    "57.3",
                    "39.3",
                    "63.1",
                    "62.5",
                    "30.4",
                    "18.2",
                    "59.1",
                    "56.6",
                    "30.7",
                    "54.7",
                    "29.2",
                    "51.3",
                    "69.8",
                    "23.9",
                    "47.8",
                    "62.2",
                    "21.8",
                    "70.8",
                    "43.1",
                    "26.0",
                    "49.0",
                    "84.4",
                    "35.3",
                    "73.3",
                    "37.4",
                    "47.8",
                    "80.8",
                    "37.3",
                    "80.4",
                    "84.2",
                    "28.9",
                    "48.8",
                    "73.1",
                    "45.5",
                    "53.9",
                    "29.1",
                    "71.8",
                    "42.2",
                    "62.3",
                    "59.4",
                    "41.5",
                    "49.8",
                    "89.2",
                    "43.8",
                    "36.7",
                    "42.9",
                    "44.4",
                    "26.9",
                    "37.5",
                    "19.4",
                    "20.7",
                    "37.0",
                    "29.7",
                    "76.1",
                    "88.2",
                    "52.1",
                    "38.8",
                    "47.0",
                    "49.2",
                    "86.7",
                    "33.1",
                    "47.2",
                    "32.2",
                    "43.4",
                    "45.1",
                    "20.7",
                    "34.8",
                    "30.0",
                    "40.4",
                    "36.7",
                    "67.1",
                    "66.9",
                    "59.3",
                    "45.6",
                    "36.1",
                    "43.7",
                    "41.6",
                    "30.7",
                    "21.5",
                    "65.8",
                    "66.5",
                    "79.7",
                    "53.9",
                    "48.6",
                    "52.1",
                    "91.3",
                    "36.0",
                    "35.8",
                    "48.4",
                    "25.2",
                    "19.5",
                    "16.6",
                    "20.0",
                    "22.5",
                    "26.1",
                    "34.5",
                    "50.9",
                    "85.3",
                    "26.7",
                    "24.2",
                    "26.7",
                    "82.6",
                    "53.6",
                    "86.9",
                    "60.0",
                    "50.3",
                    "38.1",
                    "44.1",
                    "42.1",
                    "37.4",
                    "64.8",
                    "74.9",
                    "46.8",
                    "69.1",
                    "49.7",
                    "29.6",
                    "46.2",
                    "73.3",
                    "48.0",
                    "34.3",
                    "46.3",
                    "21.0",
                    "80.3",
                    "54.5",
                    "43.1",
                    "36.0",
                    "50.1",
                    "33.1",
                    "21.4"
                  ],
                  "yaxis": "y4"
                },
                {
                  "marker": {
                    "color": "rgb(12, 51, 131)"
                  },
                  "showlegend": false,
                  "type": "box",
                  "xaxis": "x5",
                  "y": [
                    "67.0",
                    "67.6",
                    "90.7",
                    "69.0",
                    "87.8",
                    "84.3",
                    "61.2",
                    "58.5",
                    "92.7",
                    "59.8",
                    "65.2",
                    "49.2",
                    "96.6",
                    "68.3",
                    "59.7",
                    "43.8",
                    "49.8",
                    "50.5",
                    "59.0",
                    "71.2",
                    "36.7",
                    "90.6",
                    "32.4",
                    "59.3",
                    "94.9",
                    "47.9",
                    "68.9",
                    "33.1",
                    "56.4",
                    "43.9",
                    "33.6",
                    "84.8",
                    "81.3",
                    "87.4",
                    "98.8",
                    "84.3",
                    "64.3",
                    "41.2",
                    "79.0",
                    "87.0",
                    "37.0",
                    "46.5",
                    "81.9",
                    "60.6",
                    "91.3",
                    "33.8",
                    "35.3",
                    "53.7",
                    "44.6",
                    "30.3",
                    "77.8",
                    "34.9",
                    "82.0",
                    "37.0",
                    "62.3",
                    "52.9",
                    "47.8",
                    "37.4",
                    "29.0",
                    "83.6",
                    "92.5",
                    "94.5",
                    "50.1",
                    "59.5",
                    "80.4",
                    "36.0",
                    "53.9",
                    "51.5",
                    "70.8",
                    "63.1",
                    "77.9",
                    "66.2",
                    "78.7",
                    "76.6",
                    "91.2",
                    "42.7",
                    "60.5",
                    "81.9",
                    "52.9",
                    "55.7",
                    "56.6",
                    "55.0",
                    "80.4",
                    "79.6",
                    "38.7",
                    "38.8",
                    "51.4",
                    "51.1",
                    "56.1",
                    "49.1",
                    "40.3",
                    "32.2",
                    "42.9",
                    "69.4",
                    "78.8",
                    "28.3",
                    "39.1",
                    "53.2",
                    "64.0",
                    "57.5",
                    "89.7",
                    "64.3",
                    "64.7",
                    "49.7",
                    "85.7",
                    "86.9",
                    "88.6",
                    "96.8",
                    "54.6",
                    "83.5",
                    "90.5",
                    "83.6",
                    "76.7",
                    "53.0",
                    "75.0",
                    "34.4",
                    "56.1",
                    "94.4",
                    "70.1",
                    "62.7",
                    "79.7",
                    "55.5",
                    "74.8",
                    "73.4",
                    "76.7",
                    "54.6",
                    "84.0",
                    "32.2",
                    "64.0",
                    "31.8",
                    "84.7",
                    "80.7",
                    "44.8",
                    "82.4",
                    "44.7",
                    "85.1",
                    "50.6",
                    "83.9",
                    "54.1",
                    "61.6",
                    "52.6",
                    "49.1",
                    "37.0",
                    "69.0",
                    "34.3",
                    "67.6",
                    "54.7",
                    "35.8",
                    "75.8",
                    "37.1",
                    "61.6",
                    "33.1",
                    "66.3",
                    "79.8",
                    "27.5",
                    "56.8",
                    "29.1",
                    "79.5",
                    "87.3",
                    "71.8",
                    "64.4",
                    "27.5",
                    "56.7",
                    "79.3",
                    "37.3",
                    "60.1",
                    "63.2",
                    "29.7",
                    "56.7",
                    "61.0",
                    "70.6",
                    "59.7",
                    "43.3",
                    "70.1",
                    "87.3",
                    "31.7",
                    "41.2",
                    "57.3",
                    "84.1",
                    "67.4",
                    "40.6",
                    "29.5",
                    "44.6",
                    "91.0",
                    "54.7",
                    "60.3",
                    "27.6",
                    "60.5",
                    "46.1",
                    "63.2",
                    "57.0",
                    "71.3",
                    "37.4",
                    "40.6",
                    "54.8",
                    "60.4",
                    "55.8",
                    "76.5",
                    "83.9",
                    "63.0",
                    "39.9",
                    "44.6",
                    "69.3",
                    "55.6",
                    "53.3",
                    "69.9",
                    "35.9",
                    "73.8",
                    "60.6",
                    "54.1",
                    "47.8",
                    "65.3",
                    "64.5",
                    "53.4",
                    "93.4",
                    "75.0",
                    "26.3",
                    "69.5",
                    "25.3",
                    "55.4",
                    "50.7",
                    "67.2",
                    "79.4",
                    "26.0",
                    "26.5",
                    "35.7",
                    "46.4",
                    "84.4",
                    "88.8",
                    "61.1",
                    "71.6",
                    "55.7",
                    "58.7",
                    "31.8",
                    "42.8",
                    "61.4",
                    "39.6",
                    "70.4",
                    "39.5",
                    "79.4",
                    "63.1",
                    "46.8",
                    "44.2",
                    "57.0",
                    "40.6",
                    "86.9",
                    "63.7",
                    "50.2",
                    "75.9",
                    "59.7",
                    "59.4",
                    "48.7",
                    "73.1",
                    "50.2",
                    "24.8",
                    "71.7",
                    "55.4",
                    "88.6",
                    "49.6",
                    "59.6",
                    "53.0",
                    "59.4",
                    "59.1",
                    "48.2",
                    "32.2",
                    "70.6",
                    "81.5",
                    "43.5",
                    "40.3",
                    "41.0",
                    "54.6",
                    "66.3",
                    "57.3",
                    "39.3",
                    "63.1",
                    "62.5",
                    "30.4",
                    "18.2",
                    "59.1",
                    "56.6",
                    "30.7",
                    "54.7",
                    "29.2",
                    "51.3",
                    "69.8",
                    "23.9",
                    "47.8",
                    "62.2",
                    "21.8",
                    "70.8",
                    "43.1",
                    "26.0",
                    "49.0",
                    "84.4",
                    "35.3",
                    "73.3",
                    "37.4",
                    "47.8",
                    "80.8",
                    "37.3",
                    "80.4",
                    "84.2",
                    "28.9",
                    "48.8",
                    "73.1",
                    "45.5",
                    "53.9",
                    "29.1",
                    "71.8",
                    "42.2",
                    "62.3",
                    "59.4",
                    "41.5",
                    "49.8",
                    "89.2",
                    "43.8",
                    "36.7",
                    "42.9",
                    "44.4",
                    "26.9",
                    "37.5",
                    "19.4",
                    "20.7",
                    "37.0",
                    "29.7",
                    "76.1",
                    "88.2",
                    "52.1",
                    "38.8",
                    "47.0",
                    "49.2",
                    "86.7",
                    "33.1",
                    "47.2",
                    "32.2",
                    "43.4",
                    "45.1",
                    "20.7",
                    "34.8",
                    "30.0",
                    "40.4",
                    "36.7",
                    "67.1",
                    "66.9",
                    "59.3",
                    "45.6",
                    "36.1",
                    "43.7",
                    "41.6",
                    "30.7",
                    "21.5",
                    "65.8",
                    "66.5",
                    "79.7",
                    "53.9",
                    "48.6",
                    "52.1",
                    "91.3",
                    "36.0",
                    "35.8",
                    "48.4",
                    "25.2",
                    "19.5",
                    "16.6",
                    "20.0",
                    "22.5",
                    "26.1",
                    "34.5",
                    "50.9",
                    "85.3",
                    "26.7",
                    "24.2",
                    "26.7",
                    "82.6",
                    "53.6",
                    "86.9",
                    "60.0",
                    "50.3",
                    "38.1",
                    "44.1",
                    "42.1",
                    "37.4",
                    "64.8",
                    "74.9",
                    "46.8",
                    "69.1",
                    "49.7",
                    "29.6",
                    "46.2",
                    "73.3",
                    "48.0",
                    "34.3",
                    "46.3",
                    "21.0",
                    "80.3",
                    "54.5",
                    "43.1",
                    "36.0",
                    "50.1",
                    "33.1",
                    "21.4"
                  ],
                  "yaxis": "y5"
                },
                {
                  "marker": {
                    "color": [
                      1,
                      2,
                      3,
                      4,
                      5,
                      6,
                      7,
                      8,
                      9,
                      10,
                      11,
                      12,
                      13,
                      14,
                      15,
                      16,
                      17,
                      18,
                      19,
                      20,
                      21,
                      22,
                      23,
                      24,
                      25,
                      26,
                      27,
                      28,
                      29,
                      30,
                      31,
                      32,
                      33,
                      34,
                      35,
                      36,
                      37,
                      38,
                      39,
                      40,
                      41,
                      42,
                      43,
                      44,
                      45,
                      46,
                      47,
                      48,
                      49,
                      50,
                      51,
                      52,
                      53,
                      54,
                      55,
                      56,
                      57,
                      58,
                      59,
                      60,
                      61,
                      62,
                      63,
                      64,
                      65,
                      66,
                      67,
                      68,
                      69,
                      70,
                      71,
                      72,
                      73,
                      74,
                      75,
                      76,
                      77,
                      78,
                      79,
                      80,
                      81,
                      82,
                      83,
                      84,
                      85,
                      86,
                      87,
                      88,
                      89,
                      90,
                      91,
                      92,
                      93,
                      94,
                      95,
                      96,
                      97,
                      98,
                      99,
                      100,
                      101,
                      102,
                      103,
                      104,
                      105,
                      106,
                      107,
                      108,
                      109,
                      110,
                      111,
                      112,
                      113,
                      114,
                      115,
                      116,
                      117,
                      118,
                      119,
                      120,
                      121,
                      122,
                      123,
                      124,
                      125,
                      126,
                      127,
                      128,
                      129,
                      130,
                      131,
                      132,
                      133,
                      134,
                      135,
                      136,
                      137,
                      138,
                      139,
                      140,
                      141,
                      142,
                      143,
                      144,
                      145,
                      146,
                      147,
                      148,
                      149,
                      150,
                      151,
                      152,
                      153,
                      154,
                      155,
                      156,
                      157,
                      158,
                      159,
                      160,
                      161,
                      162,
                      163,
                      164,
                      165,
                      166,
                      167,
                      168,
                      169,
                      170,
                      171,
                      172,
                      173,
                      174,
                      175,
                      176,
                      177,
                      178,
                      179,
                      180,
                      181,
                      182,
                      183,
                      184,
                      185,
                      186,
                      187,
                      188,
                      189,
                      190,
                      191,
                      192,
                      193,
                      194,
                      195,
                      196,
                      197,
                      198,
                      199,
                      200,
                      201,
                      202,
                      203,
                      204,
                      205,
                      206,
                      207,
                      208,
                      209,
                      210,
                      211,
                      212,
                      213,
                      214,
                      215,
                      216,
                      217,
                      218,
                      219,
                      220,
                      221,
                      222,
                      223,
                      224,
                      225,
                      226,
                      227,
                      228,
                      229,
                      230,
                      231,
                      232,
                      233,
                      234,
                      235,
                      236,
                      237,
                      238,
                      239,
                      240,
                      241,
                      242,
                      243,
                      244,
                      245,
                      246,
                      247,
                      248,
                      249,
                      250,
                      251,
                      252,
                      253,
                      254,
                      255,
                      256,
                      257,
                      258,
                      259,
                      260,
                      261,
                      262,
                      263,
                      264,
                      265,
                      266,
                      267,
                      268,
                      269,
                      270,
                      271,
                      272,
                      273,
                      274,
                      275,
                      276,
                      277,
                      278,
                      279,
                      280,
                      281,
                      282,
                      283,
                      284,
                      285,
                      286,
                      287,
                      288,
                      289,
                      290,
                      291,
                      292,
                      293,
                      294,
                      295,
                      296,
                      297,
                      298,
                      299,
                      300,
                      301,
                      302,
                      303,
                      304,
                      305,
                      306,
                      307,
                      308,
                      309,
                      310,
                      311,
                      312,
                      313,
                      314,
                      315,
                      316,
                      317,
                      318,
                      319,
                      320,
                      321,
                      322,
                      323,
                      324,
                      325,
                      326,
                      327,
                      328,
                      329,
                      330,
                      331,
                      332,
                      333,
                      334,
                      335,
                      336,
                      337,
                      338,
                      339,
                      340,
                      341,
                      342,
                      343,
                      344,
                      345,
                      346,
                      347,
                      348,
                      349,
                      350,
                      351,
                      352,
                      353,
                      354,
                      355,
                      356,
                      357,
                      358,
                      359,
                      360,
                      361,
                      362,
                      363,
                      364,
                      365,
                      366,
                      367,
                      368,
                      369,
                      370,
                      371,
                      372,
                      373,
                      374,
                      375,
                      376,
                      377,
                      378,
                      379,
                      380,
                      381,
                      382,
                      383,
                      384,
                      385,
                      386,
                      387,
                      388,
                      389,
                      390,
                      391,
                      392,
                      393,
                      394,
                      395,
                      396,
                      397,
                      398,
                      399,
                      400,
                      401
                    ],
                    "colorscale": [
                      [
                        0,
                        "rgb(12, 51, 131)"
                      ],
                      [
                        1,
                        "rgb(217, 30, 30)"
                      ]
                    ],
                    "showscale": false,
                    "size": 6
                  },
                  "mode": "markers",
                  "showlegend": false,
                  "type": "scatter",
                  "x": [
                    "94.3",
                    "93.3",
                    "93.2",
                    "92.9",
                    "92.0",
                    "91.9",
                    "90.9",
                    "89.5",
                    "87.5",
                    "87.5",
                    "87.1",
                    "85.5",
                    "84.6",
                    "84.4",
                    "83.0",
                    "81.0",
                    "80.9",
                    "79.9",
                    "79.4",
                    "79.3",
                    "79.2",
                    "78.7",
                    "76.1",
                    "74.3",
                    "73.3",
                    "73.2",
                    "72.8",
                    "72.3",
                    "71.9",
                    "71.9",
                    "71.9",
                    "71.8",
                    "71.2",
                    "70.9",
                    "70.9",
                    "70.4",
                    "70.0",
                    "69.9",
                    "69.6",
                    "69.4",
                    "68.6",
                    "67.8",
                    "67.5",
                    "66.8",
                    "66.5",
                    "65.9",
                    "65.9",
                    "65.2",
                    "65.1",
                    "64.8",
                    "64.7",
                    "64.5",
                    "64.5",
                    "64.1",
                    "63.7",
                    "63.7",
                    "63.6",
                    "62.9",
                    "62.8",
                    "62.7",
                    "62.2",
                    "62.2",
                    "61.9",
                    "61.3",
                    "61.2",
                    "61.1",
                    "61.0",
                    "60.7",
                    "59.8",
                    "59.6",
                    "59.2",
                    "59.1",
                    "59.0",
                    "58.9",
                    "58.4",
                    "58.4",
                    "58.2",
                    "58.1",
                    "58.0",
                    "57.9",
                    "57.6",
                    "57.3",
                    "56.9",
                    "56.9",
                    "56.6",
                    "56.5",
                    "56.5",
                    "56.4",
                    "56.4",
                    "56.2",
                    "56.1",
                    "56.1",
                    "55.5",
                    "55.3",
                    "55.3",
                    "55.2",
                    "55.1",
                    "54.6",
                    "54.6",
                    "54.6",
                    "54.3",
                    "54.0",
                    "53.9",
                    "53.9",
                    "53.9",
                    "53.9",
                    "53.8",
                    "53.8",
                    "53.7",
                    "53.7",
                    "53.6",
                    "53.6",
                    "53.4",
                    "53.4",
                    "53.4",
                    "53.2",
                    "53.1",
                    "53.0",
                    "52.9",
                    "52.8",
                    "52.7",
                    "52.7",
                    "52.7",
                    "52.6",
                    "52.6",
                    "52.5",
                    "52.5",
                    "52.5",
                    "52.4",
                    "52.1",
                    "52.0",
                    "51.9",
                    "51.9",
                    "51.9",
                    "51.6",
                    "51.4",
                    "51.4",
                    "51.2",
                    "51.1",
                    "51.0",
                    "50.9",
                    "50.9",
                    "50.9",
                    "50.5",
                    "50.5",
                    "50.4",
                    "50.3",
                    "50.2",
                    "50.2",
                    "50.1",
                    "50.1",
                    "50.0",
                    "49.9",
                    "49.7",
                    "49.3",
                    "49.2",
                    "49.1",
                    "49.1",
                    "49.1",
                    "49.0",
                    "49.0",
                    "48.6",
                    "48.3",
                    "48.2",
                    "48.1",
                    "48.1",
                    "48.1",
                    "48.1",
                    "48.0",
                    "47.9",
                    "47.8",
                    "47.8",
                    "47.7",
                    "47.7",
                    "47.5",
                    "47.5",
                    "47.3",
                    "47.1",
                    "47.1",
                    "47.0",
                    "47.0",
                    "46.9",
                    "46.9",
                    "46.9",
                    "46.8",
                    "46.7",
                    "46.7",
                    "46.6",
                    "46.6",
                    "46.6",
                    "46.5",
                    "46.3",
                    "46.2",
                    "46.2",
                    "46.1",
                    "46.0",
                    "46.0",
                    "45.9",
                    "45.7",
                    "45.6",
                    "45.6",
                    "-",
                    "-",
                    "-",
                    "-",
                    "-",
                    "-",
                    "-",
                    "-",
                    "-",
                    "-",
                    "-",
                    "-",
                    "-",
                    "-",
                    "-",
                    "-",
                    "-",
                    "-",
                    "-",
                    "-",
                    "-",
                    "-",
                    "-",
                    "-",
                    "-",
                    "-",
                    "-",
                    "-",
                    "-",
                    "-",
                    "-",
                    "-",
                    "-",
                    "-",
                    "-",
                    "-",
                    "-",
                    "-",
                    "-",
                    "-",
                    "-",
                    "-",
                    "-",
                    "-",
                    "-",
                    "-",
                    "-",
                    "-",
                    "-",
                    "-",
                    "-",
                    "-",
                    "-",
                    "-",
                    "-",
                    "-",
                    "-",
                    "-",
                    "-",
                    "-",
                    "-",
                    "-",
                    "-",
                    "-",
                    "-",
                    "-",
                    "-",
                    "-",
                    "-",
                    "-",
                    "-",
                    "-",
                    "-",
                    "-",
                    "-",
                    "-",
                    "-",
                    "-",
                    "-",
                    "-",
                    "-",
                    "-",
                    "-",
                    "-",
                    "-",
                    "-",
                    "-",
                    "-",
                    "-",
                    "-",
                    "-",
                    "-",
                    "-",
                    "-",
                    "-",
                    "-",
                    "-",
                    "-",
                    "-",
                    "-",
                    "-",
                    "-",
                    "-",
                    "-",
                    "-",
                    "-",
                    "-",
                    "-",
                    "-",
                    "-",
                    "-",
                    "-",
                    "-",
                    "-",
                    "-",
                    "-",
                    "-",
                    "-",
                    "-",
                    "-",
                    "-",
                    "-",
                    "-",
                    "-",
                    "-",
                    "-",
                    "-",
                    "-",
                    "-",
                    "-",
                    "-",
                    "-",
                    "-",
                    "-",
                    "-",
                    "-",
                    "-",
                    "-",
                    "-",
                    "-",
                    "-",
                    "-",
                    "-",
                    "-",
                    "-",
                    "-",
                    "-",
                    "-",
                    "-",
                    "-",
                    "-",
                    "-",
                    "-",
                    "-",
                    "-",
                    "-",
                    "-",
                    "-",
                    "-",
                    "-",
                    "-",
                    "-",
                    "-",
                    "-",
                    "-",
                    "-",
                    "-",
                    "-",
                    "-",
                    "-",
                    "-",
                    "-",
                    "-",
                    "-",
                    "-",
                    "-",
                    "-",
                    "-",
                    "-",
                    "-",
                    "-",
                    "-",
                    "-",
                    "-",
                    "-",
                    "-",
                    "-",
                    "-",
                    "-",
                    "-",
                    "-",
                    "-",
                    "-",
                    "-",
                    "-",
                    "-",
                    "-",
                    "-",
                    "-",
                    "-"
                  ],
                  "xaxis": "x6",
                  "y": [
                    "67.0",
                    "67.6",
                    "90.7",
                    "69.0",
                    "87.8",
                    "84.3",
                    "61.2",
                    "58.5",
                    "92.7",
                    "59.8",
                    "65.2",
                    "49.2",
                    "96.6",
                    "68.3",
                    "59.7",
                    "43.8",
                    "49.8",
                    "50.5",
                    "59.0",
                    "71.2",
                    "36.7",
                    "90.6",
                    "32.4",
                    "59.3",
                    "94.9",
                    "47.9",
                    "68.9",
                    "33.1",
                    "56.4",
                    "43.9",
                    "33.6",
                    "84.8",
                    "81.3",
                    "87.4",
                    "98.8",
                    "84.3",
                    "64.3",
                    "41.2",
                    "79.0",
                    "87.0",
                    "37.0",
                    "46.5",
                    "81.9",
                    "60.6",
                    "91.3",
                    "33.8",
                    "35.3",
                    "53.7",
                    "44.6",
                    "30.3",
                    "77.8",
                    "34.9",
                    "82.0",
                    "37.0",
                    "62.3",
                    "52.9",
                    "47.8",
                    "37.4",
                    "29.0",
                    "83.6",
                    "92.5",
                    "94.5",
                    "50.1",
                    "59.5",
                    "80.4",
                    "36.0",
                    "53.9",
                    "51.5",
                    "70.8",
                    "63.1",
                    "77.9",
                    "66.2",
                    "78.7",
                    "76.6",
                    "91.2",
                    "42.7",
                    "60.5",
                    "81.9",
                    "52.9",
                    "55.7",
                    "56.6",
                    "55.0",
                    "80.4",
                    "79.6",
                    "38.7",
                    "38.8",
                    "51.4",
                    "51.1",
                    "56.1",
                    "49.1",
                    "40.3",
                    "32.2",
                    "42.9",
                    "69.4",
                    "78.8",
                    "28.3",
                    "39.1",
                    "53.2",
                    "64.0",
                    "57.5",
                    "89.7",
                    "64.3",
                    "64.7",
                    "49.7",
                    "85.7",
                    "86.9",
                    "88.6",
                    "96.8",
                    "54.6",
                    "83.5",
                    "90.5",
                    "83.6",
                    "76.7",
                    "53.0",
                    "75.0",
                    "34.4",
                    "56.1",
                    "94.4",
                    "70.1",
                    "62.7",
                    "79.7",
                    "55.5",
                    "74.8",
                    "73.4",
                    "76.7",
                    "54.6",
                    "84.0",
                    "32.2",
                    "64.0",
                    "31.8",
                    "84.7",
                    "80.7",
                    "44.8",
                    "82.4",
                    "44.7",
                    "85.1",
                    "50.6",
                    "83.9",
                    "54.1",
                    "61.6",
                    "52.6",
                    "49.1",
                    "37.0",
                    "69.0",
                    "34.3",
                    "67.6",
                    "54.7",
                    "35.8",
                    "75.8",
                    "37.1",
                    "61.6",
                    "33.1",
                    "66.3",
                    "79.8",
                    "27.5",
                    "56.8",
                    "29.1",
                    "79.5",
                    "87.3",
                    "71.8",
                    "64.4",
                    "27.5",
                    "56.7",
                    "79.3",
                    "37.3",
                    "60.1",
                    "63.2",
                    "29.7",
                    "56.7",
                    "61.0",
                    "70.6",
                    "59.7",
                    "43.3",
                    "70.1",
                    "87.3",
                    "31.7",
                    "41.2",
                    "57.3",
                    "84.1",
                    "67.4",
                    "40.6",
                    "29.5",
                    "44.6",
                    "91.0",
                    "54.7",
                    "60.3",
                    "27.6",
                    "60.5",
                    "46.1",
                    "63.2",
                    "57.0",
                    "71.3",
                    "37.4",
                    "40.6",
                    "54.8",
                    "60.4",
                    "55.8",
                    "76.5",
                    "83.9",
                    "63.0",
                    "39.9",
                    "44.6",
                    "69.3",
                    "55.6",
                    "53.3",
                    "69.9",
                    "35.9",
                    "73.8",
                    "60.6",
                    "54.1",
                    "47.8",
                    "65.3",
                    "64.5",
                    "53.4",
                    "93.4",
                    "75.0",
                    "26.3",
                    "69.5",
                    "25.3",
                    "55.4",
                    "50.7",
                    "67.2",
                    "79.4",
                    "26.0",
                    "26.5",
                    "35.7",
                    "46.4",
                    "84.4",
                    "88.8",
                    "61.1",
                    "71.6",
                    "55.7",
                    "58.7",
                    "31.8",
                    "42.8",
                    "61.4",
                    "39.6",
                    "70.4",
                    "39.5",
                    "79.4",
                    "63.1",
                    "46.8",
                    "44.2",
                    "57.0",
                    "40.6",
                    "86.9",
                    "63.7",
                    "50.2",
                    "75.9",
                    "59.7",
                    "59.4",
                    "48.7",
                    "73.1",
                    "50.2",
                    "24.8",
                    "71.7",
                    "55.4",
                    "88.6",
                    "49.6",
                    "59.6",
                    "53.0",
                    "59.4",
                    "59.1",
                    "48.2",
                    "32.2",
                    "70.6",
                    "81.5",
                    "43.5",
                    "40.3",
                    "41.0",
                    "54.6",
                    "66.3",
                    "57.3",
                    "39.3",
                    "63.1",
                    "62.5",
                    "30.4",
                    "18.2",
                    "59.1",
                    "56.6",
                    "30.7",
                    "54.7",
                    "29.2",
                    "51.3",
                    "69.8",
                    "23.9",
                    "47.8",
                    "62.2",
                    "21.8",
                    "70.8",
                    "43.1",
                    "26.0",
                    "49.0",
                    "84.4",
                    "35.3",
                    "73.3",
                    "37.4",
                    "47.8",
                    "80.8",
                    "37.3",
                    "80.4",
                    "84.2",
                    "28.9",
                    "48.8",
                    "73.1",
                    "45.5",
                    "53.9",
                    "29.1",
                    "71.8",
                    "42.2",
                    "62.3",
                    "59.4",
                    "41.5",
                    "49.8",
                    "89.2",
                    "43.8",
                    "36.7",
                    "42.9",
                    "44.4",
                    "26.9",
                    "37.5",
                    "19.4",
                    "20.7",
                    "37.0",
                    "29.7",
                    "76.1",
                    "88.2",
                    "52.1",
                    "38.8",
                    "47.0",
                    "49.2",
                    "86.7",
                    "33.1",
                    "47.2",
                    "32.2",
                    "43.4",
                    "45.1",
                    "20.7",
                    "34.8",
                    "30.0",
                    "40.4",
                    "36.7",
                    "67.1",
                    "66.9",
                    "59.3",
                    "45.6",
                    "36.1",
                    "43.7",
                    "41.6",
                    "30.7",
                    "21.5",
                    "65.8",
                    "66.5",
                    "79.7",
                    "53.9",
                    "48.6",
                    "52.1",
                    "91.3",
                    "36.0",
                    "35.8",
                    "48.4",
                    "25.2",
                    "19.5",
                    "16.6",
                    "20.0",
                    "22.5",
                    "26.1",
                    "34.5",
                    "50.9",
                    "85.3",
                    "26.7",
                    "24.2",
                    "26.7",
                    "82.6",
                    "53.6",
                    "86.9",
                    "60.0",
                    "50.3",
                    "38.1",
                    "44.1",
                    "42.1",
                    "37.4",
                    "64.8",
                    "74.9",
                    "46.8",
                    "69.1",
                    "49.7",
                    "29.6",
                    "46.2",
                    "73.3",
                    "48.0",
                    "34.3",
                    "46.3",
                    "21.0",
                    "80.3",
                    "54.5",
                    "43.1",
                    "36.0",
                    "50.1",
                    "33.1",
                    "21.4"
                  ],
                  "yaxis": "y6"
                },
                {
                  "marker": {
                    "color": [
                      1,
                      2,
                      3,
                      4,
                      5,
                      6,
                      7,
                      8,
                      9,
                      10,
                      11,
                      12,
                      13,
                      14,
                      15,
                      16,
                      17,
                      18,
                      19,
                      20,
                      21,
                      22,
                      23,
                      24,
                      25,
                      26,
                      27,
                      28,
                      29,
                      30,
                      31,
                      32,
                      33,
                      34,
                      35,
                      36,
                      37,
                      38,
                      39,
                      40,
                      41,
                      42,
                      43,
                      44,
                      45,
                      46,
                      47,
                      48,
                      49,
                      50,
                      51,
                      52,
                      53,
                      54,
                      55,
                      56,
                      57,
                      58,
                      59,
                      60,
                      61,
                      62,
                      63,
                      64,
                      65,
                      66,
                      67,
                      68,
                      69,
                      70,
                      71,
                      72,
                      73,
                      74,
                      75,
                      76,
                      77,
                      78,
                      79,
                      80,
                      81,
                      82,
                      83,
                      84,
                      85,
                      86,
                      87,
                      88,
                      89,
                      90,
                      91,
                      92,
                      93,
                      94,
                      95,
                      96,
                      97,
                      98,
                      99,
                      100,
                      101,
                      102,
                      103,
                      104,
                      105,
                      106,
                      107,
                      108,
                      109,
                      110,
                      111,
                      112,
                      113,
                      114,
                      115,
                      116,
                      117,
                      118,
                      119,
                      120,
                      121,
                      122,
                      123,
                      124,
                      125,
                      126,
                      127,
                      128,
                      129,
                      130,
                      131,
                      132,
                      133,
                      134,
                      135,
                      136,
                      137,
                      138,
                      139,
                      140,
                      141,
                      142,
                      143,
                      144,
                      145,
                      146,
                      147,
                      148,
                      149,
                      150,
                      151,
                      152,
                      153,
                      154,
                      155,
                      156,
                      157,
                      158,
                      159,
                      160,
                      161,
                      162,
                      163,
                      164,
                      165,
                      166,
                      167,
                      168,
                      169,
                      170,
                      171,
                      172,
                      173,
                      174,
                      175,
                      176,
                      177,
                      178,
                      179,
                      180,
                      181,
                      182,
                      183,
                      184,
                      185,
                      186,
                      187,
                      188,
                      189,
                      190,
                      191,
                      192,
                      193,
                      194,
                      195,
                      196,
                      197,
                      198,
                      199,
                      200,
                      201,
                      202,
                      203,
                      204,
                      205,
                      206,
                      207,
                      208,
                      209,
                      210,
                      211,
                      212,
                      213,
                      214,
                      215,
                      216,
                      217,
                      218,
                      219,
                      220,
                      221,
                      222,
                      223,
                      224,
                      225,
                      226,
                      227,
                      228,
                      229,
                      230,
                      231,
                      232,
                      233,
                      234,
                      235,
                      236,
                      237,
                      238,
                      239,
                      240,
                      241,
                      242,
                      243,
                      244,
                      245,
                      246,
                      247,
                      248,
                      249,
                      250,
                      251,
                      252,
                      253,
                      254,
                      255,
                      256,
                      257,
                      258,
                      259,
                      260,
                      261,
                      262,
                      263,
                      264,
                      265,
                      266,
                      267,
                      268,
                      269,
                      270,
                      271,
                      272,
                      273,
                      274,
                      275,
                      276,
                      277,
                      278,
                      279,
                      280,
                      281,
                      282,
                      283,
                      284,
                      285,
                      286,
                      287,
                      288,
                      289,
                      290,
                      291,
                      292,
                      293,
                      294,
                      295,
                      296,
                      297,
                      298,
                      299,
                      300,
                      301,
                      302,
                      303,
                      304,
                      305,
                      306,
                      307,
                      308,
                      309,
                      310,
                      311,
                      312,
                      313,
                      314,
                      315,
                      316,
                      317,
                      318,
                      319,
                      320,
                      321,
                      322,
                      323,
                      324,
                      325,
                      326,
                      327,
                      328,
                      329,
                      330,
                      331,
                      332,
                      333,
                      334,
                      335,
                      336,
                      337,
                      338,
                      339,
                      340,
                      341,
                      342,
                      343,
                      344,
                      345,
                      346,
                      347,
                      348,
                      349,
                      350,
                      351,
                      352,
                      353,
                      354,
                      355,
                      356,
                      357,
                      358,
                      359,
                      360,
                      361,
                      362,
                      363,
                      364,
                      365,
                      366,
                      367,
                      368,
                      369,
                      370,
                      371,
                      372,
                      373,
                      374,
                      375,
                      376,
                      377,
                      378,
                      379,
                      380,
                      381,
                      382,
                      383,
                      384,
                      385,
                      386,
                      387,
                      388,
                      389,
                      390,
                      391,
                      392,
                      393,
                      394,
                      395,
                      396,
                      397,
                      398,
                      399,
                      400,
                      401
                    ],
                    "colorscale": [
                      [
                        0,
                        "rgb(12, 51, 131)"
                      ],
                      [
                        1,
                        "rgb(217, 30, 30)"
                      ]
                    ],
                    "showscale": false,
                    "size": 6
                  },
                  "mode": "markers",
                  "showlegend": false,
                  "type": "scatter",
                  "x": [
                    98.1,
                    98.6,
                    97.7,
                    96.7,
                    95.6,
                    88.2,
                    94.7,
                    96.7,
                    88.3,
                    90.8,
                    89.9,
                    90.5,
                    90.2,
                    79.4,
                    84.2,
                    82,
                    86.5,
                    75.2,
                    83.8,
                    85.1,
                    78.9,
                    80.4,
                    85.1,
                    74.9,
                    78.1,
                    68.9,
                    71.2,
                    72,
                    69.1,
                    79,
                    71.3,
                    69,
                    70.9,
                    74.2,
                    56.9,
                    62.9,
                    61.4,
                    62.4,
                    69.9,
                    62.3,
                    66.6,
                    55.2,
                    72.6,
                    68,
                    70.9,
                    64.7,
                    58.6,
                    61.9,
                    68.3,
                    77.1,
                    66.8,
                    63.2,
                    58.7,
                    54.2,
                    63.6,
                    59.7,
                    46.7,
                    64.8,
                    68.4,
                    60.8,
                    55.9,
                    47.1,
                    46,
                    58.2,
                    58.4,
                    49.3,
                    48,
                    51.1,
                    37.1,
                    45.4,
                    71.4,
                    53.7,
                    46.8,
                    44.7,
                    41.1,
                    44.6,
                    55.4,
                    36.2,
                    54.8,
                    52.6,
                    58,
                    49.4,
                    40.7,
                    54.4,
                    36.9,
                    51.4,
                    38.5,
                    33.9,
                    41.7,
                    51.6,
                    49.1,
                    46.3,
                    32.4,
                    43.2,
                    40.5,
                    38.2,
                    38.3,
                    45,
                    37.4,
                    53,
                    48.1,
                    50.5,
                    30,
                    48.1,
                    45.8,
                    33.1,
                    32.9,
                    37.2,
                    31.9,
                    51.9,
                    35.9,
                    30.4,
                    44.4,
                    44.7,
                    33.8,
                    37.4,
                    50.8,
                    22.4,
                    48.5,
                    33.1,
                    28.2,
                    29.2,
                    39.1,
                    47.1,
                    35.3,
                    29.1,
                    44.8,
                    52.1,
                    53.5,
                    35.9,
                    36.1,
                    36.9,
                    39.1,
                    34.1,
                    42,
                    39.9,
                    43.2,
                    30.3,
                    27.6,
                    46.7,
                    26.7,
                    51.9,
                    52.9,
                    47.1,
                    45.3,
                    39.1,
                    29.1,
                    50.2,
                    39.8,
                    35.1,
                    27.5,
                    35.4,
                    47.5,
                    32.7,
                    57.3,
                    29.9,
                    48,
                    33.2,
                    38.1,
                    34.4,
                    33.8,
                    36.5,
                    28.1,
                    40.4,
                    36.9,
                    34.9,
                    28.3,
                    47.3,
                    27.2,
                    33.6,
                    35.8,
                    34.9,
                    28.2,
                    30.6,
                    33.4,
                    33.5,
                    24.4,
                    29.3,
                    30.2,
                    19.7,
                    36.3,
                    37.5,
                    27.1,
                    39.7,
                    21.9,
                    35.2,
                    23.9,
                    24.4,
                    51.1,
                    34.7,
                    39.8,
                    32.9,
                    34,
                    30.9,
                    22.2,
                    42.1,
                    27.3,
                    22.6,
                    31.6,
                    13.1,
                    25.1,
                    27.7,
                    30.4,
                    22.4,
                    36.3,
                    36.5,
                    44.3,
                    29.6,
                    37.5,
                    22,
                    28.8,
                    27.9,
                    22.5,
                    34.1,
                    17.1,
                    34,
                    27.3,
                    23.4,
                    51.6,
                    28.2,
                    16,
                    45.3,
                    36.2,
                    23.5,
                    19.9,
                    45.8,
                    29.2,
                    29.3,
                    21.4,
                    24.5,
                    30,
                    29.9,
                    23.2,
                    31.8,
                    26.2,
                    29.3,
                    35,
                    32.3,
                    9.8,
                    28.1,
                    30.5,
                    38.2,
                    24.3,
                    33.4,
                    23,
                    32.5,
                    35.7,
                    17.3,
                    32.4,
                    35.3,
                    31.3,
                    10.1,
                    17,
                    23.3,
                    40.3,
                    24.8,
                    33.4,
                    25.1,
                    25.2,
                    33.7,
                    27.6,
                    30.7,
                    24.7,
                    18.1,
                    23.4,
                    29.9,
                    27.7,
                    19.2,
                    25.6,
                    37.9,
                    12.1,
                    21.7,
                    20.3,
                    20.3,
                    40.4,
                    32.8,
                    31.3,
                    39.5,
                    25.5,
                    22.5,
                    40.7,
                    29.6,
                    10.5,
                    18.1,
                    36,
                    37.9,
                    31.2,
                    45.1,
                    22.9,
                    22.2,
                    23.2,
                    22.4,
                    15.3,
                    19.7,
                    28.9,
                    20.3,
                    22.9,
                    24.4,
                    24,
                    27.5,
                    27.8,
                    28.5,
                    40,
                    19.3,
                    23,
                    17.8,
                    24.3,
                    10.4,
                    20.6,
                    14.3,
                    13.2,
                    17.3,
                    16.5,
                    24.4,
                    24.8,
                    17.2,
                    21.1,
                    26.6,
                    14.7,
                    24.8,
                    28.1,
                    34.7,
                    38.8,
                    25.2,
                    20.7,
                    25.1,
                    23.4,
                    18.4,
                    27.1,
                    16.8,
                    13.7,
                    29,
                    25.8,
                    24,
                    20.1,
                    29.4,
                    6.5,
                    13.7,
                    16.5,
                    15.7,
                    18.2,
                    18.8,
                    20.5,
                    25.1,
                    17.3,
                    22.2,
                    21.6,
                    12,
                    13.6,
                    15.2,
                    33.1,
                    28.5,
                    20.6,
                    21.6,
                    12.9,
                    19.1,
                    17.2,
                    17.1,
                    18,
                    20.3,
                    32.3,
                    27.5,
                    24.6,
                    14.3,
                    27.3,
                    10,
                    28.5,
                    16.6,
                    27.6,
                    17.8,
                    40.1,
                    32.9,
                    42.6,
                    18.9,
                    22.5,
                    16.3,
                    16.9,
                    25.7,
                    18.1,
                    21.6,
                    15.2,
                    17.3,
                    17.3,
                    10.9,
                    22.8,
                    18.4,
                    16.2,
                    22,
                    22.3,
                    10.6,
                    11.8,
                    20.2,
                    21.8,
                    19.4,
                    17,
                    17.9,
                    16.3,
                    27.5,
                    22.4,
                    17.4,
                    8
                  ],
                  "xaxis": "x7",
                  "y": [
                    "94.3",
                    "93.3",
                    "93.2",
                    "92.9",
                    "92.0",
                    "91.9",
                    "90.9",
                    "89.5",
                    "87.5",
                    "87.5",
                    "87.1",
                    "85.5",
                    "84.6",
                    "84.4",
                    "83.0",
                    "81.0",
                    "80.9",
                    "79.9",
                    "79.4",
                    "79.3",
                    "79.2",
                    "78.7",
                    "76.1",
                    "74.3",
                    "73.3",
                    "73.2",
                    "72.8",
                    "72.3",
                    "71.9",
                    "71.9",
                    "71.9",
                    "71.8",
                    "71.2",
                    "70.9",
                    "70.9",
                    "70.4",
                    "70.0",
                    "69.9",
                    "69.6",
                    "69.4",
                    "68.6",
                    "67.8",
                    "67.5",
                    "66.8",
                    "66.5",
                    "65.9",
                    "65.9",
                    "65.2",
                    "65.1",
                    "64.8",
                    "64.7",
                    "64.5",
                    "64.5",
                    "64.1",
                    "63.7",
                    "63.7",
                    "63.6",
                    "62.9",
                    "62.8",
                    "62.7",
                    "62.2",
                    "62.2",
                    "61.9",
                    "61.3",
                    "61.2",
                    "61.1",
                    "61.0",
                    "60.7",
                    "59.8",
                    "59.6",
                    "59.2",
                    "59.1",
                    "59.0",
                    "58.9",
                    "58.4",
                    "58.4",
                    "58.2",
                    "58.1",
                    "58.0",
                    "57.9",
                    "57.6",
                    "57.3",
                    "56.9",
                    "56.9",
                    "56.6",
                    "56.5",
                    "56.5",
                    "56.4",
                    "56.4",
                    "56.2",
                    "56.1",
                    "56.1",
                    "55.5",
                    "55.3",
                    "55.3",
                    "55.2",
                    "55.1",
                    "54.6",
                    "54.6",
                    "54.6",
                    "54.3",
                    "54.0",
                    "53.9",
                    "53.9",
                    "53.9",
                    "53.9",
                    "53.8",
                    "53.8",
                    "53.7",
                    "53.7",
                    "53.6",
                    "53.6",
                    "53.4",
                    "53.4",
                    "53.4",
                    "53.2",
                    "53.1",
                    "53.0",
                    "52.9",
                    "52.8",
                    "52.7",
                    "52.7",
                    "52.7",
                    "52.6",
                    "52.6",
                    "52.5",
                    "52.5",
                    "52.5",
                    "52.4",
                    "52.1",
                    "52.0",
                    "51.9",
                    "51.9",
                    "51.9",
                    "51.6",
                    "51.4",
                    "51.4",
                    "51.2",
                    "51.1",
                    "51.0",
                    "50.9",
                    "50.9",
                    "50.9",
                    "50.5",
                    "50.5",
                    "50.4",
                    "50.3",
                    "50.2",
                    "50.2",
                    "50.1",
                    "50.1",
                    "50.0",
                    "49.9",
                    "49.7",
                    "49.3",
                    "49.2",
                    "49.1",
                    "49.1",
                    "49.1",
                    "49.0",
                    "49.0",
                    "48.6",
                    "48.3",
                    "48.2",
                    "48.1",
                    "48.1",
                    "48.1",
                    "48.1",
                    "48.0",
                    "47.9",
                    "47.8",
                    "47.8",
                    "47.7",
                    "47.7",
                    "47.5",
                    "47.5",
                    "47.3",
                    "47.1",
                    "47.1",
                    "47.0",
                    "47.0",
                    "46.9",
                    "46.9",
                    "46.9",
                    "46.8",
                    "46.7",
                    "46.7",
                    "46.6",
                    "46.6",
                    "46.6",
                    "46.5",
                    "46.3",
                    "46.2",
                    "46.2",
                    "46.1",
                    "46.0",
                    "46.0",
                    "45.9",
                    "45.7",
                    "45.6",
                    "45.6",
                    "-",
                    "-",
                    "-",
                    "-",
                    "-",
                    "-",
                    "-",
                    "-",
                    "-",
                    "-",
                    "-",
                    "-",
                    "-",
                    "-",
                    "-",
                    "-",
                    "-",
                    "-",
                    "-",
                    "-",
                    "-",
                    "-",
                    "-",
                    "-",
                    "-",
                    "-",
                    "-",
                    "-",
                    "-",
                    "-",
                    "-",
                    "-",
                    "-",
                    "-",
                    "-",
                    "-",
                    "-",
                    "-",
                    "-",
                    "-",
                    "-",
                    "-",
                    "-",
                    "-",
                    "-",
                    "-",
                    "-",
                    "-",
                    "-",
                    "-",
                    "-",
                    "-",
                    "-",
                    "-",
                    "-",
                    "-",
                    "-",
                    "-",
                    "-",
                    "-",
                    "-",
                    "-",
                    "-",
                    "-",
                    "-",
                    "-",
                    "-",
                    "-",
                    "-",
                    "-",
                    "-",
                    "-",
                    "-",
                    "-",
                    "-",
                    "-",
                    "-",
                    "-",
                    "-",
                    "-",
                    "-",
                    "-",
                    "-",
                    "-",
                    "-",
                    "-",
                    "-",
                    "-",
                    "-",
                    "-",
                    "-",
                    "-",
                    "-",
                    "-",
                    "-",
                    "-",
                    "-",
                    "-",
                    "-",
                    "-",
                    "-",
                    "-",
                    "-",
                    "-",
                    "-",
                    "-",
                    "-",
                    "-",
                    "-",
                    "-",
                    "-",
                    "-",
                    "-",
                    "-",
                    "-",
                    "-",
                    "-",
                    "-",
                    "-",
                    "-",
                    "-",
                    "-",
                    "-",
                    "-",
                    "-",
                    "-",
                    "-",
                    "-",
                    "-",
                    "-",
                    "-",
                    "-",
                    "-",
                    "-",
                    "-",
                    "-",
                    "-",
                    "-",
                    "-",
                    "-",
                    "-",
                    "-",
                    "-",
                    "-",
                    "-",
                    "-",
                    "-",
                    "-",
                    "-",
                    "-",
                    "-",
                    "-",
                    "-",
                    "-",
                    "-",
                    "-",
                    "-",
                    "-",
                    "-",
                    "-",
                    "-",
                    "-",
                    "-",
                    "-",
                    "-",
                    "-",
                    "-",
                    "-",
                    "-",
                    "-",
                    "-",
                    "-",
                    "-",
                    "-",
                    "-",
                    "-",
                    "-",
                    "-",
                    "-",
                    "-",
                    "-",
                    "-",
                    "-",
                    "-",
                    "-",
                    "-",
                    "-",
                    "-",
                    "-",
                    "-",
                    "-",
                    "-",
                    "-",
                    "-",
                    "-",
                    "-",
                    "-",
                    "-",
                    "-",
                    "-"
                  ],
                  "yaxis": "y7"
                },
                {
                  "marker": {
                    "color": [
                      1,
                      2,
                      3,
                      4,
                      5,
                      6,
                      7,
                      8,
                      9,
                      10,
                      11,
                      12,
                      13,
                      14,
                      15,
                      16,
                      17,
                      18,
                      19,
                      20,
                      21,
                      22,
                      23,
                      24,
                      25,
                      26,
                      27,
                      28,
                      29,
                      30,
                      31,
                      32,
                      33,
                      34,
                      35,
                      36,
                      37,
                      38,
                      39,
                      40,
                      41,
                      42,
                      43,
                      44,
                      45,
                      46,
                      47,
                      48,
                      49,
                      50,
                      51,
                      52,
                      53,
                      54,
                      55,
                      56,
                      57,
                      58,
                      59,
                      60,
                      61,
                      62,
                      63,
                      64,
                      65,
                      66,
                      67,
                      68,
                      69,
                      70,
                      71,
                      72,
                      73,
                      74,
                      75,
                      76,
                      77,
                      78,
                      79,
                      80,
                      81,
                      82,
                      83,
                      84,
                      85,
                      86,
                      87,
                      88,
                      89,
                      90,
                      91,
                      92,
                      93,
                      94,
                      95,
                      96,
                      97,
                      98,
                      99,
                      100,
                      101,
                      102,
                      103,
                      104,
                      105,
                      106,
                      107,
                      108,
                      109,
                      110,
                      111,
                      112,
                      113,
                      114,
                      115,
                      116,
                      117,
                      118,
                      119,
                      120,
                      121,
                      122,
                      123,
                      124,
                      125,
                      126,
                      127,
                      128,
                      129,
                      130,
                      131,
                      132,
                      133,
                      134,
                      135,
                      136,
                      137,
                      138,
                      139,
                      140,
                      141,
                      142,
                      143,
                      144,
                      145,
                      146,
                      147,
                      148,
                      149,
                      150,
                      151,
                      152,
                      153,
                      154,
                      155,
                      156,
                      157,
                      158,
                      159,
                      160,
                      161,
                      162,
                      163,
                      164,
                      165,
                      166,
                      167,
                      168,
                      169,
                      170,
                      171,
                      172,
                      173,
                      174,
                      175,
                      176,
                      177,
                      178,
                      179,
                      180,
                      181,
                      182,
                      183,
                      184,
                      185,
                      186,
                      187,
                      188,
                      189,
                      190,
                      191,
                      192,
                      193,
                      194,
                      195,
                      196,
                      197,
                      198,
                      199,
                      200,
                      201,
                      202,
                      203,
                      204,
                      205,
                      206,
                      207,
                      208,
                      209,
                      210,
                      211,
                      212,
                      213,
                      214,
                      215,
                      216,
                      217,
                      218,
                      219,
                      220,
                      221,
                      222,
                      223,
                      224,
                      225,
                      226,
                      227,
                      228,
                      229,
                      230,
                      231,
                      232,
                      233,
                      234,
                      235,
                      236,
                      237,
                      238,
                      239,
                      240,
                      241,
                      242,
                      243,
                      244,
                      245,
                      246,
                      247,
                      248,
                      249,
                      250,
                      251,
                      252,
                      253,
                      254,
                      255,
                      256,
                      257,
                      258,
                      259,
                      260,
                      261,
                      262,
                      263,
                      264,
                      265,
                      266,
                      267,
                      268,
                      269,
                      270,
                      271,
                      272,
                      273,
                      274,
                      275,
                      276,
                      277,
                      278,
                      279,
                      280,
                      281,
                      282,
                      283,
                      284,
                      285,
                      286,
                      287,
                      288,
                      289,
                      290,
                      291,
                      292,
                      293,
                      294,
                      295,
                      296,
                      297,
                      298,
                      299,
                      300,
                      301,
                      302,
                      303,
                      304,
                      305,
                      306,
                      307,
                      308,
                      309,
                      310,
                      311,
                      312,
                      313,
                      314,
                      315,
                      316,
                      317,
                      318,
                      319,
                      320,
                      321,
                      322,
                      323,
                      324,
                      325,
                      326,
                      327,
                      328,
                      329,
                      330,
                      331,
                      332,
                      333,
                      334,
                      335,
                      336,
                      337,
                      338,
                      339,
                      340,
                      341,
                      342,
                      343,
                      344,
                      345,
                      346,
                      347,
                      348,
                      349,
                      350,
                      351,
                      352,
                      353,
                      354,
                      355,
                      356,
                      357,
                      358,
                      359,
                      360,
                      361,
                      362,
                      363,
                      364,
                      365,
                      366,
                      367,
                      368,
                      369,
                      370,
                      371,
                      372,
                      373,
                      374,
                      375,
                      376,
                      377,
                      378,
                      379,
                      380,
                      381,
                      382,
                      383,
                      384,
                      385,
                      386,
                      387,
                      388,
                      389,
                      390,
                      391,
                      392,
                      393,
                      394,
                      395,
                      396,
                      397,
                      398,
                      399,
                      400,
                      401
                    ],
                    "colorscale": [
                      [
                        0,
                        "rgb(12, 51, 131)"
                      ],
                      [
                        1,
                        "rgb(217, 30, 30)"
                      ]
                    ],
                    "showscale": false,
                    "size": 6
                  },
                  "mode": "markers",
                  "showlegend": false,
                  "type": "scatter",
                  "x": [
                    "67.0",
                    "67.6",
                    "90.7",
                    "69.0",
                    "87.8",
                    "84.3",
                    "61.2",
                    "58.5",
                    "92.7",
                    "59.8",
                    "65.2",
                    "49.2",
                    "96.6",
                    "68.3",
                    "59.7",
                    "43.8",
                    "49.8",
                    "50.5",
                    "59.0",
                    "71.2",
                    "36.7",
                    "90.6",
                    "32.4",
                    "59.3",
                    "94.9",
                    "47.9",
                    "68.9",
                    "33.1",
                    "56.4",
                    "43.9",
                    "33.6",
                    "84.8",
                    "81.3",
                    "87.4",
                    "98.8",
                    "84.3",
                    "64.3",
                    "41.2",
                    "79.0",
                    "87.0",
                    "37.0",
                    "46.5",
                    "81.9",
                    "60.6",
                    "91.3",
                    "33.8",
                    "35.3",
                    "53.7",
                    "44.6",
                    "30.3",
                    "77.8",
                    "34.9",
                    "82.0",
                    "37.0",
                    "62.3",
                    "52.9",
                    "47.8",
                    "37.4",
                    "29.0",
                    "83.6",
                    "92.5",
                    "94.5",
                    "50.1",
                    "59.5",
                    "80.4",
                    "36.0",
                    "53.9",
                    "51.5",
                    "70.8",
                    "63.1",
                    "77.9",
                    "66.2",
                    "78.7",
                    "76.6",
                    "91.2",
                    "42.7",
                    "60.5",
                    "81.9",
                    "52.9",
                    "55.7",
                    "56.6",
                    "55.0",
                    "80.4",
                    "79.6",
                    "38.7",
                    "38.8",
                    "51.4",
                    "51.1",
                    "56.1",
                    "49.1",
                    "40.3",
                    "32.2",
                    "42.9",
                    "69.4",
                    "78.8",
                    "28.3",
                    "39.1",
                    "53.2",
                    "64.0",
                    "57.5",
                    "89.7",
                    "64.3",
                    "64.7",
                    "49.7",
                    "85.7",
                    "86.9",
                    "88.6",
                    "96.8",
                    "54.6",
                    "83.5",
                    "90.5",
                    "83.6",
                    "76.7",
                    "53.0",
                    "75.0",
                    "34.4",
                    "56.1",
                    "94.4",
                    "70.1",
                    "62.7",
                    "79.7",
                    "55.5",
                    "74.8",
                    "73.4",
                    "76.7",
                    "54.6",
                    "84.0",
                    "32.2",
                    "64.0",
                    "31.8",
                    "84.7",
                    "80.7",
                    "44.8",
                    "82.4",
                    "44.7",
                    "85.1",
                    "50.6",
                    "83.9",
                    "54.1",
                    "61.6",
                    "52.6",
                    "49.1",
                    "37.0",
                    "69.0",
                    "34.3",
                    "67.6",
                    "54.7",
                    "35.8",
                    "75.8",
                    "37.1",
                    "61.6",
                    "33.1",
                    "66.3",
                    "79.8",
                    "27.5",
                    "56.8",
                    "29.1",
                    "79.5",
                    "87.3",
                    "71.8",
                    "64.4",
                    "27.5",
                    "56.7",
                    "79.3",
                    "37.3",
                    "60.1",
                    "63.2",
                    "29.7",
                    "56.7",
                    "61.0",
                    "70.6",
                    "59.7",
                    "43.3",
                    "70.1",
                    "87.3",
                    "31.7",
                    "41.2",
                    "57.3",
                    "84.1",
                    "67.4",
                    "40.6",
                    "29.5",
                    "44.6",
                    "91.0",
                    "54.7",
                    "60.3",
                    "27.6",
                    "60.5",
                    "46.1",
                    "63.2",
                    "57.0",
                    "71.3",
                    "37.4",
                    "40.6",
                    "54.8",
                    "60.4",
                    "55.8",
                    "76.5",
                    "83.9",
                    "63.0",
                    "39.9",
                    "44.6",
                    "69.3",
                    "55.6",
                    "53.3",
                    "69.9",
                    "35.9",
                    "73.8",
                    "60.6",
                    "54.1",
                    "47.8",
                    "65.3",
                    "64.5",
                    "53.4",
                    "93.4",
                    "75.0",
                    "26.3",
                    "69.5",
                    "25.3",
                    "55.4",
                    "50.7",
                    "67.2",
                    "79.4",
                    "26.0",
                    "26.5",
                    "35.7",
                    "46.4",
                    "84.4",
                    "88.8",
                    "61.1",
                    "71.6",
                    "55.7",
                    "58.7",
                    "31.8",
                    "42.8",
                    "61.4",
                    "39.6",
                    "70.4",
                    "39.5",
                    "79.4",
                    "63.1",
                    "46.8",
                    "44.2",
                    "57.0",
                    "40.6",
                    "86.9",
                    "63.7",
                    "50.2",
                    "75.9",
                    "59.7",
                    "59.4",
                    "48.7",
                    "73.1",
                    "50.2",
                    "24.8",
                    "71.7",
                    "55.4",
                    "88.6",
                    "49.6",
                    "59.6",
                    "53.0",
                    "59.4",
                    "59.1",
                    "48.2",
                    "32.2",
                    "70.6",
                    "81.5",
                    "43.5",
                    "40.3",
                    "41.0",
                    "54.6",
                    "66.3",
                    "57.3",
                    "39.3",
                    "63.1",
                    "62.5",
                    "30.4",
                    "18.2",
                    "59.1",
                    "56.6",
                    "30.7",
                    "54.7",
                    "29.2",
                    "51.3",
                    "69.8",
                    "23.9",
                    "47.8",
                    "62.2",
                    "21.8",
                    "70.8",
                    "43.1",
                    "26.0",
                    "49.0",
                    "84.4",
                    "35.3",
                    "73.3",
                    "37.4",
                    "47.8",
                    "80.8",
                    "37.3",
                    "80.4",
                    "84.2",
                    "28.9",
                    "48.8",
                    "73.1",
                    "45.5",
                    "53.9",
                    "29.1",
                    "71.8",
                    "42.2",
                    "62.3",
                    "59.4",
                    "41.5",
                    "49.8",
                    "89.2",
                    "43.8",
                    "36.7",
                    "42.9",
                    "44.4",
                    "26.9",
                    "37.5",
                    "19.4",
                    "20.7",
                    "37.0",
                    "29.7",
                    "76.1",
                    "88.2",
                    "52.1",
                    "38.8",
                    "47.0",
                    "49.2",
                    "86.7",
                    "33.1",
                    "47.2",
                    "32.2",
                    "43.4",
                    "45.1",
                    "20.7",
                    "34.8",
                    "30.0",
                    "40.4",
                    "36.7",
                    "67.1",
                    "66.9",
                    "59.3",
                    "45.6",
                    "36.1",
                    "43.7",
                    "41.6",
                    "30.7",
                    "21.5",
                    "65.8",
                    "66.5",
                    "79.7",
                    "53.9",
                    "48.6",
                    "52.1",
                    "91.3",
                    "36.0",
                    "35.8",
                    "48.4",
                    "25.2",
                    "19.5",
                    "16.6",
                    "20.0",
                    "22.5",
                    "26.1",
                    "34.5",
                    "50.9",
                    "85.3",
                    "26.7",
                    "24.2",
                    "26.7",
                    "82.6",
                    "53.6",
                    "86.9",
                    "60.0",
                    "50.3",
                    "38.1",
                    "44.1",
                    "42.1",
                    "37.4",
                    "64.8",
                    "74.9",
                    "46.8",
                    "69.1",
                    "49.7",
                    "29.6",
                    "46.2",
                    "73.3",
                    "48.0",
                    "34.3",
                    "46.3",
                    "21.0",
                    "80.3",
                    "54.5",
                    "43.1",
                    "36.0",
                    "50.1",
                    "33.1",
                    "21.4"
                  ],
                  "xaxis": "x8",
                  "y": [
                    "94.3",
                    "93.3",
                    "93.2",
                    "92.9",
                    "92.0",
                    "91.9",
                    "90.9",
                    "89.5",
                    "87.5",
                    "87.5",
                    "87.1",
                    "85.5",
                    "84.6",
                    "84.4",
                    "83.0",
                    "81.0",
                    "80.9",
                    "79.9",
                    "79.4",
                    "79.3",
                    "79.2",
                    "78.7",
                    "76.1",
                    "74.3",
                    "73.3",
                    "73.2",
                    "72.8",
                    "72.3",
                    "71.9",
                    "71.9",
                    "71.9",
                    "71.8",
                    "71.2",
                    "70.9",
                    "70.9",
                    "70.4",
                    "70.0",
                    "69.9",
                    "69.6",
                    "69.4",
                    "68.6",
                    "67.8",
                    "67.5",
                    "66.8",
                    "66.5",
                    "65.9",
                    "65.9",
                    "65.2",
                    "65.1",
                    "64.8",
                    "64.7",
                    "64.5",
                    "64.5",
                    "64.1",
                    "63.7",
                    "63.7",
                    "63.6",
                    "62.9",
                    "62.8",
                    "62.7",
                    "62.2",
                    "62.2",
                    "61.9",
                    "61.3",
                    "61.2",
                    "61.1",
                    "61.0",
                    "60.7",
                    "59.8",
                    "59.6",
                    "59.2",
                    "59.1",
                    "59.0",
                    "58.9",
                    "58.4",
                    "58.4",
                    "58.2",
                    "58.1",
                    "58.0",
                    "57.9",
                    "57.6",
                    "57.3",
                    "56.9",
                    "56.9",
                    "56.6",
                    "56.5",
                    "56.5",
                    "56.4",
                    "56.4",
                    "56.2",
                    "56.1",
                    "56.1",
                    "55.5",
                    "55.3",
                    "55.3",
                    "55.2",
                    "55.1",
                    "54.6",
                    "54.6",
                    "54.6",
                    "54.3",
                    "54.0",
                    "53.9",
                    "53.9",
                    "53.9",
                    "53.9",
                    "53.8",
                    "53.8",
                    "53.7",
                    "53.7",
                    "53.6",
                    "53.6",
                    "53.4",
                    "53.4",
                    "53.4",
                    "53.2",
                    "53.1",
                    "53.0",
                    "52.9",
                    "52.8",
                    "52.7",
                    "52.7",
                    "52.7",
                    "52.6",
                    "52.6",
                    "52.5",
                    "52.5",
                    "52.5",
                    "52.4",
                    "52.1",
                    "52.0",
                    "51.9",
                    "51.9",
                    "51.9",
                    "51.6",
                    "51.4",
                    "51.4",
                    "51.2",
                    "51.1",
                    "51.0",
                    "50.9",
                    "50.9",
                    "50.9",
                    "50.5",
                    "50.5",
                    "50.4",
                    "50.3",
                    "50.2",
                    "50.2",
                    "50.1",
                    "50.1",
                    "50.0",
                    "49.9",
                    "49.7",
                    "49.3",
                    "49.2",
                    "49.1",
                    "49.1",
                    "49.1",
                    "49.0",
                    "49.0",
                    "48.6",
                    "48.3",
                    "48.2",
                    "48.1",
                    "48.1",
                    "48.1",
                    "48.1",
                    "48.0",
                    "47.9",
                    "47.8",
                    "47.8",
                    "47.7",
                    "47.7",
                    "47.5",
                    "47.5",
                    "47.3",
                    "47.1",
                    "47.1",
                    "47.0",
                    "47.0",
                    "46.9",
                    "46.9",
                    "46.9",
                    "46.8",
                    "46.7",
                    "46.7",
                    "46.6",
                    "46.6",
                    "46.6",
                    "46.5",
                    "46.3",
                    "46.2",
                    "46.2",
                    "46.1",
                    "46.0",
                    "46.0",
                    "45.9",
                    "45.7",
                    "45.6",
                    "45.6",
                    "-",
                    "-",
                    "-",
                    "-",
                    "-",
                    "-",
                    "-",
                    "-",
                    "-",
                    "-",
                    "-",
                    "-",
                    "-",
                    "-",
                    "-",
                    "-",
                    "-",
                    "-",
                    "-",
                    "-",
                    "-",
                    "-",
                    "-",
                    "-",
                    "-",
                    "-",
                    "-",
                    "-",
                    "-",
                    "-",
                    "-",
                    "-",
                    "-",
                    "-",
                    "-",
                    "-",
                    "-",
                    "-",
                    "-",
                    "-",
                    "-",
                    "-",
                    "-",
                    "-",
                    "-",
                    "-",
                    "-",
                    "-",
                    "-",
                    "-",
                    "-",
                    "-",
                    "-",
                    "-",
                    "-",
                    "-",
                    "-",
                    "-",
                    "-",
                    "-",
                    "-",
                    "-",
                    "-",
                    "-",
                    "-",
                    "-",
                    "-",
                    "-",
                    "-",
                    "-",
                    "-",
                    "-",
                    "-",
                    "-",
                    "-",
                    "-",
                    "-",
                    "-",
                    "-",
                    "-",
                    "-",
                    "-",
                    "-",
                    "-",
                    "-",
                    "-",
                    "-",
                    "-",
                    "-",
                    "-",
                    "-",
                    "-",
                    "-",
                    "-",
                    "-",
                    "-",
                    "-",
                    "-",
                    "-",
                    "-",
                    "-",
                    "-",
                    "-",
                    "-",
                    "-",
                    "-",
                    "-",
                    "-",
                    "-",
                    "-",
                    "-",
                    "-",
                    "-",
                    "-",
                    "-",
                    "-",
                    "-",
                    "-",
                    "-",
                    "-",
                    "-",
                    "-",
                    "-",
                    "-",
                    "-",
                    "-",
                    "-",
                    "-",
                    "-",
                    "-",
                    "-",
                    "-",
                    "-",
                    "-",
                    "-",
                    "-",
                    "-",
                    "-",
                    "-",
                    "-",
                    "-",
                    "-",
                    "-",
                    "-",
                    "-",
                    "-",
                    "-",
                    "-",
                    "-",
                    "-",
                    "-",
                    "-",
                    "-",
                    "-",
                    "-",
                    "-",
                    "-",
                    "-",
                    "-",
                    "-",
                    "-",
                    "-",
                    "-",
                    "-",
                    "-",
                    "-",
                    "-",
                    "-",
                    "-",
                    "-",
                    "-",
                    "-",
                    "-",
                    "-",
                    "-",
                    "-",
                    "-",
                    "-",
                    "-",
                    "-",
                    "-",
                    "-",
                    "-",
                    "-",
                    "-",
                    "-",
                    "-",
                    "-",
                    "-",
                    "-",
                    "-",
                    "-",
                    "-",
                    "-",
                    "-",
                    "-",
                    "-",
                    "-",
                    "-",
                    "-"
                  ],
                  "yaxis": "y8"
                },
                {
                  "marker": {
                    "color": "rgb(12, 51, 131)"
                  },
                  "showlegend": false,
                  "type": "box",
                  "xaxis": "x9",
                  "y": [
                    "94.3",
                    "93.3",
                    "93.2",
                    "92.9",
                    "92.0",
                    "91.9",
                    "90.9",
                    "89.5",
                    "87.5",
                    "87.5",
                    "87.1",
                    "85.5",
                    "84.6",
                    "84.4",
                    "83.0",
                    "81.0",
                    "80.9",
                    "79.9",
                    "79.4",
                    "79.3",
                    "79.2",
                    "78.7",
                    "76.1",
                    "74.3",
                    "73.3",
                    "73.2",
                    "72.8",
                    "72.3",
                    "71.9",
                    "71.9",
                    "71.9",
                    "71.8",
                    "71.2",
                    "70.9",
                    "70.9",
                    "70.4",
                    "70.0",
                    "69.9",
                    "69.6",
                    "69.4",
                    "68.6",
                    "67.8",
                    "67.5",
                    "66.8",
                    "66.5",
                    "65.9",
                    "65.9",
                    "65.2",
                    "65.1",
                    "64.8",
                    "64.7",
                    "64.5",
                    "64.5",
                    "64.1",
                    "63.7",
                    "63.7",
                    "63.6",
                    "62.9",
                    "62.8",
                    "62.7",
                    "62.2",
                    "62.2",
                    "61.9",
                    "61.3",
                    "61.2",
                    "61.1",
                    "61.0",
                    "60.7",
                    "59.8",
                    "59.6",
                    "59.2",
                    "59.1",
                    "59.0",
                    "58.9",
                    "58.4",
                    "58.4",
                    "58.2",
                    "58.1",
                    "58.0",
                    "57.9",
                    "57.6",
                    "57.3",
                    "56.9",
                    "56.9",
                    "56.6",
                    "56.5",
                    "56.5",
                    "56.4",
                    "56.4",
                    "56.2",
                    "56.1",
                    "56.1",
                    "55.5",
                    "55.3",
                    "55.3",
                    "55.2",
                    "55.1",
                    "54.6",
                    "54.6",
                    "54.6",
                    "54.3",
                    "54.0",
                    "53.9",
                    "53.9",
                    "53.9",
                    "53.9",
                    "53.8",
                    "53.8",
                    "53.7",
                    "53.7",
                    "53.6",
                    "53.6",
                    "53.4",
                    "53.4",
                    "53.4",
                    "53.2",
                    "53.1",
                    "53.0",
                    "52.9",
                    "52.8",
                    "52.7",
                    "52.7",
                    "52.7",
                    "52.6",
                    "52.6",
                    "52.5",
                    "52.5",
                    "52.5",
                    "52.4",
                    "52.1",
                    "52.0",
                    "51.9",
                    "51.9",
                    "51.9",
                    "51.6",
                    "51.4",
                    "51.4",
                    "51.2",
                    "51.1",
                    "51.0",
                    "50.9",
                    "50.9",
                    "50.9",
                    "50.5",
                    "50.5",
                    "50.4",
                    "50.3",
                    "50.2",
                    "50.2",
                    "50.1",
                    "50.1",
                    "50.0",
                    "49.9",
                    "49.7",
                    "49.3",
                    "49.2",
                    "49.1",
                    "49.1",
                    "49.1",
                    "49.0",
                    "49.0",
                    "48.6",
                    "48.3",
                    "48.2",
                    "48.1",
                    "48.1",
                    "48.1",
                    "48.1",
                    "48.0",
                    "47.9",
                    "47.8",
                    "47.8",
                    "47.7",
                    "47.7",
                    "47.5",
                    "47.5",
                    "47.3",
                    "47.1",
                    "47.1",
                    "47.0",
                    "47.0",
                    "46.9",
                    "46.9",
                    "46.9",
                    "46.8",
                    "46.7",
                    "46.7",
                    "46.6",
                    "46.6",
                    "46.6",
                    "46.5",
                    "46.3",
                    "46.2",
                    "46.2",
                    "46.1",
                    "46.0",
                    "46.0",
                    "45.9",
                    "45.7",
                    "45.6",
                    "45.6",
                    "-",
                    "-",
                    "-",
                    "-",
                    "-",
                    "-",
                    "-",
                    "-",
                    "-",
                    "-",
                    "-",
                    "-",
                    "-",
                    "-",
                    "-",
                    "-",
                    "-",
                    "-",
                    "-",
                    "-",
                    "-",
                    "-",
                    "-",
                    "-",
                    "-",
                    "-",
                    "-",
                    "-",
                    "-",
                    "-",
                    "-",
                    "-",
                    "-",
                    "-",
                    "-",
                    "-",
                    "-",
                    "-",
                    "-",
                    "-",
                    "-",
                    "-",
                    "-",
                    "-",
                    "-",
                    "-",
                    "-",
                    "-",
                    "-",
                    "-",
                    "-",
                    "-",
                    "-",
                    "-",
                    "-",
                    "-",
                    "-",
                    "-",
                    "-",
                    "-",
                    "-",
                    "-",
                    "-",
                    "-",
                    "-",
                    "-",
                    "-",
                    "-",
                    "-",
                    "-",
                    "-",
                    "-",
                    "-",
                    "-",
                    "-",
                    "-",
                    "-",
                    "-",
                    "-",
                    "-",
                    "-",
                    "-",
                    "-",
                    "-",
                    "-",
                    "-",
                    "-",
                    "-",
                    "-",
                    "-",
                    "-",
                    "-",
                    "-",
                    "-",
                    "-",
                    "-",
                    "-",
                    "-",
                    "-",
                    "-",
                    "-",
                    "-",
                    "-",
                    "-",
                    "-",
                    "-",
                    "-",
                    "-",
                    "-",
                    "-",
                    "-",
                    "-",
                    "-",
                    "-",
                    "-",
                    "-",
                    "-",
                    "-",
                    "-",
                    "-",
                    "-",
                    "-",
                    "-",
                    "-",
                    "-",
                    "-",
                    "-",
                    "-",
                    "-",
                    "-",
                    "-",
                    "-",
                    "-",
                    "-",
                    "-",
                    "-",
                    "-",
                    "-",
                    "-",
                    "-",
                    "-",
                    "-",
                    "-",
                    "-",
                    "-",
                    "-",
                    "-",
                    "-",
                    "-",
                    "-",
                    "-",
                    "-",
                    "-",
                    "-",
                    "-",
                    "-",
                    "-",
                    "-",
                    "-",
                    "-",
                    "-",
                    "-",
                    "-",
                    "-",
                    "-",
                    "-",
                    "-",
                    "-",
                    "-",
                    "-",
                    "-",
                    "-",
                    "-",
                    "-",
                    "-",
                    "-",
                    "-",
                    "-",
                    "-",
                    "-",
                    "-",
                    "-",
                    "-",
                    "-",
                    "-",
                    "-",
                    "-",
                    "-",
                    "-",
                    "-",
                    "-",
                    "-",
                    "-",
                    "-",
                    "-",
                    "-",
                    "-",
                    "-",
                    "-",
                    "-"
                  ],
                  "yaxis": "y9"
                }
              ],
              "layout": {
                "height": 700,
                "showlegend": true,
                "template": {
                  "data": {
                    "bar": [
                      {
                        "error_x": {
                          "color": "#2a3f5f"
                        },
                        "error_y": {
                          "color": "#2a3f5f"
                        },
                        "marker": {
                          "line": {
                            "color": "#E5ECF6",
                            "width": 0.5
                          },
                          "pattern": {
                            "fillmode": "overlay",
                            "size": 10,
                            "solidity": 0.2
                          }
                        },
                        "type": "bar"
                      }
                    ],
                    "barpolar": [
                      {
                        "marker": {
                          "line": {
                            "color": "#E5ECF6",
                            "width": 0.5
                          },
                          "pattern": {
                            "fillmode": "overlay",
                            "size": 10,
                            "solidity": 0.2
                          }
                        },
                        "type": "barpolar"
                      }
                    ],
                    "carpet": [
                      {
                        "aaxis": {
                          "endlinecolor": "#2a3f5f",
                          "gridcolor": "white",
                          "linecolor": "white",
                          "minorgridcolor": "white",
                          "startlinecolor": "#2a3f5f"
                        },
                        "baxis": {
                          "endlinecolor": "#2a3f5f",
                          "gridcolor": "white",
                          "linecolor": "white",
                          "minorgridcolor": "white",
                          "startlinecolor": "#2a3f5f"
                        },
                        "type": "carpet"
                      }
                    ],
                    "choropleth": [
                      {
                        "colorbar": {
                          "outlinewidth": 0,
                          "ticks": ""
                        },
                        "type": "choropleth"
                      }
                    ],
                    "contour": [
                      {
                        "colorbar": {
                          "outlinewidth": 0,
                          "ticks": ""
                        },
                        "colorscale": [
                          [
                            0,
                            "#0d0887"
                          ],
                          [
                            0.1111111111111111,
                            "#46039f"
                          ],
                          [
                            0.2222222222222222,
                            "#7201a8"
                          ],
                          [
                            0.3333333333333333,
                            "#9c179e"
                          ],
                          [
                            0.4444444444444444,
                            "#bd3786"
                          ],
                          [
                            0.5555555555555556,
                            "#d8576b"
                          ],
                          [
                            0.6666666666666666,
                            "#ed7953"
                          ],
                          [
                            0.7777777777777778,
                            "#fb9f3a"
                          ],
                          [
                            0.8888888888888888,
                            "#fdca26"
                          ],
                          [
                            1,
                            "#f0f921"
                          ]
                        ],
                        "type": "contour"
                      }
                    ],
                    "contourcarpet": [
                      {
                        "colorbar": {
                          "outlinewidth": 0,
                          "ticks": ""
                        },
                        "type": "contourcarpet"
                      }
                    ],
                    "heatmap": [
                      {
                        "colorbar": {
                          "outlinewidth": 0,
                          "ticks": ""
                        },
                        "colorscale": [
                          [
                            0,
                            "#0d0887"
                          ],
                          [
                            0.1111111111111111,
                            "#46039f"
                          ],
                          [
                            0.2222222222222222,
                            "#7201a8"
                          ],
                          [
                            0.3333333333333333,
                            "#9c179e"
                          ],
                          [
                            0.4444444444444444,
                            "#bd3786"
                          ],
                          [
                            0.5555555555555556,
                            "#d8576b"
                          ],
                          [
                            0.6666666666666666,
                            "#ed7953"
                          ],
                          [
                            0.7777777777777778,
                            "#fb9f3a"
                          ],
                          [
                            0.8888888888888888,
                            "#fdca26"
                          ],
                          [
                            1,
                            "#f0f921"
                          ]
                        ],
                        "type": "heatmap"
                      }
                    ],
                    "heatmapgl": [
                      {
                        "colorbar": {
                          "outlinewidth": 0,
                          "ticks": ""
                        },
                        "colorscale": [
                          [
                            0,
                            "#0d0887"
                          ],
                          [
                            0.1111111111111111,
                            "#46039f"
                          ],
                          [
                            0.2222222222222222,
                            "#7201a8"
                          ],
                          [
                            0.3333333333333333,
                            "#9c179e"
                          ],
                          [
                            0.4444444444444444,
                            "#bd3786"
                          ],
                          [
                            0.5555555555555556,
                            "#d8576b"
                          ],
                          [
                            0.6666666666666666,
                            "#ed7953"
                          ],
                          [
                            0.7777777777777778,
                            "#fb9f3a"
                          ],
                          [
                            0.8888888888888888,
                            "#fdca26"
                          ],
                          [
                            1,
                            "#f0f921"
                          ]
                        ],
                        "type": "heatmapgl"
                      }
                    ],
                    "histogram": [
                      {
                        "marker": {
                          "pattern": {
                            "fillmode": "overlay",
                            "size": 10,
                            "solidity": 0.2
                          }
                        },
                        "type": "histogram"
                      }
                    ],
                    "histogram2d": [
                      {
                        "colorbar": {
                          "outlinewidth": 0,
                          "ticks": ""
                        },
                        "colorscale": [
                          [
                            0,
                            "#0d0887"
                          ],
                          [
                            0.1111111111111111,
                            "#46039f"
                          ],
                          [
                            0.2222222222222222,
                            "#7201a8"
                          ],
                          [
                            0.3333333333333333,
                            "#9c179e"
                          ],
                          [
                            0.4444444444444444,
                            "#bd3786"
                          ],
                          [
                            0.5555555555555556,
                            "#d8576b"
                          ],
                          [
                            0.6666666666666666,
                            "#ed7953"
                          ],
                          [
                            0.7777777777777778,
                            "#fb9f3a"
                          ],
                          [
                            0.8888888888888888,
                            "#fdca26"
                          ],
                          [
                            1,
                            "#f0f921"
                          ]
                        ],
                        "type": "histogram2d"
                      }
                    ],
                    "histogram2dcontour": [
                      {
                        "colorbar": {
                          "outlinewidth": 0,
                          "ticks": ""
                        },
                        "colorscale": [
                          [
                            0,
                            "#0d0887"
                          ],
                          [
                            0.1111111111111111,
                            "#46039f"
                          ],
                          [
                            0.2222222222222222,
                            "#7201a8"
                          ],
                          [
                            0.3333333333333333,
                            "#9c179e"
                          ],
                          [
                            0.4444444444444444,
                            "#bd3786"
                          ],
                          [
                            0.5555555555555556,
                            "#d8576b"
                          ],
                          [
                            0.6666666666666666,
                            "#ed7953"
                          ],
                          [
                            0.7777777777777778,
                            "#fb9f3a"
                          ],
                          [
                            0.8888888888888888,
                            "#fdca26"
                          ],
                          [
                            1,
                            "#f0f921"
                          ]
                        ],
                        "type": "histogram2dcontour"
                      }
                    ],
                    "mesh3d": [
                      {
                        "colorbar": {
                          "outlinewidth": 0,
                          "ticks": ""
                        },
                        "type": "mesh3d"
                      }
                    ],
                    "parcoords": [
                      {
                        "line": {
                          "colorbar": {
                            "outlinewidth": 0,
                            "ticks": ""
                          }
                        },
                        "type": "parcoords"
                      }
                    ],
                    "pie": [
                      {
                        "automargin": true,
                        "type": "pie"
                      }
                    ],
                    "scatter": [
                      {
                        "fillpattern": {
                          "fillmode": "overlay",
                          "size": 10,
                          "solidity": 0.2
                        },
                        "type": "scatter"
                      }
                    ],
                    "scatter3d": [
                      {
                        "line": {
                          "colorbar": {
                            "outlinewidth": 0,
                            "ticks": ""
                          }
                        },
                        "marker": {
                          "colorbar": {
                            "outlinewidth": 0,
                            "ticks": ""
                          }
                        },
                        "type": "scatter3d"
                      }
                    ],
                    "scattercarpet": [
                      {
                        "marker": {
                          "colorbar": {
                            "outlinewidth": 0,
                            "ticks": ""
                          }
                        },
                        "type": "scattercarpet"
                      }
                    ],
                    "scattergeo": [
                      {
                        "marker": {
                          "colorbar": {
                            "outlinewidth": 0,
                            "ticks": ""
                          }
                        },
                        "type": "scattergeo"
                      }
                    ],
                    "scattergl": [
                      {
                        "marker": {
                          "colorbar": {
                            "outlinewidth": 0,
                            "ticks": ""
                          }
                        },
                        "type": "scattergl"
                      }
                    ],
                    "scattermapbox": [
                      {
                        "marker": {
                          "colorbar": {
                            "outlinewidth": 0,
                            "ticks": ""
                          }
                        },
                        "type": "scattermapbox"
                      }
                    ],
                    "scatterpolar": [
                      {
                        "marker": {
                          "colorbar": {
                            "outlinewidth": 0,
                            "ticks": ""
                          }
                        },
                        "type": "scatterpolar"
                      }
                    ],
                    "scatterpolargl": [
                      {
                        "marker": {
                          "colorbar": {
                            "outlinewidth": 0,
                            "ticks": ""
                          }
                        },
                        "type": "scatterpolargl"
                      }
                    ],
                    "scatterternary": [
                      {
                        "marker": {
                          "colorbar": {
                            "outlinewidth": 0,
                            "ticks": ""
                          }
                        },
                        "type": "scatterternary"
                      }
                    ],
                    "surface": [
                      {
                        "colorbar": {
                          "outlinewidth": 0,
                          "ticks": ""
                        },
                        "colorscale": [
                          [
                            0,
                            "#0d0887"
                          ],
                          [
                            0.1111111111111111,
                            "#46039f"
                          ],
                          [
                            0.2222222222222222,
                            "#7201a8"
                          ],
                          [
                            0.3333333333333333,
                            "#9c179e"
                          ],
                          [
                            0.4444444444444444,
                            "#bd3786"
                          ],
                          [
                            0.5555555555555556,
                            "#d8576b"
                          ],
                          [
                            0.6666666666666666,
                            "#ed7953"
                          ],
                          [
                            0.7777777777777778,
                            "#fb9f3a"
                          ],
                          [
                            0.8888888888888888,
                            "#fdca26"
                          ],
                          [
                            1,
                            "#f0f921"
                          ]
                        ],
                        "type": "surface"
                      }
                    ],
                    "table": [
                      {
                        "cells": {
                          "fill": {
                            "color": "#EBF0F8"
                          },
                          "line": {
                            "color": "white"
                          }
                        },
                        "header": {
                          "fill": {
                            "color": "#C8D4E3"
                          },
                          "line": {
                            "color": "white"
                          }
                        },
                        "type": "table"
                      }
                    ]
                  },
                  "layout": {
                    "annotationdefaults": {
                      "arrowcolor": "#2a3f5f",
                      "arrowhead": 0,
                      "arrowwidth": 1
                    },
                    "autotypenumbers": "strict",
                    "coloraxis": {
                      "colorbar": {
                        "outlinewidth": 0,
                        "ticks": ""
                      }
                    },
                    "colorscale": {
                      "diverging": [
                        [
                          0,
                          "#8e0152"
                        ],
                        [
                          0.1,
                          "#c51b7d"
                        ],
                        [
                          0.2,
                          "#de77ae"
                        ],
                        [
                          0.3,
                          "#f1b6da"
                        ],
                        [
                          0.4,
                          "#fde0ef"
                        ],
                        [
                          0.5,
                          "#f7f7f7"
                        ],
                        [
                          0.6,
                          "#e6f5d0"
                        ],
                        [
                          0.7,
                          "#b8e186"
                        ],
                        [
                          0.8,
                          "#7fbc41"
                        ],
                        [
                          0.9,
                          "#4d9221"
                        ],
                        [
                          1,
                          "#276419"
                        ]
                      ],
                      "sequential": [
                        [
                          0,
                          "#0d0887"
                        ],
                        [
                          0.1111111111111111,
                          "#46039f"
                        ],
                        [
                          0.2222222222222222,
                          "#7201a8"
                        ],
                        [
                          0.3333333333333333,
                          "#9c179e"
                        ],
                        [
                          0.4444444444444444,
                          "#bd3786"
                        ],
                        [
                          0.5555555555555556,
                          "#d8576b"
                        ],
                        [
                          0.6666666666666666,
                          "#ed7953"
                        ],
                        [
                          0.7777777777777778,
                          "#fb9f3a"
                        ],
                        [
                          0.8888888888888888,
                          "#fdca26"
                        ],
                        [
                          1,
                          "#f0f921"
                        ]
                      ],
                      "sequentialminus": [
                        [
                          0,
                          "#0d0887"
                        ],
                        [
                          0.1111111111111111,
                          "#46039f"
                        ],
                        [
                          0.2222222222222222,
                          "#7201a8"
                        ],
                        [
                          0.3333333333333333,
                          "#9c179e"
                        ],
                        [
                          0.4444444444444444,
                          "#bd3786"
                        ],
                        [
                          0.5555555555555556,
                          "#d8576b"
                        ],
                        [
                          0.6666666666666666,
                          "#ed7953"
                        ],
                        [
                          0.7777777777777778,
                          "#fb9f3a"
                        ],
                        [
                          0.8888888888888888,
                          "#fdca26"
                        ],
                        [
                          1,
                          "#f0f921"
                        ]
                      ]
                    },
                    "colorway": [
                      "#636efa",
                      "#EF553B",
                      "#00cc96",
                      "#ab63fa",
                      "#FFA15A",
                      "#19d3f3",
                      "#FF6692",
                      "#B6E880",
                      "#FF97FF",
                      "#FECB52"
                    ],
                    "font": {
                      "color": "#2a3f5f"
                    },
                    "geo": {
                      "bgcolor": "white",
                      "lakecolor": "white",
                      "landcolor": "#E5ECF6",
                      "showlakes": true,
                      "showland": true,
                      "subunitcolor": "white"
                    },
                    "hoverlabel": {
                      "align": "left"
                    },
                    "hovermode": "closest",
                    "mapbox": {
                      "style": "light"
                    },
                    "paper_bgcolor": "white",
                    "plot_bgcolor": "#E5ECF6",
                    "polar": {
                      "angularaxis": {
                        "gridcolor": "white",
                        "linecolor": "white",
                        "ticks": ""
                      },
                      "bgcolor": "#E5ECF6",
                      "radialaxis": {
                        "gridcolor": "white",
                        "linecolor": "white",
                        "ticks": ""
                      }
                    },
                    "scene": {
                      "xaxis": {
                        "backgroundcolor": "#E5ECF6",
                        "gridcolor": "white",
                        "gridwidth": 2,
                        "linecolor": "white",
                        "showbackground": true,
                        "ticks": "",
                        "zerolinecolor": "white"
                      },
                      "yaxis": {
                        "backgroundcolor": "#E5ECF6",
                        "gridcolor": "white",
                        "gridwidth": 2,
                        "linecolor": "white",
                        "showbackground": true,
                        "ticks": "",
                        "zerolinecolor": "white"
                      },
                      "zaxis": {
                        "backgroundcolor": "#E5ECF6",
                        "gridcolor": "white",
                        "gridwidth": 2,
                        "linecolor": "white",
                        "showbackground": true,
                        "ticks": "",
                        "zerolinecolor": "white"
                      }
                    },
                    "shapedefaults": {
                      "line": {
                        "color": "#2a3f5f"
                      }
                    },
                    "ternary": {
                      "aaxis": {
                        "gridcolor": "white",
                        "linecolor": "white",
                        "ticks": ""
                      },
                      "baxis": {
                        "gridcolor": "white",
                        "linecolor": "white",
                        "ticks": ""
                      },
                      "bgcolor": "#E5ECF6",
                      "caxis": {
                        "gridcolor": "white",
                        "linecolor": "white",
                        "ticks": ""
                      }
                    },
                    "title": {
                      "x": 0.05
                    },
                    "xaxis": {
                      "automargin": true,
                      "gridcolor": "white",
                      "linecolor": "white",
                      "ticks": "",
                      "title": {
                        "standoff": 15
                      },
                      "zerolinecolor": "white",
                      "zerolinewidth": 2
                    },
                    "yaxis": {
                      "automargin": true,
                      "gridcolor": "white",
                      "linecolor": "white",
                      "ticks": "",
                      "title": {
                        "standoff": 15
                      },
                      "zerolinecolor": "white",
                      "zerolinewidth": 2
                    }
                  }
                },
                "title": {
                  "text": "Scatterplot Matrix"
                },
                "width": 700,
                "xaxis": {
                  "anchor": "y",
                  "domain": [
                    0,
                    0.2888888888888889
                  ],
                  "showticklabels": false
                },
                "xaxis2": {
                  "anchor": "y2",
                  "domain": [
                    0.35555555555555557,
                    0.6444444444444445
                  ]
                },
                "xaxis3": {
                  "anchor": "y3",
                  "domain": [
                    0.7111111111111111,
                    1
                  ]
                },
                "xaxis4": {
                  "anchor": "y4",
                  "domain": [
                    0,
                    0.2888888888888889
                  ]
                },
                "xaxis5": {
                  "anchor": "y5",
                  "domain": [
                    0.35555555555555557,
                    0.6444444444444445
                  ],
                  "showticklabels": false
                },
                "xaxis6": {
                  "anchor": "y6",
                  "domain": [
                    0.7111111111111111,
                    1
                  ]
                },
                "xaxis7": {
                  "anchor": "y7",
                  "domain": [
                    0,
                    0.2888888888888889
                  ],
                  "title": {
                    "text": "research"
                  }
                },
                "xaxis8": {
                  "anchor": "y8",
                  "domain": [
                    0.35555555555555557,
                    0.6444444444444445
                  ],
                  "title": {
                    "text": "international"
                  }
                },
                "xaxis9": {
                  "anchor": "y9",
                  "domain": [
                    0.7111111111111111,
                    1
                  ],
                  "showticklabels": false,
                  "title": {
                    "text": "total_score"
                  }
                },
                "yaxis": {
                  "anchor": "x",
                  "domain": [
                    0.7333333333333333,
                    1
                  ],
                  "title": {
                    "text": "research"
                  }
                },
                "yaxis2": {
                  "anchor": "x2",
                  "domain": [
                    0.7333333333333333,
                    1
                  ]
                },
                "yaxis3": {
                  "anchor": "x3",
                  "domain": [
                    0.7333333333333333,
                    1
                  ]
                },
                "yaxis4": {
                  "anchor": "x4",
                  "domain": [
                    0.36666666666666664,
                    0.6333333333333333
                  ],
                  "title": {
                    "text": "international"
                  }
                },
                "yaxis5": {
                  "anchor": "x5",
                  "domain": [
                    0.36666666666666664,
                    0.6333333333333333
                  ]
                },
                "yaxis6": {
                  "anchor": "x6",
                  "domain": [
                    0.36666666666666664,
                    0.6333333333333333
                  ]
                },
                "yaxis7": {
                  "anchor": "x7",
                  "domain": [
                    0,
                    0.26666666666666666
                  ],
                  "title": {
                    "text": "total_score"
                  }
                },
                "yaxis8": {
                  "anchor": "x8",
                  "domain": [
                    0,
                    0.26666666666666666
                  ]
                },
                "yaxis9": {
                  "anchor": "x9",
                  "domain": [
                    0,
                    0.26666666666666666
                  ]
                }
              }
            }
          },
          "metadata": {},
          "output_type": "display_data"
        }
      ],
      "source": [
        "import plotly.figure_factory as ff\n",
        "\n",
        "data2015 = x2015.loc[:,[\"research\",\"international\", \"total_score\"]]\n",
        "data2015[\"index\"] = np.arange(1,len(data2015)+1)\n",
        "\n",
        "\n",
        "fig = ff.create_scatterplotmatrix(data2015, diag='box', index='index',colormap='Portland',\n",
        "                                  colormap_type='cat',\n",
        "                                  height=700, width=700)\n",
        "iplot(fig)"
      ]
    },
    {
      "cell_type": "markdown",
      "metadata": {
        "id": "rXKMyX7QYKfk"
      },
      "source": [
        "# 3D Scatter Plot\n",
        "# World Rank, Citation, Research In 3D"
      ]
    },
    {
      "cell_type": "code",
      "execution_count": 22,
      "metadata": {
        "colab": {
          "base_uri": "https://localhost:8080/",
          "height": 542
        },
        "id": "2QU0M6lhXp3J",
        "outputId": "3a00f5c5-12f0-4737-bce4-b4c00be86418"
      },
      "outputs": [
        {
          "data": {
            "application/vnd.plotly.v1+json": {
              "config": {
                "linkText": "Export to plot.ly",
                "plotlyServerURL": "https://plot.ly",
                "showLink": false
              },
              "data": [
                {
                  "marker": {
                    "color": "rgb(255,0,0)",
                    "size": 10
                  },
                  "mode": "markers",
                  "type": "scatter3d",
                  "x": [
                    "1",
                    "2",
                    "3",
                    "4",
                    "5",
                    "6",
                    "7",
                    "8",
                    "9",
                    "9",
                    "11",
                    "12",
                    "13",
                    "14",
                    "15",
                    "16",
                    "17",
                    "18",
                    "19",
                    "20",
                    "21",
                    "22",
                    "23",
                    "24",
                    "25",
                    "26",
                    "27",
                    "28",
                    "29",
                    "29",
                    "29",
                    "32",
                    "33",
                    "34",
                    "34",
                    "36",
                    "37",
                    "38",
                    "39",
                    "40",
                    "41",
                    "42",
                    "43",
                    "44",
                    "45",
                    "46",
                    "46",
                    "48",
                    "49",
                    "50",
                    "51",
                    "52",
                    "52",
                    "54",
                    "55",
                    "55",
                    "57",
                    "58",
                    "59",
                    "60",
                    "61",
                    "61",
                    "63",
                    "64",
                    "65",
                    "66",
                    "67",
                    "68",
                    "69",
                    "70",
                    "71",
                    "72",
                    "73",
                    "74",
                    "75",
                    "75",
                    "77",
                    "78",
                    "79",
                    "80",
                    "81",
                    "82",
                    "83",
                    "83",
                    "85",
                    "86",
                    "86",
                    "88",
                    "88",
                    "90",
                    "91",
                    "91",
                    "93",
                    "94",
                    "94",
                    "96",
                    "97",
                    "98",
                    "98",
                    "98",
                    "101",
                    "102",
                    "103",
                    "103",
                    "103",
                    "103",
                    "107",
                    "107",
                    "109",
                    "109",
                    "111",
                    "111",
                    "113",
                    "113",
                    "113",
                    "116",
                    "117",
                    "118",
                    "119",
                    "120",
                    "121",
                    "121",
                    "121",
                    "124",
                    "124",
                    "126",
                    "126",
                    "126",
                    "129",
                    "130",
                    "131",
                    "132",
                    "132",
                    "132",
                    "135",
                    "136",
                    "136",
                    "138",
                    "139",
                    "140",
                    "141",
                    "141",
                    "141",
                    "144",
                    "144",
                    "146",
                    "147",
                    "148",
                    "148",
                    "150",
                    "150",
                    "152",
                    "153",
                    "154",
                    "155",
                    "156",
                    "157",
                    "157",
                    "157",
                    "160",
                    "160",
                    "162",
                    "163",
                    "164",
                    "165",
                    "165",
                    "165",
                    "165",
                    "169",
                    "170",
                    "171",
                    "171",
                    "173",
                    "173",
                    "175",
                    "175",
                    "177",
                    "178",
                    "178",
                    "180",
                    "180",
                    "182",
                    "182",
                    "182",
                    "185",
                    "186",
                    "186",
                    "188",
                    "188",
                    "188",
                    "191",
                    "192",
                    "193",
                    "193",
                    "195",
                    "196",
                    "196",
                    "198",
                    "199",
                    "200",
                    "200",
                    "201-225",
                    "201-225",
                    "201-225",
                    "201-225",
                    "201-225",
                    "201-225",
                    "201-225",
                    "201-225",
                    "201-225",
                    "201-225",
                    "201-225",
                    "201-225",
                    "201-225",
                    "201-225",
                    "201-225",
                    "201-225",
                    "201-225",
                    "201-225",
                    "201-225",
                    "201-225",
                    "201-225",
                    "201-225",
                    "201-225",
                    "201-225",
                    "201-225",
                    "226-250",
                    "226-250",
                    "226-250",
                    "226-250",
                    "226-250",
                    "226-250",
                    "226-250",
                    "226-250",
                    "226-250",
                    "226-250",
                    "226-250",
                    "226-250",
                    "226-250",
                    "226-250",
                    "226-250",
                    "226-250",
                    "226-250",
                    "226-250",
                    "226-250",
                    "226-250",
                    "226-250",
                    "226-250",
                    "226-250",
                    "226-250",
                    "251-275",
                    "251-275",
                    "251-275",
                    "251-275",
                    "251-275",
                    "251-275",
                    "251-275",
                    "251-275",
                    "251-275",
                    "251-275",
                    "251-275",
                    "251-275",
                    "251-275",
                    "251-275",
                    "251-275",
                    "251-275",
                    "251-275",
                    "251-275",
                    "251-275",
                    "251-275",
                    "251-275",
                    "251-275",
                    "251-275",
                    "251-275",
                    "251-275",
                    "276-300",
                    "276-300",
                    "276-300",
                    "276-300",
                    "276-300",
                    "276-300",
                    "276-300",
                    "276-300",
                    "276-300",
                    "276-300",
                    "276-300",
                    "276-300",
                    "276-300",
                    "276-300",
                    "276-300",
                    "276-300",
                    "276-300",
                    "276-300",
                    "276-300",
                    "276-300",
                    "276-300",
                    "276-300",
                    "276-300",
                    "276-300",
                    "276-300",
                    "276-300",
                    "276-300",
                    "276-300",
                    "301-350",
                    "301-350",
                    "301-350",
                    "301-350",
                    "301-350",
                    "301-350",
                    "301-350",
                    "301-350",
                    "301-350",
                    "301-350",
                    "301-350",
                    "301-350",
                    "301-350",
                    "301-350",
                    "301-350",
                    "301-350",
                    "301-350",
                    "301-350",
                    "301-350",
                    "301-350",
                    "301-350",
                    "301-350",
                    "301-350",
                    "301-350",
                    "301-350",
                    "301-350",
                    "301-350",
                    "301-350",
                    "301-350",
                    "301-350",
                    "301-350",
                    "301-350",
                    "301-350",
                    "301-350",
                    "301-350",
                    "301-350",
                    "301-350",
                    "301-350",
                    "301-350",
                    "301-350",
                    "301-350",
                    "301-350",
                    "301-350",
                    "301-350",
                    "301-350",
                    "301-350",
                    "301-350",
                    "301-350",
                    "351-400",
                    "351-400",
                    "351-400",
                    "351-400",
                    "351-400",
                    "351-400",
                    "351-400",
                    "351-400",
                    "351-400",
                    "351-400",
                    "351-400",
                    "351-400",
                    "351-400",
                    "351-400",
                    "351-400",
                    "351-400",
                    "351-400",
                    "351-400",
                    "351-400",
                    "351-400",
                    "351-400",
                    "351-400",
                    "351-400",
                    "351-400",
                    "351-400",
                    "351-400",
                    "351-400",
                    "351-400",
                    "351-400",
                    "351-400",
                    "351-400",
                    "351-400",
                    "351-400",
                    "351-400",
                    "351-400",
                    "351-400",
                    "351-400",
                    "351-400",
                    "351-400",
                    "351-400",
                    "351-400",
                    "351-400",
                    "351-400",
                    "351-400",
                    "351-400",
                    "351-400",
                    "351-400",
                    "351-400",
                    "351-400",
                    "351-400"
                  ],
                  "y": [
                    99.7,
                    98.9,
                    95.5,
                    99.1,
                    95.2,
                    100,
                    99.6,
                    99.1,
                    89.4,
                    94,
                    97.3,
                    95.3,
                    83.5,
                    95.3,
                    93.6,
                    94.4,
                    88.9,
                    96.6,
                    91.5,
                    83,
                    96.9,
                    85.1,
                    74.7,
                    92,
                    66,
                    95,
                    85.8,
                    91.5,
                    83,
                    77.8,
                    87.7,
                    85.3,
                    80.6,
                    71.3,
                    95,
                    88.3,
                    99.2,
                    89.5,
                    76,
                    88.3,
                    96.4,
                    97.1,
                    65.1,
                    76.8,
                    71.1,
                    82.9,
                    91,
                    63.7,
                    65,
                    48.7,
                    72.9,
                    71.4,
                    74.3,
                    92,
                    71.8,
                    80.4,
                    94.4,
                    76,
                    57,
                    69,
                    75.9,
                    79.9,
                    96.4,
                    82.3,
                    74.2,
                    84.4,
                    92.3,
                    80.4,
                    99.9,
                    81.4,
                    42.6,
                    82.3,
                    77.5,
                    85.1,
                    81.4,
                    81.3,
                    76.6,
                    84.8,
                    80,
                    71.9,
                    67.6,
                    74,
                    88.9,
                    65.7,
                    92,
                    74,
                    90,
                    92.9,
                    89.5,
                    73.8,
                    78.7,
                    84.4,
                    89.5,
                    78.8,
                    83.7,
                    87.7,
                    97.4,
                    90.9,
                    78.8,
                    70.9,
                    70.1,
                    62.2,
                    83.3,
                    79,
                    68.2,
                    81.4,
                    88.9,
                    78.2,
                    100,
                    61.1,
                    81.4,
                    92.8,
                    62.9,
                    74,
                    90.5,
                    82.9,
                    68.1,
                    98.9,
                    74.9,
                    87.7,
                    79.6,
                    87.7,
                    74.3,
                    61.8,
                    86.6,
                    95.9,
                    55.1,
                    62.2,
                    57.8,
                    76.9,
                    78,
                    70.1,
                    83.6,
                    79.7,
                    70.8,
                    76.5,
                    74.9,
                    77.6,
                    96.8,
                    73.9,
                    97.1,
                    55.1,
                    48.1,
                    57.3,
                    71,
                    69.3,
                    95.3,
                    51.7,
                    62.7,
                    73.1,
                    91.5,
                    80.4,
                    66.5,
                    78,
                    47.7,
                    75,
                    51.1,
                    76.2,
                    62.2,
                    73.5,
                    73,
                    75,
                    74,
                    61.1,
                    79.7,
                    62.9,
                    88.3,
                    49.6,
                    73.1,
                    67.7,
                    62.7,
                    67.7,
                    62.2,
                    86.7,
                    68.4,
                    71,
                    87.1,
                    73,
                    74.3,
                    92.2,
                    73.1,
                    73.1,
                    88.5,
                    56.3,
                    81.3,
                    66.3,
                    77.8,
                    80.4,
                    45.5,
                    62.9,
                    57.5,
                    68.6,
                    61,
                    72,
                    83.8,
                    33.8,
                    86.4,
                    83.7,
                    67.1,
                    99.2,
                    70,
                    76,
                    69.3,
                    78.8,
                    57.2,
                    56.5,
                    39.9,
                    70.3,
                    52,
                    73,
                    79.7,
                    68.5,
                    84.4,
                    55.1,
                    77,
                    58.1,
                    73.6,
                    74,
                    32.3,
                    77.8,
                    88.1,
                    49.4,
                    64.4,
                    81.3,
                    78.7,
                    44.3,
                    67,
                    60.4,
                    75.3,
                    76.9,
                    54.4,
                    58.1,
                    55.1,
                    59.9,
                    67.8,
                    67.6,
                    68.9,
                    47,
                    100,
                    61.7,
                    59.4,
                    64.4,
                    70.8,
                    59.4,
                    76.6,
                    58.7,
                    47,
                    81.4,
                    41.7,
                    62.9,
                    50.2,
                    99.7,
                    71.1,
                    59.6,
                    49.1,
                    62.8,
                    48.2,
                    52.2,
                    59.9,
                    42,
                    55.7,
                    51.5,
                    74.8,
                    73,
                    73.1,
                    57.5,
                    57.6,
                    75.6,
                    64.5,
                    55.1,
                    89.8,
                    67.3,
                    70.3,
                    72.5,
                    47,
                    40.8,
                    59.9,
                    51.6,
                    59.9,
                    67.4,
                    40.4,
                    49.6,
                    84.4,
                    80.5,
                    42.9,
                    38.9,
                    45.6,
                    34.9,
                    51.1,
                    56.9,
                    64.5,
                    67.8,
                    68.7,
                    58.6,
                    46.6,
                    68.1,
                    66.9,
                    57.5,
                    52.7,
                    55.1,
                    55.1,
                    53.8,
                    40.7,
                    59.7,
                    55.8,
                    64.5,
                    50.1,
                    63.3,
                    57.5,
                    57.5,
                    70.8,
                    50.3,
                    61,
                    58.5,
                    50.2,
                    70.5,
                    63.3,
                    55.8,
                    59.6,
                    65.6,
                    50.7,
                    50.4,
                    28,
                    54.1,
                    53.9,
                    47.5,
                    53.8,
                    65.3,
                    45.4,
                    67,
                    64.1,
                    39.3,
                    44.2,
                    50.2,
                    62.2,
                    48.2,
                    83,
                    75,
                    51.5,
                    57.5,
                    68,
                    69.2,
                    61.2,
                    49.9,
                    56.9,
                    58.7,
                    51.1,
                    72.7,
                    70,
                    61,
                    40.2,
                    39.9,
                    52.2,
                    45.1,
                    61.8,
                    52,
                    62.6,
                    45.3,
                    57.6,
                    53.9,
                    29,
                    32.2,
                    43.5,
                    62.6,
                    48.9,
                    75,
                    33.6,
                    56.3,
                    51.5,
                    46.5,
                    28.4,
                    39,
                    30.9,
                    43.5,
                    42,
                    50.2,
                    53.2,
                    52.7,
                    52,
                    53.8,
                    64.5,
                    60.8,
                    55.1,
                    65,
                    44.8,
                    44.6,
                    60.6,
                    46.6,
                    41.7,
                    61.6,
                    62.1,
                    63.3,
                    47.7,
                    57.5,
                    50,
                    48.1,
                    55.5,
                    44.2,
                    58.7,
                    48.5,
                    75.8
                  ],
                  "z": [
                    98.1,
                    98.6,
                    97.7,
                    96.7,
                    95.6,
                    88.2,
                    94.7,
                    96.7,
                    88.3,
                    90.8,
                    89.9,
                    90.5,
                    90.2,
                    79.4,
                    84.2,
                    82,
                    86.5,
                    75.2,
                    83.8,
                    85.1,
                    78.9,
                    80.4,
                    85.1,
                    74.9,
                    78.1,
                    68.9,
                    71.2,
                    72,
                    69.1,
                    79,
                    71.3,
                    69,
                    70.9,
                    74.2,
                    56.9,
                    62.9,
                    61.4,
                    62.4,
                    69.9,
                    62.3,
                    66.6,
                    55.2,
                    72.6,
                    68,
                    70.9,
                    64.7,
                    58.6,
                    61.9,
                    68.3,
                    77.1,
                    66.8,
                    63.2,
                    58.7,
                    54.2,
                    63.6,
                    59.7,
                    46.7,
                    64.8,
                    68.4,
                    60.8,
                    55.9,
                    47.1,
                    46,
                    58.2,
                    58.4,
                    49.3,
                    48,
                    51.1,
                    37.1,
                    45.4,
                    71.4,
                    53.7,
                    46.8,
                    44.7,
                    41.1,
                    44.6,
                    55.4,
                    36.2,
                    54.8,
                    52.6,
                    58,
                    49.4,
                    40.7,
                    54.4,
                    36.9,
                    51.4,
                    38.5,
                    33.9,
                    41.7,
                    51.6,
                    49.1,
                    46.3,
                    32.4,
                    43.2,
                    40.5,
                    38.2,
                    38.3,
                    45,
                    37.4,
                    53,
                    48.1,
                    50.5,
                    30,
                    48.1,
                    45.8,
                    33.1,
                    32.9,
                    37.2,
                    31.9,
                    51.9,
                    35.9,
                    30.4,
                    44.4,
                    44.7,
                    33.8,
                    37.4,
                    50.8,
                    22.4,
                    48.5,
                    33.1,
                    28.2,
                    29.2,
                    39.1,
                    47.1,
                    35.3,
                    29.1,
                    44.8,
                    52.1,
                    53.5,
                    35.9,
                    36.1,
                    36.9,
                    39.1,
                    34.1,
                    42,
                    39.9,
                    43.2,
                    30.3,
                    27.6,
                    46.7,
                    26.7,
                    51.9,
                    52.9,
                    47.1,
                    45.3,
                    39.1,
                    29.1,
                    50.2,
                    39.8,
                    35.1,
                    27.5,
                    35.4,
                    47.5,
                    32.7,
                    57.3,
                    29.9,
                    48,
                    33.2,
                    38.1,
                    34.4,
                    33.8,
                    36.5,
                    28.1,
                    40.4,
                    36.9,
                    34.9,
                    28.3,
                    47.3,
                    27.2,
                    33.6,
                    35.8,
                    34.9,
                    28.2,
                    30.6,
                    33.4,
                    33.5,
                    24.4,
                    29.3,
                    30.2,
                    19.7,
                    36.3,
                    37.5,
                    27.1,
                    39.7,
                    21.9,
                    35.2,
                    23.9,
                    24.4,
                    51.1,
                    34.7,
                    39.8,
                    32.9,
                    34,
                    30.9,
                    22.2,
                    42.1,
                    27.3,
                    22.6,
                    31.6,
                    13.1,
                    25.1,
                    27.7,
                    30.4,
                    22.4,
                    36.3,
                    36.5,
                    44.3,
                    29.6,
                    37.5,
                    22,
                    28.8,
                    27.9,
                    22.5,
                    34.1,
                    17.1,
                    34,
                    27.3,
                    23.4,
                    51.6,
                    28.2,
                    16,
                    45.3,
                    36.2,
                    23.5,
                    19.9,
                    45.8,
                    29.2,
                    29.3,
                    21.4,
                    24.5,
                    30,
                    29.9,
                    23.2,
                    31.8,
                    26.2,
                    29.3,
                    35,
                    32.3,
                    9.8,
                    28.1,
                    30.5,
                    38.2,
                    24.3,
                    33.4,
                    23,
                    32.5,
                    35.7,
                    17.3,
                    32.4,
                    35.3,
                    31.3,
                    10.1,
                    17,
                    23.3,
                    40.3,
                    24.8,
                    33.4,
                    25.1,
                    25.2,
                    33.7,
                    27.6,
                    30.7,
                    24.7,
                    18.1,
                    23.4,
                    29.9,
                    27.7,
                    19.2,
                    25.6,
                    37.9,
                    12.1,
                    21.7,
                    20.3,
                    20.3,
                    40.4,
                    32.8,
                    31.3,
                    39.5,
                    25.5,
                    22.5,
                    40.7,
                    29.6,
                    10.5,
                    18.1,
                    36,
                    37.9,
                    31.2,
                    45.1,
                    22.9,
                    22.2,
                    23.2,
                    22.4,
                    15.3,
                    19.7,
                    28.9,
                    20.3,
                    22.9,
                    24.4,
                    24,
                    27.5,
                    27.8,
                    28.5,
                    40,
                    19.3,
                    23,
                    17.8,
                    24.3,
                    10.4,
                    20.6,
                    14.3,
                    13.2,
                    17.3,
                    16.5,
                    24.4,
                    24.8,
                    17.2,
                    21.1,
                    26.6,
                    14.7,
                    24.8,
                    28.1,
                    34.7,
                    38.8,
                    25.2,
                    20.7,
                    25.1,
                    23.4,
                    18.4,
                    27.1,
                    16.8,
                    13.7,
                    29,
                    25.8,
                    24,
                    20.1,
                    29.4,
                    6.5,
                    13.7,
                    16.5,
                    15.7,
                    18.2,
                    18.8,
                    20.5,
                    25.1,
                    17.3,
                    22.2,
                    21.6,
                    12,
                    13.6,
                    15.2,
                    33.1,
                    28.5,
                    20.6,
                    21.6,
                    12.9,
                    19.1,
                    17.2,
                    17.1,
                    18,
                    20.3,
                    32.3,
                    27.5,
                    24.6,
                    14.3,
                    27.3,
                    10,
                    28.5,
                    16.6,
                    27.6,
                    17.8,
                    40.1,
                    32.9,
                    42.6,
                    18.9,
                    22.5,
                    16.3,
                    16.9,
                    25.7,
                    18.1,
                    21.6,
                    15.2,
                    17.3,
                    17.3,
                    10.9,
                    22.8,
                    18.4,
                    16.2,
                    22,
                    22.3,
                    10.6,
                    11.8,
                    20.2,
                    21.8,
                    19.4,
                    17,
                    17.9,
                    16.3,
                    27.5,
                    22.4,
                    17.4,
                    8
                  ]
                }
              ],
              "layout": {
                "margin": {
                  "b": 0,
                  "l": 0,
                  "r": 0,
                  "t": 0
                },
                "template": {
                  "data": {
                    "bar": [
                      {
                        "error_x": {
                          "color": "#2a3f5f"
                        },
                        "error_y": {
                          "color": "#2a3f5f"
                        },
                        "marker": {
                          "line": {
                            "color": "#E5ECF6",
                            "width": 0.5
                          },
                          "pattern": {
                            "fillmode": "overlay",
                            "size": 10,
                            "solidity": 0.2
                          }
                        },
                        "type": "bar"
                      }
                    ],
                    "barpolar": [
                      {
                        "marker": {
                          "line": {
                            "color": "#E5ECF6",
                            "width": 0.5
                          },
                          "pattern": {
                            "fillmode": "overlay",
                            "size": 10,
                            "solidity": 0.2
                          }
                        },
                        "type": "barpolar"
                      }
                    ],
                    "carpet": [
                      {
                        "aaxis": {
                          "endlinecolor": "#2a3f5f",
                          "gridcolor": "white",
                          "linecolor": "white",
                          "minorgridcolor": "white",
                          "startlinecolor": "#2a3f5f"
                        },
                        "baxis": {
                          "endlinecolor": "#2a3f5f",
                          "gridcolor": "white",
                          "linecolor": "white",
                          "minorgridcolor": "white",
                          "startlinecolor": "#2a3f5f"
                        },
                        "type": "carpet"
                      }
                    ],
                    "choropleth": [
                      {
                        "colorbar": {
                          "outlinewidth": 0,
                          "ticks": ""
                        },
                        "type": "choropleth"
                      }
                    ],
                    "contour": [
                      {
                        "colorbar": {
                          "outlinewidth": 0,
                          "ticks": ""
                        },
                        "colorscale": [
                          [
                            0,
                            "#0d0887"
                          ],
                          [
                            0.1111111111111111,
                            "#46039f"
                          ],
                          [
                            0.2222222222222222,
                            "#7201a8"
                          ],
                          [
                            0.3333333333333333,
                            "#9c179e"
                          ],
                          [
                            0.4444444444444444,
                            "#bd3786"
                          ],
                          [
                            0.5555555555555556,
                            "#d8576b"
                          ],
                          [
                            0.6666666666666666,
                            "#ed7953"
                          ],
                          [
                            0.7777777777777778,
                            "#fb9f3a"
                          ],
                          [
                            0.8888888888888888,
                            "#fdca26"
                          ],
                          [
                            1,
                            "#f0f921"
                          ]
                        ],
                        "type": "contour"
                      }
                    ],
                    "contourcarpet": [
                      {
                        "colorbar": {
                          "outlinewidth": 0,
                          "ticks": ""
                        },
                        "type": "contourcarpet"
                      }
                    ],
                    "heatmap": [
                      {
                        "colorbar": {
                          "outlinewidth": 0,
                          "ticks": ""
                        },
                        "colorscale": [
                          [
                            0,
                            "#0d0887"
                          ],
                          [
                            0.1111111111111111,
                            "#46039f"
                          ],
                          [
                            0.2222222222222222,
                            "#7201a8"
                          ],
                          [
                            0.3333333333333333,
                            "#9c179e"
                          ],
                          [
                            0.4444444444444444,
                            "#bd3786"
                          ],
                          [
                            0.5555555555555556,
                            "#d8576b"
                          ],
                          [
                            0.6666666666666666,
                            "#ed7953"
                          ],
                          [
                            0.7777777777777778,
                            "#fb9f3a"
                          ],
                          [
                            0.8888888888888888,
                            "#fdca26"
                          ],
                          [
                            1,
                            "#f0f921"
                          ]
                        ],
                        "type": "heatmap"
                      }
                    ],
                    "heatmapgl": [
                      {
                        "colorbar": {
                          "outlinewidth": 0,
                          "ticks": ""
                        },
                        "colorscale": [
                          [
                            0,
                            "#0d0887"
                          ],
                          [
                            0.1111111111111111,
                            "#46039f"
                          ],
                          [
                            0.2222222222222222,
                            "#7201a8"
                          ],
                          [
                            0.3333333333333333,
                            "#9c179e"
                          ],
                          [
                            0.4444444444444444,
                            "#bd3786"
                          ],
                          [
                            0.5555555555555556,
                            "#d8576b"
                          ],
                          [
                            0.6666666666666666,
                            "#ed7953"
                          ],
                          [
                            0.7777777777777778,
                            "#fb9f3a"
                          ],
                          [
                            0.8888888888888888,
                            "#fdca26"
                          ],
                          [
                            1,
                            "#f0f921"
                          ]
                        ],
                        "type": "heatmapgl"
                      }
                    ],
                    "histogram": [
                      {
                        "marker": {
                          "pattern": {
                            "fillmode": "overlay",
                            "size": 10,
                            "solidity": 0.2
                          }
                        },
                        "type": "histogram"
                      }
                    ],
                    "histogram2d": [
                      {
                        "colorbar": {
                          "outlinewidth": 0,
                          "ticks": ""
                        },
                        "colorscale": [
                          [
                            0,
                            "#0d0887"
                          ],
                          [
                            0.1111111111111111,
                            "#46039f"
                          ],
                          [
                            0.2222222222222222,
                            "#7201a8"
                          ],
                          [
                            0.3333333333333333,
                            "#9c179e"
                          ],
                          [
                            0.4444444444444444,
                            "#bd3786"
                          ],
                          [
                            0.5555555555555556,
                            "#d8576b"
                          ],
                          [
                            0.6666666666666666,
                            "#ed7953"
                          ],
                          [
                            0.7777777777777778,
                            "#fb9f3a"
                          ],
                          [
                            0.8888888888888888,
                            "#fdca26"
                          ],
                          [
                            1,
                            "#f0f921"
                          ]
                        ],
                        "type": "histogram2d"
                      }
                    ],
                    "histogram2dcontour": [
                      {
                        "colorbar": {
                          "outlinewidth": 0,
                          "ticks": ""
                        },
                        "colorscale": [
                          [
                            0,
                            "#0d0887"
                          ],
                          [
                            0.1111111111111111,
                            "#46039f"
                          ],
                          [
                            0.2222222222222222,
                            "#7201a8"
                          ],
                          [
                            0.3333333333333333,
                            "#9c179e"
                          ],
                          [
                            0.4444444444444444,
                            "#bd3786"
                          ],
                          [
                            0.5555555555555556,
                            "#d8576b"
                          ],
                          [
                            0.6666666666666666,
                            "#ed7953"
                          ],
                          [
                            0.7777777777777778,
                            "#fb9f3a"
                          ],
                          [
                            0.8888888888888888,
                            "#fdca26"
                          ],
                          [
                            1,
                            "#f0f921"
                          ]
                        ],
                        "type": "histogram2dcontour"
                      }
                    ],
                    "mesh3d": [
                      {
                        "colorbar": {
                          "outlinewidth": 0,
                          "ticks": ""
                        },
                        "type": "mesh3d"
                      }
                    ],
                    "parcoords": [
                      {
                        "line": {
                          "colorbar": {
                            "outlinewidth": 0,
                            "ticks": ""
                          }
                        },
                        "type": "parcoords"
                      }
                    ],
                    "pie": [
                      {
                        "automargin": true,
                        "type": "pie"
                      }
                    ],
                    "scatter": [
                      {
                        "fillpattern": {
                          "fillmode": "overlay",
                          "size": 10,
                          "solidity": 0.2
                        },
                        "type": "scatter"
                      }
                    ],
                    "scatter3d": [
                      {
                        "line": {
                          "colorbar": {
                            "outlinewidth": 0,
                            "ticks": ""
                          }
                        },
                        "marker": {
                          "colorbar": {
                            "outlinewidth": 0,
                            "ticks": ""
                          }
                        },
                        "type": "scatter3d"
                      }
                    ],
                    "scattercarpet": [
                      {
                        "marker": {
                          "colorbar": {
                            "outlinewidth": 0,
                            "ticks": ""
                          }
                        },
                        "type": "scattercarpet"
                      }
                    ],
                    "scattergeo": [
                      {
                        "marker": {
                          "colorbar": {
                            "outlinewidth": 0,
                            "ticks": ""
                          }
                        },
                        "type": "scattergeo"
                      }
                    ],
                    "scattergl": [
                      {
                        "marker": {
                          "colorbar": {
                            "outlinewidth": 0,
                            "ticks": ""
                          }
                        },
                        "type": "scattergl"
                      }
                    ],
                    "scattermapbox": [
                      {
                        "marker": {
                          "colorbar": {
                            "outlinewidth": 0,
                            "ticks": ""
                          }
                        },
                        "type": "scattermapbox"
                      }
                    ],
                    "scatterpolar": [
                      {
                        "marker": {
                          "colorbar": {
                            "outlinewidth": 0,
                            "ticks": ""
                          }
                        },
                        "type": "scatterpolar"
                      }
                    ],
                    "scatterpolargl": [
                      {
                        "marker": {
                          "colorbar": {
                            "outlinewidth": 0,
                            "ticks": ""
                          }
                        },
                        "type": "scatterpolargl"
                      }
                    ],
                    "scatterternary": [
                      {
                        "marker": {
                          "colorbar": {
                            "outlinewidth": 0,
                            "ticks": ""
                          }
                        },
                        "type": "scatterternary"
                      }
                    ],
                    "surface": [
                      {
                        "colorbar": {
                          "outlinewidth": 0,
                          "ticks": ""
                        },
                        "colorscale": [
                          [
                            0,
                            "#0d0887"
                          ],
                          [
                            0.1111111111111111,
                            "#46039f"
                          ],
                          [
                            0.2222222222222222,
                            "#7201a8"
                          ],
                          [
                            0.3333333333333333,
                            "#9c179e"
                          ],
                          [
                            0.4444444444444444,
                            "#bd3786"
                          ],
                          [
                            0.5555555555555556,
                            "#d8576b"
                          ],
                          [
                            0.6666666666666666,
                            "#ed7953"
                          ],
                          [
                            0.7777777777777778,
                            "#fb9f3a"
                          ],
                          [
                            0.8888888888888888,
                            "#fdca26"
                          ],
                          [
                            1,
                            "#f0f921"
                          ]
                        ],
                        "type": "surface"
                      }
                    ],
                    "table": [
                      {
                        "cells": {
                          "fill": {
                            "color": "#EBF0F8"
                          },
                          "line": {
                            "color": "white"
                          }
                        },
                        "header": {
                          "fill": {
                            "color": "#C8D4E3"
                          },
                          "line": {
                            "color": "white"
                          }
                        },
                        "type": "table"
                      }
                    ]
                  },
                  "layout": {
                    "annotationdefaults": {
                      "arrowcolor": "#2a3f5f",
                      "arrowhead": 0,
                      "arrowwidth": 1
                    },
                    "autotypenumbers": "strict",
                    "coloraxis": {
                      "colorbar": {
                        "outlinewidth": 0,
                        "ticks": ""
                      }
                    },
                    "colorscale": {
                      "diverging": [
                        [
                          0,
                          "#8e0152"
                        ],
                        [
                          0.1,
                          "#c51b7d"
                        ],
                        [
                          0.2,
                          "#de77ae"
                        ],
                        [
                          0.3,
                          "#f1b6da"
                        ],
                        [
                          0.4,
                          "#fde0ef"
                        ],
                        [
                          0.5,
                          "#f7f7f7"
                        ],
                        [
                          0.6,
                          "#e6f5d0"
                        ],
                        [
                          0.7,
                          "#b8e186"
                        ],
                        [
                          0.8,
                          "#7fbc41"
                        ],
                        [
                          0.9,
                          "#4d9221"
                        ],
                        [
                          1,
                          "#276419"
                        ]
                      ],
                      "sequential": [
                        [
                          0,
                          "#0d0887"
                        ],
                        [
                          0.1111111111111111,
                          "#46039f"
                        ],
                        [
                          0.2222222222222222,
                          "#7201a8"
                        ],
                        [
                          0.3333333333333333,
                          "#9c179e"
                        ],
                        [
                          0.4444444444444444,
                          "#bd3786"
                        ],
                        [
                          0.5555555555555556,
                          "#d8576b"
                        ],
                        [
                          0.6666666666666666,
                          "#ed7953"
                        ],
                        [
                          0.7777777777777778,
                          "#fb9f3a"
                        ],
                        [
                          0.8888888888888888,
                          "#fdca26"
                        ],
                        [
                          1,
                          "#f0f921"
                        ]
                      ],
                      "sequentialminus": [
                        [
                          0,
                          "#0d0887"
                        ],
                        [
                          0.1111111111111111,
                          "#46039f"
                        ],
                        [
                          0.2222222222222222,
                          "#7201a8"
                        ],
                        [
                          0.3333333333333333,
                          "#9c179e"
                        ],
                        [
                          0.4444444444444444,
                          "#bd3786"
                        ],
                        [
                          0.5555555555555556,
                          "#d8576b"
                        ],
                        [
                          0.6666666666666666,
                          "#ed7953"
                        ],
                        [
                          0.7777777777777778,
                          "#fb9f3a"
                        ],
                        [
                          0.8888888888888888,
                          "#fdca26"
                        ],
                        [
                          1,
                          "#f0f921"
                        ]
                      ]
                    },
                    "colorway": [
                      "#636efa",
                      "#EF553B",
                      "#00cc96",
                      "#ab63fa",
                      "#FFA15A",
                      "#19d3f3",
                      "#FF6692",
                      "#B6E880",
                      "#FF97FF",
                      "#FECB52"
                    ],
                    "font": {
                      "color": "#2a3f5f"
                    },
                    "geo": {
                      "bgcolor": "white",
                      "lakecolor": "white",
                      "landcolor": "#E5ECF6",
                      "showlakes": true,
                      "showland": true,
                      "subunitcolor": "white"
                    },
                    "hoverlabel": {
                      "align": "left"
                    },
                    "hovermode": "closest",
                    "mapbox": {
                      "style": "light"
                    },
                    "paper_bgcolor": "white",
                    "plot_bgcolor": "#E5ECF6",
                    "polar": {
                      "angularaxis": {
                        "gridcolor": "white",
                        "linecolor": "white",
                        "ticks": ""
                      },
                      "bgcolor": "#E5ECF6",
                      "radialaxis": {
                        "gridcolor": "white",
                        "linecolor": "white",
                        "ticks": ""
                      }
                    },
                    "scene": {
                      "xaxis": {
                        "backgroundcolor": "#E5ECF6",
                        "gridcolor": "white",
                        "gridwidth": 2,
                        "linecolor": "white",
                        "showbackground": true,
                        "ticks": "",
                        "zerolinecolor": "white"
                      },
                      "yaxis": {
                        "backgroundcolor": "#E5ECF6",
                        "gridcolor": "white",
                        "gridwidth": 2,
                        "linecolor": "white",
                        "showbackground": true,
                        "ticks": "",
                        "zerolinecolor": "white"
                      },
                      "zaxis": {
                        "backgroundcolor": "#E5ECF6",
                        "gridcolor": "white",
                        "gridwidth": 2,
                        "linecolor": "white",
                        "showbackground": true,
                        "ticks": "",
                        "zerolinecolor": "white"
                      }
                    },
                    "shapedefaults": {
                      "line": {
                        "color": "#2a3f5f"
                      }
                    },
                    "ternary": {
                      "aaxis": {
                        "gridcolor": "white",
                        "linecolor": "white",
                        "ticks": ""
                      },
                      "baxis": {
                        "gridcolor": "white",
                        "linecolor": "white",
                        "ticks": ""
                      },
                      "bgcolor": "#E5ECF6",
                      "caxis": {
                        "gridcolor": "white",
                        "linecolor": "white",
                        "ticks": ""
                      }
                    },
                    "title": {
                      "x": 0.05
                    },
                    "xaxis": {
                      "automargin": true,
                      "gridcolor": "white",
                      "linecolor": "white",
                      "ticks": "",
                      "title": {
                        "standoff": 15
                      },
                      "zerolinecolor": "white",
                      "zerolinewidth": 2
                    },
                    "yaxis": {
                      "automargin": true,
                      "gridcolor": "white",
                      "linecolor": "white",
                      "ticks": "",
                      "title": {
                        "standoff": 15
                      },
                      "zerolinecolor": "white",
                      "zerolinewidth": 2
                    }
                  }
                }
              }
            }
          },
          "metadata": {},
          "output_type": "display_data"
        }
      ],
      "source": [
        "trace= go.Scatter3d(x= x2015.world_rank,\n",
        "                    y= x2015.citations,\n",
        "                    z= x2015.research,\n",
        "                    mode= 'markers',\n",
        "                    marker=dict(size=10,color='rgb(255,0,0)'))\n",
        "data= [trace]\n",
        "layout= go.Layout(margin=dict(l=0, r=0, b=0, t=0))  \n",
        "fig= go.Figure(data= data, layout= layout)\n",
        "iplot(fig)"
      ]
    }
  ],
  "metadata": {
    "colab": {
      "authorship_tag": "ABX9TyMYqNsrT6PbHlOApDzK3ihx",
      "collapsed_sections": [],
      "include_colab_link": true,
      "mount_file_id": "1aSVjDnPDwFjK4HCaqig_uxjI3MHxlkXg",
      "name": "Plotly WIDS",
      "provenance": []
    },
    "kernelspec": {
      "display_name": "base",
      "language": "python",
      "name": "python3"
    },
    "language_info": {
      "codemirror_mode": {
        "name": "ipython",
        "version": 3
      },
      "file_extension": ".py",
      "mimetype": "text/x-python",
      "name": "python",
      "nbconvert_exporter": "python",
      "pygments_lexer": "ipython3",
      "version": "3.11.5"
    }
  },
  "nbformat": 4,
  "nbformat_minor": 0
}
