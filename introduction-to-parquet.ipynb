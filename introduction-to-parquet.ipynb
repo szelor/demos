{
 "cells": [
  {
   "cell_type": "code",
   "execution_count": 2,
   "id": "7cac7585",
   "metadata": {},
   "outputs": [
    {
     "name": "stdout",
     "output_type": "stream",
     "text": [
      "File Size: 40011 bytes\n",
      "Number of rows: 891\n",
      "Number of columns: 12\n",
      "Columns:\n",
      "PassengerId\n",
      "Survived\n",
      "Pclass\n",
      "Name\n",
      "Sex\n",
      "Age\n",
      "SibSp\n",
      "Parch\n",
      "Ticket\n",
      "Fare\n",
      "Cabin\n",
      "Embarked\n"
     ]
    }
   ],
   "source": [
    "import os\n",
    "import pyarrow.parquet as pq\n",
    "\n",
    "def describe_parquet(file_path):\n",
    "    file_size = os.path.getsize(file_path)\n",
    "    print(f\"File Size: {file_size} bytes\")\n",
    "\n",
    "    table   = pq.read_table(file_path)\n",
    "    columns = table.column_names\n",
    "\n",
    "    print(f\"Number of rows: {table.num_rows}\")\n",
    "    print(f\"Number of columns: {len(columns)}\")\n",
    "\n",
    "    print(\"Columns:\")\n",
    "    for column in columns:\n",
    "        print(column)\n",
    "\n",
    "describe_parquet(\"titanic.parquet\")"
   ]
  },
  {
   "cell_type": "code",
   "execution_count": 3,
   "id": "088af945",
   "metadata": {},
   "outputs": [
    {
     "name": "stdout",
     "output_type": "stream",
     "text": [
      "Contents of the Parquet file:\n",
      "     PassengerId  Survived  Pclass  \\\n",
      "0              1         0       3   \n",
      "1              2         1       1   \n",
      "2              3         1       3   \n",
      "3              4         1       1   \n",
      "4              5         0       3   \n",
      "..           ...       ...     ...   \n",
      "886          887         0       2   \n",
      "887          888         1       1   \n",
      "888          889         0       3   \n",
      "889          890         1       1   \n",
      "890          891         0       3   \n",
      "\n",
      "                                                  Name     Sex   Age  SibSp  \\\n",
      "0                              Braund, Mr. Owen Harris    male  22.0      1   \n",
      "1    Cumings, Mrs. John Bradley (Florence Briggs Th...  female  38.0      1   \n",
      "2                               Heikkinen, Miss. Laina  female  26.0      0   \n",
      "3         Futrelle, Mrs. Jacques Heath (Lily May Peel)  female  35.0      1   \n",
      "4                             Allen, Mr. William Henry    male  35.0      0   \n",
      "..                                                 ...     ...   ...    ...   \n",
      "886                              Montvila, Rev. Juozas    male  27.0      0   \n",
      "887                       Graham, Miss. Margaret Edith  female  19.0      0   \n",
      "888           Johnston, Miss. Catherine Helen \"Carrie\"  female   NaN      1   \n",
      "889                              Behr, Mr. Karl Howell    male  26.0      0   \n",
      "890                                Dooley, Mr. Patrick    male  32.0      0   \n",
      "\n",
      "     Parch            Ticket     Fare Cabin Embarked  \n",
      "0        0         A/5 21171   7.2500  None        S  \n",
      "1        0          PC 17599  71.2833   C85        C  \n",
      "2        0  STON/O2. 3101282   7.9250  None        S  \n",
      "3        0            113803  53.1000  C123        S  \n",
      "4        0            373450   8.0500  None        S  \n",
      "..     ...               ...      ...   ...      ...  \n",
      "886      0            211536  13.0000  None        S  \n",
      "887      0            112053  30.0000   B42        S  \n",
      "888      2        W./C. 6607  23.4500  None        S  \n",
      "889      0            111369  30.0000  C148        C  \n",
      "890      0            370376   7.7500  None        Q  \n",
      "\n",
      "[891 rows x 12 columns]\n"
     ]
    }
   ],
   "source": [
    "import pandas as pd\n",
    "\n",
    "# Read the Parquet file into a DataFrame\n",
    "df = pd.read_parquet('titanic.parquet')\n",
    "\n",
    "# Display the contents of the DataFrame\n",
    "print(\"Contents of the Parquet file:\")\n",
    "print(df)\n"
   ]
  },
  {
   "cell_type": "code",
   "execution_count": 4,
   "id": "8f5a468a",
   "metadata": {},
   "outputs": [
    {
     "name": "stdout",
     "output_type": "stream",
     "text": [
      "     PassengerId  Survived  Pclass                            Name   Sex  \\\n",
      "0              1         0       3         Braund, Mr. Owen Harris  male   \n",
      "1              5         0       3        Allen, Mr. William Henry  male   \n",
      "2              6         0       3                Moran, Mr. James  male   \n",
      "3              7         0       1         McCarthy, Mr. Timothy J  male   \n",
      "4              8         0       3  Palsson, Master. Gosta Leonard  male   \n",
      "..           ...       ...     ...                             ...   ...   \n",
      "572          884         0       2   Banfield, Mr. Frederick James  male   \n",
      "573          885         0       3          Sutehall, Mr. Henry Jr  male   \n",
      "574          887         0       2           Montvila, Rev. Juozas  male   \n",
      "575          890         1       1           Behr, Mr. Karl Howell  male   \n",
      "576          891         0       3             Dooley, Mr. Patrick  male   \n",
      "\n",
      "      Age  SibSp  Parch            Ticket     Fare Cabin Embarked  \n",
      "0    22.0      1      0         A/5 21171   7.2500  None        S  \n",
      "1    35.0      0      0            373450   8.0500  None        S  \n",
      "2     NaN      0      0            330877   8.4583  None        Q  \n",
      "3    54.0      0      0             17463  51.8625   E46        S  \n",
      "4     2.0      3      1            349909  21.0750  None        S  \n",
      "..    ...    ...    ...               ...      ...   ...      ...  \n",
      "572  28.0      0      0  C.A./SOTON 34068  10.5000  None        S  \n",
      "573  25.0      0      0   SOTON/OQ 392076   7.0500  None        S  \n",
      "574  27.0      0      0            211536  13.0000  None        S  \n",
      "575  26.0      0      0            111369  30.0000  C148        C  \n",
      "576  32.0      0      0            370376   7.7500  None        Q  \n",
      "\n",
      "[577 rows x 12 columns]\n"
     ]
    }
   ],
   "source": [
    "import pyarrow.parquet as pq\n",
    "\n",
    "# To extract entries from a Parquet file where the Ship column exactly matches `USS Enterprise-D`\n",
    "# without loading the entire file into memory, you can use the filters argument in PyArrow's `read_table`\n",
    "# function to apply \"predicate pushdown\".  This method allows you to specify conditions that are used to\n",
    "# filter data during the read operation, which can significantly reduce memory usage by only loading the\n",
    "# relevant subset of data.  This is useful when dealing with Common Crawl's indexes, because they're huge!\n",
    "\n",
    "# Define filters to apply predicate pushdown\n",
    "# Here we specify that we only want rows where the 'Ship' column is 'USS Enterprise-D'\n",
    "filters = [('Sex', '=', 'male')]\n",
    "\n",
    "# Read the Parquet file with the filters applied to avoid loading a monstrously large file into memory\n",
    "table = pq.read_table('titanic.parquet', filters=filters)\n",
    "\n",
    "# Convert to Pandas DataFrame for easier viewing/manipulation (optional)\n",
    "filtered_df = table.to_pandas()\n",
    "\n",
    "print(filtered_df)"
   ]
  },
  {
   "cell_type": "code",
   "execution_count": 5,
   "id": "2dca8cfe",
   "metadata": {},
   "outputs": [
    {
     "name": "stdout",
     "output_type": "stream",
     "text": [
      "Parquet file 'example.parquet' has been created successfully.\n"
     ]
    }
   ],
   "source": [
    "import pandas as pd\n",
    "\n",
    "# Create a sample DataFrame\n",
    "data = {\n",
    "    'Captain': ['James T. Kirk', 'Jean-Luc Picard', 'Benjamin Sisko', 'Kathryn Janeway', 'Jonathan Archer', 'William T. Riker', 'Edward Jellico'],\n",
    "    'Actor': ['William Shatner', 'Patrick Stewart', 'Avery Brooks', 'Kate Mulgrew', 'Scott Bakula', 'Jonathan Frakes', 'Ronny Cox'],\n",
    "    'Ship': ['USS Enterprise', 'USS Enterprise-D', 'Deep Space 9', 'USS Voyager', 'Enterprise NX-01', 'USS Titan', 'USS Enterprise-D'],\n",
    "    'Quote': ['Beam me up, Scotty!', 'Make it so.', \"It's a faaaaake!\", \"There's coffee in that nebula.\", \"We're not out here to play God.\", 'I love surprise parties.', 'Get it done.']\n",
    "}\n",
    "df = pd.DataFrame(data)\n",
    "\n",
    "# Write DataFrame to Parquet file\n",
    "df.to_parquet('example.parquet', index=False)\n",
    "\n",
    "print(\"Parquet file 'example.parquet' has been created successfully.\")"
   ]
  }
 ],
 "metadata": {
  "kernelspec": {
   "display_name": "base",
   "language": "python",
   "name": "python3"
  },
  "language_info": {
   "codemirror_mode": {
    "name": "ipython",
    "version": 3
   },
   "file_extension": ".py",
   "mimetype": "text/x-python",
   "name": "python",
   "nbconvert_exporter": "python",
   "pygments_lexer": "ipython3",
   "version": "3.11.5"
  }
 },
 "nbformat": 4,
 "nbformat_minor": 5
}
